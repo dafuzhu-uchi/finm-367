{
 "cells": [
  {
   "cell_type": "markdown",
   "id": "f7fde48f",
   "metadata": {},
   "source": [
    "# Exercises - Constrained Optimization"
   ]
  },
  {
   "cell_type": "markdown",
   "id": "c174f307",
   "metadata": {},
   "source": [
    "## Data"
   ]
  },
  {
   "cell_type": "markdown",
   "id": "8996c489",
   "metadata": {},
   "source": [
    "All the analysis below applies to the data set,\n",
    "* `data/spx_weekly_returns.xlsx`\n",
    "* The file has **weekly** returns.\n",
    "* For annualization, use 52 periods per year.\n",
    "\n",
    "Consider only the following 10 stocks..."
   ]
  },
  {
   "cell_type": "code",
   "execution_count": 1,
   "id": "c42fa97f",
   "metadata": {},
   "outputs": [],
   "source": [
    "TICKS =  ['AAPL','NVDA','MSFT','GOOGL','AMZN','META','TSLA','AVGO','BRK/B','LLY']"
   ]
  },
  {
   "cell_type": "markdown",
   "id": "428baf1b",
   "metadata": {},
   "source": [
    "As well as the ETF,"
   ]
  },
  {
   "cell_type": "code",
   "execution_count": 2,
   "id": "40f502d7",
   "metadata": {},
   "outputs": [],
   "source": [
    "TICK_ETF = 'SPY'"
   ]
  },
  {
   "cell_type": "markdown",
   "id": "811fcd31",
   "metadata": {},
   "source": [
    "### Data Processing"
   ]
  },
  {
   "cell_type": "code",
   "execution_count": 3,
   "id": "ef74b484",
   "metadata": {},
   "outputs": [],
   "source": [
    "import pandas as pd"
   ]
  },
  {
   "cell_type": "code",
   "execution_count": 4,
   "id": "e1074a51",
   "metadata": {},
   "outputs": [],
   "source": [
    "INFILE = '../data/spx_returns_weekly.xlsx'\n",
    "SHEET_INFO = 's&p500 names'\n",
    "SHEET_RETURNS = 's&p500 rets'\n",
    "SHEET_BENCH = 'benchmark rets'"
   ]
  },
  {
   "cell_type": "code",
   "execution_count": 5,
   "id": "d5531dcc",
   "metadata": {},
   "outputs": [
    {
     "data": {
      "text/html": [
       "<div>\n",
       "<style scoped>\n",
       "    .dataframe tbody tr th:only-of-type {\n",
       "        vertical-align: middle;\n",
       "    }\n",
       "\n",
       "    .dataframe tbody tr th {\n",
       "        vertical-align: top;\n",
       "    }\n",
       "\n",
       "    .dataframe thead th {\n",
       "        text-align: right;\n",
       "    }\n",
       "</style>\n",
       "<table border=\"1\" class=\"dataframe\">\n",
       "  <thead>\n",
       "    <tr style=\"text-align: right;\">\n",
       "      <th></th>\n",
       "      <th>name</th>\n",
       "      <th>mkt cap</th>\n",
       "    </tr>\n",
       "    <tr>\n",
       "      <th>ticker</th>\n",
       "      <th></th>\n",
       "      <th></th>\n",
       "    </tr>\n",
       "  </thead>\n",
       "  <tbody>\n",
       "    <tr>\n",
       "      <th>AAPL</th>\n",
       "      <td>Apple Inc</td>\n",
       "      <td>3.008822e+12</td>\n",
       "    </tr>\n",
       "    <tr>\n",
       "      <th>NVDA</th>\n",
       "      <td>NVIDIA Corp</td>\n",
       "      <td>3.480172e+12</td>\n",
       "    </tr>\n",
       "    <tr>\n",
       "      <th>MSFT</th>\n",
       "      <td>Microsoft Corp</td>\n",
       "      <td>3.513735e+12</td>\n",
       "    </tr>\n",
       "    <tr>\n",
       "      <th>GOOGL</th>\n",
       "      <td>Alphabet Inc</td>\n",
       "      <td>2.145918e+12</td>\n",
       "    </tr>\n",
       "    <tr>\n",
       "      <th>AMZN</th>\n",
       "      <td>Amazon.com Inc</td>\n",
       "      <td>2.303536e+12</td>\n",
       "    </tr>\n",
       "    <tr>\n",
       "      <th>META</th>\n",
       "      <td>Meta Platforms Inc</td>\n",
       "      <td>1.745094e+12</td>\n",
       "    </tr>\n",
       "    <tr>\n",
       "      <th>TSLA</th>\n",
       "      <td>Tesla Inc</td>\n",
       "      <td>9.939227e+11</td>\n",
       "    </tr>\n",
       "    <tr>\n",
       "      <th>AVGO</th>\n",
       "      <td>Broadcom Inc</td>\n",
       "      <td>1.148592e+12</td>\n",
       "    </tr>\n",
       "    <tr>\n",
       "      <th>BRK/B</th>\n",
       "      <td>Berkshire Hathaway Inc</td>\n",
       "      <td>1.064240e+12</td>\n",
       "    </tr>\n",
       "    <tr>\n",
       "      <th>LLY</th>\n",
       "      <td>Eli Lilly &amp; Co</td>\n",
       "      <td>7.332726e+11</td>\n",
       "    </tr>\n",
       "  </tbody>\n",
       "</table>\n",
       "</div>"
      ],
      "text/plain": [
       "                          name       mkt cap\n",
       "ticker                                      \n",
       "AAPL                 Apple Inc  3.008822e+12\n",
       "NVDA               NVIDIA Corp  3.480172e+12\n",
       "MSFT            Microsoft Corp  3.513735e+12\n",
       "GOOGL             Alphabet Inc  2.145918e+12\n",
       "AMZN            Amazon.com Inc  2.303536e+12\n",
       "META        Meta Platforms Inc  1.745094e+12\n",
       "TSLA                 Tesla Inc  9.939227e+11\n",
       "AVGO              Broadcom Inc  1.148592e+12\n",
       "BRK/B   Berkshire Hathaway Inc  1.064240e+12\n",
       "LLY             Eli Lilly & Co  7.332726e+11"
      ]
     },
     "execution_count": 5,
     "metadata": {},
     "output_type": "execute_result"
    }
   ],
   "source": [
    "info = pd.read_excel(INFILE,sheet_name=SHEET_INFO)\n",
    "info.set_index('ticker',inplace=True)\n",
    "info.loc[TICKS]"
   ]
  },
  {
   "cell_type": "code",
   "execution_count": 6,
   "id": "bc8d38af",
   "metadata": {},
   "outputs": [],
   "source": [
    "rets = pd.read_excel(INFILE,sheet_name=SHEET_RETURNS)\n",
    "rets.set_index('date',inplace=True)\n",
    "rets = rets[TICKS]"
   ]
  },
  {
   "cell_type": "code",
   "execution_count": 7,
   "id": "f52f27f5",
   "metadata": {},
   "outputs": [],
   "source": [
    "bench = pd.read_excel(INFILE,sheet_name=SHEET_BENCH)\n",
    "bench.set_index('date',inplace=True)\n",
    "rets[TICK_ETF] = bench[TICK_ETF]"
   ]
  },
  {
   "cell_type": "code",
   "execution_count": 8,
   "id": "bcad490a",
   "metadata": {},
   "outputs": [
    {
     "data": {
      "text/html": [
       "<div>\n",
       "<style scoped>\n",
       "    .dataframe tbody tr th:only-of-type {\n",
       "        vertical-align: middle;\n",
       "    }\n",
       "\n",
       "    .dataframe tbody tr th {\n",
       "        vertical-align: top;\n",
       "    }\n",
       "\n",
       "    .dataframe thead th {\n",
       "        text-align: right;\n",
       "    }\n",
       "</style>\n",
       "<table border=\"1\" class=\"dataframe\">\n",
       "  <thead>\n",
       "    <tr style=\"text-align: right;\">\n",
       "      <th></th>\n",
       "      <th>SPY</th>\n",
       "      <th>BTC</th>\n",
       "      <th>USO</th>\n",
       "      <th>TLT</th>\n",
       "      <th>IEF</th>\n",
       "      <th>IYR</th>\n",
       "      <th>GLD</th>\n",
       "    </tr>\n",
       "    <tr>\n",
       "      <th>date</th>\n",
       "      <th></th>\n",
       "      <th></th>\n",
       "      <th></th>\n",
       "      <th></th>\n",
       "      <th></th>\n",
       "      <th></th>\n",
       "      <th></th>\n",
       "    </tr>\n",
       "  </thead>\n",
       "  <tbody>\n",
       "    <tr>\n",
       "      <th>2015-01-09</th>\n",
       "      <td>-0.005744</td>\n",
       "      <td>-0.079179</td>\n",
       "      <td>-0.080945</td>\n",
       "      <td>0.029453</td>\n",
       "      <td>0.013517</td>\n",
       "      <td>0.029953</td>\n",
       "      <td>0.027875</td>\n",
       "    </tr>\n",
       "    <tr>\n",
       "      <th>2015-01-16</th>\n",
       "      <td>-0.012827</td>\n",
       "      <td>-0.281115</td>\n",
       "      <td>0.002735</td>\n",
       "      <td>0.016175</td>\n",
       "      <td>0.010188</td>\n",
       "      <td>0.019471</td>\n",
       "      <td>0.044858</td>\n",
       "    </tr>\n",
       "    <tr>\n",
       "      <th>2015-01-23</th>\n",
       "      <td>0.016565</td>\n",
       "      <td>0.137612</td>\n",
       "      <td>-0.072559</td>\n",
       "      <td>0.011863</td>\n",
       "      <td>0.001558</td>\n",
       "      <td>0.007958</td>\n",
       "      <td>0.013957</td>\n",
       "    </tr>\n",
       "    <tr>\n",
       "      <th>2015-01-30</th>\n",
       "      <td>-0.026931</td>\n",
       "      <td>-0.030969</td>\n",
       "      <td>0.048235</td>\n",
       "      <td>0.026044</td>\n",
       "      <td>0.011992</td>\n",
       "      <td>-0.013361</td>\n",
       "      <td>-0.006279</td>\n",
       "    </tr>\n",
       "    <tr>\n",
       "      <th>2015-02-06</th>\n",
       "      <td>0.030584</td>\n",
       "      <td>-0.027431</td>\n",
       "      <td>0.092593</td>\n",
       "      <td>-0.051020</td>\n",
       "      <td>-0.022724</td>\n",
       "      <td>-0.013173</td>\n",
       "      <td>-0.038963</td>\n",
       "    </tr>\n",
       "  </tbody>\n",
       "</table>\n",
       "</div>"
      ],
      "text/plain": [
       "                 SPY       BTC       USO       TLT       IEF       IYR  \\\n",
       "date                                                                     \n",
       "2015-01-09 -0.005744 -0.079179 -0.080945  0.029453  0.013517  0.029953   \n",
       "2015-01-16 -0.012827 -0.281115  0.002735  0.016175  0.010188  0.019471   \n",
       "2015-01-23  0.016565  0.137612 -0.072559  0.011863  0.001558  0.007958   \n",
       "2015-01-30 -0.026931 -0.030969  0.048235  0.026044  0.011992 -0.013361   \n",
       "2015-02-06  0.030584 -0.027431  0.092593 -0.051020 -0.022724 -0.013173   \n",
       "\n",
       "                 GLD  \n",
       "date                  \n",
       "2015-01-09  0.027875  \n",
       "2015-01-16  0.044858  \n",
       "2015-01-23  0.013957  \n",
       "2015-01-30 -0.006279  \n",
       "2015-02-06 -0.038963  "
      ]
     },
     "execution_count": 8,
     "metadata": {},
     "output_type": "execute_result"
    }
   ],
   "source": [
    "bench.head()"
   ]
  },
  {
   "cell_type": "code",
   "execution_count": 9,
   "id": "0248c945",
   "metadata": {},
   "outputs": [
    {
     "data": {
      "text/html": [
       "<div>\n",
       "<style scoped>\n",
       "    .dataframe tbody tr th:only-of-type {\n",
       "        vertical-align: middle;\n",
       "    }\n",
       "\n",
       "    .dataframe tbody tr th {\n",
       "        vertical-align: top;\n",
       "    }\n",
       "\n",
       "    .dataframe thead th {\n",
       "        text-align: right;\n",
       "    }\n",
       "</style>\n",
       "<table border=\"1\" class=\"dataframe\">\n",
       "  <thead>\n",
       "    <tr style=\"text-align: right;\">\n",
       "      <th></th>\n",
       "      <th>AAPL</th>\n",
       "      <th>NVDA</th>\n",
       "      <th>MSFT</th>\n",
       "      <th>GOOGL</th>\n",
       "      <th>AMZN</th>\n",
       "      <th>META</th>\n",
       "      <th>TSLA</th>\n",
       "      <th>AVGO</th>\n",
       "      <th>BRK/B</th>\n",
       "      <th>LLY</th>\n",
       "      <th>SPY</th>\n",
       "    </tr>\n",
       "    <tr>\n",
       "      <th>date</th>\n",
       "      <th></th>\n",
       "      <th></th>\n",
       "      <th></th>\n",
       "      <th></th>\n",
       "      <th></th>\n",
       "      <th></th>\n",
       "      <th></th>\n",
       "      <th></th>\n",
       "      <th></th>\n",
       "      <th></th>\n",
       "      <th></th>\n",
       "    </tr>\n",
       "  </thead>\n",
       "  <tbody>\n",
       "    <tr>\n",
       "      <th>2015-01-09</th>\n",
       "      <td>0.024514</td>\n",
       "      <td>-0.009315</td>\n",
       "      <td>0.009195</td>\n",
       "      <td>-0.054445</td>\n",
       "      <td>-0.037534</td>\n",
       "      <td>-0.009055</td>\n",
       "      <td>-0.057685</td>\n",
       "      <td>0.047971</td>\n",
       "      <td>0.002011</td>\n",
       "      <td>-0.001855</td>\n",
       "      <td>-0.005744</td>\n",
       "    </tr>\n",
       "    <tr>\n",
       "      <th>2015-01-16</th>\n",
       "      <td>-0.053745</td>\n",
       "      <td>0.000836</td>\n",
       "      <td>-0.020131</td>\n",
       "      <td>0.019448</td>\n",
       "      <td>-0.020880</td>\n",
       "      <td>-0.032931</td>\n",
       "      <td>-0.065760</td>\n",
       "      <td>-0.010268</td>\n",
       "      <td>-0.001739</td>\n",
       "      <td>0.010726</td>\n",
       "      <td>-0.012827</td>\n",
       "    </tr>\n",
       "    <tr>\n",
       "      <th>2015-01-23</th>\n",
       "      <td>0.065950</td>\n",
       "      <td>0.037578</td>\n",
       "      <td>0.020329</td>\n",
       "      <td>0.061685</td>\n",
       "      <td>0.074431</td>\n",
       "      <td>0.035255</td>\n",
       "      <td>0.042575</td>\n",
       "      <td>0.030500</td>\n",
       "      <td>-0.000603</td>\n",
       "      <td>0.020514</td>\n",
       "      <td>0.016565</td>\n",
       "    </tr>\n",
       "    <tr>\n",
       "      <th>2015-01-30</th>\n",
       "      <td>0.036997</td>\n",
       "      <td>-0.072636</td>\n",
       "      <td>-0.143706</td>\n",
       "      <td>-0.008130</td>\n",
       "      <td>0.134900</td>\n",
       "      <td>-0.024669</td>\n",
       "      <td>0.011476</td>\n",
       "      <td>-0.038331</td>\n",
       "      <td>-0.034938</td>\n",
       "      <td>-0.001802</td>\n",
       "      <td>-0.026931</td>\n",
       "    </tr>\n",
       "    <tr>\n",
       "      <th>2015-02-06</th>\n",
       "      <td>0.019114</td>\n",
       "      <td>0.062269</td>\n",
       "      <td>0.049753</td>\n",
       "      <td>-0.006812</td>\n",
       "      <td>0.055737</td>\n",
       "      <td>-0.018967</td>\n",
       "      <td>0.067589</td>\n",
       "      <td>0.018037</td>\n",
       "      <td>0.043569</td>\n",
       "      <td>-0.022778</td>\n",
       "      <td>0.030584</td>\n",
       "    </tr>\n",
       "  </tbody>\n",
       "</table>\n",
       "</div>"
      ],
      "text/plain": [
       "                AAPL      NVDA      MSFT     GOOGL      AMZN      META  \\\n",
       "date                                                                     \n",
       "2015-01-09  0.024514 -0.009315  0.009195 -0.054445 -0.037534 -0.009055   \n",
       "2015-01-16 -0.053745  0.000836 -0.020131  0.019448 -0.020880 -0.032931   \n",
       "2015-01-23  0.065950  0.037578  0.020329  0.061685  0.074431  0.035255   \n",
       "2015-01-30  0.036997 -0.072636 -0.143706 -0.008130  0.134900 -0.024669   \n",
       "2015-02-06  0.019114  0.062269  0.049753 -0.006812  0.055737 -0.018967   \n",
       "\n",
       "                TSLA      AVGO     BRK/B       LLY       SPY  \n",
       "date                                                          \n",
       "2015-01-09 -0.057685  0.047971  0.002011 -0.001855 -0.005744  \n",
       "2015-01-16 -0.065760 -0.010268 -0.001739  0.010726 -0.012827  \n",
       "2015-01-23  0.042575  0.030500 -0.000603  0.020514  0.016565  \n",
       "2015-01-30  0.011476 -0.038331 -0.034938 -0.001802 -0.026931  \n",
       "2015-02-06  0.067589  0.018037  0.043569 -0.022778  0.030584  "
      ]
     },
     "execution_count": 9,
     "metadata": {},
     "output_type": "execute_result"
    }
   ],
   "source": [
    "rets.head()"
   ]
  },
  {
   "cell_type": "markdown",
   "id": "e0e19f59",
   "metadata": {},
   "source": [
    "# 1 Constrained Optimization for Mean-Variance"
   ]
  },
  {
   "cell_type": "markdown",
   "id": "7ced2395",
   "metadata": {},
   "source": [
    "Continue working with the data above. Suppose we want to constrain the weights such that \n",
    "* there are no short positions beyond negative `20%`,\n",
    "  $w_i\\ge -.20$ for all $i$\n",
    "* none of the positions may have weight over `35%`,\n",
    "  $w_i \\le .35$ for all $i$.\n",
    "* all the asset weights must sum to 1\n",
    "\n",
    "Furthermore, \n",
    "* The targeted mean return is `20%` per year.\n",
    "* Be careful; the target is an annualized mean.\n",
    "\n",
    "Consider using the code below as a starting point."
   ]
  },
  {
   "cell_type": "markdown",
   "id": "897cf2a7",
   "metadata": {},
   "source": [
    "## 1.1. \n",
    "\n",
    "Report the weights of the constrained portfolio.\n",
    "\n",
    "Report the mean, volatility, and Sharpe ratio of the resulting portfolio."
   ]
  },
  {
   "cell_type": "code",
   "execution_count": 10,
   "id": "2892b51f",
   "metadata": {},
   "outputs": [
    {
     "data": {
      "text/plain": [
       "polars.config.Config"
      ]
     },
     "execution_count": 10,
     "metadata": {},
     "output_type": "execute_result"
    }
   ],
   "source": [
    "import polars as pl\n",
    "import numpy as np\n",
    "from scipy.optimize import minimize\n",
    "\n",
    "pl.Config.set_tbl_rows(-1)\n",
    "pl.Config.set_tbl_cols(-1)"
   ]
  },
  {
   "cell_type": "code",
   "execution_count": 11,
   "id": "ff7ff5ec",
   "metadata": {},
   "outputs": [
    {
     "name": "stdout",
     "output_type": "stream",
     "text": [
      "shape: (3, 12)\n",
      "┌────────┬────────┬────────┬───────┬───────┬───────┬───────┬───────┬───────┬───────┬───────┬───────┐\n",
      "│ date   ┆ AAPL   ┆ NVDA   ┆ MSFT  ┆ GOOGL ┆ AMZN  ┆ META  ┆ TSLA  ┆ AVGO  ┆ BRK/B ┆ LLY   ┆ SPY   │\n",
      "│ ---    ┆ ---    ┆ ---    ┆ ---   ┆ ---   ┆ ---   ┆ ---   ┆ ---   ┆ ---   ┆ ---   ┆ ---   ┆ ---   │\n",
      "│ dateti ┆ f64    ┆ f64    ┆ f64   ┆ f64   ┆ f64   ┆ f64   ┆ f64   ┆ f64   ┆ f64   ┆ f64   ┆ f64   │\n",
      "│ me[ns] ┆        ┆        ┆       ┆       ┆       ┆       ┆       ┆       ┆       ┆       ┆       │\n",
      "╞════════╪════════╪════════╪═══════╪═══════╪═══════╪═══════╪═══════╪═══════╪═══════╪═══════╪═══════╡\n",
      "│ 2015-0 ┆ 0.0245 ┆ -0.009 ┆ 0.009 ┆ -0.05 ┆ -0.03 ┆ -0.00 ┆ -0.05 ┆ 0.047 ┆ 0.002 ┆ -0.00 ┆ -0.00 │\n",
      "│ 1-09   ┆ 14     ┆ 315    ┆ 195   ┆ 4445  ┆ 7534  ┆ 9055  ┆ 7685  ┆ 971   ┆ 011   ┆ 1855  ┆ 5744  │\n",
      "│ 00:00: ┆        ┆        ┆       ┆       ┆       ┆       ┆       ┆       ┆       ┆       ┆       │\n",
      "│ 00     ┆        ┆        ┆       ┆       ┆       ┆       ┆       ┆       ┆       ┆       ┆       │\n",
      "│ 2015-0 ┆ -0.053 ┆ 0.0008 ┆ -0.02 ┆ 0.019 ┆ -0.02 ┆ -0.03 ┆ -0.06 ┆ -0.01 ┆ -0.00 ┆ 0.010 ┆ -0.01 │\n",
      "│ 1-16   ┆ 745    ┆ 36     ┆ 0131  ┆ 448   ┆ 088   ┆ 2931  ┆ 576   ┆ 0268  ┆ 1739  ┆ 726   ┆ 2827  │\n",
      "│ 00:00: ┆        ┆        ┆       ┆       ┆       ┆       ┆       ┆       ┆       ┆       ┆       │\n",
      "│ 00     ┆        ┆        ┆       ┆       ┆       ┆       ┆       ┆       ┆       ┆       ┆       │\n",
      "│ 2015-0 ┆ 0.0659 ┆ 0.0375 ┆ 0.020 ┆ 0.061 ┆ 0.074 ┆ 0.035 ┆ 0.042 ┆ 0.030 ┆ -0.00 ┆ 0.020 ┆ 0.016 │\n",
      "│ 1-23   ┆ 5      ┆ 78     ┆ 329   ┆ 685   ┆ 431   ┆ 255   ┆ 575   ┆ 5     ┆ 0603  ┆ 514   ┆ 565   │\n",
      "│ 00:00: ┆        ┆        ┆       ┆       ┆       ┆       ┆       ┆       ┆       ┆       ┆       │\n",
      "│ 00     ┆        ┆        ┆       ┆       ┆       ┆       ┆       ┆       ┆       ┆       ┆       │\n",
      "└────────┴────────┴────────┴───────┴───────┴───────┴───────┴───────┴───────┴───────┴───────┴───────┘\n"
     ]
    }
   ],
   "source": [
    "rets_df = pl.from_pandas(rets.reset_index())\n",
    "print(rets_df.head(3))"
   ]
  },
  {
   "cell_type": "code",
   "execution_count": 12,
   "id": "c8105bca",
   "metadata": {},
   "outputs": [],
   "source": [
    "FREQ = 52\n",
    "TARGET_MEAN = 0.20"
   ]
  },
  {
   "cell_type": "code",
   "execution_count": 13,
   "id": "cc7822e2",
   "metadata": {},
   "outputs": [
    {
     "name": "stdout",
     "output_type": "stream",
     "text": [
      "shape: (1, 11)\n",
      "┌────────┬────────┬────────┬────────┬────────┬────────┬────────┬────────┬────────┬────────┬────────┐\n",
      "│ AAPL   ┆ NVDA   ┆ MSFT   ┆ GOOGL  ┆ AMZN   ┆ META   ┆ TSLA   ┆ AVGO   ┆ BRK/B  ┆ LLY    ┆ SPY    │\n",
      "│ ---    ┆ ---    ┆ ---    ┆ ---    ┆ ---    ┆ ---    ┆ ---    ┆ ---    ┆ ---    ┆ ---    ┆ ---    │\n",
      "│ f64    ┆ f64    ┆ f64    ┆ f64    ┆ f64    ┆ f64    ┆ f64    ┆ f64    ┆ f64    ┆ f64    ┆ f64    │\n",
      "╞════════╪════════╪════════╪════════╪════════╪════════╪════════╪════════╪════════╪════════╪════════╡\n",
      "│ 0.2387 ┆ 0.6455 ┆ 0.2614 ┆ 0.2168 ┆ 0.2934 ┆ 0.2619 ┆ 0.4697 ┆ 0.3948 ┆ 0.1350 ┆ 0.2815 ┆ 0.1312 │\n",
      "│ 14     ┆ 8      ┆ 02     ┆        ┆ 47     ┆ 24     ┆ 54     ┆ 54     ┆ 25     ┆ 42     ┆ 64     │\n",
      "└────────┴────────┴────────┴────────┴────────┴────────┴────────┴────────┴────────┴────────┴────────┘\n"
     ]
    }
   ],
   "source": [
    "# mean return per week\n",
    "mean_ret = rets_df.select(pl.col(pl.Float64)).mean() * FREQ\n",
    "print(mean_ret)"
   ]
  },
  {
   "cell_type": "markdown",
   "id": "29084e6f",
   "metadata": {},
   "source": [
    "Optimization setup:\n",
    "- objective function\n",
    "- constraints\n",
    "- bounds\n",
    "- initialization"
   ]
  },
  {
   "cell_type": "code",
   "execution_count": 14,
   "id": "a3d294b5",
   "metadata": {},
   "outputs": [],
   "source": [
    "ret_mat = rets_df.select(pl.col(pl.Float64)).to_numpy()\n",
    "cov_mat = np.cov(ret_mat.T) * FREQ # annualized\n",
    "\n",
    "# Define obj func\n",
    "def objective(w):\n",
    "    m = mean_ret @ w\n",
    "    return -m / (w.T @ cov_mat @ w)\n",
    "\n",
    "# Define constraints\n",
    "def fun_constraint_capital(w):\n",
    "    \"\"\"Constraint: weights sum to 1\"\"\"\n",
    "    return np.sum(w) - 1\n",
    "\n",
    "def fun_constraint_mean(w):\n",
    "    \"\"\"Constraint: portfolio return equals target\"\"\"\n",
    "    return (mean_ret.to_numpy()[0] @ w) - TARGET_MEAN\n",
    "\n",
    "# Build constraints\n",
    "constraint_capital = {'type': 'eq', 'fun': fun_constraint_capital}\n",
    "# constraints = [constraint_capital]\n",
    "constraint_mean = {'type': 'eq', 'fun': fun_constraint_mean}\n",
    "constraints = [constraint_capital, constraint_mean]\n",
    "\n",
    "# Build bounds\n",
    "n_assets = ret_mat.shape[1]\n",
    "bounds = tuple([(-0.20, 0.35) for _ in range(n_assets)])\n",
    "\n",
    "# Set initial equal weights\n",
    "w0 = np.array([1. / n_assets] * n_assets)"
   ]
  },
  {
   "cell_type": "code",
   "execution_count": 15,
   "id": "2df47c9b",
   "metadata": {},
   "outputs": [
    {
     "name": "stdout",
     "output_type": "stream",
     "text": [
      "Optimization terminated successfully    (Exit mode 0)\n",
      "            Current function value: -7.356172491512938\n",
      "            Iterations: 17\n",
      "            Function evaluations: 216\n",
      "            Gradient evaluations: 17\n"
     ]
    }
   ],
   "source": [
    "# Run optim\n",
    "result = minimize(\n",
    "    objective, w0, method='SLSQP', bounds=bounds, constraints=constraints, \n",
    "    options={'disp': True, 'maxiter': 1000}\n",
    ")"
   ]
  },
  {
   "cell_type": "code",
   "execution_count": 16,
   "id": "4e40e9ae",
   "metadata": {},
   "outputs": [
    {
     "data": {
      "text/plain": [
       "array([ 0.02958052, -0.01359567,  0.14517307,  0.00886273,  0.09341806,\n",
       "        0.00238082, -0.01616236,  0.03617394,  0.35      ,  0.21331584,\n",
       "        0.15085305])"
      ]
     },
     "execution_count": 16,
     "metadata": {},
     "output_type": "execute_result"
    }
   ],
   "source": [
    "# Weights\n",
    "w = result.x\n",
    "w"
   ]
  },
  {
   "cell_type": "code",
   "execution_count": 17,
   "id": "02710a6c",
   "metadata": {},
   "outputs": [
    {
     "name": "stdout",
     "output_type": "stream",
     "text": [
      "shape: (1, 3)\n",
      "┌──────┬──────────┬──────────┐\n",
      "│ mean ┆ vol      ┆ sharpe   │\n",
      "│ ---  ┆ ---      ┆ ---      │\n",
      "│ f64  ┆ f64      ┆ f64      │\n",
      "╞══════╪══════════╪══════════╡\n",
      "│ 0.2  ┆ 0.164888 ┆ 1.212945 │\n",
      "└──────┴──────────┴──────────┘\n"
     ]
    }
   ],
   "source": [
    "# Calc metrics\n",
    "port_mean = mean_ret @ w\n",
    "port_var = w.T @ cov_mat @ w\n",
    "port_std = np.sqrt(port_var)\n",
    "sharpe = port_mean / port_std\n",
    "print(\n",
    "    pl.DataFrame({\n",
    "        \"mean\": port_mean, \"vol\": port_std, \"sharpe\": sharpe\n",
    "    })\n",
    ")"
   ]
  },
  {
   "cell_type": "markdown",
   "id": "0f859f3a",
   "metadata": {},
   "source": [
    "### 1.2.\n",
    "\n",
    "Compare these weights to the assets' Sharpe ratios and means.\n",
    "\n",
    "Do the most extreme positions also have the most extreme Sharpe ratios and means?\n",
    "\n",
    "Why?"
   ]
  },
  {
   "cell_type": "markdown",
   "id": "f137d639",
   "metadata": {},
   "source": [
    "The asset with the max weight is BRK/B (0.35), one with the min weight is TSLA (-0.015)."
   ]
  },
  {
   "cell_type": "code",
   "execution_count": 18,
   "id": "bf20e50f",
   "metadata": {},
   "outputs": [
    {
     "name": "stdout",
     "output_type": "stream",
     "text": [
      "shape: (1, 11)\n",
      "┌─────────┬────────┬────────┬────────┬────────┬────────┬────────┬────────┬───────┬────────┬────────┐\n",
      "│ AAPL    ┆ NVDA   ┆ MSFT   ┆ GOOGL  ┆ AMZN   ┆ META   ┆ TSLA   ┆ AVGO   ┆ BRK/B ┆ LLY    ┆ SPY    │\n",
      "│ ---     ┆ ---    ┆ ---    ┆ ---    ┆ ---    ┆ ---    ┆ ---    ┆ ---    ┆ ---   ┆ ---    ┆ ---    │\n",
      "│ f64     ┆ f64    ┆ f64    ┆ f64    ┆ f64    ┆ f64    ┆ f64    ┆ f64    ┆ f64   ┆ f64    ┆ f64    │\n",
      "╞═════════╪════════╪════════╪════════╪════════╪════════╪════════╪════════╪═══════╪════════╪════════╡\n",
      "│ 0.02958 ┆ -0.013 ┆ 0.1451 ┆ 0.0088 ┆ 0.0934 ┆ 0.0023 ┆ -0.016 ┆ 0.0361 ┆ 0.35  ┆ 0.2133 ┆ 0.1508 │\n",
      "│ 1       ┆ 596    ┆ 73     ┆ 63     ┆ 18     ┆ 81     ┆ 162    ┆ 74     ┆       ┆ 16     ┆ 53     │\n",
      "└─────────┴────────┴────────┴────────┴────────┴────────┴────────┴────────┴───────┴────────┴────────┘\n"
     ]
    }
   ],
   "source": [
    "print(\n",
    "    pl.DataFrame(w.reshape(-1, 1), schema=mean_ret.schema)\n",
    ")"
   ]
  },
  {
   "cell_type": "code",
   "execution_count": 19,
   "id": "0f09539c",
   "metadata": {},
   "outputs": [
    {
     "name": "stdout",
     "output_type": "stream",
     "text": [
      "shape: (1, 11)\n",
      "┌────────┬────────┬────────┬────────┬────────┬────────┬────────┬────────┬────────┬────────┬────────┐\n",
      "│ AAPL   ┆ NVDA   ┆ MSFT   ┆ GOOGL  ┆ AMZN   ┆ META   ┆ TSLA   ┆ AVGO   ┆ BRK/B  ┆ LLY    ┆ SPY    │\n",
      "│ ---    ┆ ---    ┆ ---    ┆ ---    ┆ ---    ┆ ---    ┆ ---    ┆ ---    ┆ ---    ┆ ---    ┆ ---    │\n",
      "│ f64    ┆ f64    ┆ f64    ┆ f64    ┆ f64    ┆ f64    ┆ f64    ┆ f64    ┆ f64    ┆ f64    ┆ f64    │\n",
      "╞════════╪════════╪════════╪════════╪════════╪════════╪════════╪════════╪════════╪════════╪════════╡\n",
      "│ 0.2387 ┆ 0.6455 ┆ 0.2614 ┆ 0.2168 ┆ 0.2934 ┆ 0.2619 ┆ 0.4697 ┆ 0.3948 ┆ 0.1350 ┆ 0.2815 ┆ 0.1312 │\n",
      "│ 14     ┆ 8      ┆ 02     ┆        ┆ 47     ┆ 24     ┆ 54     ┆ 54     ┆ 25     ┆ 42     ┆ 64     │\n",
      "└────────┴────────┴────────┴────────┴────────┴────────┴────────┴────────┴────────┴────────┴────────┘\n"
     ]
    }
   ],
   "source": [
    "print(mean_ret)"
   ]
  },
  {
   "cell_type": "code",
   "execution_count": 20,
   "id": "b15d55d8",
   "metadata": {},
   "outputs": [
    {
     "name": "stdout",
     "output_type": "stream",
     "text": [
      "shape: (1, 11)\n",
      "┌────────┬────────┬────────┬────────┬────────┬────────┬────────┬────────┬────────┬────────┬────────┐\n",
      "│ AAPL   ┆ NVDA   ┆ MSFT   ┆ GOOGL  ┆ AMZN   ┆ META   ┆ TSLA   ┆ AVGO   ┆ BRK/B  ┆ LLY    ┆ SPY    │\n",
      "│ ---    ┆ ---    ┆ ---    ┆ ---    ┆ ---    ┆ ---    ┆ ---    ┆ ---    ┆ ---    ┆ ---    ┆ ---    │\n",
      "│ f64    ┆ f64    ┆ f64    ┆ f64    ┆ f64    ┆ f64    ┆ f64    ┆ f64    ┆ f64    ┆ f64    ┆ f64    │\n",
      "╞════════╪════════╪════════╪════════╪════════╪════════╪════════╪════════╪════════╪════════╪════════╡\n",
      "│ 0.1196 ┆ 0.1932 ┆ 0.1510 ┆ 0.1074 ┆ 0.1329 ┆ 0.1033 ┆ 0.1110 ┆ 0.1459 ┆ 0.0982 ┆ 0.1379 ┆ 0.1065 │\n",
      "│ 68     ┆ 42     ┆ 54     ┆ 31     ┆ 86     ┆ 83     ┆ 84     ┆ 66     ┆ 13     ┆ 7      ┆ 28     │\n",
      "└────────┴────────┴────────┴────────┴────────┴────────┴────────┴────────┴────────┴────────┴────────┘\n"
     ]
    }
   ],
   "source": [
    "vol = rets_df.select(pl.col(pl.Float64) * FREQ).std()\n",
    "sharpe = mean_ret / vol\n",
    "print(sharpe)"
   ]
  },
  {
   "cell_type": "markdown",
   "id": "59f9d479",
   "metadata": {},
   "source": [
    "Through comparison we find, the most extreme positions does not have the most extreme Sharpe ratios and means. The key insight is that mean-variance optimization considers the correlation structure and diversification benefits, not just individual asset metrics."
   ]
  },
  {
   "cell_type": "markdown",
   "id": "8c2ccad3",
   "metadata": {},
   "source": [
    "### 1.3.\n",
    "\n",
    "Compare the bounded portfolio weights to the unbounded portfolio weights (obtained from optimizing without the inequality constraints, keeping the equality constraints.)\n",
    "\n",
    "Report the mean, volatility, and Sharpe ratio of both."
   ]
  },
  {
   "cell_type": "code",
   "execution_count": 21,
   "id": "a5ee32aa",
   "metadata": {},
   "outputs": [
    {
     "name": "stdout",
     "output_type": "stream",
     "text": [
      "Optimization terminated successfully    (Exit mode 0)\n",
      "            Current function value: -7.358552021327915\n",
      "            Iterations: 18\n",
      "            Function evaluations: 237\n",
      "            Gradient evaluations: 18\n"
     ]
    }
   ],
   "source": [
    "result_unb = minimize(\n",
    "    objective, w0, method='SLSQP', constraints=constraints, \n",
    "    options={'disp': True, 'maxiter': 1000}\n",
    ")\n",
    "w_unb = result_unb.x"
   ]
  },
  {
   "cell_type": "code",
   "execution_count": 22,
   "id": "8bdc2570",
   "metadata": {},
   "outputs": [
    {
     "name": "stdout",
     "output_type": "stream",
     "text": [
      "shape: (11, 3)\n",
      "┌─────────┬───────────┬───────────┐\n",
      "│ tickers ┆ bounded   ┆ unbounded │\n",
      "│ ---     ┆ ---       ┆ ---       │\n",
      "│ str     ┆ f64       ┆ f64       │\n",
      "╞═════════╪═══════════╪═══════════╡\n",
      "│ AAPL    ┆ 0.029581  ┆ 0.029871  │\n",
      "│ NVDA    ┆ -0.013596 ┆ -0.014425 │\n",
      "│ MSFT    ┆ 0.145173  ┆ 0.146105  │\n",
      "│ GOOGL   ┆ 0.008863  ┆ 0.009667  │\n",
      "│ AMZN    ┆ 0.093418  ┆ 0.093798  │\n",
      "│ META    ┆ 0.002381  ┆ 0.002992  │\n",
      "│ TSLA    ┆ -0.016162 ┆ -0.015357 │\n",
      "│ AVGO    ┆ 0.036174  ┆ 0.036339  │\n",
      "│ BRK/B   ┆ 0.35      ┆ 0.373036  │\n",
      "│ LLY     ┆ 0.213316  ┆ 0.211059  │\n",
      "│ SPY     ┆ 0.150853  ┆ 0.126914  │\n",
      "└─────────┴───────────┴───────────┘\n"
     ]
    }
   ],
   "source": [
    "print(\n",
    "    pl.DataFrame({\n",
    "        \"tickers\": rets_df.select(pl.col(pl.Float64)).schema.names(),\n",
    "        \"bounded\": w,\n",
    "        \"unbounded\": w_unb\n",
    "    })\n",
    ")"
   ]
  },
  {
   "cell_type": "code",
   "execution_count": 23,
   "id": "67cbc5b3",
   "metadata": {},
   "outputs": [],
   "source": [
    "def calc_metrics(w, mean_ret=mean_ret, cov_mat=cov_mat):\n",
    "    port_mean = mean_ret @ w\n",
    "    port_var = w.T @ cov_mat @ w\n",
    "    port_std = np.sqrt(port_var)\n",
    "    sharpe = port_mean / port_std\n",
    "    return (\n",
    "        pl.DataFrame({\n",
    "            \"mean\": port_mean, \"vol\": port_std, \"sharpe\": sharpe\n",
    "        })\n",
    "    )"
   ]
  },
  {
   "cell_type": "code",
   "execution_count": 24,
   "id": "62b800e2",
   "metadata": {},
   "outputs": [
    {
     "name": "stdout",
     "output_type": "stream",
     "text": [
      "shape: (3, 3)\n",
      "┌─────────┬──────────┬───────────┐\n",
      "│ metrics ┆ bounded  ┆ unbounded │\n",
      "│ ---     ┆ ---      ┆ ---       │\n",
      "│ str     ┆ f64      ┆ f64       │\n",
      "╞═════════╪══════════╪═══════════╡\n",
      "│ mean    ┆ 0.2      ┆ 0.2       │\n",
      "│ vol     ┆ 0.164888 ┆ 0.164861  │\n",
      "│ sharpe  ┆ 1.212945 ┆ 1.213141  │\n",
      "└─────────┴──────────┴───────────┘\n"
     ]
    }
   ],
   "source": [
    "print(\n",
    "    pl.DataFrame({\n",
    "        \"metrics\": [\"mean\", \"vol\", \"sharpe\"],\n",
    "        \"bounded\": calc_metrics(w).to_numpy()[0],\n",
    "        \"unbounded\": calc_metrics(w_unb).to_numpy()[0]\n",
    "    })\n",
    ")"
   ]
  },
  {
   "cell_type": "markdown",
   "id": "72105442",
   "metadata": {},
   "source": [
    "***"
   ]
  },
  {
   "cell_type": "markdown",
   "id": "b31ced3a",
   "metadata": {},
   "source": [
    "## Code Help"
   ]
  },
  {
   "cell_type": "markdown",
   "id": "22e3ce9e",
   "metadata": {},
   "source": [
    "The `minimize` function will be how we optimize."
   ]
  },
  {
   "cell_type": "code",
   "execution_count": 25,
   "id": "816e2b23",
   "metadata": {},
   "outputs": [],
   "source": [
    "from scipy.optimize import minimize"
   ]
  },
  {
   "cell_type": "markdown",
   "id": "53e830d9",
   "metadata": {},
   "source": [
    "Build the objective functions.\n",
    "\n",
    "Before doing this, you will need to define \n",
    "* `TARGET_MEAN`\n",
    "* `FREQ`\n",
    "* `cov`\n",
    "* `mean`"
   ]
  },
  {
   "cell_type": "code",
   "execution_count": 26,
   "id": "af625a10",
   "metadata": {},
   "outputs": [],
   "source": [
    "# def objective(w):        \n",
    "#     return (w.T @ cov @ w)\n",
    "\n",
    "# def fun_constraint_capital(w):\n",
    "#     return np.sum(w) - 1\n",
    "\n",
    "# def fun_constraint_mean(w):\n",
    "#     return (mean @ w) - TARGET_MEAN"
   ]
  },
  {
   "cell_type": "markdown",
   "id": "fd977686",
   "metadata": {},
   "source": [
    "Build the constraints\n",
    "* sum of weights add to one\n",
    "* weighted average of means is the target mean"
   ]
  },
  {
   "cell_type": "code",
   "execution_count": 27,
   "id": "810cc370",
   "metadata": {},
   "outputs": [],
   "source": [
    "# constraint_capital = {'type': 'eq', 'fun': fun_constraint_capital}\n",
    "# constraint_mean = {'type': 'eq', 'fun': fun_constraint_mean}\n",
    "\n",
    "# constraints = ([constraint_capital, constraint_mean])"
   ]
  },
  {
   "cell_type": "markdown",
   "id": "5552acf6",
   "metadata": {},
   "source": [
    "Build the upper and lower bounds on each asset.\n",
    "\n",
    "You will need to use the `minimize` function along with these contraints, bounds, and an initial guess."
   ]
  },
  {
   "cell_type": "markdown",
   "id": "7f11032b",
   "metadata": {},
   "source": [
    "***"
   ]
  }
 ],
 "metadata": {
  "kernelspec": {
   "display_name": "finm",
   "language": "python",
   "name": "python3"
  },
  "language_info": {
   "codemirror_mode": {
    "name": "ipython",
    "version": 3
   },
   "file_extension": ".py",
   "mimetype": "text/x-python",
   "name": "python",
   "nbconvert_exporter": "python",
   "pygments_lexer": "ipython3",
   "version": "3.12.11"
  }
 },
 "nbformat": 4,
 "nbformat_minor": 5
}
