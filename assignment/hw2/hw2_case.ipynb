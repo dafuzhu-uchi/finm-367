{
 "cells": [
  {
   "cell_type": "markdown",
   "id": "797a231a",
   "metadata": {},
   "source": [
    "# ProShares Replication\n",
    "\n",
    "## HBS Case\n",
    "\n",
    "### *ProShares Hedge Replication ETF*"
   ]
  },
  {
   "cell_type": "markdown",
   "id": "26c00150",
   "metadata": {},
   "source": [
    "---"
   ]
  },
  {
   "cell_type": "markdown",
   "id": "3667bde6",
   "metadata": {},
   "source": [
    "# 1. READING - The ProShares ETF Product"
   ]
  },
  {
   "cell_type": "markdown",
   "id": "fd3ac3b5",
   "metadata": {},
   "source": [
    "### 1. Alternative ETFs\n",
    "\n",
    "Describe the two types of investments referenced by this term."
   ]
  },
  {
   "cell_type": "markdown",
   "id": "a27b963c",
   "metadata": {},
   "source": [
    "Alternative Asset Classes: Investments that provide exposure to non-traditional, real, hard, or financial assets outside the mainstream equity and bond markets. \n",
    "\n",
    "e.g. Real estate (REITs, property funds), Commodities (gold, oil, agriculture), Precious metals (gold, silver), Currencies (foreign exchange exposure), Volatility (VIX-linked products), Private equity (when accessible via liquid vehicles)\n",
    "\n",
    "Alternative Strategies: Investment approaches that use unconventional methods and techniques not constrained by traditional long-only mandates.\n",
    "\n",
    "e.g. Geared Investing: \n",
    "- Leveraged investing (2× or 3× daily returns)\n",
    "- Inverse investing (short exposure, benefits when markets fall)\n",
    "\n",
    "Hedge Fund Strategies:\n",
    "- Market neutral (zero or low correlation to equity markets)\n",
    "- Absolute return (targeting positive returns regardless of market direction)\n",
    "- Convertible/merger arbitrage\n",
    "- Managed futures\n",
    "- Global macro"
   ]
  },
  {
   "cell_type": "markdown",
   "id": "c7fe755f",
   "metadata": {},
   "source": [
    "### 2. Hedge Funds.\n",
    "\n",
    "* a. Using just the information in the case, what are two measures by which hedge funds are an attractive investment?\n",
    "\n",
    "* b. What are the main benefits of investing in hedge funds via an ETF instead of directly?"
   ]
  },
  {
   "cell_type": "markdown",
   "id": "cb2b5ed5",
   "metadata": {},
   "source": [
    "a. Measure 1: Superior Risk-Adjusted Returns (Sharpe Ratio)\n",
    "\n",
    "From Slide 9\n",
    "\n",
    "| Investment | Return | Volatility (Std Dev) | **Sharpe Ratio** |\n",
    "|------------|---------|---------------------|------------------|\n",
    "| **HFRI (Hedge Funds)** | 8.83% | 6.90% | **0.84** |\n",
    "| S&P 500 (Stocks) | 9.21% | 15.22% | 0.41 |\n",
    "| Barclays U.S. Agg (Bonds) | 5.74% | 3.69% | 0.76 |\n",
    "\n",
    "From Slide 7\n",
    "\n",
    "Adding 20% hedge fund allocation to a 60/40 portfolio (reducing equities from 60% to 40%):\n",
    "- **Kept returns roughly the same** (~8-8.5% annualized)\n",
    "- **Reduced risk by 20-40%** (or 200 basis points of volatility)\n",
    "- Moved the portfolio **up and to the left** on the efficient frontier"
   ]
  },
  {
   "cell_type": "markdown",
   "id": "b751ec8d",
   "metadata": {},
   "source": [
    "Measure 2: Downside Protection\n",
    "\n",
    "Slide 10\n",
    "| Year | S&P 500 | HFRI | Barclays Agg |\n",
    "|------|---------|------|--------------|\n",
    "| **2008** | **-37%** | **-19%** | +5% |\n",
    "| 2009 | -8% | -4% | ~0% |\n",
    "| 2010 | -16% | -7% | ~0% |\n",
    "| 2011 | -19% | -5% | +8% |"
   ]
  },
  {
   "cell_type": "markdown",
   "id": "18d7745e",
   "metadata": {},
   "source": [
    "b. \n",
    "\n",
    "| Feature | Individual Hedge Funds | HDG ETF | Winner |\n",
    "|---------|----------------------|---------|--------|\n",
    "| **Minimum Investment** | $500K - $5M+ | Cost of 1 share (~$25) | ETF |\n",
    "| **Investor Requirements** | Accredited only | Anyone | ETF |\n",
    "| **Liquidity** | Lock-ups, gates, quarterly redemptions | Daily trading | ETF |\n",
    "| **Transparency** | Black box, delayed disclosure | Daily holdings publication | ETF |\n",
    "| **Fees** | 2% + 20% performance (~3-4% total) | 0.95% | ETF |\n",
    "| **Regulation** | Light touch | 1940 Act (like mutual funds) | ETF |\n",
    "| **Tax Reporting** | K-1 (complex, delayed) | 1099 (simple, timely) | ETF |\n",
    "| **Diversification** | Single or few managers | 2,000+ fund replication | ETF |"
   ]
  },
  {
   "cell_type": "markdown",
   "id": "f7f32354",
   "metadata": {},
   "source": [
    "### 3. The Benchmarks\n",
    "\n",
    "* a. Explain as simply as possible how HFRI, MLFM, MLFM-ES, and HDG differ in their construction and purpose.\n",
    "\n",
    "* b. How well does the Merrill Lynch Factor Model (MLFM) track the HFRI?\n",
    "\n",
    "* c. In which factor does the MLFM have the largest loading? (See a slide in Exhibit 1.)\n",
    "\n",
    "* d. What are the main concerns you have for how the MLFM attempts to replicate the HFRI?"
   ]
  },
  {
   "cell_type": "markdown",
   "id": "34ac227a",
   "metadata": {},
   "source": [
    "a. \n",
    "\n",
    "```\n",
    "HFRI (Target) → MLFM (Replicator) → MLFM-ES (Tradable Version) → HDG (Actual ETF)\n",
    "    ↓                ↓                        ↓                          ↓\n",
    "Real hedge      Statistical          Exchange-tradable            Fund you can\n",
    "fund returns    replication          benchmark index              actually buy\n",
    "```\n",
    "\n",
    "b. Direct Evidence (from Slide 18):\n",
    "- **Correlation: ~0.90** (90%)\n",
    "- Visual tracking shows periods of divergence (2008 positive error, 2012-2013 negative error)\n",
    "\n",
    "Indirect Evidence (from Slide 21):\n",
    "- Both have similar equity exposure (β ≈ 0.33-0.34)\n",
    "- Both correlate highly with S&P 500 (~0.83-0.87)\n",
    "- **But**: MLFM is slightly MORE equity-like and MORE bond-like than HFRI\n",
    "- **Implication**: MLFM **over-represents traditional asset betas** and **under-represents alternative risk premiums**\n",
    "\n",
    "The Problem This Reveals:\n",
    "\n",
    "The factor model treats hedge funds as:\n",
    "> **33% equities + 26% bonds + other traditional factors**\n",
    "\n",
    "But real hedge funds are:\n",
    "> **34% equity exposure + 7% bond exposure + 59% OTHER STUFF**\n",
    "\n",
    "That \"other stuff\" includes:\n",
    "- Manager skill (alpha)\n",
    "- Illiquidity premiums\n",
    "- Credit spreads\n",
    "- Volatility harvesting\n",
    "- Event-driven strategies\n",
    "- Non-linear payoffs\n",
    "\n",
    "The 10% missing correlation likely comes from MLFM's inability to capture that \"other stuff\"               "
   ]
  },
  {
   "cell_type": "markdown",
   "id": "8d3dcfc3",
   "metadata": {},
   "source": [
    "c. S&P500\n",
    "\n",
    "![image.png](../img/slide19.png)"
   ]
  },
  {
   "cell_type": "markdown",
   "id": "b0d600a0",
   "metadata": {},
   "source": [
    "d. By the time the model identifies what worked for hedge funds, those strategies may have changed\n",
    "\n",
    "Dominance of Traditional Equity Beta - Missing \"Alternative\" in Alternatives"
   ]
  },
  {
   "cell_type": "markdown",
   "id": "48357709",
   "metadata": {},
   "source": [
    "### 4. The HDG Product\n",
    "\n",
    "* a. What does ProShares ETF, HDG, attempt to track? Is the tracking error small?\n",
    "\n",
    "* b. HDG is, by construction, delivering beta for investors. Isn't the point of hedge funds to generate alpha? Then why would HDG be valuable?\n",
    "\n",
    "* c. The fees of a typical hedge-fund are 2% on total assets plus 20% of excess returns if positive. HDG's expense ratio is roughly 1% on total assets. What would their respective net Sharpe Ratios be, assuming both have a gross excess returns of 10% and volatility of 20%?"
   ]
  },
  {
   "cell_type": "markdown",
   "id": "20e762e3",
   "metadata": {},
   "source": [
    "***"
   ]
  },
  {
   "cell_type": "markdown",
   "id": "fbbf79a1",
   "metadata": {},
   "source": [
    "# 2.  Analyzing the Data\n",
    "\n",
    "Use the data found on Canvas, in <b>'proshares analysis data.xlsx'</b>. \n",
    "\n",
    "It has monthly data on financial indexes and ETFs from `Aug 2011` through `May 2025`."
   ]
  },
  {
   "cell_type": "code",
   "execution_count": 203,
   "id": "aad913fa",
   "metadata": {},
   "outputs": [],
   "source": [
    "import numpy as np\n",
    "import polars as pl\n",
    "import pandas as pd"
   ]
  },
  {
   "cell_type": "markdown",
   "id": "22b7389c",
   "metadata": {},
   "source": [
    "## 1. \n",
    "\n",
    "For the series in the \"hedge fund series\" tab, report the following summary statistics:\n",
    "* mean\n",
    "* volatility\n",
    "* Sharpe ratio\n",
    "\n",
    "Annualize these statistics."
   ]
  },
  {
   "cell_type": "code",
   "execution_count": 204,
   "id": "4bc37f1b",
   "metadata": {},
   "outputs": [
    {
     "data": {
      "text/html": [
       "<div>\n",
       "<style scoped>\n",
       "    .dataframe tbody tr th:only-of-type {\n",
       "        vertical-align: middle;\n",
       "    }\n",
       "\n",
       "    .dataframe tbody tr th {\n",
       "        vertical-align: top;\n",
       "    }\n",
       "\n",
       "    .dataframe thead th {\n",
       "        text-align: right;\n",
       "    }\n",
       "</style>\n",
       "<table border=\"1\" class=\"dataframe\">\n",
       "  <thead>\n",
       "    <tr style=\"text-align: right;\">\n",
       "      <th></th>\n",
       "      <th>HFRIFWI Index</th>\n",
       "      <th>MLEIFCTR Index</th>\n",
       "      <th>MLEIFCTX Index</th>\n",
       "      <th>HDG US Equity</th>\n",
       "      <th>QAI US Equity</th>\n",
       "    </tr>\n",
       "  </thead>\n",
       "  <tbody>\n",
       "    <tr>\n",
       "      <th>2011-08-31</th>\n",
       "      <td>-0.032149</td>\n",
       "      <td>-0.025588</td>\n",
       "      <td>-0.025689</td>\n",
       "      <td>-0.027033</td>\n",
       "      <td>-0.006492</td>\n",
       "    </tr>\n",
       "    <tr>\n",
       "      <th>2011-09-30</th>\n",
       "      <td>-0.038903</td>\n",
       "      <td>-0.032414</td>\n",
       "      <td>-0.032593</td>\n",
       "      <td>-0.032466</td>\n",
       "      <td>-0.022142</td>\n",
       "    </tr>\n",
       "    <tr>\n",
       "      <th>2011-10-31</th>\n",
       "      <td>0.026858</td>\n",
       "      <td>0.043593</td>\n",
       "      <td>0.043320</td>\n",
       "      <td>0.050531</td>\n",
       "      <td>0.025244</td>\n",
       "    </tr>\n",
       "    <tr>\n",
       "      <th>2011-11-30</th>\n",
       "      <td>-0.013453</td>\n",
       "      <td>-0.012142</td>\n",
       "      <td>-0.012431</td>\n",
       "      <td>-0.028608</td>\n",
       "      <td>-0.007965</td>\n",
       "    </tr>\n",
       "    <tr>\n",
       "      <th>2011-12-31</th>\n",
       "      <td>-0.004479</td>\n",
       "      <td>0.001938</td>\n",
       "      <td>0.001796</td>\n",
       "      <td>0.012874</td>\n",
       "      <td>0.001818</td>\n",
       "    </tr>\n",
       "  </tbody>\n",
       "</table>\n",
       "</div>"
      ],
      "text/plain": [
       "            HFRIFWI Index  MLEIFCTR Index  MLEIFCTX Index  HDG US Equity  \\\n",
       "2011-08-31      -0.032149       -0.025588       -0.025689      -0.027033   \n",
       "2011-09-30      -0.038903       -0.032414       -0.032593      -0.032466   \n",
       "2011-10-31       0.026858        0.043593        0.043320       0.050531   \n",
       "2011-11-30      -0.013453       -0.012142       -0.012431      -0.028608   \n",
       "2011-12-31      -0.004479        0.001938        0.001796       0.012874   \n",
       "\n",
       "            QAI US Equity  \n",
       "2011-08-31      -0.006492  \n",
       "2011-09-30      -0.022142  \n",
       "2011-10-31       0.025244  \n",
       "2011-11-30      -0.007965  \n",
       "2011-12-31       0.001818  "
      ]
     },
     "execution_count": 204,
     "metadata": {},
     "output_type": "execute_result"
    }
   ],
   "source": [
    "xlsx_path = \"../data/proshares_analysis_data.xlsx\"\n",
    "df_pandas = pd.read_excel(xlsx_path, sheet_name=\"hedge_fund_series\", index_col=0)\n",
    "df_pandas.head(5)"
   ]
  },
  {
   "cell_type": "code",
   "execution_count": 205,
   "id": "b5665330",
   "metadata": {},
   "outputs": [
    {
     "data": {
      "text/html": [
       "<div><style>\n",
       ".dataframe > thead > tr,\n",
       ".dataframe > tbody > tr {\n",
       "  text-align: right;\n",
       "  white-space: pre-wrap;\n",
       "}\n",
       "</style>\n",
       "<small>shape: (5, 6)</small><table border=\"1\" class=\"dataframe\"><thead><tr><th>Date</th><th>HFRIFWI Index</th><th>MLEIFCTR Index</th><th>MLEIFCTX Index</th><th>HDG US Equity</th><th>QAI US Equity</th></tr><tr><td>datetime[ns]</td><td>f64</td><td>f64</td><td>f64</td><td>f64</td><td>f64</td></tr></thead><tbody><tr><td>2025-04-30 00:00:00</td><td>-0.0028</td><td>-0.004544</td><td>-0.005224</td><td>-0.00775</td><td>-0.002555</td></tr><tr><td>2025-05-31 00:00:00</td><td>0.0223</td><td>0.019974</td><td>0.019702</td><td>0.018973</td><td>0.019302</td></tr><tr><td>2025-06-30 00:00:00</td><td>0.0233</td><td>0.011474</td><td>0.010798</td><td>0.010599</td><td>0.015305</td></tr><tr><td>2025-07-31 00:00:00</td><td>0.0097</td><td>0.012114</td><td>0.011396</td><td>0.009106</td><td>0.006813</td></tr><tr><td>2025-08-31 00:00:00</td><td>0.0221</td><td>0.013347</td><td>0.013024</td><td>0.013858</td><td>0.015052</td></tr></tbody></table></div>"
      ],
      "text/plain": [
       "shape: (5, 6)\n",
       "┌────────────────┬───────────────┬────────────────┬────────────────┬───────────────┬───────────────┐\n",
       "│ Date           ┆ HFRIFWI Index ┆ MLEIFCTR Index ┆ MLEIFCTX Index ┆ HDG US Equity ┆ QAI US Equity │\n",
       "│ ---            ┆ ---           ┆ ---            ┆ ---            ┆ ---           ┆ ---           │\n",
       "│ datetime[ns]   ┆ f64           ┆ f64            ┆ f64            ┆ f64           ┆ f64           │\n",
       "╞════════════════╪═══════════════╪════════════════╪════════════════╪═══════════════╪═══════════════╡\n",
       "│ 2025-04-30     ┆ -0.0028       ┆ -0.004544      ┆ -0.005224      ┆ -0.00775      ┆ -0.002555     │\n",
       "│ 00:00:00       ┆               ┆                ┆                ┆               ┆               │\n",
       "│ 2025-05-31     ┆ 0.0223        ┆ 0.019974       ┆ 0.019702       ┆ 0.018973      ┆ 0.019302      │\n",
       "│ 00:00:00       ┆               ┆                ┆                ┆               ┆               │\n",
       "│ 2025-06-30     ┆ 0.0233        ┆ 0.011474       ┆ 0.010798       ┆ 0.010599      ┆ 0.015305      │\n",
       "│ 00:00:00       ┆               ┆                ┆                ┆               ┆               │\n",
       "│ 2025-07-31     ┆ 0.0097        ┆ 0.012114       ┆ 0.011396       ┆ 0.009106      ┆ 0.006813      │\n",
       "│ 00:00:00       ┆               ┆                ┆                ┆               ┆               │\n",
       "│ 2025-08-31     ┆ 0.0221        ┆ 0.013347       ┆ 0.013024       ┆ 0.013858      ┆ 0.015052      │\n",
       "│ 00:00:00       ┆               ┆                ┆                ┆               ┆               │\n",
       "└────────────────┴───────────────┴────────────────┴────────────────┴───────────────┴───────────────┘"
      ]
     },
     "execution_count": 205,
     "metadata": {},
     "output_type": "execute_result"
    }
   ],
   "source": [
    "df_polars = pl.from_pandas(df_pandas.reset_index()).rename({\"index\": \"Date\"}).drop_nulls()\n",
    "df_polars.tail()"
   ]
  },
  {
   "cell_type": "code",
   "execution_count": 206,
   "id": "12914e98",
   "metadata": {},
   "outputs": [
    {
     "data": {
      "text/html": [
       "<div><style>\n",
       ".dataframe > thead > tr,\n",
       ".dataframe > tbody > tr {\n",
       "  text-align: right;\n",
       "  white-space: pre-wrap;\n",
       "}\n",
       "</style>\n",
       "<small>shape: (9, 6)</small><table border=\"1\" class=\"dataframe\"><thead><tr><th>statistic</th><th>HFRIFWI Index</th><th>MLEIFCTR Index</th><th>MLEIFCTX Index</th><th>HDG US Equity</th><th>QAI US Equity</th></tr><tr><td>str</td><td>f64</td><td>f64</td><td>f64</td><td>f64</td><td>f64</td></tr></thead><tbody><tr><td>&quot;count&quot;</td><td>169.0</td><td>169.0</td><td>169.0</td><td>169.0</td><td>169.0</td></tr><tr><td>&quot;null_count&quot;</td><td>0.0</td><td>0.0</td><td>0.0</td><td>0.0</td><td>0.0</td></tr><tr><td>&quot;mean&quot;</td><td>0.004273</td><td>0.003136</td><td>0.00297</td><td>0.002164</td><td>0.002308</td></tr><tr><td>&quot;std&quot;</td><td>0.016973</td><td>0.015963</td><td>0.015925</td><td>0.016586</td><td>0.014374</td></tr><tr><td>&quot;min&quot;</td><td>-0.090784</td><td>-0.053234</td><td>-0.052384</td><td>-0.05918</td><td>-0.056348</td></tr><tr><td>&quot;25%&quot;</td><td>-0.004479</td><td>-0.004588</td><td>-0.004926</td><td>-0.0061</td><td>-0.006472</td></tr><tr><td>&quot;50%&quot;</td><td>0.004792</td><td>0.003739</td><td>0.003605</td><td>0.003321</td><td>0.002609</td></tr><tr><td>&quot;75%&quot;</td><td>0.0132</td><td>0.012375</td><td>0.01232</td><td>0.011596</td><td>0.01128</td></tr><tr><td>&quot;max&quot;</td><td>0.058602</td><td>0.058886</td><td>0.058805</td><td>0.058304</td><td>0.039788</td></tr></tbody></table></div>"
      ],
      "text/plain": [
       "shape: (9, 6)\n",
       "┌────────────┬───────────────┬────────────────┬────────────────┬───────────────┬───────────────┐\n",
       "│ statistic  ┆ HFRIFWI Index ┆ MLEIFCTR Index ┆ MLEIFCTX Index ┆ HDG US Equity ┆ QAI US Equity │\n",
       "│ ---        ┆ ---           ┆ ---            ┆ ---            ┆ ---           ┆ ---           │\n",
       "│ str        ┆ f64           ┆ f64            ┆ f64            ┆ f64           ┆ f64           │\n",
       "╞════════════╪═══════════════╪════════════════╪════════════════╪═══════════════╪═══════════════╡\n",
       "│ count      ┆ 169.0         ┆ 169.0          ┆ 169.0          ┆ 169.0         ┆ 169.0         │\n",
       "│ null_count ┆ 0.0           ┆ 0.0            ┆ 0.0            ┆ 0.0           ┆ 0.0           │\n",
       "│ mean       ┆ 0.004273      ┆ 0.003136       ┆ 0.00297        ┆ 0.002164      ┆ 0.002308      │\n",
       "│ std        ┆ 0.016973      ┆ 0.015963       ┆ 0.015925       ┆ 0.016586      ┆ 0.014374      │\n",
       "│ min        ┆ -0.090784     ┆ -0.053234      ┆ -0.052384      ┆ -0.05918      ┆ -0.056348     │\n",
       "│ 25%        ┆ -0.004479     ┆ -0.004588      ┆ -0.004926      ┆ -0.0061       ┆ -0.006472     │\n",
       "│ 50%        ┆ 0.004792      ┆ 0.003739       ┆ 0.003605       ┆ 0.003321      ┆ 0.002609      │\n",
       "│ 75%        ┆ 0.0132        ┆ 0.012375       ┆ 0.01232        ┆ 0.011596      ┆ 0.01128       │\n",
       "│ max        ┆ 0.058602      ┆ 0.058886       ┆ 0.058805       ┆ 0.058304      ┆ 0.039788      │\n",
       "└────────────┴───────────────┴────────────────┴────────────────┴───────────────┴───────────────┘"
      ]
     },
     "execution_count": 206,
     "metadata": {},
     "output_type": "execute_result"
    }
   ],
   "source": [
    "des = df_polars.select(pl.col(pl.Float64)).describe()\n",
    "des"
   ]
  },
  {
   "cell_type": "code",
   "execution_count": 207,
   "id": "25fe675c",
   "metadata": {},
   "outputs": [
    {
     "data": {
      "text/html": [
       "<div><style>\n",
       ".dataframe > thead > tr,\n",
       ".dataframe > tbody > tr {\n",
       "  text-align: right;\n",
       "  white-space: pre-wrap;\n",
       "}\n",
       "</style>\n",
       "<small>shape: (3, 6)</small><table border=\"1\" class=\"dataframe\"><thead><tr><th>HFRIFWI Index</th><th>MLEIFCTR Index</th><th>MLEIFCTX Index</th><th>HDG US Equity</th><th>QAI US Equity</th><th>statistic</th></tr><tr><td>f64</td><td>f64</td><td>f64</td><td>f64</td><td>f64</td><td>str</td></tr></thead><tbody><tr><td>0.051279</td><td>0.037629</td><td>0.035646</td><td>0.025973</td><td>0.027692</td><td>&quot;mean&quot;</td></tr><tr><td>0.058796</td><td>0.055298</td><td>0.055166</td><td>0.057457</td><td>0.049792</td><td>&quot;vol&quot;</td></tr><tr><td>0.872151</td><td>0.680474</td><td>0.646154</td><td>0.452046</td><td>0.556153</td><td>&quot;sharpe&quot;</td></tr></tbody></table></div>"
      ],
      "text/plain": [
       "shape: (3, 6)\n",
       "┌───────────────┬────────────────┬────────────────┬───────────────┬───────────────┬───────────┐\n",
       "│ HFRIFWI Index ┆ MLEIFCTR Index ┆ MLEIFCTX Index ┆ HDG US Equity ┆ QAI US Equity ┆ statistic │\n",
       "│ ---           ┆ ---            ┆ ---            ┆ ---           ┆ ---           ┆ ---       │\n",
       "│ f64           ┆ f64            ┆ f64            ┆ f64           ┆ f64           ┆ str       │\n",
       "╞═══════════════╪════════════════╪════════════════╪═══════════════╪═══════════════╪═══════════╡\n",
       "│ 0.051279      ┆ 0.037629       ┆ 0.035646       ┆ 0.025973      ┆ 0.027692      ┆ mean      │\n",
       "│ 0.058796      ┆ 0.055298       ┆ 0.055166       ┆ 0.057457      ┆ 0.049792      ┆ vol       │\n",
       "│ 0.872151      ┆ 0.680474       ┆ 0.646154       ┆ 0.452046      ┆ 0.556153      ┆ sharpe    │\n",
       "└───────────────┴────────────────┴────────────────┴───────────────┴───────────────┴───────────┘"
      ]
     },
     "execution_count": 207,
     "metadata": {},
     "output_type": "execute_result"
    }
   ],
   "source": [
    "monthly_ret = df_polars.select(pl.col(pl.Float64))\n",
    "mean = monthly_ret.mean() * 12\n",
    "vol = monthly_ret.std() * np.sqrt(12)\n",
    "sharpe = mean / vol\n",
    "summary = (\n",
    "    pl.concat([mean, vol, sharpe])\n",
    "    .with_columns(\n",
    "        pl.Series(\"statistic\", [\"mean\", \"vol\", \"sharpe\"])\n",
    "    )\n",
    ")\n",
    "summary"
   ]
  },
  {
   "cell_type": "markdown",
   "id": "ec8d7c08",
   "metadata": {},
   "source": [
    "## 2.\n",
    "\n",
    "For the series in the \"hedge fund series\" tab, calculate the following statistics related to tail-risk.\n",
    "* Skewness\n",
    "* Excess Kurtosis (in excess of 3)\n",
    "* VaR (.05) - the fifth quantile of historic returns\n",
    "* CVaR (.05) - the mean of the returns at or below the fifth quantile\n",
    "* Maximum drawdown - include the dates of the max/min/recovery within the max drawdown period.\n",
    "\n",
    "There is no need to annualize any of these statistics."
   ]
  },
  {
   "cell_type": "markdown",
   "id": "4313874e",
   "metadata": {},
   "source": [
    "**Skewness**\n",
    "\n",
    "$$\n",
    "\\varsigma=\\frac{1}{\\sigma^{3}} E\\left[(r-\\mu)^{3}\\right]\n",
    "$$\n",
    "\n",
    "**Excess Kurtosis**\n",
    "\n",
    "$$ \\kappa=\\frac{1}{\\sigma^{4}} E\\left[(r-\\mu)^{4}\\right] $$"
   ]
  },
  {
   "cell_type": "code",
   "execution_count": 211,
   "id": "b20c0d52",
   "metadata": {},
   "outputs": [],
   "source": [
    "def moment_metrics(data, metric: str=\"skewness\") -> pl.DataFrame:\n",
    "    \"\"\"\n",
    "    Calculate skewness/excess kurtosis based on monthly returns\n",
    "\n",
    "    Args:\n",
    "        data: monthly return\n",
    "        metric: \"skewness\" or \"kurtosis\"\n",
    "    Return:\n",
    "        skewness/excess kurtosis (in excess of 3)\n",
    "    \"\"\"\n",
    "    if metric == \"skewness\":\n",
    "        m = 3\n",
    "    elif metric == \"kurtosis\":\n",
    "        m = 4\n",
    "\n",
    "    # result list\n",
    "    r_list = []\n",
    "    names = data.schema.names()\n",
    "    mean, vol = data.mean(), data.std()\n",
    "\n",
    "    for name in names:\n",
    "        # decentralized return\n",
    "        dec_ret = data[name] - mean[name]\n",
    "        n = data[name].len()\n",
    "        r = (1 / vol[name] ** m / (n - 1)) * np.sum(dec_ret.to_numpy() ** m)\n",
    "        r_list.append(r.to_numpy()[0])\n",
    "    \n",
    "    if metric == \"kurtosis\":\n",
    "        r_list = [x-3 for x in r_list]\n",
    "    \n",
    "    result = pl.DataFrame({\n",
    "        \"tickers\": names,\n",
    "        metric: r_list\n",
    "    })\n",
    "    return result"
   ]
  },
  {
   "cell_type": "code",
   "execution_count": 212,
   "id": "af940288",
   "metadata": {},
   "outputs": [
    {
     "data": {
      "text/html": [
       "<div><style>\n",
       ".dataframe > thead > tr,\n",
       ".dataframe > tbody > tr {\n",
       "  text-align: right;\n",
       "  white-space: pre-wrap;\n",
       "}\n",
       "</style>\n",
       "<small>shape: (5, 2)</small><table border=\"1\" class=\"dataframe\"><thead><tr><th>tickers</th><th>skewness</th></tr><tr><td>str</td><td>f64</td></tr></thead><tbody><tr><td>&quot;HFRIFWI Index&quot;</td><td>-0.93705</td></tr><tr><td>&quot;MLEIFCTR Index&quot;</td><td>-0.276214</td></tr><tr><td>&quot;MLEIFCTX Index&quot;</td><td>-0.259916</td></tr><tr><td>&quot;HDG US Equity&quot;</td><td>-0.261356</td></tr><tr><td>&quot;QAI US Equity&quot;</td><td>-0.420145</td></tr></tbody></table></div>"
      ],
      "text/plain": [
       "shape: (5, 2)\n",
       "┌────────────────┬───────────┐\n",
       "│ tickers        ┆ skewness  │\n",
       "│ ---            ┆ ---       │\n",
       "│ str            ┆ f64       │\n",
       "╞════════════════╪═══════════╡\n",
       "│ HFRIFWI Index  ┆ -0.93705  │\n",
       "│ MLEIFCTR Index ┆ -0.276214 │\n",
       "│ MLEIFCTX Index ┆ -0.259916 │\n",
       "│ HDG US Equity  ┆ -0.261356 │\n",
       "│ QAI US Equity  ┆ -0.420145 │\n",
       "└────────────────┴───────────┘"
      ]
     },
     "execution_count": 212,
     "metadata": {},
     "output_type": "execute_result"
    }
   ],
   "source": [
    "moment_metrics(monthly_ret, metric=\"skewness\")"
   ]
  },
  {
   "cell_type": "code",
   "execution_count": 213,
   "id": "253655ad",
   "metadata": {},
   "outputs": [
    {
     "data": {
      "text/html": [
       "<div><style>\n",
       ".dataframe > thead > tr,\n",
       ".dataframe > tbody > tr {\n",
       "  text-align: right;\n",
       "  white-space: pre-wrap;\n",
       "}\n",
       "</style>\n",
       "<small>shape: (5, 2)</small><table border=\"1\" class=\"dataframe\"><thead><tr><th>tickers</th><th>kurtosis</th></tr><tr><td>str</td><td>f64</td></tr></thead><tbody><tr><td>&quot;HFRIFWI Index&quot;</td><td>5.406024</td></tr><tr><td>&quot;MLEIFCTR Index&quot;</td><td>1.521386</td></tr><tr><td>&quot;MLEIFCTX Index&quot;</td><td>1.480591</td></tr><tr><td>&quot;HDG US Equity&quot;</td><td>1.660411</td></tr><tr><td>&quot;QAI US Equity&quot;</td><td>1.363076</td></tr></tbody></table></div>"
      ],
      "text/plain": [
       "shape: (5, 2)\n",
       "┌────────────────┬──────────┐\n",
       "│ tickers        ┆ kurtosis │\n",
       "│ ---            ┆ ---      │\n",
       "│ str            ┆ f64      │\n",
       "╞════════════════╪══════════╡\n",
       "│ HFRIFWI Index  ┆ 5.406024 │\n",
       "│ MLEIFCTR Index ┆ 1.521386 │\n",
       "│ MLEIFCTX Index ┆ 1.480591 │\n",
       "│ HDG US Equity  ┆ 1.660411 │\n",
       "│ QAI US Equity  ┆ 1.363076 │\n",
       "└────────────────┴──────────┘"
      ]
     },
     "execution_count": 213,
     "metadata": {},
     "output_type": "execute_result"
    }
   ],
   "source": [
    "moment_metrics(monthly_ret, metric=\"kurtosis\")"
   ]
  },
  {
   "cell_type": "markdown",
   "id": "4e02e179",
   "metadata": {},
   "source": [
    "**VaR (.05) - the fifth quantile of historic returns**"
   ]
  },
  {
   "cell_type": "markdown",
   "id": "44cda4a5",
   "metadata": {},
   "source": [
    "**CVaR (.05) - the mean of the returns at or below the fifth quantile**\n",
    "\n",
    "$$\n",
    "r^{\\mathrm{CVaR}_{q, 1}}=\\frac{1}{q N} \\sum_{i=1}^{q N} r_{(i)} \n",
    "$$"
   ]
  },
  {
   "cell_type": "code",
   "execution_count": 222,
   "id": "94c88450",
   "metadata": {},
   "outputs": [],
   "source": [
    "def var_cvar(data, a=0.05):\n",
    "    \"\"\"\n",
    "    Calculate var/cvar based on monthly returns\n",
    "\n",
    "    Args:\n",
    "        data: monthly return\n",
    "        a: percentile\n",
    "    Return:\n",
    "        var(.05) / cvar(.05)\n",
    "    \"\"\"\n",
    "    names = data.schema.names()\n",
    "    var_list = []\n",
    "    cvar_list = []\n",
    "    for name in names:\n",
    "        var = data[name].quantile(a)\n",
    "        var_list.append(var)\n",
    "        cvar = data[name].filter(data[name].le(var)).mean()\n",
    "        cvar_list.append(cvar)\n",
    "    result = pl.DataFrame({\n",
    "        \"tickers\": names,\n",
    "        \"var\": var_list,\n",
    "        \"cvar\": cvar_list\n",
    "    })\n",
    "    return result"
   ]
  },
  {
   "cell_type": "code",
   "execution_count": 223,
   "id": "b2863644",
   "metadata": {},
   "outputs": [
    {
     "data": {
      "text/html": [
       "<div><style>\n",
       ".dataframe > thead > tr,\n",
       ".dataframe > tbody > tr {\n",
       "  text-align: right;\n",
       "  white-space: pre-wrap;\n",
       "}\n",
       "</style>\n",
       "<small>shape: (5, 3)</small><table border=\"1\" class=\"dataframe\"><thead><tr><th>tickers</th><th>var</th><th>cvar</th></tr><tr><td>str</td><td>f64</td><td>f64</td></tr></thead><tbody><tr><td>&quot;HFRIFWI Index&quot;</td><td>-0.0241</td><td>-0.035992</td></tr><tr><td>&quot;MLEIFCTR Index&quot;</td><td>-0.028081</td><td>-0.034993</td></tr><tr><td>&quot;MLEIFCTX Index&quot;</td><td>-0.027903</td><td>-0.034937</td></tr><tr><td>&quot;HDG US Equity&quot;</td><td>-0.030883</td><td>-0.036831</td></tr><tr><td>&quot;QAI US Equity&quot;</td><td>-0.017386</td><td>-0.030995</td></tr></tbody></table></div>"
      ],
      "text/plain": [
       "shape: (5, 3)\n",
       "┌────────────────┬───────────┬───────────┐\n",
       "│ tickers        ┆ var       ┆ cvar      │\n",
       "│ ---            ┆ ---       ┆ ---       │\n",
       "│ str            ┆ f64       ┆ f64       │\n",
       "╞════════════════╪═══════════╪═══════════╡\n",
       "│ HFRIFWI Index  ┆ -0.0241   ┆ -0.035992 │\n",
       "│ MLEIFCTR Index ┆ -0.028081 ┆ -0.034993 │\n",
       "│ MLEIFCTX Index ┆ -0.027903 ┆ -0.034937 │\n",
       "│ HDG US Equity  ┆ -0.030883 ┆ -0.036831 │\n",
       "│ QAI US Equity  ┆ -0.017386 ┆ -0.030995 │\n",
       "└────────────────┴───────────┴───────────┘"
      ]
     },
     "execution_count": 223,
     "metadata": {},
     "output_type": "execute_result"
    }
   ],
   "source": [
    "var_cvar(monthly_ret)"
   ]
  },
  {
   "cell_type": "markdown",
   "id": "530b2e93",
   "metadata": {},
   "source": [
    "**Maximum drawdown - include the dates of the max/min/recovery within the max drawdown period**"
   ]
  },
  {
   "cell_type": "markdown",
   "id": "9deb5072",
   "metadata": {},
   "source": [
    "## 3. \n",
    "\n",
    "For the series in the \"hedge fund series\" tab, run a regression of each against SPY (found in the \"merrill factors\" tab.) Include an intercept. Report the following regression-based statistics:\n",
    "* Market Beta\n",
    "* Treynor Ratio\n",
    "* Information ratio\n",
    "\n",
    "Annualize these three statistics as appropriate."
   ]
  },
  {
   "cell_type": "markdown",
   "id": "9dd139ed",
   "metadata": {},
   "source": [
    "## 4. \n",
    "\n",
    "Discuss the previous statistics, and what they tell us about...\n",
    "\n",
    "* the differences between SPY and the hedge-fund series?\n",
    "* which performs better between HDG and QAI.\n",
    "* whether HDG and the ML series capture the most notable properties of HFRI."
   ]
  },
  {
   "cell_type": "markdown",
   "id": "efc199e0",
   "metadata": {},
   "source": [
    "## 5. \n",
    "\n",
    "Report the correlation matrix for these assets.\n",
    "* Show the correlations as a heat map.\n",
    "* Which series have the highest and lowest correlations?"
   ]
  },
  {
   "cell_type": "markdown",
   "id": "f79554a0",
   "metadata": {},
   "source": [
    "## 6.\n",
    "\n",
    "Replicate HFRI with the six factors listed on the \"merrill factors\" tab. Include a constant, and run the unrestricted regression,\n",
    "\n",
    "$$\\begin{align}\n",
    "r^{\\text{hfri}}_{t} &= \\alpha^{\\text{merr}} + x_{t}^{\\text{merr}}\\beta^{\\text{merr}} + \\epsilon_{t}^{\\text{merr}}\\\\[5pt]\n",
    "\\hat{r}^{\\text{hfri}}_{t} &= \\hat{\\alpha}^{\\text{merr}} + x_{t}^{\\text{merr}}\\hat{\\beta}^{\\text{merr}}\n",
    "\\end{align}$$\n",
    "\n",
    "Note that the second equation is just our notation for the fitted replication.\n",
    "\n",
    "a. Report the intercept and betas.\n",
    "\n",
    "b. Are the betas realistic position sizes, or do they require huge long-short positions?\n",
    "\n",
    "c. Report the R-squared.\n",
    "\n",
    "d. Report the volatility of $\\epsilon^{\\text{merr}}$, the tracking error."
   ]
  },
  {
   "cell_type": "markdown",
   "id": "9760f909",
   "metadata": {},
   "source": [
    "## 7.\n",
    "\n",
    "Let's examine the replication out-of-sample (OOS).\n",
    "\n",
    "Starting with $t = 61$ month of the sample, do the following:\n",
    "\n",
    "* Use the previous 60 months of data to estimate the regression equation. \n",
    "This gives time-t estimates of the regression parameters, $\\tilde{\\alpha}^{\\text{merr}}_{t}$ and $\\tilde{\\beta}^{\\text{merr}}_{t}$.\n",
    "\n",
    "* Use the estimated regression parameters, along with the time-t regressor values, $x^{\\text{merr}}_{t}$, calculate the time-t replication value that is, with respect to the regression estimate, built \"out-of-sample\" (OOS).\n",
    "\n",
    "$$\\hat{r}^{\\text{hfri}}_{t} \\equiv \\tilde{\\alpha}^{\\text{merr}} + (x_{t}^{\\text{merr}})'\\tilde{\\beta}^{\\text{merr}}$$\n",
    "\n",
    "* Step forward to $t = 62$, and now use $t = 2$ through $t = 61$ for the estimation. Re-run the steps above, and continue this process throughout the data series. Thus, we are running a rolling, 60-month regression for each point-in-time.\n",
    "\n",
    "How well does the out-of-sample replication perform with respect to the target?"
   ]
  },
  {
   "cell_type": "markdown",
   "id": "a442386f",
   "metadata": {},
   "source": [
    "---"
   ]
  },
  {
   "cell_type": "markdown",
   "id": "869e1690",
   "metadata": {},
   "source": [
    "# 3. EXTRA - Other Estimations"
   ]
  },
  {
   "cell_type": "markdown",
   "id": "71bba7f4",
   "metadata": {},
   "source": [
    "### 1.\n",
    "\n",
    "In `Section 2`, we estimated the replications using an intercept. Try the full-sample estimation, but this time without an intercept.\n",
    "\n",
    "$$\\begin{align}\n",
    "r^{\\text{hfri}}_{t} &= \\alpha^{merr} + x_{t}^{\\text{merr}}\\beta^{\\text{merr}} + \\epsilon_{t}^{\\text{merr}}\\\\[5pt]\n",
    "\\check{r}^{\\text{hfri}}_{t} &= \\check{\\alpha}^{\\text{merr}} + x_{t}^{\\text{merr}}\\check{\\beta}^{\\text{merr}}\n",
    "\\end{align}$$\n",
    "\n",
    "Report\n",
    "\n",
    "* the regression beta. How does it compare to the estimated beta with an intercept, $\\hat{\\beta}^{\\text{merr}}$?\n",
    "\n",
    "* the mean of the fitted value, $\\check{r}^{\\text{hfri}}_{t}$. How does it compare to the mean of the HFRI?\n",
    "\n",
    "* the correlations of the fitted values, $\\check{r}^{\\text{hfri}}_{t}$ to the HFRI. How does the correlation compare to that of the fitted values with an intercept, $\\hat{r}^{\\text{hfri}}_{t}$\n",
    "\n",
    "Do you think Merrill and ProShares fit their replicators with an intercept or not?"
   ]
  },
  {
   "cell_type": "markdown",
   "id": "d7d1e36e",
   "metadata": {},
   "source": [
    "### 2.\n",
    "\n",
    "Merrill constrains the weights of each asset in its replication regression of HFRI. Try constraining your weights by re-doing 2.6.\n",
    "\n",
    "* Use Non-Negative Least Squares (NNLS) instead of OLS.\n",
    "* Go further by using a Generalized Linear Model to put separate interval constraints on each beta, rather than simply constraining them to be non-negative.\n",
    "\n",
    "#### Hints\n",
    "* Try using LinearRegression in scikit-learn with the parameter `positive=True`. \n",
    "* Try using GLM in statsmodels."
   ]
  },
  {
   "cell_type": "markdown",
   "id": "cd20abf5",
   "metadata": {},
   "source": [
    "# 4. EXTRA - Other Decompositions"
   ]
  },
  {
   "cell_type": "markdown",
   "id": "88b13e96",
   "metadata": {},
   "source": [
    "### 1. \n",
    "\n",
    "Let's decompose a few other targets to see if they behave as their name suggests.\n",
    "\n",
    "* Regress HEFA on the same style factors used to decompose HFRI. Does HEFA appear to be a currency-hedged version of EFA?\n",
    "\n",
    "* Decompose TRVCI with the same style factors used to decompose HFRI. The TRVCI Index tracks venture capital funds--in terms of our styles, what best describes venture capital?\n",
    "\n",
    "* TAIL is an ETF that tracks SPY, but that also buys put options to protect against market downturns. Calculate the statistics in questions 2.1-2.3 for TAIL. Does it seem to behave as indicated by this description? That is, does it have high correlation to SPY while delivering lower tail risk?"
   ]
  },
  {
   "cell_type": "markdown",
   "id": "98543644",
   "metadata": {},
   "source": [
    "### 2. \n",
    "\n",
    "The ProShares case introduces Levered ETFs. ProShares made much of its name originally through levered, or \"geared\" ETFs.\n",
    "\n",
    "Explain conceptually why Levered ETFs may track their index well for a given day but diverge over time. How is this exacerbated in volatile periods like 2008?"
   ]
  },
  {
   "cell_type": "markdown",
   "id": "787f3b13",
   "metadata": {},
   "source": [
    "### 3.\n",
    "\n",
    "Analyze SPXU and UPRO relative to SPY.\n",
    "- SPXU is ProShares -3x SPX ETF.\n",
    "- UPRO is ProShres +3x SPX ETF.\n",
    "\n",
    "Questions:\n",
    "* Analyze them with the statistics from 2.1-2.3. \n",
    "\n",
    "* Do these two ETFs seem to live up to their names?\n",
    "\n",
    "* Plot the cumulative returns of both these ETFs along with SPY.\n",
    "\n",
    "* What do you conclude about levered ETFs?"
   ]
  },
  {
   "cell_type": "markdown",
   "id": "99322198",
   "metadata": {},
   "source": [
    "***"
   ]
  }
 ],
 "metadata": {
  "hide_input": false,
  "kernelspec": {
   "display_name": "finm",
   "language": "python",
   "name": "python3"
  },
  "language_info": {
   "codemirror_mode": {
    "name": "ipython",
    "version": 3
   },
   "file_extension": ".py",
   "mimetype": "text/x-python",
   "name": "python",
   "nbconvert_exporter": "python",
   "pygments_lexer": "ipython3",
   "version": "3.12.11"
  }
 },
 "nbformat": 4,
 "nbformat_minor": 5
}
