{
 "cells": [
  {
   "cell_type": "markdown",
   "id": "797a231a",
   "metadata": {},
   "source": [
    "# ProShares Replication\n",
    "\n",
    "## HBS Case\n",
    "\n",
    "### *ProShares Hedge Replication ETF*"
   ]
  },
  {
   "cell_type": "markdown",
   "id": "26c00150",
   "metadata": {},
   "source": [
    "---"
   ]
  },
  {
   "cell_type": "markdown",
   "id": "3667bde6",
   "metadata": {},
   "source": [
    "# 1. READING - The ProShares ETF Product"
   ]
  },
  {
   "cell_type": "markdown",
   "id": "fd3ac3b5",
   "metadata": {},
   "source": [
    "### 1. Alternative ETFs\n",
    "\n",
    "Describe the two types of investments referenced by this term."
   ]
  },
  {
   "cell_type": "markdown",
   "id": "a27b963c",
   "metadata": {},
   "source": [
    "Alternative Asset Classes: Investments that provide exposure to non-traditional, real, hard, or financial assets outside the mainstream equity and bond markets. \n",
    "\n",
    "e.g. Real estate (REITs, property funds), Commodities (gold, oil, agriculture), Precious metals (gold, silver), Currencies (foreign exchange exposure), Volatility (VIX-linked products), Private equity (when accessible via liquid vehicles)\n",
    "\n",
    "Alternative Strategies: Investment approaches that use unconventional methods and techniques not constrained by traditional long-only mandates.\n",
    "\n",
    "e.g. Geared Investing: \n",
    "- Leveraged investing (2× or 3× daily returns)\n",
    "- Inverse investing (short exposure, benefits when markets fall)\n",
    "\n",
    "Hedge Fund Strategies:\n",
    "- Market neutral (zero or low correlation to equity markets)\n",
    "- Absolute return (targeting positive returns regardless of market direction)\n",
    "- Convertible/merger arbitrage\n",
    "- Managed futures\n",
    "- Global macro"
   ]
  },
  {
   "cell_type": "markdown",
   "id": "c7fe755f",
   "metadata": {},
   "source": [
    "### 2. Hedge Funds.\n",
    "\n",
    "* a. Using just the information in the case, what are two measures by which hedge funds are an attractive investment?\n",
    "\n",
    "* b. What are the main benefits of investing in hedge funds via an ETF instead of directly?"
   ]
  },
  {
   "cell_type": "markdown",
   "id": "cb2b5ed5",
   "metadata": {},
   "source": [
    "a. Measure 1: Superior Risk-Adjusted Returns (Sharpe Ratio)\n",
    "\n",
    "From Slide 9\n",
    "\n",
    "| Investment | Return | Volatility (Std Dev) | **Sharpe Ratio** |\n",
    "|------------|---------|---------------------|------------------|\n",
    "| **HFRI (Hedge Funds)** | 8.83% | 6.90% | **0.84** |\n",
    "| S&P 500 (Stocks) | 9.21% | 15.22% | 0.41 |\n",
    "| Barclays U.S. Agg (Bonds) | 5.74% | 3.69% | 0.76 |\n",
    "\n",
    "From Slide 7\n",
    "\n",
    "Adding 20% hedge fund allocation to a 60/40 portfolio (reducing equities from 60% to 40%):\n",
    "- **Kept returns roughly the same** (~8-8.5% annualized)\n",
    "- **Reduced risk by 20-40%** (or 200 basis points of volatility)\n",
    "- Moved the portfolio **up and to the left** on the efficient frontier"
   ]
  },
  {
   "cell_type": "markdown",
   "id": "b751ec8d",
   "metadata": {},
   "source": [
    "Measure 2: Downside Protection\n",
    "\n",
    "Slide 10\n",
    "| Year | S&P 500 | HFRI | Barclays Agg |\n",
    "|------|---------|------|--------------|\n",
    "| **2008** | **-37%** | **-19%** | +5% |\n",
    "| 2009 | -8% | -4% | ~0% |\n",
    "| 2010 | -16% | -7% | ~0% |\n",
    "| 2011 | -19% | -5% | +8% |"
   ]
  },
  {
   "cell_type": "markdown",
   "id": "18d7745e",
   "metadata": {},
   "source": [
    "b. \n",
    "\n",
    "| Feature | Individual Hedge Funds | HDG ETF | Winner |\n",
    "|---------|----------------------|---------|--------|\n",
    "| **Minimum Investment** | $500K - $5M+ | Cost of 1 share (~$25) | ETF |\n",
    "| **Investor Requirements** | Accredited only | Anyone | ETF |\n",
    "| **Liquidity** | Lock-ups, gates, quarterly redemptions | Daily trading | ETF |\n",
    "| **Transparency** | Black box, delayed disclosure | Daily holdings publication | ETF |\n",
    "| **Fees** | 2% + 20% performance (~3-4% total) | 0.95% | ETF |\n",
    "| **Regulation** | Light touch | 1940 Act (like mutual funds) | ETF |\n",
    "| **Tax Reporting** | K-1 (complex, delayed) | 1099 (simple, timely) | ETF |\n",
    "| **Diversification** | Single or few managers | 2,000+ fund replication | ETF |"
   ]
  },
  {
   "cell_type": "markdown",
   "id": "f7f32354",
   "metadata": {},
   "source": [
    "### 3. The Benchmarks\n",
    "\n",
    "* a. Explain as simply as possible how HFRI, MLFM, MLFM-ES, and HDG differ in their construction and purpose.\n",
    "\n",
    "* b. How well does the Merrill Lynch Factor Model (MLFM) track the HFRI?\n",
    "\n",
    "* c. In which factor does the MLFM have the largest loading? (See a slide in Exhibit 1.)\n",
    "\n",
    "* d. What are the main concerns you have for how the MLFM attempts to replicate the HFRI?"
   ]
  },
  {
   "cell_type": "markdown",
   "id": "34ac227a",
   "metadata": {},
   "source": [
    "a. \n",
    "\n",
    "```\n",
    "HFRI (Target) → MLFM (Replicator) → MLFM-ES (Tradable Version) → HDG (Actual ETF)\n",
    "    ↓                ↓                        ↓                          ↓\n",
    "Real hedge      Statistical          Exchange-tradable            Fund you can\n",
    "fund returns    replication          benchmark index              actually buy\n",
    "```\n",
    "\n",
    "b. Direct Evidence (from Slide 18):\n",
    "- **Correlation: ~0.90** (90%)\n",
    "- Visual tracking shows periods of divergence (2008 positive error, 2012-2013 negative error)\n",
    "\n",
    "Indirect Evidence (from Slide 21):\n",
    "- Both have similar equity exposure (β ≈ 0.33-0.34)\n",
    "- Both correlate highly with S&P 500 (~0.83-0.87)\n",
    "- **But**: MLFM is slightly MORE equity-like and MORE bond-like than HFRI\n",
    "- **Implication**: MLFM **over-represents traditional asset betas** and **under-represents alternative risk premiums**\n",
    "\n",
    "The Problem This Reveals:\n",
    "\n",
    "The factor model treats hedge funds as:\n",
    "> **33% equities + 26% bonds + other traditional factors**\n",
    "\n",
    "But real hedge funds are:\n",
    "> **34% equity exposure + 7% bond exposure + 59% OTHER STUFF**\n",
    "\n",
    "That \"other stuff\" includes:\n",
    "- Manager skill (alpha)\n",
    "- Illiquidity premiums\n",
    "- Credit spreads\n",
    "- Volatility harvesting\n",
    "- Event-driven strategies\n",
    "- Non-linear payoffs\n",
    "\n",
    "The 10% missing correlation likely comes from MLFM's inability to capture that \"other stuff\"               "
   ]
  },
  {
   "cell_type": "markdown",
   "id": "8d3dcfc3",
   "metadata": {},
   "source": [
    "c. S&P500\n",
    "\n",
    "![image.png](../../img/slide19.png)"
   ]
  },
  {
   "cell_type": "markdown",
   "id": "b0d600a0",
   "metadata": {},
   "source": [
    "d. By the time the model identifies what worked for hedge funds, those strategies may have changed\n",
    "\n",
    "Dominance of Traditional Equity Beta - Missing \"Alternative\" in Alternatives"
   ]
  },
  {
   "cell_type": "markdown",
   "id": "48357709",
   "metadata": {},
   "source": [
    "### 4. The HDG Product\n",
    "\n",
    "* a. What does ProShares ETF, HDG, attempt to track? Is the tracking error small?\n",
    "\n",
    "* b. HDG is, by construction, delivering beta for investors. Isn't the point of hedge funds to generate alpha? Then why would HDG be valuable?\n",
    "\n",
    "* c. The fees of a typical hedge-fund are 2% on total assets plus 20% of excess returns if positive. HDG's expense ratio is roughly 1% on total assets. What would their respective net Sharpe Ratios be, assuming both have a gross excess returns of 10% and volatility of 20%?"
   ]
  },
  {
   "cell_type": "markdown",
   "id": "20e762e3",
   "metadata": {},
   "source": [
    "***"
   ]
  },
  {
   "cell_type": "markdown",
   "id": "fbbf79a1",
   "metadata": {},
   "source": [
    "# 2.  Analyzing the Data\n",
    "\n",
    "Use the data found on Canvas, in <b>'proshares analysis data.xlsx'</b>. \n",
    "\n",
    "It has monthly data on financial indexes and ETFs from `Aug 2011` through `May 2025`."
   ]
  },
  {
   "cell_type": "code",
   "id": "aad913fa",
   "metadata": {
    "ExecuteTime": {
     "end_time": "2025-10-20T17:11:53.621937Z",
     "start_time": "2025-10-20T17:11:50.467274Z"
    }
   },
   "source": [
    "import matplotlib.pyplot as plt\n",
    "import numpy as np\n",
    "import polars as pl\n",
    "import pandas as pd\n",
    "from sklearn.linear_model import LinearRegression\n",
    "\n",
    "from finm367.utils import load_path, concat_with_labels, only_numeric\n",
    "from finm367.metrics import calc_moment, calc_reg_metrics_batch"
   ],
   "outputs": [],
   "execution_count": 1
  },
  {
   "cell_type": "markdown",
   "id": "22b7389c",
   "metadata": {},
   "source": [
    "## 1. \n",
    "\n",
    "For the series in the \"hedge fund series\" tab, report the following summary statistics:\n",
    "* mean\n",
    "* volatility\n",
    "* Sharpe ratio\n",
    "\n",
    "Annualize these statistics."
   ]
  },
  {
   "cell_type": "code",
   "id": "4bc37f1b",
   "metadata": {
    "ExecuteTime": {
     "end_time": "2025-10-20T17:11:53.740430Z",
     "start_time": "2025-10-20T17:11:53.661089Z"
    }
   },
   "source": [
    "file_name = \"proshares_analysis_data_ta.xlsx\"\n",
    "file_path = load_path(file_name)\n",
    "df_pandas = pd.read_excel(file_path, sheet_name=\"hedge_fund_series\", index_col=0)\n",
    "df_pandas.head(5)"
   ],
   "outputs": [
    {
     "data": {
      "text/plain": [
       "            HFRIFWI Index  MLEIFCTR Index  MLEIFCTX Index  HDG US Equity  \\\n",
       "2011-08-31      -0.032149       -0.025588       -0.025689      -0.027033   \n",
       "2011-09-30      -0.038903       -0.032414       -0.032593      -0.032466   \n",
       "2011-10-31       0.026858        0.043593        0.043320       0.050531   \n",
       "2011-11-30      -0.013453       -0.012142       -0.012431      -0.028608   \n",
       "2011-12-31      -0.004479        0.001938        0.001796       0.012874   \n",
       "\n",
       "            QAI US Equity  \n",
       "2011-08-31      -0.006492  \n",
       "2011-09-30      -0.022142  \n",
       "2011-10-31       0.025244  \n",
       "2011-11-30      -0.007965  \n",
       "2011-12-31       0.001818  "
      ],
      "text/html": [
       "<div>\n",
       "<style scoped>\n",
       "    .dataframe tbody tr th:only-of-type {\n",
       "        vertical-align: middle;\n",
       "    }\n",
       "\n",
       "    .dataframe tbody tr th {\n",
       "        vertical-align: top;\n",
       "    }\n",
       "\n",
       "    .dataframe thead th {\n",
       "        text-align: right;\n",
       "    }\n",
       "</style>\n",
       "<table border=\"1\" class=\"dataframe\">\n",
       "  <thead>\n",
       "    <tr style=\"text-align: right;\">\n",
       "      <th></th>\n",
       "      <th>HFRIFWI Index</th>\n",
       "      <th>MLEIFCTR Index</th>\n",
       "      <th>MLEIFCTX Index</th>\n",
       "      <th>HDG US Equity</th>\n",
       "      <th>QAI US Equity</th>\n",
       "    </tr>\n",
       "  </thead>\n",
       "  <tbody>\n",
       "    <tr>\n",
       "      <th>2011-08-31</th>\n",
       "      <td>-0.032149</td>\n",
       "      <td>-0.025588</td>\n",
       "      <td>-0.025689</td>\n",
       "      <td>-0.027033</td>\n",
       "      <td>-0.006492</td>\n",
       "    </tr>\n",
       "    <tr>\n",
       "      <th>2011-09-30</th>\n",
       "      <td>-0.038903</td>\n",
       "      <td>-0.032414</td>\n",
       "      <td>-0.032593</td>\n",
       "      <td>-0.032466</td>\n",
       "      <td>-0.022142</td>\n",
       "    </tr>\n",
       "    <tr>\n",
       "      <th>2011-10-31</th>\n",
       "      <td>0.026858</td>\n",
       "      <td>0.043593</td>\n",
       "      <td>0.043320</td>\n",
       "      <td>0.050531</td>\n",
       "      <td>0.025244</td>\n",
       "    </tr>\n",
       "    <tr>\n",
       "      <th>2011-11-30</th>\n",
       "      <td>-0.013453</td>\n",
       "      <td>-0.012142</td>\n",
       "      <td>-0.012431</td>\n",
       "      <td>-0.028608</td>\n",
       "      <td>-0.007965</td>\n",
       "    </tr>\n",
       "    <tr>\n",
       "      <th>2011-12-31</th>\n",
       "      <td>-0.004479</td>\n",
       "      <td>0.001938</td>\n",
       "      <td>0.001796</td>\n",
       "      <td>0.012874</td>\n",
       "      <td>0.001818</td>\n",
       "    </tr>\n",
       "  </tbody>\n",
       "</table>\n",
       "</div>"
      ]
     },
     "execution_count": 2,
     "metadata": {},
     "output_type": "execute_result"
    }
   ],
   "execution_count": 2
  },
  {
   "cell_type": "code",
   "id": "b5665330",
   "metadata": {
    "ExecuteTime": {
     "end_time": "2025-10-20T17:11:53.895923Z",
     "start_time": "2025-10-20T17:11:53.834479Z"
    }
   },
   "source": [
    "df_polars = pl.from_pandas(df_pandas.reset_index()).rename({\"index\": \"Date\"}).drop_nulls()\n",
    "df_polars.tail()"
   ],
   "outputs": [
    {
     "data": {
      "text/plain": [
       "shape: (5, 6)\n",
       "┌────────────────┬───────────────┬────────────────┬────────────────┬───────────────┬───────────────┐\n",
       "│ Date           ┆ HFRIFWI Index ┆ MLEIFCTR Index ┆ MLEIFCTX Index ┆ HDG US Equity ┆ QAI US Equity │\n",
       "│ ---            ┆ ---           ┆ ---            ┆ ---            ┆ ---           ┆ ---           │\n",
       "│ datetime[ns]   ┆ f64           ┆ f64            ┆ f64            ┆ f64           ┆ f64           │\n",
       "╞════════════════╪═══════════════╪════════════════╪════════════════╪═══════════════╪═══════════════╡\n",
       "│ 2025-04-30     ┆ -0.0028       ┆ -0.004544      ┆ -0.005224      ┆ -0.00775      ┆ -0.002555     │\n",
       "│ 00:00:00       ┆               ┆                ┆                ┆               ┆               │\n",
       "│ 2025-05-31     ┆ 0.0223        ┆ 0.019974       ┆ 0.019702       ┆ 0.018973      ┆ 0.019302      │\n",
       "│ 00:00:00       ┆               ┆                ┆                ┆               ┆               │\n",
       "│ 2025-06-30     ┆ 0.0233        ┆ 0.011474       ┆ 0.010798       ┆ 0.010599      ┆ 0.015305      │\n",
       "│ 00:00:00       ┆               ┆                ┆                ┆               ┆               │\n",
       "│ 2025-07-31     ┆ 0.0097        ┆ 0.012114       ┆ 0.011396       ┆ 0.009106      ┆ 0.006813      │\n",
       "│ 00:00:00       ┆               ┆                ┆                ┆               ┆               │\n",
       "│ 2025-08-31     ┆ 0.0221        ┆ 0.013347       ┆ 0.013024       ┆ 0.013858      ┆ 0.015052      │\n",
       "│ 00:00:00       ┆               ┆                ┆                ┆               ┆               │\n",
       "└────────────────┴───────────────┴────────────────┴────────────────┴───────────────┴───────────────┘"
      ],
      "text/html": [
       "<div><style>\n",
       ".dataframe > thead > tr,\n",
       ".dataframe > tbody > tr {\n",
       "  text-align: right;\n",
       "  white-space: pre-wrap;\n",
       "}\n",
       "</style>\n",
       "<small>shape: (5, 6)</small><table border=\"1\" class=\"dataframe\"><thead><tr><th>Date</th><th>HFRIFWI Index</th><th>MLEIFCTR Index</th><th>MLEIFCTX Index</th><th>HDG US Equity</th><th>QAI US Equity</th></tr><tr><td>datetime[ns]</td><td>f64</td><td>f64</td><td>f64</td><td>f64</td><td>f64</td></tr></thead><tbody><tr><td>2025-04-30 00:00:00</td><td>-0.0028</td><td>-0.004544</td><td>-0.005224</td><td>-0.00775</td><td>-0.002555</td></tr><tr><td>2025-05-31 00:00:00</td><td>0.0223</td><td>0.019974</td><td>0.019702</td><td>0.018973</td><td>0.019302</td></tr><tr><td>2025-06-30 00:00:00</td><td>0.0233</td><td>0.011474</td><td>0.010798</td><td>0.010599</td><td>0.015305</td></tr><tr><td>2025-07-31 00:00:00</td><td>0.0097</td><td>0.012114</td><td>0.011396</td><td>0.009106</td><td>0.006813</td></tr><tr><td>2025-08-31 00:00:00</td><td>0.0221</td><td>0.013347</td><td>0.013024</td><td>0.013858</td><td>0.015052</td></tr></tbody></table></div>"
      ]
     },
     "execution_count": 3,
     "metadata": {},
     "output_type": "execute_result"
    }
   ],
   "execution_count": 3
  },
  {
   "cell_type": "code",
   "id": "12914e98",
   "metadata": {
    "ExecuteTime": {
     "end_time": "2025-10-20T17:11:54.385245Z",
     "start_time": "2025-10-20T17:11:54.347928Z"
    }
   },
   "source": [
    "des = df_polars.select(pl.col(pl.Float64)).describe()\n",
    "des"
   ],
   "outputs": [
    {
     "data": {
      "text/plain": [
       "shape: (9, 6)\n",
       "┌────────────┬───────────────┬────────────────┬────────────────┬───────────────┬───────────────┐\n",
       "│ statistic  ┆ HFRIFWI Index ┆ MLEIFCTR Index ┆ MLEIFCTX Index ┆ HDG US Equity ┆ QAI US Equity │\n",
       "│ ---        ┆ ---           ┆ ---            ┆ ---            ┆ ---           ┆ ---           │\n",
       "│ str        ┆ f64           ┆ f64            ┆ f64            ┆ f64           ┆ f64           │\n",
       "╞════════════╪═══════════════╪════════════════╪════════════════╪═══════════════╪═══════════════╡\n",
       "│ count      ┆ 169.0         ┆ 169.0          ┆ 169.0          ┆ 169.0         ┆ 169.0         │\n",
       "│ null_count ┆ 0.0           ┆ 0.0            ┆ 0.0            ┆ 0.0           ┆ 0.0           │\n",
       "│ mean       ┆ 0.004273      ┆ 0.003136       ┆ 0.00297        ┆ 0.002164      ┆ 0.002308      │\n",
       "│ std        ┆ 0.016973      ┆ 0.015963       ┆ 0.015925       ┆ 0.016586      ┆ 0.014374      │\n",
       "│ min        ┆ -0.090784     ┆ -0.053234      ┆ -0.052384      ┆ -0.05918      ┆ -0.056348     │\n",
       "│ 25%        ┆ -0.004479     ┆ -0.004588      ┆ -0.004926      ┆ -0.0061       ┆ -0.006472     │\n",
       "│ 50%        ┆ 0.004792      ┆ 0.003739       ┆ 0.003605       ┆ 0.003321      ┆ 0.002609      │\n",
       "│ 75%        ┆ 0.0132        ┆ 0.012375       ┆ 0.01232        ┆ 0.011596      ┆ 0.01128       │\n",
       "│ max        ┆ 0.058602      ┆ 0.058886       ┆ 0.058805       ┆ 0.058304      ┆ 0.039788      │\n",
       "└────────────┴───────────────┴────────────────┴────────────────┴───────────────┴───────────────┘"
      ],
      "text/html": [
       "<div><style>\n",
       ".dataframe > thead > tr,\n",
       ".dataframe > tbody > tr {\n",
       "  text-align: right;\n",
       "  white-space: pre-wrap;\n",
       "}\n",
       "</style>\n",
       "<small>shape: (9, 6)</small><table border=\"1\" class=\"dataframe\"><thead><tr><th>statistic</th><th>HFRIFWI Index</th><th>MLEIFCTR Index</th><th>MLEIFCTX Index</th><th>HDG US Equity</th><th>QAI US Equity</th></tr><tr><td>str</td><td>f64</td><td>f64</td><td>f64</td><td>f64</td><td>f64</td></tr></thead><tbody><tr><td>&quot;count&quot;</td><td>169.0</td><td>169.0</td><td>169.0</td><td>169.0</td><td>169.0</td></tr><tr><td>&quot;null_count&quot;</td><td>0.0</td><td>0.0</td><td>0.0</td><td>0.0</td><td>0.0</td></tr><tr><td>&quot;mean&quot;</td><td>0.004273</td><td>0.003136</td><td>0.00297</td><td>0.002164</td><td>0.002308</td></tr><tr><td>&quot;std&quot;</td><td>0.016973</td><td>0.015963</td><td>0.015925</td><td>0.016586</td><td>0.014374</td></tr><tr><td>&quot;min&quot;</td><td>-0.090784</td><td>-0.053234</td><td>-0.052384</td><td>-0.05918</td><td>-0.056348</td></tr><tr><td>&quot;25%&quot;</td><td>-0.004479</td><td>-0.004588</td><td>-0.004926</td><td>-0.0061</td><td>-0.006472</td></tr><tr><td>&quot;50%&quot;</td><td>0.004792</td><td>0.003739</td><td>0.003605</td><td>0.003321</td><td>0.002609</td></tr><tr><td>&quot;75%&quot;</td><td>0.0132</td><td>0.012375</td><td>0.01232</td><td>0.011596</td><td>0.01128</td></tr><tr><td>&quot;max&quot;</td><td>0.058602</td><td>0.058886</td><td>0.058805</td><td>0.058304</td><td>0.039788</td></tr></tbody></table></div>"
      ]
     },
     "execution_count": 4,
     "metadata": {},
     "output_type": "execute_result"
    }
   ],
   "execution_count": 4
  },
  {
   "cell_type": "code",
   "id": "25fe675c",
   "metadata": {
    "ExecuteTime": {
     "end_time": "2025-10-20T17:11:54.475282Z",
     "start_time": "2025-10-20T17:11:54.465215Z"
    }
   },
   "source": [
    "monthly_ret = df_polars.select(pl.col(pl.Float64))\n",
    "mean = monthly_ret.mean() * 12\n",
    "vol = monthly_ret.std() * np.sqrt(12)\n",
    "sharpe = mean / vol"
   ],
   "outputs": [],
   "execution_count": 5
  },
  {
   "metadata": {
    "ExecuteTime": {
     "end_time": "2025-10-20T17:11:54.569981Z",
     "start_time": "2025-10-20T17:11:54.554686Z"
    }
   },
   "cell_type": "code",
   "source": "concat_with_labels([mean, vol, sharpe], labels=[\"mean\", \"vol\", \"sharpe\"], label_col=\"statistic\")",
   "id": "9702048207413026",
   "outputs": [
    {
     "data": {
      "text/plain": [
       "shape: (3, 6)\n",
       "┌───────────┬───────────────┬────────────────┬────────────────┬───────────────┬───────────────┐\n",
       "│ statistic ┆ HFRIFWI Index ┆ MLEIFCTR Index ┆ MLEIFCTX Index ┆ HDG US Equity ┆ QAI US Equity │\n",
       "│ ---       ┆ ---           ┆ ---            ┆ ---            ┆ ---           ┆ ---           │\n",
       "│ str       ┆ f64           ┆ f64            ┆ f64            ┆ f64           ┆ f64           │\n",
       "╞═══════════╪═══════════════╪════════════════╪════════════════╪═══════════════╪═══════════════╡\n",
       "│ mean      ┆ 0.051279      ┆ 0.037629       ┆ 0.035646       ┆ 0.025973      ┆ 0.027692      │\n",
       "│ vol       ┆ 0.058796      ┆ 0.055298       ┆ 0.055166       ┆ 0.057457      ┆ 0.049792      │\n",
       "│ sharpe    ┆ 0.872151      ┆ 0.680474       ┆ 0.646154       ┆ 0.452046      ┆ 0.556153      │\n",
       "└───────────┴───────────────┴────────────────┴────────────────┴───────────────┴───────────────┘"
      ],
      "text/html": [
       "<div><style>\n",
       ".dataframe > thead > tr,\n",
       ".dataframe > tbody > tr {\n",
       "  text-align: right;\n",
       "  white-space: pre-wrap;\n",
       "}\n",
       "</style>\n",
       "<small>shape: (3, 6)</small><table border=\"1\" class=\"dataframe\"><thead><tr><th>statistic</th><th>HFRIFWI Index</th><th>MLEIFCTR Index</th><th>MLEIFCTX Index</th><th>HDG US Equity</th><th>QAI US Equity</th></tr><tr><td>str</td><td>f64</td><td>f64</td><td>f64</td><td>f64</td><td>f64</td></tr></thead><tbody><tr><td>&quot;mean&quot;</td><td>0.051279</td><td>0.037629</td><td>0.035646</td><td>0.025973</td><td>0.027692</td></tr><tr><td>&quot;vol&quot;</td><td>0.058796</td><td>0.055298</td><td>0.055166</td><td>0.057457</td><td>0.049792</td></tr><tr><td>&quot;sharpe&quot;</td><td>0.872151</td><td>0.680474</td><td>0.646154</td><td>0.452046</td><td>0.556153</td></tr></tbody></table></div>"
      ]
     },
     "execution_count": 6,
     "metadata": {},
     "output_type": "execute_result"
    }
   ],
   "execution_count": 6
  },
  {
   "cell_type": "markdown",
   "id": "ec8d7c08",
   "metadata": {},
   "source": [
    "## 2.\n",
    "\n",
    "For the series in the \"hedge fund series\" tab, calculate the following statistics related to tail-risk.\n",
    "* Skewness\n",
    "* Excess Kurtosis (in excess of 3)\n",
    "* VaR (.05) - the fifth quantile of historic returns\n",
    "* CVaR (.05) - the mean of the returns at or below the fifth quantile\n",
    "* Maximum drawdown - include the dates of the max/min/recovery within the max drawdown period.\n",
    "\n",
    "There is no need to annualize any of these statistics."
   ]
  },
  {
   "cell_type": "markdown",
   "id": "4313874e",
   "metadata": {},
   "source": [
    "**Skewness**\n",
    "\n",
    "$$\n",
    "\\varsigma=\\frac{1}{\\sigma^{3}} E\\left[(r-\\mu)^{3}\\right]\n",
    "$$\n",
    "\n",
    "**Excess Kurtosis**\n",
    "\n",
    "$$ \\kappa=\\frac{1}{\\sigma^{4}} E\\left[(r-\\mu)^{4}\\right] $$"
   ]
  },
  {
   "cell_type": "code",
   "id": "b20c0d52",
   "metadata": {
    "ExecuteTime": {
     "end_time": "2025-10-20T17:11:54.655486Z",
     "start_time": "2025-10-20T17:11:54.649232Z"
    }
   },
   "source": [
    "def moment_metrics(data, metric: str=\"skewness\") -> pl.DataFrame:\n",
    "    \"\"\"\n",
    "    Calculate skewness/excess kurtosis based on monthly returns\n",
    "\n",
    "    Args:\n",
    "        data: monthly return\n",
    "        metric: \"skewness\" or \"kurtosis\"\n",
    "    Return:\n",
    "        skewness/excess kurtosis (in excess of 3)\n",
    "    \"\"\"\n",
    "    if metric == \"skewness\":\n",
    "        m = 3\n",
    "    elif metric == \"kurtosis\":\n",
    "        m = 4\n",
    "\n",
    "    # result list\n",
    "    r_list = []\n",
    "    names = data.schema.names()\n",
    "    mean, vol = data.mean(), data.std()\n",
    "\n",
    "    for name in names:\n",
    "        # decentralized return\n",
    "        dec_ret = data[name] - mean[name]\n",
    "        n = data[name].len()\n",
    "        r = (1 / vol[name] ** m / (n - 1)) * np.sum(dec_ret.to_numpy() ** m)\n",
    "        r_list.append(r.to_numpy()[0])\n",
    "    \n",
    "    if metric == \"kurtosis\":\n",
    "        r_list = [x-3 for x in r_list]\n",
    "    \n",
    "    result = pl.DataFrame({\n",
    "        \"tickers\": names,\n",
    "        metric: r_list\n",
    "    })\n",
    "    return result"
   ],
   "outputs": [],
   "execution_count": 7
  },
  {
   "cell_type": "code",
   "id": "af940288",
   "metadata": {
    "ExecuteTime": {
     "end_time": "2025-10-20T17:11:54.751908Z",
     "start_time": "2025-10-20T17:11:54.735154Z"
    }
   },
   "source": [
    "moment_metrics(monthly_ret, metric=\"skewness\")"
   ],
   "outputs": [
    {
     "data": {
      "text/plain": [
       "shape: (5, 2)\n",
       "┌────────────────┬───────────┐\n",
       "│ tickers        ┆ skewness  │\n",
       "│ ---            ┆ ---       │\n",
       "│ str            ┆ f64       │\n",
       "╞════════════════╪═══════════╡\n",
       "│ HFRIFWI Index  ┆ -0.93705  │\n",
       "│ MLEIFCTR Index ┆ -0.276214 │\n",
       "│ MLEIFCTX Index ┆ -0.259916 │\n",
       "│ HDG US Equity  ┆ -0.261356 │\n",
       "│ QAI US Equity  ┆ -0.420145 │\n",
       "└────────────────┴───────────┘"
      ],
      "text/html": [
       "<div><style>\n",
       ".dataframe > thead > tr,\n",
       ".dataframe > tbody > tr {\n",
       "  text-align: right;\n",
       "  white-space: pre-wrap;\n",
       "}\n",
       "</style>\n",
       "<small>shape: (5, 2)</small><table border=\"1\" class=\"dataframe\"><thead><tr><th>tickers</th><th>skewness</th></tr><tr><td>str</td><td>f64</td></tr></thead><tbody><tr><td>&quot;HFRIFWI Index&quot;</td><td>-0.93705</td></tr><tr><td>&quot;MLEIFCTR Index&quot;</td><td>-0.276214</td></tr><tr><td>&quot;MLEIFCTX Index&quot;</td><td>-0.259916</td></tr><tr><td>&quot;HDG US Equity&quot;</td><td>-0.261356</td></tr><tr><td>&quot;QAI US Equity&quot;</td><td>-0.420145</td></tr></tbody></table></div>"
      ]
     },
     "execution_count": 8,
     "metadata": {},
     "output_type": "execute_result"
    }
   ],
   "execution_count": 8
  },
  {
   "cell_type": "code",
   "id": "253655ad",
   "metadata": {
    "ExecuteTime": {
     "end_time": "2025-10-20T17:11:54.859626Z",
     "start_time": "2025-10-20T17:11:54.851365Z"
    }
   },
   "source": [
    "moment_metrics(monthly_ret, metric=\"kurtosis\")"
   ],
   "outputs": [
    {
     "data": {
      "text/plain": [
       "shape: (5, 2)\n",
       "┌────────────────┬──────────┐\n",
       "│ tickers        ┆ kurtosis │\n",
       "│ ---            ┆ ---      │\n",
       "│ str            ┆ f64      │\n",
       "╞════════════════╪══════════╡\n",
       "│ HFRIFWI Index  ┆ 5.406024 │\n",
       "│ MLEIFCTR Index ┆ 1.521386 │\n",
       "│ MLEIFCTX Index ┆ 1.480591 │\n",
       "│ HDG US Equity  ┆ 1.660411 │\n",
       "│ QAI US Equity  ┆ 1.363076 │\n",
       "└────────────────┴──────────┘"
      ],
      "text/html": [
       "<div><style>\n",
       ".dataframe > thead > tr,\n",
       ".dataframe > tbody > tr {\n",
       "  text-align: right;\n",
       "  white-space: pre-wrap;\n",
       "}\n",
       "</style>\n",
       "<small>shape: (5, 2)</small><table border=\"1\" class=\"dataframe\"><thead><tr><th>tickers</th><th>kurtosis</th></tr><tr><td>str</td><td>f64</td></tr></thead><tbody><tr><td>&quot;HFRIFWI Index&quot;</td><td>5.406024</td></tr><tr><td>&quot;MLEIFCTR Index&quot;</td><td>1.521386</td></tr><tr><td>&quot;MLEIFCTX Index&quot;</td><td>1.480591</td></tr><tr><td>&quot;HDG US Equity&quot;</td><td>1.660411</td></tr><tr><td>&quot;QAI US Equity&quot;</td><td>1.363076</td></tr></tbody></table></div>"
      ]
     },
     "execution_count": 9,
     "metadata": {},
     "output_type": "execute_result"
    }
   ],
   "execution_count": 9
  },
  {
   "metadata": {
    "ExecuteTime": {
     "end_time": "2025-10-20T17:11:55.117610Z",
     "start_time": "2025-10-20T17:11:55.104315Z"
    }
   },
   "cell_type": "code",
   "source": [
    "# Use package\n",
    "calc_moment(monthly_ret, m=3)"
   ],
   "id": "b32ca8b7ca381334",
   "outputs": [
    {
     "data": {
      "text/plain": [
       "shape: (1, 5)\n",
       "┌───────────────┬────────────────┬────────────────┬───────────────┬───────────────┐\n",
       "│ HFRIFWI Index ┆ MLEIFCTR Index ┆ MLEIFCTX Index ┆ HDG US Equity ┆ QAI US Equity │\n",
       "│ ---           ┆ ---            ┆ ---            ┆ ---           ┆ ---           │\n",
       "│ f64           ┆ f64            ┆ f64            ┆ f64           ┆ f64           │\n",
       "╞═══════════════╪════════════════╪════════════════╪═══════════════╪═══════════════╡\n",
       "│ -0.948272     ┆ -0.279521      ┆ -0.263028      ┆ -0.264486     ┆ -0.425177     │\n",
       "└───────────────┴────────────────┴────────────────┴───────────────┴───────────────┘"
      ],
      "text/html": [
       "<div><style>\n",
       ".dataframe > thead > tr,\n",
       ".dataframe > tbody > tr {\n",
       "  text-align: right;\n",
       "  white-space: pre-wrap;\n",
       "}\n",
       "</style>\n",
       "<small>shape: (1, 5)</small><table border=\"1\" class=\"dataframe\"><thead><tr><th>HFRIFWI Index</th><th>MLEIFCTR Index</th><th>MLEIFCTX Index</th><th>HDG US Equity</th><th>QAI US Equity</th></tr><tr><td>f64</td><td>f64</td><td>f64</td><td>f64</td><td>f64</td></tr></thead><tbody><tr><td>-0.948272</td><td>-0.279521</td><td>-0.263028</td><td>-0.264486</td><td>-0.425177</td></tr></tbody></table></div>"
      ]
     },
     "execution_count": 10,
     "metadata": {},
     "output_type": "execute_result"
    }
   ],
   "execution_count": 10
  },
  {
   "metadata": {
    "ExecuteTime": {
     "end_time": "2025-10-20T17:11:55.208648Z",
     "start_time": "2025-10-20T17:11:55.197220Z"
    }
   },
   "cell_type": "code",
   "source": "calc_moment(monthly_ret, m=4)",
   "id": "17f98952f9085e31",
   "outputs": [
    {
     "data": {
      "text/plain": [
       "shape: (1, 5)\n",
       "┌───────────────┬────────────────┬────────────────┬───────────────┬───────────────┐\n",
       "│ HFRIFWI Index ┆ MLEIFCTR Index ┆ MLEIFCTX Index ┆ HDG US Equity ┆ QAI US Equity │\n",
       "│ ---           ┆ ---            ┆ ---            ┆ ---           ┆ ---           │\n",
       "│ f64           ┆ f64            ┆ f64            ┆ f64           ┆ f64           │\n",
       "╞═══════════════╪════════════════╪════════════════╪═══════════════╪═══════════════╡\n",
       "│ 5.657351      ┆ 1.631463       ┆ 1.589185       ┆ 1.775543      ┆ 1.467397      │\n",
       "└───────────────┴────────────────┴────────────────┴───────────────┴───────────────┘"
      ],
      "text/html": [
       "<div><style>\n",
       ".dataframe > thead > tr,\n",
       ".dataframe > tbody > tr {\n",
       "  text-align: right;\n",
       "  white-space: pre-wrap;\n",
       "}\n",
       "</style>\n",
       "<small>shape: (1, 5)</small><table border=\"1\" class=\"dataframe\"><thead><tr><th>HFRIFWI Index</th><th>MLEIFCTR Index</th><th>MLEIFCTX Index</th><th>HDG US Equity</th><th>QAI US Equity</th></tr><tr><td>f64</td><td>f64</td><td>f64</td><td>f64</td><td>f64</td></tr></thead><tbody><tr><td>5.657351</td><td>1.631463</td><td>1.589185</td><td>1.775543</td><td>1.467397</td></tr></tbody></table></div>"
      ]
     },
     "execution_count": 11,
     "metadata": {},
     "output_type": "execute_result"
    }
   ],
   "execution_count": 11
  },
  {
   "cell_type": "markdown",
   "id": "4e02e179",
   "metadata": {},
   "source": [
    "**VaR (.05) - the fifth quantile of historic returns**"
   ]
  },
  {
   "cell_type": "markdown",
   "id": "44cda4a5",
   "metadata": {},
   "source": [
    "**CVaR (.05) - the mean of the returns at or below the fifth quantile**\n",
    "\n",
    "$$\n",
    "r^{\\mathrm{CVaR}_{q, 1}}=\\frac{1}{q N} \\sum_{i=1}^{q N} r_{(i)} \n",
    "$$"
   ]
  },
  {
   "cell_type": "code",
   "id": "94c88450",
   "metadata": {
    "ExecuteTime": {
     "end_time": "2025-10-20T17:11:55.415705Z",
     "start_time": "2025-10-20T17:11:55.410782Z"
    }
   },
   "source": [
    "def var_cvar(data, a=0.05):\n",
    "    \"\"\"\n",
    "    Calculate var/cvar based on monthly returns\n",
    "\n",
    "    Args:\n",
    "        data: monthly return\n",
    "        a: percentile\n",
    "    Return:\n",
    "        var(.05) / cvar(.05)\n",
    "    \"\"\"\n",
    "    names = data.schema.names()\n",
    "    var_list = []\n",
    "    cvar_list = []\n",
    "    for name in names:\n",
    "        var = data[name].quantile(a)\n",
    "        var_list.append(var)\n",
    "        cvar = data[name].filter(data[name].le(var)).mean()\n",
    "        cvar_list.append(cvar)\n",
    "    result = pl.DataFrame({\n",
    "        \"tickers\": names,\n",
    "        \"var\": var_list,\n",
    "        \"cvar\": cvar_list\n",
    "    })\n",
    "    return result"
   ],
   "outputs": [],
   "execution_count": 12
  },
  {
   "cell_type": "code",
   "id": "b2863644",
   "metadata": {
    "ExecuteTime": {
     "end_time": "2025-10-20T17:11:55.443433Z",
     "start_time": "2025-10-20T17:11:55.436192Z"
    }
   },
   "source": [
    "var_cvar(monthly_ret)"
   ],
   "outputs": [
    {
     "data": {
      "text/plain": [
       "shape: (5, 3)\n",
       "┌────────────────┬───────────┬───────────┐\n",
       "│ tickers        ┆ var       ┆ cvar      │\n",
       "│ ---            ┆ ---       ┆ ---       │\n",
       "│ str            ┆ f64       ┆ f64       │\n",
       "╞════════════════╪═══════════╪═══════════╡\n",
       "│ HFRIFWI Index  ┆ -0.0241   ┆ -0.035992 │\n",
       "│ MLEIFCTR Index ┆ -0.028081 ┆ -0.034993 │\n",
       "│ MLEIFCTX Index ┆ -0.027903 ┆ -0.034937 │\n",
       "│ HDG US Equity  ┆ -0.030883 ┆ -0.036831 │\n",
       "│ QAI US Equity  ┆ -0.017386 ┆ -0.030995 │\n",
       "└────────────────┴───────────┴───────────┘"
      ],
      "text/html": [
       "<div><style>\n",
       ".dataframe > thead > tr,\n",
       ".dataframe > tbody > tr {\n",
       "  text-align: right;\n",
       "  white-space: pre-wrap;\n",
       "}\n",
       "</style>\n",
       "<small>shape: (5, 3)</small><table border=\"1\" class=\"dataframe\"><thead><tr><th>tickers</th><th>var</th><th>cvar</th></tr><tr><td>str</td><td>f64</td><td>f64</td></tr></thead><tbody><tr><td>&quot;HFRIFWI Index&quot;</td><td>-0.0241</td><td>-0.035992</td></tr><tr><td>&quot;MLEIFCTR Index&quot;</td><td>-0.028081</td><td>-0.034993</td></tr><tr><td>&quot;MLEIFCTX Index&quot;</td><td>-0.027903</td><td>-0.034937</td></tr><tr><td>&quot;HDG US Equity&quot;</td><td>-0.030883</td><td>-0.036831</td></tr><tr><td>&quot;QAI US Equity&quot;</td><td>-0.017386</td><td>-0.030995</td></tr></tbody></table></div>"
      ]
     },
     "execution_count": 13,
     "metadata": {},
     "output_type": "execute_result"
    }
   ],
   "execution_count": 13
  },
  {
   "cell_type": "markdown",
   "id": "530b2e93",
   "metadata": {},
   "source": [
    "**Maximum drawdown - include the dates of the max/min/recovery within the max drawdown period**"
   ]
  },
  {
   "cell_type": "markdown",
   "id": "9deb5072",
   "metadata": {},
   "source": [
    "## 3. \n",
    "\n",
    "For the series in the \"hedge fund series\" tab, run a regression of each against SPY (found in the \"merrill factors\" tab.) Include an intercept. Report the following regression-based statistics:\n",
    "* Market Beta\n",
    "* Treynor Ratio\n",
    "* Information ratio\n",
    "\n",
    "Annualize these three statistics as appropriate."
   ]
  },
  {
   "metadata": {
    "ExecuteTime": {
     "end_time": "2025-10-20T17:11:55.552584Z",
     "start_time": "2025-10-20T17:11:55.527105Z"
    }
   },
   "cell_type": "code",
   "source": [
    "from finm367.utils import print_sheetname\n",
    "print_sheetname(file_path)"
   ],
   "id": "2e92f1d7ce81899f",
   "outputs": [
    {
     "data": {
      "text/plain": [
       "['descriptions', 'hedge_fund_series', 'merrill_factors', 'other_data']"
      ]
     },
     "execution_count": 14,
     "metadata": {},
     "output_type": "execute_result"
    }
   ],
   "execution_count": 14
  },
  {
   "metadata": {
    "ExecuteTime": {
     "end_time": "2025-10-20T17:48:55.875190Z",
     "start_time": "2025-10-20T17:48:55.742490Z"
    }
   },
   "cell_type": "code",
   "source": [
    "mer_fac = pl.read_excel(file_path, sheet_name=\"merrill_factors\")\n",
    "align_mer = mer_fac[:-1]\n",
    "align_mer.tail()"
   ],
   "id": "df20ba598bcdfb02",
   "outputs": [
    {
     "data": {
      "text/plain": [
       "shape: (5, 7)\n",
       "┌────────────────┬──────────┬──────────┬──────────┬────────────────┬───────────────┬───────────────┐\n",
       "│ __UNNAMED__0   ┆ SPY US   ┆ USGG3M   ┆ EEM US   ┆ EFA US Equity  ┆ EUO US Equity ┆ IWM US Equity │\n",
       "│ ---            ┆ Equity   ┆ Index    ┆ Equity   ┆ ---            ┆ ---           ┆ ---           │\n",
       "│ date           ┆ ---      ┆ ---      ┆ ---      ┆ f64            ┆ f64           ┆ f64           │\n",
       "│                ┆ f64      ┆ f64      ┆ f64      ┆                ┆               ┆               │\n",
       "╞════════════════╪══════════╪══════════╪══════════╪════════════════╪═══════════════╪═══════════════╡\n",
       "│ 2025-04-30     ┆ -0.00867 ┆ 0.003572 ┆ 0.001372 ┆ 0.036951       ┆ -0.087388     ┆ -0.023209     │\n",
       "│ 2025-05-31     ┆ 0.062845 ┆ 0.003611 ┆ 0.040219 ┆ 0.047905       ┆ 0.001019      ┆ 0.052397      │\n",
       "│ 2025-06-30     ┆ 0.051387 ┆ 0.003576 ┆ 0.070012 ┆ 0.023967       ┆ -0.067843     ┆ 0.055183      │\n",
       "│ 2025-07-31     ┆ 0.023032 ┆ 0.003614 ┆ 0.006633 ┆ -0.02092       ┆ 0.069505      ┆ 0.016683      │\n",
       "│ 2025-08-31     ┆ 0.020519 ┆ 0.003449 ┆ 0.026771 ┆ 0.045247       ┆ -0.045253     ┆ 0.071926      │\n",
       "└────────────────┴──────────┴──────────┴──────────┴────────────────┴───────────────┴───────────────┘"
      ],
      "text/html": [
       "<div><style>\n",
       ".dataframe > thead > tr,\n",
       ".dataframe > tbody > tr {\n",
       "  text-align: right;\n",
       "  white-space: pre-wrap;\n",
       "}\n",
       "</style>\n",
       "<small>shape: (5, 7)</small><table border=\"1\" class=\"dataframe\"><thead><tr><th>__UNNAMED__0</th><th>SPY US Equity</th><th>USGG3M Index</th><th>EEM US Equity</th><th>EFA US Equity</th><th>EUO US Equity</th><th>IWM US Equity</th></tr><tr><td>date</td><td>f64</td><td>f64</td><td>f64</td><td>f64</td><td>f64</td><td>f64</td></tr></thead><tbody><tr><td>2025-04-30</td><td>-0.00867</td><td>0.003572</td><td>0.001372</td><td>0.036951</td><td>-0.087388</td><td>-0.023209</td></tr><tr><td>2025-05-31</td><td>0.062845</td><td>0.003611</td><td>0.040219</td><td>0.047905</td><td>0.001019</td><td>0.052397</td></tr><tr><td>2025-06-30</td><td>0.051387</td><td>0.003576</td><td>0.070012</td><td>0.023967</td><td>-0.067843</td><td>0.055183</td></tr><tr><td>2025-07-31</td><td>0.023032</td><td>0.003614</td><td>0.006633</td><td>-0.02092</td><td>0.069505</td><td>0.016683</td></tr><tr><td>2025-08-31</td><td>0.020519</td><td>0.003449</td><td>0.026771</td><td>0.045247</td><td>-0.045253</td><td>0.071926</td></tr></tbody></table></div>"
      ]
     },
     "execution_count": 29,
     "metadata": {},
     "output_type": "execute_result"
    }
   ],
   "execution_count": 29
  },
  {
   "metadata": {
    "ExecuteTime": {
     "end_time": "2025-10-20T17:49:16.120045Z",
     "start_time": "2025-10-20T17:49:16.104170Z"
    }
   },
   "cell_type": "code",
   "source": "align_df = pl.concat([monthly_ret, pl.DataFrame(align_mer[\"SPY US Equity\"])], how=\"horizontal\")",
   "id": "93cff22c4bd71fec",
   "outputs": [],
   "execution_count": 30
  },
  {
   "metadata": {
    "ExecuteTime": {
     "end_time": "2025-10-20T17:49:20.275021Z",
     "start_time": "2025-10-20T17:49:20.203491Z"
    }
   },
   "cell_type": "code",
   "source": "calc_reg_metrics_batch(align_df, X=\"SPY US Equity\", y_cols=monthly_ret.columns, freq=12)",
   "id": "75651d64a1924839",
   "outputs": [
    {
     "data": {
      "text/plain": [
       "shape: (5, 7)\n",
       "┌───────────────┬────────────────┬──────────┬───────────┬────────────┬──────────┬───────────┐\n",
       "│ X             ┆ y              ┆ beta     ┆ alpha     ┆ info_ratio ┆ treynor  ┆ r_squared │\n",
       "│ ---           ┆ ---            ┆ ---      ┆ ---       ┆ ---        ┆ ---      ┆ ---       │\n",
       "│ str           ┆ str            ┆ f64      ┆ f64       ┆ f64        ┆ f64      ┆ f64       │\n",
       "╞═══════════════╪════════════════╪══════════╪═══════════╪════════════╪══════════╪═══════════╡\n",
       "│ SPY US Equity ┆ HFRIFWI Index  ┆ 0.346312 ┆ 0.001733  ┆ 0.055336   ┆ 0.148072 ┆ 0.716217  │\n",
       "│ SPY US Equity ┆ MLEIFCTR Index ┆ 0.342103 ┆ -0.011315 ┆ -0.446645  ┆ 0.109993 ┆ 0.790132  │\n",
       "│ SPY US Equity ┆ MLEIFCTX Index ┆ 0.341126 ┆ -0.013159 ┆ -0.519776  ┆ 0.104494 ┆ 0.789407  │\n",
       "│ SPY US Equity ┆ HDG US Equity  ┆ 0.350231 ┆ -0.024134 ┆ -0.870311  ┆ 0.07416  ┆ 0.767075  │\n",
       "│ SPY US Equity ┆ QAI US Equity  ┆ 0.300703 ┆ -0.015329 ┆ -0.619398  ┆ 0.09209  ┆ 0.752957  │\n",
       "└───────────────┴────────────────┴──────────┴───────────┴────────────┴──────────┴───────────┘"
      ],
      "text/html": [
       "<div><style>\n",
       ".dataframe > thead > tr,\n",
       ".dataframe > tbody > tr {\n",
       "  text-align: right;\n",
       "  white-space: pre-wrap;\n",
       "}\n",
       "</style>\n",
       "<small>shape: (5, 7)</small><table border=\"1\" class=\"dataframe\"><thead><tr><th>X</th><th>y</th><th>beta</th><th>alpha</th><th>info_ratio</th><th>treynor</th><th>r_squared</th></tr><tr><td>str</td><td>str</td><td>f64</td><td>f64</td><td>f64</td><td>f64</td><td>f64</td></tr></thead><tbody><tr><td>&quot;SPY US Equity&quot;</td><td>&quot;HFRIFWI Index&quot;</td><td>0.346312</td><td>0.001733</td><td>0.055336</td><td>0.148072</td><td>0.716217</td></tr><tr><td>&quot;SPY US Equity&quot;</td><td>&quot;MLEIFCTR Index&quot;</td><td>0.342103</td><td>-0.011315</td><td>-0.446645</td><td>0.109993</td><td>0.790132</td></tr><tr><td>&quot;SPY US Equity&quot;</td><td>&quot;MLEIFCTX Index&quot;</td><td>0.341126</td><td>-0.013159</td><td>-0.519776</td><td>0.104494</td><td>0.789407</td></tr><tr><td>&quot;SPY US Equity&quot;</td><td>&quot;HDG US Equity&quot;</td><td>0.350231</td><td>-0.024134</td><td>-0.870311</td><td>0.07416</td><td>0.767075</td></tr><tr><td>&quot;SPY US Equity&quot;</td><td>&quot;QAI US Equity&quot;</td><td>0.300703</td><td>-0.015329</td><td>-0.619398</td><td>0.09209</td><td>0.752957</td></tr></tbody></table></div>"
      ]
     },
     "execution_count": 31,
     "metadata": {},
     "output_type": "execute_result"
    }
   ],
   "execution_count": 31
  },
  {
   "cell_type": "markdown",
   "id": "9dd139ed",
   "metadata": {},
   "source": [
    "## 4. \n",
    "\n",
    "Discuss the previous statistics, and what they tell us about...\n",
    "\n",
    "* the differences between SPY and the hedge-fund series?\n",
    "* which performs better between HDG and QAI.\n",
    "* whether HDG and the ML series capture the most notable properties of HFRI."
   ]
  },
  {
   "cell_type": "markdown",
   "id": "efc199e0",
   "metadata": {},
   "source": [
    "## 5. \n",
    "\n",
    "Report the correlation matrix for these assets.\n",
    "* Show the correlations as a heat map.\n",
    "* Which series have the highest and lowest correlations?"
   ]
  },
  {
   "metadata": {
    "ExecuteTime": {
     "end_time": "2025-10-20T17:49:46.641495Z",
     "start_time": "2025-10-20T17:49:45.883625Z"
    }
   },
   "cell_type": "code",
   "source": [
    "from finm367.plot_tools import plot_corr\n",
    "\n",
    "fig, ax = plot_corr(align_df.corr(), labels=align_df.columns)"
   ],
   "id": "3d6939da7fe600a8",
   "outputs": [
    {
     "data": {
      "text/plain": [
       "<Figure size 1000x800 with 2 Axes>"
      ],
      "image/png": "[encoded data removed]"
     },
     "metadata": {},
     "output_type": "display_data",
     "jetTransient": {
      "display_id": null
     }
    }
   ],
   "execution_count": 33
  },
  {
   "metadata": {
    "ExecuteTime": {
     "end_time": "2025-10-20T17:46:32.525971Z",
     "start_time": "2025-10-20T17:46:32.512207Z"
    }
   },
   "cell_type": "code",
   "source": "help(plot_corr)",
   "id": "1f09ee34d9abe11a",
   "outputs": [
    {
     "name": "stdout",
     "output_type": "stream",
     "text": [
      "Help on function plot_corr in module finm367.plot_tools:\n",
      "\n",
      "plot_corr(corr_matrix: polars.dataframe.frame.DataFrame, labels: Optional[List[str]], figsize: Tuple[int] = (10, 8), cmap: str = 'RdBu_r', annot: bool = True, fmt: str = '.0%', title: str = 'Correlation matrix (lower triangle)')\n",
      "    Plot a correlation matrix with circles highlighting max and min correlations.\n",
      "\n",
      "    Parameters:\n",
      "    -----------\n",
      "    corr_matrix : array-like\n",
      "        Correlation matrix (can be full or lower triangular)\n",
      "    labels : list, optional\n",
      "        List of labels for the axes\n",
      "    figsize : tuple, optional\n",
      "        Figure size (width, height)\n",
      "    cmap : str, optional\n",
      "        Colormap name\n",
      "    annot : bool, optional\n",
      "        Whether to annotate cells with values\n",
      "    fmt : str, optional\n",
      "        Format string for annotations (e.g., '.0%' for percentages)\n",
      "    title : str, optional\n",
      "        Plot title\n",
      "\n"
     ]
    }
   ],
   "execution_count": 26
  },
  {
   "cell_type": "markdown",
   "id": "f79554a0",
   "metadata": {},
   "source": [
    "## 6.\n",
    "\n",
    "Replicate HFRI with the six factors listed on the \"merrill factors\" tab. Include a constant, and run the unrestricted regression,\n",
    "\n",
    "$$\\begin{align}\n",
    "r^{\\text{hfri}}_{t} &= \\alpha^{\\text{merr}} + x_{t}^{\\text{merr}}\\beta^{\\text{merr}} + \\epsilon_{t}^{\\text{merr}}\\\\[5pt]\n",
    "\\hat{r}^{\\text{hfri}}_{t} &= \\hat{\\alpha}^{\\text{merr}} + x_{t}^{\\text{merr}}\\hat{\\beta}^{\\text{merr}}\n",
    "\\end{align}$$\n",
    "\n",
    "Note that the second equation is just our notation for the fitted replication.\n",
    "\n",
    "a. Report the intercept and betas.\n",
    "\n",
    "b. Are the betas realistic position sizes, or do they require huge long-short positions?\n",
    "\n",
    "c. Report the R-squared.\n",
    "\n",
    "d. Report the volatility of $\\epsilon^{\\text{merr}}$, the tracking error."
   ]
  },
  {
   "metadata": {
    "ExecuteTime": {
     "end_time": "2025-10-20T18:37:22.730696Z",
     "start_time": "2025-10-20T18:37:22.689031Z"
    }
   },
   "cell_type": "code",
   "source": [
    "from finm367.utils import *\n",
    "from dataclasses import dataclass\n",
    "target = monthly_ret[\"HFRIFWI Index\"]\n",
    "factors = only_numeric(align_mer)\n",
    "\n",
    "@dataclass\n",
    "class OLSReplication:\n",
    "    X: List[str]\n",
    "    y: str\n",
    "    alpha: float\n",
    "    betas: pl.Series\n",
    "    residuals: pl.Series\n",
    "    r2: float\n",
    "    tracking_error_ann: float\n",
    "\n",
    "\n",
    "def ols_replicate(target: pl.Series, factors: pl.DataFrame, freq: int) -> OLSReplication:\n",
    "    \"\"\"\n",
    "    Parameters\n",
    "    ----------\n",
    "    target: pl.Series\n",
    "    factors: pl.Series|pl.DataFrame\n",
    "\n",
    "    Returns\n",
    "    -------\n",
    "\n",
    "    \"\"\"\n",
    "    # Transform to numpy\n",
    "    y_data = target.to_numpy()\n",
    "    y_mean = np.mean(y_data)\n",
    "    if factors.shape[1] > 1:\n",
    "        X_data = factors.to_numpy()\n",
    "    else:\n",
    "        X_data = factors.to_numpy().reshape(-1, 1)\n",
    "\n",
    "    model = LinearRegression().fit(X_data, y_data)\n",
    "    alpha = model.intercept_\n",
    "    beta = model.coef_\n",
    "    y_pred = model.predict(X_data)\n",
    "    res = y_pred - y_data\n",
    "    # r squared\n",
    "    ss_tot = np.sum((y_data - y_mean) ** 2)\n",
    "    ss_res = np.sum(res ** 2)\n",
    "    r_squared = 1 - (ss_res / ss_tot)\n",
    "    # tracking error\n",
    "    te = np.std(res, ddof=1) * np.sqrt(freq)\n",
    "\n",
    "    return OLSReplication(X=factors.columns, y=target.name, alpha=alpha,\n",
    "                          betas=beta, residuals=res, r2=r_squared, tracking_error_ann=te)"
   ],
   "id": "b57b00bfd89efcbe",
   "outputs": [],
   "execution_count": 96
  },
  {
   "metadata": {
    "ExecuteTime": {
     "end_time": "2025-10-20T18:46:47.897575Z",
     "start_time": "2025-10-20T18:46:47.875333Z"
    }
   },
   "cell_type": "code",
   "source": "ols_replicate(target, factors, freq=12).betas",
   "id": "1bb7b31990ebea6",
   "outputs": [
    {
     "data": {
      "text/plain": [
       "array([0.04350278, 0.3249306 , 0.08556408, 0.0739944 , 0.02961414,\n",
       "       0.14582428])"
      ]
     },
     "execution_count": 105,
     "metadata": {},
     "output_type": "execute_result"
    }
   ],
   "execution_count": 105
  },
  {
   "cell_type": "markdown",
   "id": "9760f909",
   "metadata": {},
   "source": [
    "## 7.\n",
    "\n",
    "Let's examine the replication out-of-sample (OOS).\n",
    "\n",
    "Starting with $t = 61$ month of the sample, do the following:\n",
    "\n",
    "* Use the previous 60 months of data to estimate the regression equation. \n",
    "This gives time-t estimates of the regression parameters, $\\tilde{\\alpha}^{\\text{merr}}_{t}$ and $\\tilde{\\beta}^{\\text{merr}}_{t}$.\n",
    "\n",
    "* Use the estimated regression parameters, along with the time-t regressor values, $x^{\\text{merr}}_{t}$, calculate the time-t replication value that is, with respect to the regression estimate, built \"out-of-sample\" (OOS).\n",
    "\n",
    "$$\\hat{r}^{\\text{hfri}}_{t} \\equiv \\tilde{\\alpha}^{\\text{merr}} + (x_{t}^{\\text{merr}})'\\tilde{\\beta}^{\\text{merr}}$$\n",
    "\n",
    "* Step forward to $t = 62$, and now use $t = 2$ through $t = 61$ for the estimation. Re-run the steps above, and continue this process throughout the data series. Thus, we are running a rolling, 60-month regression for each point-in-time.\n",
    "\n",
    "How well does the out-of-sample replication perform with respect to the target?"
   ]
  },
  {
   "metadata": {
    "ExecuteTime": {
     "end_time": "2025-10-20T19:24:46.196677Z",
     "start_time": "2025-10-20T19:24:46.153576Z"
    }
   },
   "cell_type": "code",
   "source": [
    "y_data = target.to_numpy()\n",
    "y_mean = np.mean(y_data)\n",
    "if factors.shape[1] > 1:\n",
    "    X_data = factors.to_numpy()\n",
    "else:\n",
    "    X_data = factors.to_numpy().reshape(-1, 1)"
   ],
   "id": "40f0c71040bf6f9e",
   "outputs": [],
   "execution_count": 106
  },
  {
   "metadata": {
    "ExecuteTime": {
     "end_time": "2025-10-20T19:25:06.583517Z",
     "start_time": "2025-10-20T19:25:06.548919Z"
    }
   },
   "cell_type": "code",
   "source": "y_data.shape, X_data.shape",
   "id": "f36935c283c0a7df",
   "outputs": [
    {
     "data": {
      "text/plain": [
       "((169,), (169, 6))"
      ]
     },
     "execution_count": 108,
     "metadata": {},
     "output_type": "execute_result"
    }
   ],
   "execution_count": 108
  },
  {
   "metadata": {
    "ExecuteTime": {
     "end_time": "2025-10-20T19:44:29.858219Z",
     "start_time": "2025-10-20T19:44:29.554816Z"
    }
   },
   "cell_type": "code",
   "source": [
    "target_df = target.to_frame() if isinstance(target, pl.Series) else target\n",
    "concat_df = pl.concat([target_df, factors], how=\"horizontal\")\n",
    "t_name = target_df.columns[0]\n",
    "window = 60\n",
    "dates = df_polars[\"Date\"]\n",
    "cols = factors.columns\n",
    "oos = []\n",
    "\n",
    "for i in range(window, concat_df.shape[0]):\n",
    "    train = concat_df[i-window: i]\n",
    "    test = concat_df[i: i+1]\n",
    "    y_train = train[t_name]\n",
    "    X_train = train[cols].to_numpy()\n",
    "    model = LinearRegression().fit(X_train, y_train)\n",
    "    X_test = test[cols].to_numpy()\n",
    "    oos.append(model.predict(X_test)[0])\n"
   ],
   "id": "dcb46bf397a98a96",
   "outputs": [],
   "execution_count": 143
  },
  {
   "metadata": {
    "ExecuteTime": {
     "end_time": "2025-10-20T19:46:30.379714Z",
     "start_time": "2025-10-20T19:46:30.365082Z"
    }
   },
   "cell_type": "code",
   "source": "len(oos)",
   "id": "6ccf182256206c8e",
   "outputs": [
    {
     "data": {
      "text/plain": [
       "109"
      ]
     },
     "execution_count": 145,
     "metadata": {},
     "output_type": "execute_result"
    }
   ],
   "execution_count": 145
  },
  {
   "metadata": {
    "ExecuteTime": {
     "end_time": "2025-10-20T19:48:46.227066Z",
     "start_time": "2025-10-20T19:48:46.196587Z"
    }
   },
   "cell_type": "code",
   "source": "np.array(oos)",
   "id": "50c7fa4a661fbd6a",
   "outputs": [
    {
     "data": {
      "text/plain": [
       "array([ 0.00496643,  0.00500093, -0.00444873,  0.01165047,  0.00765007,\n",
       "        0.00950569,  0.01090168,  0.00718207,  0.00557485,  0.0052661 ,\n",
       "        0.0038369 ,  0.0071466 ,  0.00100149,  0.01100632,  0.00768087,\n",
       "        0.00634115,  0.00499314,  0.01799316, -0.01018007, -0.00150172,\n",
       "        0.00302216,  0.00609726, -0.00164144,  0.01182294,  0.00242947,\n",
       "        0.00047912, -0.02729255,  0.00617063, -0.02697871,  0.02776996,\n",
       "        0.00875776,  0.00244987,  0.01147585, -0.02227188,  0.02222476,\n",
       "       -0.00010835, -0.00862836,  0.00941009,  0.00993869,  0.00879415,\n",
       "        0.01328345, -0.00925108, -0.02391718, -0.05370421,  0.03712907,\n",
       "        0.01868769,  0.01400617,  0.01431127,  0.01947969, -0.01023721,\n",
       "       -0.00111083,  0.05369423,  0.02526516,  0.01024734,  0.01536601,\n",
       "        0.01074863,  0.0113665 ,  0.00815399,  0.00742131, -0.00689269,\n",
       "        0.01127059, -0.01197481,  0.01790058, -0.01326954,  0.01435399,\n",
       "       -0.02005422, -0.0037237 ,  0.00292521, -0.03092425,  0.00489267,\n",
       "       -0.02855562,  0.02738263, -0.01225497, -0.03983041,  0.02410061,\n",
       "        0.02888822, -0.0223228 ,  0.03206845, -0.01465018, -0.01084643,\n",
       "       -0.00600819, -0.00824163,  0.02271935,  0.01952459, -0.01966048,\n",
       "       -0.01637004, -0.01849177,  0.03030277,  0.03414661, -0.01195561,\n",
       "        0.01961998,  0.0138351 , -0.01327945,  0.01648843,  0.00334292,\n",
       "        0.02749378, -0.00057892,  0.01013653, -0.00399171,  0.02434205,\n",
       "       -0.0158796 ,  0.01277805, -0.00437559, -0.01299003,  0.00047132,\n",
       "        0.01806185,  0.02126691,  0.00697423,  0.02010654])"
      ]
     },
     "execution_count": 161,
     "metadata": {},
     "output_type": "execute_result"
    }
   ],
   "execution_count": 161
  },
  {
   "metadata": {
    "ExecuteTime": {
     "end_time": "2025-10-20T19:49:03.799087Z",
     "start_time": "2025-10-20T19:49:03.764295Z"
    }
   },
   "cell_type": "code",
   "source": "np.corrcoef(target_df[window:, t_name].to_numpy(), np.array(oos))[0, 1]",
   "id": "2c6417b377398b12",
   "outputs": [
    {
     "data": {
      "text/plain": [
       "np.float64(0.9013194707535669)"
      ]
     },
     "execution_count": 163,
     "metadata": {},
     "output_type": "execute_result"
    }
   ],
   "execution_count": 163
  },
  {
   "metadata": {
    "ExecuteTime": {
     "end_time": "2025-10-20T19:49:41.842112Z",
     "start_time": "2025-10-20T19:49:41.821178Z"
    }
   },
   "cell_type": "code",
   "source": "(target_df[window:, t_name].to_numpy() - np.array(oos)).std() * np.sqrt(12)",
   "id": "61310c043a1c95bd",
   "outputs": [
    {
     "data": {
      "text/plain": [
       "np.float64(0.027387712582859082)"
      ]
     },
     "execution_count": 164,
     "metadata": {},
     "output_type": "execute_result"
    }
   ],
   "execution_count": 164
  },
  {
   "metadata": {
    "ExecuteTime": {
     "end_time": "2025-10-20T21:03:21.964315Z",
     "start_time": "2025-10-20T21:03:21.741739Z"
    }
   },
   "cell_type": "code",
   "source": [
    "import matplotlib.pyplot as plt\n",
    "\n",
    "fig, ax = plt.subplots(figsize=(8,4))\n",
    "ax.plot((1+target_df[t_name][60:].to_numpy()).cumprod(), label='HFRI (actual)')\n",
    "ax.plot((1+np.array(oos)).cumprod(), label='Replication (OOS)')\n",
    "ax.set_title(\"Cumulative Returns: HFRI vs OOS Replication\")\n",
    "ax.legend()\n",
    "plt.show()"
   ],
   "id": "d4907e7610c78b3a",
   "outputs": [
    {
     "data": {
      "text/plain": [
       "<Figure size 800x400 with 1 Axes>"
      ],
      "image/png": "[encoded data removed]"
     },
     "metadata": {},
     "output_type": "display_data",
     "jetTransient": {
      "display_id": null
     }
    }
   ],
   "execution_count": 174
  },
  {
   "cell_type": "markdown",
   "id": "a442386f",
   "metadata": {},
   "source": [
    "---"
   ]
  },
  {
   "cell_type": "markdown",
   "id": "869e1690",
   "metadata": {},
   "source": [
    "# 3. EXTRA - Other Estimations"
   ]
  },
  {
   "cell_type": "markdown",
   "id": "71bba7f4",
   "metadata": {},
   "source": [
    "### 1.\n",
    "\n",
    "In `Section 2`, we estimated the replications using an intercept. Try the full-sample estimation, but this time without an intercept.\n",
    "\n",
    "$$\\begin{align}\n",
    "r^{\\text{hfri}}_{t} &= \\alpha^{merr} + x_{t}^{\\text{merr}}\\beta^{\\text{merr}} + \\epsilon_{t}^{\\text{merr}}\\\\[5pt]\n",
    "\\check{r}^{\\text{hfri}}_{t} &= \\check{\\alpha}^{\\text{merr}} + x_{t}^{\\text{merr}}\\check{\\beta}^{\\text{merr}}\n",
    "\\end{align}$$\n",
    "\n",
    "Report\n",
    "\n",
    "* the regression beta. How does it compare to the estimated beta with an intercept, $\\hat{\\beta}^{\\text{merr}}$?\n",
    "\n",
    "* the mean of the fitted value, $\\check{r}^{\\text{hfri}}_{t}$. How does it compare to the mean of the HFRI?\n",
    "\n",
    "* the correlations of the fitted values, $\\check{r}^{\\text{hfri}}_{t}$ to the HFRI. How does the correlation compare to that of the fitted values with an intercept, $\\hat{r}^{\\text{hfri}}_{t}$\n",
    "\n",
    "Do you think Merrill and ProShares fit their replicators with an intercept or not?"
   ]
  },
  {
   "cell_type": "markdown",
   "id": "d7d1e36e",
   "metadata": {},
   "source": [
    "### 2.\n",
    "\n",
    "Merrill constrains the weights of each asset in its replication regression of HFRI. Try constraining your weights by re-doing 2.6.\n",
    "\n",
    "* Use Non-Negative Least Squares (NNLS) instead of OLS.\n",
    "* Go further by using a Generalized Linear Model to put separate interval constraints on each beta, rather than simply constraining them to be non-negative.\n",
    "\n",
    "#### Hints\n",
    "* Try using LinearRegression in scikit-learn with the parameter `positive=True`. \n",
    "* Try using GLM in statsmodels."
   ]
  },
  {
   "cell_type": "markdown",
   "id": "cd20abf5",
   "metadata": {},
   "source": [
    "# 4. EXTRA - Other Decompositions"
   ]
  },
  {
   "cell_type": "markdown",
   "id": "88b13e96",
   "metadata": {},
   "source": [
    "### 1. \n",
    "\n",
    "Let's decompose a few other targets to see if they behave as their name suggests.\n",
    "\n",
    "* Regress HEFA on the same style factors used to decompose HFRI. Does HEFA appear to be a currency-hedged version of EFA?\n",
    "\n",
    "* Decompose TRVCI with the same style factors used to decompose HFRI. The TRVCI Index tracks venture capital funds--in terms of our styles, what best describes venture capital?\n",
    "\n",
    "* TAIL is an ETF that tracks SPY, but that also buys put options to protect against market downturns. Calculate the statistics in questions 2.1-2.3 for TAIL. Does it seem to behave as indicated by this description? That is, does it have high correlation to SPY while delivering lower tail risk?"
   ]
  },
  {
   "cell_type": "markdown",
   "id": "98543644",
   "metadata": {},
   "source": [
    "### 2. \n",
    "\n",
    "The ProShares case introduces Levered ETFs. ProShares made much of its name originally through levered, or \"geared\" ETFs.\n",
    "\n",
    "Explain conceptually why Levered ETFs may track their index well for a given day but diverge over time. How is this exacerbated in volatile periods like 2008?"
   ]
  },
  {
   "cell_type": "markdown",
   "id": "787f3b13",
   "metadata": {},
   "source": [
    "### 3.\n",
    "\n",
    "Analyze SPXU and UPRO relative to SPY.\n",
    "- SPXU is ProShares -3x SPX ETF.\n",
    "- UPRO is ProShres +3x SPX ETF.\n",
    "\n",
    "Questions:\n",
    "* Analyze them with the statistics from 2.1-2.3. \n",
    "\n",
    "* Do these two ETFs seem to live up to their names?\n",
    "\n",
    "* Plot the cumulative returns of both these ETFs along with SPY.\n",
    "\n",
    "* What do you conclude about levered ETFs?"
   ]
  },
  {
   "cell_type": "markdown",
   "id": "99322198",
   "metadata": {},
   "source": [
    "***"
   ]
  }
 ],
 "metadata": {
  "hide_input": false,
  "kernelspec": {
   "display_name": "finm",
   "language": "python",
   "name": "python3"
  },
  "language_info": {
   "codemirror_mode": {
    "name": "ipython",
    "version": 3
   },
   "file_extension": ".py",
   "mimetype": "text/x-python",
   "name": "python",
   "nbconvert_exporter": "python",
   "pygments_lexer": "ipython3",
   "version": "3.12.11"
  }
 },
 "nbformat": 4,
 "nbformat_minor": 5
}
