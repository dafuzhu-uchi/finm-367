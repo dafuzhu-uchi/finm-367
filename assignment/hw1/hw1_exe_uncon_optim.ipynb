{
  "cells": [
    {
      "cell_type": "markdown",
      "id": "a97c4251",
      "metadata": {},
      "source": [
        "# Exercise - Unconstrained Optimization"
      ]
    },
    {
      "cell_type": "markdown",
      "id": "5a5f8f1b",
      "metadata": {},
      "source": [
        "## Data"
      ]
    },
    {
      "cell_type": "markdown",
      "id": "88e17896",
      "metadata": {},
      "source": [
        "All the analysis below applies to the data set,\n",
        "* `data/spx_weekly_returns.xlsx`\n",
        "* The file has **weekly** returns.\n",
        "* For annualization, use 52 periods per year.\n",
        "\n",
        "Consider only the following 10 stocks..."
      ]
    },
    {
      "cell_type": "code",
      "execution_count": null,
      "id": "68508973",
      "metadata": {},
      "outputs": [],
      "source": [
        "TICKS =  ['AAPL','NVDA','MSFT','GOOGL','AMZN','META','TSLA','AVGO','BRK/B','LLY']"
      ]
    },
    {
      "cell_type": "markdown",
      "id": "cf43807d",
      "metadata": {},
      "source": [
        "As well as the ETF,"
      ]
    },
    {
      "cell_type": "code",
      "execution_count": null,
      "id": "f554749d",
      "metadata": {},
      "outputs": [],
      "source": [
        "TICK_ETF = 'SPY'"
      ]
    },
    {
      "cell_type": "markdown",
      "id": "97eb2c95",
      "metadata": {},
      "source": [
        "### Data Processing"
      ]
    },
    {
      "cell_type": "code",
      "execution_count": null,
      "id": "6f70cf9b",
      "metadata": {},
      "outputs": [],
      "source": [
        "import pandas as pd"
      ]
    },
    {
      "cell_type": "code",
      "execution_count": null,
      "id": "20c1857b",
      "metadata": {},
      "outputs": [],
      "source": [
        "INFILE = '../data/spx_returns_weekly.xlsx'\n",
        "SHEET_INFO = 's&p500 names'\n",
        "SHEET_RETURNS = 's&p500 rets'\n",
        "SHEET_BENCH = 'benchmark rets'\n",
        "\n",
        "FREQ = 52"
      ]
    },
    {
      "cell_type": "code",
      "execution_count": null,
      "id": "294e0bbb",
      "metadata": {},
      "outputs": [
        {
          "data": {
            "text/html": [
              "<div>\n",
              "<style scoped>\n",
              "    .dataframe tbody tr th:only-of-type {\n",
              "        vertical-align: middle;\n",
              "    }\n",
              "\n",
              "    .dataframe tbody tr th {\n",
              "        vertical-align: top;\n",
              "    }\n",
              "\n",
              "    .dataframe thead th {\n",
              "        text-align: right;\n",
              "    }\n",
              "</style>\n",
              "<table border=\"1\" class=\"dataframe\">\n",
              "  <thead>\n",
              "    <tr style=\"text-align: right;\">\n",
              "      <th></th>\n",
              "      <th>name</th>\n",
              "      <th>mkt cap</th>\n",
              "    </tr>\n",
              "    <tr>\n",
              "      <th>ticker</th>\n",
              "      <th></th>\n",
              "      <th></th>\n",
              "    </tr>\n",
              "  </thead>\n",
              "  <tbody>\n",
              "    <tr>\n",
              "      <th>AAPL</th>\n",
              "      <td>Apple Inc</td>\n",
              "      <td>3.008822e+12</td>\n",
              "    </tr>\n",
              "    <tr>\n",
              "      <th>NVDA</th>\n",
              "      <td>NVIDIA Corp</td>\n",
              "      <td>3.480172e+12</td>\n",
              "    </tr>\n",
              "    <tr>\n",
              "      <th>MSFT</th>\n",
              "      <td>Microsoft Corp</td>\n",
              "      <td>3.513735e+12</td>\n",
              "    </tr>\n",
              "    <tr>\n",
              "      <th>GOOGL</th>\n",
              "      <td>Alphabet Inc</td>\n",
              "      <td>2.145918e+12</td>\n",
              "    </tr>\n",
              "    <tr>\n",
              "      <th>AMZN</th>\n",
              "      <td>Amazon.com Inc</td>\n",
              "      <td>2.303536e+12</td>\n",
              "    </tr>\n",
              "    <tr>\n",
              "      <th>META</th>\n",
              "      <td>Meta Platforms Inc</td>\n",
              "      <td>1.745094e+12</td>\n",
              "    </tr>\n",
              "    <tr>\n",
              "      <th>TSLA</th>\n",
              "      <td>Tesla Inc</td>\n",
              "      <td>9.939227e+11</td>\n",
              "    </tr>\n",
              "    <tr>\n",
              "      <th>AVGO</th>\n",
              "      <td>Broadcom Inc</td>\n",
              "      <td>1.148592e+12</td>\n",
              "    </tr>\n",
              "    <tr>\n",
              "      <th>BRK/B</th>\n",
              "      <td>Berkshire Hathaway Inc</td>\n",
              "      <td>1.064240e+12</td>\n",
              "    </tr>\n",
              "    <tr>\n",
              "      <th>LLY</th>\n",
              "      <td>Eli Lilly &amp; Co</td>\n",
              "      <td>7.332726e+11</td>\n",
              "    </tr>\n",
              "  </tbody>\n",
              "</table>\n",
              "</div>"
            ],
            "text/plain": [
              "                          name       mkt cap\n",
              "ticker                                      \n",
              "AAPL                 Apple Inc  3.008822e+12\n",
              "NVDA               NVIDIA Corp  3.480172e+12\n",
              "MSFT            Microsoft Corp  3.513735e+12\n",
              "GOOGL             Alphabet Inc  2.145918e+12\n",
              "AMZN            Amazon.com Inc  2.303536e+12\n",
              "META        Meta Platforms Inc  1.745094e+12\n",
              "TSLA                 Tesla Inc  9.939227e+11\n",
              "AVGO              Broadcom Inc  1.148592e+12\n",
              "BRK/B   Berkshire Hathaway Inc  1.064240e+12\n",
              "LLY             Eli Lilly & Co  7.332726e+11"
            ]
          },
          "execution_count": 5,
          "metadata": {},
          "output_type": "execute_result"
        }
      ],
      "source": [
        "info = pd.read_excel(INFILE,sheet_name=SHEET_INFO)\n",
        "info.set_index('ticker',inplace=True)\n",
        "info.loc[TICKS]"
      ]
    },
    {
      "cell_type": "code",
      "execution_count": null,
      "id": "de28175f",
      "metadata": {},
      "outputs": [],
      "source": [
        "rets = pd.read_excel(INFILE,sheet_name=SHEET_RETURNS)\n",
        "rets.set_index('date',inplace=True)\n",
        "rets = rets[TICKS]"
      ]
    },
    {
      "cell_type": "code",
      "execution_count": null,
      "id": "ed1c38c5",
      "metadata": {},
      "outputs": [],
      "source": [
        "bench = pd.read_excel(INFILE,sheet_name=SHEET_BENCH)\n",
        "bench.set_index('date',inplace=True)\n",
        "rets[TICK_ETF] = bench[TICK_ETF]"
      ]
    },
    {
      "cell_type": "markdown",
      "id": "98f8af63",
      "metadata": {},
      "source": [
        "***"
      ]
    },
    {
      "cell_type": "markdown",
      "id": "d1614003",
      "metadata": {},
      "source": [
        "# 1. Risk Statistics"
      ]
    },
    {
      "cell_type": "markdown",
      "id": "463982b4",
      "metadata": {},
      "source": [
        "### 1.1."
      ]
    },
    {
      "cell_type": "markdown",
      "id": "92ac5247",
      "metadata": {},
      "source": [
        "Display a table with the following metrics for each of the return series.\n",
        "\n",
        "* mean (annualized)\n",
        "* volatility (annualized)\n",
        "* Sharpe ratio (annualized)\n",
        "* skewness\n",
        "* kurtosis\n",
        "* maximum drawdown\n",
        "\n",
        "#### Note\n",
        "We  have total returns, and Sharpe ratio is technically defined for excess returns. Don't worry about the difference. (Or subtract `SHV` if you prefer.)"
      ]
    },
    {
      "cell_type": "markdown",
      "id": "36d2edc7",
      "metadata": {},
      "source": [
        "### 1.2."
      ]
    },
    {
      "cell_type": "markdown",
      "id": "f6d20835",
      "metadata": {},
      "source": [
        "As a standalone investment, which is most attractive? And least? Justify your answer."
      ]
    },
    {
      "cell_type": "markdown",
      "id": "2caffeb4",
      "metadata": {},
      "source": [
        "### 1.3.\n",
        "\n",
        "For each investment, estimate a regression against `SPY`. Report the \n",
        "* alpha (annualized as a mean)\n",
        "* beta\n",
        "* info ratio\n",
        "* r-squared\n",
        "\n",
        "Based on this table, which investment seems most attractive relative to holding `SPY`?"
      ]
    },
    {
      "cell_type": "markdown",
      "id": "db9c263f",
      "metadata": {},
      "source": [
        "***"
      ]
    },
    {
      "cell_type": "markdown",
      "id": "20993764",
      "metadata": {},
      "source": [
        "# 2. Portfolio Allocation"
      ]
    },
    {
      "cell_type": "markdown",
      "id": "3b9f44d6",
      "metadata": {},
      "source": [
        "### 2.1.\n",
        "\n",
        "Display the correlation matrix of the returns.\n",
        "\n",
        "* Based on this information, which investment do you anticipate will get extra weight in the portfolio, beyond what it would merit for its mean return?\n",
        "\n",
        "* Report the maximally correlated assets and the minimally correlated assets."
      ]
    },
    {
      "cell_type": "markdown",
      "id": "a10c91c6",
      "metadata": {},
      "source": [
        "### 2.2.\n",
        "\n",
        "Calculate the weights of the mean-variance optimized portfolio, also called the tangency portfolio.\n",
        "\n",
        "* Display a table indexed by each investment, with the optimal weights in one column and the Sharpe ratios in another column.\n",
        "\n",
        "* Do the investments with the best Sharpe ratios tend to get the biggest weights?\n",
        "\n",
        "#### Note:\n",
        "To estimate the optimal weights, consider using the provided function below."
      ]
    },
    {
      "cell_type": "code",
      "execution_count": null,
      "id": "b9136a81",
      "metadata": {},
      "outputs": [],
      "source": [
        "def optimized_weights(returns,dropna=True,scale_cov=1):\n",
        "    if dropna:\n",
        "        returns = returns.dropna()\n",
        "\n",
        "    covmat_full = returns.cov()\n",
        "    covmat_diag = np.diag(np.diag(covmat_full))\n",
        "    covmat = scale_cov * covmat_full + (1-scale_cov) * covmat_diag\n",
        "\n",
        "    weights = np.linalg.solve(covmat,returns.mean())\n",
        "    weights = weights / weights.sum()\n",
        "\n",
        "    if returns.mean() @ weights < 0:\n",
        "        weights = -weights\n",
        "\n",
        "    return pd.DataFrame(weights, index=returns.columns)"
      ]
    },
    {
      "cell_type": "markdown",
      "id": "c25d9c7d",
      "metadata": {},
      "source": [
        "### 2.3.\n",
        "\n",
        "Report the following performance statistics of the portfolio achieved with the optimized weights calculated above.\n",
        "* mean\n",
        "* volatility\n",
        "* Sharpe\n",
        "\n",
        "(Annualize all three statistics.)"
      ]
    },
    {
      "cell_type": "markdown",
      "id": "96d3dddf",
      "metadata": {},
      "source": [
        "### 2.4.\n",
        "\n",
        "Try dropping the asset which had the biggest short position from the investment set. Re-run the optimization. What do you think of these new weights compared to the original optimized weights?\n",
        "\n",
        "What is going on?"
      ]
    },
    {
      "cell_type": "markdown",
      "id": "ee708089",
      "metadata": {},
      "source": [
        "****"
      ]
    }
  ],
  "metadata": {
    "hide_input": false,
    "kernelspec": {
      "display_name": "env-drw-2025",
      "language": "python",
      "name": "python3"
    },
    "language_info": {
      "codemirror_mode": {
        "name": "ipython",
        "version": 3
      },
      "file_extension": ".py",
      "mimetype": "text/x-python",
      "name": "python",
      "nbconvert_exporter": "python",
      "pygments_lexer": "ipython3",
      "version": "3.10.18"
    }
  },
  "nbformat": 4,
  "nbformat_minor": 5
}