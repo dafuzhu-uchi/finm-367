{
 "cells": [
  {
   "cell_type": "markdown",
   "id": "a97c4251",
   "metadata": {},
   "source": [
    "# Exercise - Unconstrained Optimization"
   ]
  },
  {
   "cell_type": "markdown",
   "id": "5a5f8f1b",
   "metadata": {},
   "source": [
    "## Data"
   ]
  },
  {
   "cell_type": "markdown",
   "id": "88e17896",
   "metadata": {},
   "source": [
    "All the analysis below applies to the data set,\n",
    "* `data/spx_weekly_returns.xlsx`\n",
    "* The file has **weekly** returns.\n",
    "* For annualization, use 52 periods per year.\n",
    "\n",
    "Consider only the following 10 stocks..."
   ]
  },
  {
   "cell_type": "code",
   "id": "bf14e7ba",
   "metadata": {
    "ExecuteTime": {
     "end_time": "2025-10-20T00:02:24.536177Z",
     "start_time": "2025-10-20T00:02:20.673434Z"
    }
   },
   "source": [
    "import polars as pl\n",
    "import numpy as np\n",
    "from pathlib import Path\n",
    "from typing import List, Literal\n",
    "from sklearn.linear_model import LinearRegression\n",
    "import altair as alt\n",
    "import matplotlib.pyplot as plt\n",
    "import sys\n",
    "sys.path.append(str(Path.cwd().parents[1] / \"src\"))\n",
    "from finm367.utils import print_sheetname, concat_with_labels, only_numeric\n",
    "from finm367.metrics import calc_moment, calc_max_dd, calc_cov\n",
    "from finm367.plot_tools import plot_corr, plot_bar\n",
    "\n",
    "DATA_PATH = Path.cwd().parents[1] / \"data\"\n",
    "FILE_PATH = DATA_PATH / \"spx_returns_weekly.xlsx\"\n",
    "FREQ = 52"
   ],
   "outputs": [],
   "execution_count": 1
  },
  {
   "cell_type": "code",
   "id": "71703714",
   "metadata": {
    "ExecuteTime": {
     "end_time": "2025-10-20T00:02:24.578910Z",
     "start_time": "2025-10-20T00:02:24.551338Z"
    }
   },
   "source": [
    "print_sheetname(FILE_PATH)"
   ],
   "outputs": [
    {
     "data": {
      "text/plain": [
       "['s&p500 names', 'benchmark names', 's&p500 rets', 'benchmark rets']"
      ]
     },
     "execution_count": 2,
     "metadata": {},
     "output_type": "execute_result"
    }
   ],
   "execution_count": 2
  },
  {
   "cell_type": "code",
   "id": "68508973",
   "metadata": {
    "ExecuteTime": {
     "end_time": "2025-10-20T00:02:24.599549Z",
     "start_time": "2025-10-20T00:02:24.596187Z"
    }
   },
   "source": [
    "TICKS =  ['AAPL','NVDA','MSFT','GOOGL','AMZN','META','TSLA','AVGO','BRK/B','LLY']"
   ],
   "outputs": [],
   "execution_count": 3
  },
  {
   "cell_type": "markdown",
   "id": "cf43807d",
   "metadata": {},
   "source": [
    "As well as the ETF,"
   ]
  },
  {
   "cell_type": "code",
   "id": "f554749d",
   "metadata": {
    "ExecuteTime": {
     "end_time": "2025-10-20T00:02:24.607630Z",
     "start_time": "2025-10-20T00:02:24.605064Z"
    }
   },
   "source": [
    "TICK_ETF = 'SPY'"
   ],
   "outputs": [],
   "execution_count": 4
  },
  {
   "cell_type": "markdown",
   "id": "97eb2c95",
   "metadata": {},
   "source": [
    "### Data Processing"
   ]
  },
  {
   "cell_type": "code",
   "id": "6f70cf9b",
   "metadata": {
    "ExecuteTime": {
     "end_time": "2025-10-20T00:02:24.618731Z",
     "start_time": "2025-10-20T00:02:24.616097Z"
    }
   },
   "source": [
    "import pandas as pd\n",
    "import polars as pl"
   ],
   "outputs": [],
   "execution_count": 5
  },
  {
   "cell_type": "code",
   "id": "20c1857b",
   "metadata": {
    "ExecuteTime": {
     "end_time": "2025-10-20T00:02:24.628685Z",
     "start_time": "2025-10-20T00:02:24.625807Z"
    }
   },
   "source": [
    "SHEET_INFO = 's&p500 names'\n",
    "SHEET_RETURNS = 's&p500 rets'\n",
    "SHEET_BENCH = 'benchmark rets'\n",
    "\n",
    "FREQ = 52"
   ],
   "outputs": [],
   "execution_count": 6
  },
  {
   "cell_type": "code",
   "id": "294e0bbb",
   "metadata": {
    "ExecuteTime": {
     "end_time": "2025-10-20T00:02:24.731814Z",
     "start_time": "2025-10-20T00:02:24.642088Z"
    }
   },
   "source": [
    "info = pd.read_excel(FILE_PATH,sheet_name=SHEET_INFO)\n",
    "info.set_index('ticker',inplace=True)\n",
    "info.loc[TICKS]"
   ],
   "outputs": [
    {
     "data": {
      "text/plain": [
       "                          name       mkt cap\n",
       "ticker                                      \n",
       "AAPL                 Apple Inc  3.008822e+12\n",
       "NVDA               NVIDIA Corp  3.480172e+12\n",
       "MSFT            Microsoft Corp  3.513735e+12\n",
       "GOOGL             Alphabet Inc  2.145918e+12\n",
       "AMZN            Amazon.com Inc  2.303536e+12\n",
       "META        Meta Platforms Inc  1.745094e+12\n",
       "TSLA                 Tesla Inc  9.939227e+11\n",
       "AVGO              Broadcom Inc  1.148592e+12\n",
       "BRK/B   Berkshire Hathaway Inc  1.064240e+12\n",
       "LLY             Eli Lilly & Co  7.332726e+11"
      ],
      "text/html": [
       "<div>\n",
       "<style scoped>\n",
       "    .dataframe tbody tr th:only-of-type {\n",
       "        vertical-align: middle;\n",
       "    }\n",
       "\n",
       "    .dataframe tbody tr th {\n",
       "        vertical-align: top;\n",
       "    }\n",
       "\n",
       "    .dataframe thead th {\n",
       "        text-align: right;\n",
       "    }\n",
       "</style>\n",
       "<table border=\"1\" class=\"dataframe\">\n",
       "  <thead>\n",
       "    <tr style=\"text-align: right;\">\n",
       "      <th></th>\n",
       "      <th>name</th>\n",
       "      <th>mkt cap</th>\n",
       "    </tr>\n",
       "    <tr>\n",
       "      <th>ticker</th>\n",
       "      <th></th>\n",
       "      <th></th>\n",
       "    </tr>\n",
       "  </thead>\n",
       "  <tbody>\n",
       "    <tr>\n",
       "      <th>AAPL</th>\n",
       "      <td>Apple Inc</td>\n",
       "      <td>3.008822e+12</td>\n",
       "    </tr>\n",
       "    <tr>\n",
       "      <th>NVDA</th>\n",
       "      <td>NVIDIA Corp</td>\n",
       "      <td>3.480172e+12</td>\n",
       "    </tr>\n",
       "    <tr>\n",
       "      <th>MSFT</th>\n",
       "      <td>Microsoft Corp</td>\n",
       "      <td>3.513735e+12</td>\n",
       "    </tr>\n",
       "    <tr>\n",
       "      <th>GOOGL</th>\n",
       "      <td>Alphabet Inc</td>\n",
       "      <td>2.145918e+12</td>\n",
       "    </tr>\n",
       "    <tr>\n",
       "      <th>AMZN</th>\n",
       "      <td>Amazon.com Inc</td>\n",
       "      <td>2.303536e+12</td>\n",
       "    </tr>\n",
       "    <tr>\n",
       "      <th>META</th>\n",
       "      <td>Meta Platforms Inc</td>\n",
       "      <td>1.745094e+12</td>\n",
       "    </tr>\n",
       "    <tr>\n",
       "      <th>TSLA</th>\n",
       "      <td>Tesla Inc</td>\n",
       "      <td>9.939227e+11</td>\n",
       "    </tr>\n",
       "    <tr>\n",
       "      <th>AVGO</th>\n",
       "      <td>Broadcom Inc</td>\n",
       "      <td>1.148592e+12</td>\n",
       "    </tr>\n",
       "    <tr>\n",
       "      <th>BRK/B</th>\n",
       "      <td>Berkshire Hathaway Inc</td>\n",
       "      <td>1.064240e+12</td>\n",
       "    </tr>\n",
       "    <tr>\n",
       "      <th>LLY</th>\n",
       "      <td>Eli Lilly &amp; Co</td>\n",
       "      <td>7.332726e+11</td>\n",
       "    </tr>\n",
       "  </tbody>\n",
       "</table>\n",
       "</div>"
      ]
     },
     "execution_count": 7,
     "metadata": {},
     "output_type": "execute_result"
    }
   ],
   "execution_count": 7
  },
  {
   "cell_type": "code",
   "id": "de28175f",
   "metadata": {
    "ExecuteTime": {
     "end_time": "2025-10-20T00:02:28.678864Z",
     "start_time": "2025-10-20T00:02:24.797063Z"
    }
   },
   "source": [
    "rets = pd.read_excel(FILE_PATH,sheet_name=SHEET_RETURNS)\n",
    "rets.set_index('date',inplace=True)\n",
    "rets = rets[TICKS]"
   ],
   "outputs": [],
   "execution_count": 8
  },
  {
   "cell_type": "code",
   "id": "ed1c38c5",
   "metadata": {
    "ExecuteTime": {
     "end_time": "2025-10-20T00:02:28.856065Z",
     "start_time": "2025-10-20T00:02:28.750125Z"
    }
   },
   "source": [
    "bench = pd.read_excel(FILE_PATH,sheet_name=SHEET_BENCH)\n",
    "bench.set_index('date',inplace=True)\n",
    "rets[TICK_ETF] = bench[TICK_ETF]"
   ],
   "outputs": [],
   "execution_count": 9
  },
  {
   "cell_type": "code",
   "id": "aef2f9fc",
   "metadata": {
    "ExecuteTime": {
     "end_time": "2025-10-20T00:02:28.956759Z",
     "start_time": "2025-10-20T00:02:28.883038Z"
    }
   },
   "source": [
    "# turn pandas df into polars\n",
    "rets = pl.DataFrame(rets.reset_index()).with_columns(pl.col(\"date\").cast(pl.Date))\n",
    "rets.head()"
   ],
   "outputs": [
    {
     "data": {
      "text/plain": [
       "shape: (5, 12)\n",
       "┌───────────┬───────────┬───────────┬───────────┬───┬───────────┬───────────┬───────────┬──────────┐\n",
       "│ date      ┆ AAPL      ┆ NVDA      ┆ MSFT      ┆ … ┆ AVGO      ┆ BRK/B     ┆ LLY       ┆ SPY      │\n",
       "│ ---       ┆ ---       ┆ ---       ┆ ---       ┆   ┆ ---       ┆ ---       ┆ ---       ┆ ---      │\n",
       "│ date      ┆ f64       ┆ f64       ┆ f64       ┆   ┆ f64       ┆ f64       ┆ f64       ┆ f64      │\n",
       "╞═══════════╪═══════════╪═══════════╪═══════════╪═══╪═══════════╪═══════════╪═══════════╪══════════╡\n",
       "│ 2015-01-0 ┆ 0.024514  ┆ -0.009315 ┆ 0.009195  ┆ … ┆ 0.047971  ┆ 0.002011  ┆ -0.001855 ┆ -0.00574 │\n",
       "│ 9         ┆           ┆           ┆           ┆   ┆           ┆           ┆           ┆ 4        │\n",
       "│ 2015-01-1 ┆ -0.053745 ┆ 0.000836  ┆ -0.020131 ┆ … ┆ -0.010268 ┆ -0.001739 ┆ 0.010726  ┆ -0.01282 │\n",
       "│ 6         ┆           ┆           ┆           ┆   ┆           ┆           ┆           ┆ 7        │\n",
       "│ 2015-01-2 ┆ 0.06595   ┆ 0.037578  ┆ 0.020329  ┆ … ┆ 0.0305    ┆ -0.000603 ┆ 0.020514  ┆ 0.016565 │\n",
       "│ 3         ┆           ┆           ┆           ┆   ┆           ┆           ┆           ┆          │\n",
       "│ 2015-01-3 ┆ 0.036997  ┆ -0.072636 ┆ -0.143706 ┆ … ┆ -0.038331 ┆ -0.034938 ┆ -0.001802 ┆ -0.02693 │\n",
       "│ 0         ┆           ┆           ┆           ┆   ┆           ┆           ┆           ┆ 1        │\n",
       "│ 2015-02-0 ┆ 0.019114  ┆ 0.062269  ┆ 0.049753  ┆ … ┆ 0.018037  ┆ 0.043569  ┆ -0.022778 ┆ 0.030584 │\n",
       "│ 6         ┆           ┆           ┆           ┆   ┆           ┆           ┆           ┆          │\n",
       "└───────────┴───────────┴───────────┴───────────┴───┴───────────┴───────────┴───────────┴──────────┘"
      ],
      "text/html": [
       "<div><style>\n",
       ".dataframe > thead > tr,\n",
       ".dataframe > tbody > tr {\n",
       "  text-align: right;\n",
       "  white-space: pre-wrap;\n",
       "}\n",
       "</style>\n",
       "<small>shape: (5, 12)</small><table border=\"1\" class=\"dataframe\"><thead><tr><th>date</th><th>AAPL</th><th>NVDA</th><th>MSFT</th><th>GOOGL</th><th>AMZN</th><th>META</th><th>TSLA</th><th>AVGO</th><th>BRK/B</th><th>LLY</th><th>SPY</th></tr><tr><td>date</td><td>f64</td><td>f64</td><td>f64</td><td>f64</td><td>f64</td><td>f64</td><td>f64</td><td>f64</td><td>f64</td><td>f64</td><td>f64</td></tr></thead><tbody><tr><td>2015-01-09</td><td>0.024514</td><td>-0.009315</td><td>0.009195</td><td>-0.054445</td><td>-0.037534</td><td>-0.009055</td><td>-0.057685</td><td>0.047971</td><td>0.002011</td><td>-0.001855</td><td>-0.005744</td></tr><tr><td>2015-01-16</td><td>-0.053745</td><td>0.000836</td><td>-0.020131</td><td>0.019448</td><td>-0.02088</td><td>-0.032931</td><td>-0.06576</td><td>-0.010268</td><td>-0.001739</td><td>0.010726</td><td>-0.012827</td></tr><tr><td>2015-01-23</td><td>0.06595</td><td>0.037578</td><td>0.020329</td><td>0.061685</td><td>0.074431</td><td>0.035255</td><td>0.042575</td><td>0.0305</td><td>-0.000603</td><td>0.020514</td><td>0.016565</td></tr><tr><td>2015-01-30</td><td>0.036997</td><td>-0.072636</td><td>-0.143706</td><td>-0.00813</td><td>0.1349</td><td>-0.024669</td><td>0.011476</td><td>-0.038331</td><td>-0.034938</td><td>-0.001802</td><td>-0.026931</td></tr><tr><td>2015-02-06</td><td>0.019114</td><td>0.062269</td><td>0.049753</td><td>-0.006812</td><td>0.055737</td><td>-0.018967</td><td>0.067589</td><td>0.018037</td><td>0.043569</td><td>-0.022778</td><td>0.030584</td></tr></tbody></table></div>"
      ]
     },
     "execution_count": 10,
     "metadata": {},
     "output_type": "execute_result"
    }
   ],
   "execution_count": 10
  },
  {
   "cell_type": "markdown",
   "id": "98f8af63",
   "metadata": {},
   "source": [
    "***"
   ]
  },
  {
   "cell_type": "markdown",
   "id": "d1614003",
   "metadata": {},
   "source": [
    "# 1. Risk Statistics"
   ]
  },
  {
   "cell_type": "markdown",
   "id": "463982b4",
   "metadata": {},
   "source": [
    "### 1.1."
   ]
  },
  {
   "cell_type": "markdown",
   "id": "92ac5247",
   "metadata": {},
   "source": [
    "Display a table with the following metrics for each of the return series.\n",
    "\n",
    "* mean (annualized)\n",
    "* volatility (annualized)\n",
    "* Sharpe ratio (annualized)\n",
    "* skewness\n",
    "* kurtosis\n",
    "* maximum drawdown\n",
    "\n",
    "#### Note\n",
    "We  have total returns, and Sharpe ratio is technically defined for excess returns. Don't worry about the difference. (Or subtract `SHV` if you prefer.)"
   ]
  },
  {
   "cell_type": "code",
   "id": "4bc1e454",
   "metadata": {
    "ExecuteTime": {
     "end_time": "2025-10-20T00:02:29.060340Z",
     "start_time": "2025-10-20T00:02:28.986297Z"
    }
   },
   "source": [
    "TICKS = rets.columns[1:]\n",
    "mu = rets[TICKS].mean() * FREQ\n",
    "vol = rets[TICKS].std() * np.sqrt(FREQ)\n",
    "sharpe = mu / vol\n",
    "skewness = calc_moment(rets, m=3)\n",
    "kurtosis = calc_moment(rets, m=4) - 3   # excess\n",
    "max_dd_list = []\n",
    "for tick in TICKS:\n",
    "    max_dd = calc_max_dd(rets, tick, date_col=\"date\")[\"max_drawdown\"]\n",
    "    max_dd_list.append(max_dd)\n",
    "max_dd = pl.DataFrame({\n",
    "    col: val for col, val in zip(TICKS, max_dd_list)\n",
    "})"
   ],
   "outputs": [],
   "execution_count": 11
  },
  {
   "cell_type": "code",
   "id": "5604a99c",
   "metadata": {
    "ExecuteTime": {
     "end_time": "2025-10-20T00:02:29.157688Z",
     "start_time": "2025-10-20T00:02:29.138821Z"
    }
   },
   "source": [
    "result = concat_with_labels({\n",
    "    \"mean\": mu, \"volatility\": vol, \"sharpe\": sharpe, \"skewness\": skewness, \"kurtosis\": kurtosis, \"max_drawdown\": max_dd\n",
    "})"
   ],
   "outputs": [],
   "execution_count": 12
  },
  {
   "cell_type": "code",
   "id": "b3335025",
   "metadata": {
    "ExecuteTime": {
     "end_time": "2025-10-20T00:02:29.380983Z",
     "start_time": "2025-10-20T00:02:29.368715Z"
    }
   },
   "source": [
    "result"
   ],
   "outputs": [
    {
     "data": {
      "text/plain": [
       "shape: (6, 12)\n",
       "┌───────────┬───────────┬───────────┬───────────┬───┬───────────┬───────────┬───────────┬──────────┐\n",
       "│ statistic ┆ AAPL      ┆ NVDA      ┆ MSFT      ┆ … ┆ AVGO      ┆ BRK/B     ┆ LLY       ┆ SPY      │\n",
       "│ ---       ┆ ---       ┆ ---       ┆ ---       ┆   ┆ ---       ┆ ---       ┆ ---       ┆ ---      │\n",
       "│ str       ┆ f64       ┆ f64       ┆ f64       ┆   ┆ f64       ┆ f64       ┆ f64       ┆ f64      │\n",
       "╞═══════════╪═══════════╪═══════════╪═══════════╪═══╪═══════════╪═══════════╪═══════════╪══════════╡\n",
       "│ mean      ┆ 0.238714  ┆ 0.64558   ┆ 0.261402  ┆ … ┆ 0.394854  ┆ 0.135025  ┆ 0.281542  ┆ 0.131264 │\n",
       "│ volatilit ┆ 0.276629  ┆ 0.463283  ┆ 0.23998   ┆ … ┆ 0.375132  ┆ 0.190654  ┆ 0.28298   ┆ 0.170877 │\n",
       "│ y         ┆           ┆           ┆           ┆   ┆           ┆           ┆           ┆          │\n",
       "│ sharpe    ┆ 0.862938  ┆ 1.39349   ┆ 1.089266  ┆ … ┆ 1.052574  ┆ 0.708223  ┆ 0.994919  ┆ 0.768182 │\n",
       "│ skewness  ┆ -0.217776 ┆ 0.343469  ┆ 0.071882  ┆ … ┆ 0.659669  ┆ -0.200114 ┆ 0.215223  ┆ -0.57667 │\n",
       "│           ┆           ┆           ┆           ┆   ┆           ┆           ┆           ┆ 6        │\n",
       "│ kurtosis  ┆ 1.789172  ┆ 1.357184  ┆ 2.299157  ┆ … ┆ 3.448352  ┆ 2.468885  ┆ 1.648058  ┆ 5.913492 │\n",
       "│ max_drawd ┆ -0.346408 ┆ -0.659362 ┆ -0.350539 ┆ … ┆ -0.400357 ┆ -0.26477  ┆ -0.252524 ┆ -0.31829 │\n",
       "│ own       ┆           ┆           ┆           ┆   ┆           ┆           ┆           ┆ 1        │\n",
       "└───────────┴───────────┴───────────┴───────────┴───┴───────────┴───────────┴───────────┴──────────┘"
      ],
      "text/html": [
       "<div><style>\n",
       ".dataframe > thead > tr,\n",
       ".dataframe > tbody > tr {\n",
       "  text-align: right;\n",
       "  white-space: pre-wrap;\n",
       "}\n",
       "</style>\n",
       "<small>shape: (6, 12)</small><table border=\"1\" class=\"dataframe\"><thead><tr><th>statistic</th><th>AAPL</th><th>NVDA</th><th>MSFT</th><th>GOOGL</th><th>AMZN</th><th>META</th><th>TSLA</th><th>AVGO</th><th>BRK/B</th><th>LLY</th><th>SPY</th></tr><tr><td>str</td><td>f64</td><td>f64</td><td>f64</td><td>f64</td><td>f64</td><td>f64</td><td>f64</td><td>f64</td><td>f64</td><td>f64</td><td>f64</td></tr></thead><tbody><tr><td>&quot;mean&quot;</td><td>0.238714</td><td>0.64558</td><td>0.261402</td><td>0.2168</td><td>0.293447</td><td>0.261924</td><td>0.469754</td><td>0.394854</td><td>0.135025</td><td>0.281542</td><td>0.131264</td></tr><tr><td>&quot;volatility&quot;</td><td>0.276629</td><td>0.463283</td><td>0.23998</td><td>0.279851</td><td>0.306</td><td>0.351336</td><td>0.586431</td><td>0.375132</td><td>0.190654</td><td>0.28298</td><td>0.170877</td></tr><tr><td>&quot;sharpe&quot;</td><td>0.862938</td><td>1.39349</td><td>1.089266</td><td>0.774698</td><td>0.958976</td><td>0.745509</td><td>0.801039</td><td>1.052574</td><td>0.708223</td><td>0.994919</td><td>0.768182</td></tr><tr><td>&quot;skewness&quot;</td><td>-0.217776</td><td>0.343469</td><td>0.071882</td><td>0.580765</td><td>0.063055</td><td>0.052232</td><td>0.545512</td><td>0.659669</td><td>-0.200114</td><td>0.215223</td><td>-0.576676</td></tr><tr><td>&quot;kurtosis&quot;</td><td>1.789172</td><td>1.357184</td><td>2.299157</td><td>3.663137</td><td>1.745295</td><td>3.962588</td><td>1.560033</td><td>3.448352</td><td>2.468885</td><td>1.648058</td><td>5.913492</td></tr><tr><td>&quot;max_drawdown&quot;</td><td>-0.346408</td><td>-0.659362</td><td>-0.350539</td><td>-0.41864</td><td>-0.548307</td><td>-0.760252</td><td>-0.722459</td><td>-0.400357</td><td>-0.26477</td><td>-0.252524</td><td>-0.318291</td></tr></tbody></table></div>"
      ]
     },
     "execution_count": 13,
     "metadata": {},
     "output_type": "execute_result"
    }
   ],
   "execution_count": 13
  },
  {
   "cell_type": "markdown",
   "id": "36d2edc7",
   "metadata": {},
   "source": [
    "### 1.2."
   ]
  },
  {
   "cell_type": "markdown",
   "id": "f6d20835",
   "metadata": {},
   "source": [
    "As a standalone investment, which is most attractive? And least? Justify your answer."
   ]
  },
  {
   "cell_type": "markdown",
   "id": "2caffeb4",
   "metadata": {},
   "source": [
    "### 1.3.\n",
    "\n",
    "For each investment, estimate a regression against `SPY`. Report the \n",
    "* alpha (annualized as a mean)\n",
    "* beta\n",
    "* info ratio\n",
    "* r-squared\n",
    "\n",
    "Based on this table, which investment seems most attractive relative to holding `SPY`?"
   ]
  },
  {
   "cell_type": "code",
   "id": "fb5e95c9",
   "metadata": {
    "ExecuteTime": {
     "end_time": "2025-10-20T00:02:29.683342Z",
     "start_time": "2025-10-20T00:02:29.644539Z"
    }
   },
   "source": [
    "def calc_regression_metrics(\n",
    "    data: pl.DataFrame,\n",
    "    X: str | List[str],\n",
    "    y: str,\n",
    "    metrics: List[str] | Literal[\"all\"] = \"all\",\n",
    "    freq: int = 52\n",
    ") -> pl.DataFrame:\n",
    "    \"\"\"\n",
    "    Calculate regression metrics for y regressed on X.\n",
    "    \n",
    "    For single X (bivariate): returns alpha, beta, info_ratio, r_squared\n",
    "    For multiple X (multivariate): returns betas only (no alpha, IR, R²)\n",
    "    \n",
    "    Parameters\n",
    "    ----------\n",
    "    data : pl.DataFrame\n",
    "        DataFrame containing return data\n",
    "    X : str or List[str]\n",
    "        Independent variable(s) - column name(s) for predictor(s)\n",
    "    y : str\n",
    "        Dependent variable - column name for outcome\n",
    "    metrics : List[str] or \"all\", default \"all\"\n",
    "        Metrics to calculate. Options: [\"alpha\", \"beta\", \"info_ratio\", \"r_squared\"]\n",
    "        Use \"all\" for all metrics (only works with single X)\n",
    "    freq : int, default 52\n",
    "        Number of periods per year for annualization (52 for weekly, 252 for daily)\n",
    "    \n",
    "    Returns\n",
    "    -------\n",
    "    pl.DataFrame\n",
    "        DataFrame with requested regression metrics\n",
    "        - For single X: one row with all metrics\n",
    "        - For multiple X: one row per X variable with beta values\n",
    "    \"\"\"\n",
    "    data = data.select(pl.col(pl.Float64))\n",
    "\n",
    "    # Extract y data\n",
    "    y_data = data.select(pl.col(y)).to_numpy().reshape(-1, 1)\n",
    "    y_name = y\n",
    "    \n",
    "    # Handle single vs multiple X\n",
    "    is_multivariate = isinstance(X, list) and len(X) > 1\n",
    "    \n",
    "    if isinstance(X, str):\n",
    "        # Single X (bivariate regression)\n",
    "        X_data = data.select(pl.col(X)).to_numpy().reshape(-1, 1)\n",
    "        X_names = [X]\n",
    "    elif isinstance(X, list):\n",
    "        # Multiple X\n",
    "        X_data = data.select(X).to_numpy()\n",
    "        X_names = X\n",
    "    else:\n",
    "        raise TypeError(f\"X must be str or List[str], got {type(X)}\")\n",
    "    \n",
    "    # Fit regression\n",
    "    model = LinearRegression().fit(X_data, y_data)\n",
    "    \n",
    "    # Get coefficients\n",
    "    if X_data.shape[1] == 1:    # bivariate\n",
    "        betas = [model.coef_[0][0]]\n",
    "    else:\n",
    "        betas = model.coef_[0].tolist()\n",
    "    \n",
    "    # For multivariate, only return betas\n",
    "    if is_multivariate:\n",
    "        result_df = pl.DataFrame({\n",
    "            \"Ticker\": X_names,\n",
    "            f\"Beta_{y}\": betas\n",
    "        })\n",
    "        return result_df\n",
    "    \n",
    "    # For bivariate, calculate all requested metrics\n",
    "    result_dict = {}\n",
    "    \n",
    "    # Determine which metrics to calculate\n",
    "    if metrics == \"all\":\n",
    "        metrics_to_calc = [\"alpha\", \"beta\", \"info_ratio\", \"r_squared\"]\n",
    "    else:\n",
    "        metrics_to_calc = metrics\n",
    "    \n",
    "    # Calculate beta (always needed)\n",
    "    beta = betas[0]\n",
    "    \n",
    "    if \"beta\" in metrics_to_calc:\n",
    "        result_dict[\"beta\"] = beta\n",
    "    \n",
    "    if any(m in metrics_to_calc for m in [\"alpha\", \"info_ratio\", \"r_squared\"]):\n",
    "        # Get predictions and residuals\n",
    "        y_pred = model.predict(X_data)\n",
    "        residuals = y_data - y_pred\n",
    "        \n",
    "        # Alpha\n",
    "        alpha_per_period = model.intercept_[0]\n",
    "        alpha_annualized = alpha_per_period * freq\n",
    "        \n",
    "        if \"alpha\" in metrics_to_calc:\n",
    "            result_dict[\"alpha\"] = alpha_annualized\n",
    "        \n",
    "        # Information ratio\n",
    "        if \"info_ratio\" in metrics_to_calc:\n",
    "            residual_std = np.std(residuals, ddof=1)\n",
    "            if residual_std:\n",
    "                info_ratio = alpha_annualized / (residual_std * np.sqrt(freq))\n",
    "            else:\n",
    "                info_ratio = None\n",
    "            result_dict[\"info_ratio\"] = info_ratio\n",
    "        \n",
    "        # R-squared\n",
    "        if \"r_squared\" in metrics_to_calc:\n",
    "            y_mean = np.mean(y_data)\n",
    "            ss_tot = np.sum((y_data - y_mean) ** 2)\n",
    "            ss_res = np.sum(residuals ** 2)\n",
    "            r_squared = 1 - (ss_res / ss_tot)\n",
    "            result_dict[\"r_squared\"] = r_squared\n",
    "    \n",
    "    # Add ticker name\n",
    "    result_dict = {\"X\": X_names[0], \"y\": y_name, **result_dict}\n",
    "    \n",
    "    # Create single-row DataFrame\n",
    "    result_df = pl.DataFrame([result_dict])\n",
    "    \n",
    "    return result_df\n",
    "\n",
    "\n",
    "def calc_regression_metrics_batch(\n",
    "    data: pl.DataFrame,\n",
    "    X: str,\n",
    "    y_cols: List[str],\n",
    "    metrics: List[str] | Literal[\"all\"] = \"all\",\n",
    "    periods_per_year: int = 52\n",
    ") -> pl.DataFrame:\n",
    "    \"\"\"\n",
    "    Calculate regression metrics for multiple y variables against a single X.\n",
    "    Useful for analyzing multiple assets against a benchmark.\n",
    "    \n",
    "    Parameters\n",
    "    ----------\n",
    "    data : pl.DataFrame\n",
    "        DataFrame containing return data\n",
    "    X : str\n",
    "        Independent variable - column name for predictor (e.g., \"SPY\")\n",
    "    y_cols : List[str]\n",
    "        List of dependent variables - column names for outcomes (e.g., [\"AAPL\", \"NVDA\"])\n",
    "    metrics : List[str] or \"all\", default \"all\"\n",
    "        Metrics to calculate. Options: [\"alpha\", \"beta\", \"info_ratio\", \"r_squared\"]\n",
    "    periods_per_year : int, default 52\n",
    "        Number of periods per year for annualization\n",
    "    \n",
    "    Returns\n",
    "    -------\n",
    "    pl.DataFrame\n",
    "        DataFrame with one row per y variable, containing all requested metrics\n",
    "    \"\"\"\n",
    "    results = []\n",
    "    \n",
    "    for y_col in y_cols:\n",
    "        result = calc_regression_metrics(\n",
    "            data=data,\n",
    "            X=X,\n",
    "            y=y_col,\n",
    "            metrics=metrics,\n",
    "            freq=periods_per_year\n",
    "        )\n",
    "        results.append(result)\n",
    "    \n",
    "    # Concatenate all results\n",
    "    final_df = pl.concat(results, how=\"vertical\")\n",
    "    \n",
    "    return final_df"
   ],
   "outputs": [],
   "execution_count": 14
  },
  {
   "cell_type": "code",
   "id": "39638a44",
   "metadata": {
    "ExecuteTime": {
     "end_time": "2025-10-20T00:02:29.934399Z",
     "start_time": "2025-10-20T00:02:29.840628Z"
    }
   },
   "source": [
    "calc_regression_metrics_batch(\n",
    "    rets, \"SPY\", TICKS, \"all\", FREQ\n",
    ")"
   ],
   "outputs": [
    {
     "data": {
      "text/plain": [
       "shape: (11, 6)\n",
       "┌─────┬───────┬──────────┬──────────┬────────────┬───────────┐\n",
       "│ X   ┆ y     ┆ beta     ┆ alpha    ┆ info_ratio ┆ r_squared │\n",
       "│ --- ┆ ---   ┆ ---      ┆ ---      ┆ ---        ┆ ---       │\n",
       "│ str ┆ str   ┆ f64      ┆ f64      ┆ f64        ┆ f64       │\n",
       "╞═════╪═══════╪══════════╪══════════╪════════════╪═══════════╡\n",
       "│ SPY ┆ AAPL  ┆ 1.113225 ┆ 0.092587 ┆ 0.460988   ┆ 0.472864  │\n",
       "│ SPY ┆ NVDA  ┆ 1.735395 ┆ 0.417785 ┆ 1.173737   ┆ 0.409703  │\n",
       "│ SPY ┆ MSFT  ┆ 1.031545 ┆ 0.125997 ┆ 0.773696   ┆ 0.539501  │\n",
       "│ SPY ┆ GOOGL ┆ 1.066242 ┆ 0.07684  ┆ 0.361742   ┆ 0.423861  │\n",
       "│ SPY ┆ AMZN  ┆ 1.06629  ┆ 0.153481 ┆ 0.624309   ┆ 0.354546  │\n",
       "│ …   ┆ …     ┆ …        ┆ …        ┆ …          ┆ …         │\n",
       "│ SPY ┆ TSLA  ┆ 1.762157 ┆ 0.238446 ┆ 0.473837   ┆ 0.263646  │\n",
       "│ SPY ┆ AVGO  ┆ 1.357018 ┆ 0.216726 ┆ 0.734963   ┆ 0.382092  │\n",
       "│ SPY ┆ BRK/B ┆ 0.817041 ┆ 0.027777 ┆ 0.213941   ┆ 0.536244  │\n",
       "│ SPY ┆ LLY   ┆ 0.626554 ┆ 0.199298 ┆ 0.760839   ┆ 0.143143  │\n",
       "│ SPY ┆ SPY   ┆ 1.0      ┆ 0.0      ┆ null       ┆ 1.0       │\n",
       "└─────┴───────┴──────────┴──────────┴────────────┴───────────┘"
      ],
      "text/html": [
       "<div><style>\n",
       ".dataframe > thead > tr,\n",
       ".dataframe > tbody > tr {\n",
       "  text-align: right;\n",
       "  white-space: pre-wrap;\n",
       "}\n",
       "</style>\n",
       "<small>shape: (11, 6)</small><table border=\"1\" class=\"dataframe\"><thead><tr><th>X</th><th>y</th><th>beta</th><th>alpha</th><th>info_ratio</th><th>r_squared</th></tr><tr><td>str</td><td>str</td><td>f64</td><td>f64</td><td>f64</td><td>f64</td></tr></thead><tbody><tr><td>&quot;SPY&quot;</td><td>&quot;AAPL&quot;</td><td>1.113225</td><td>0.092587</td><td>0.460988</td><td>0.472864</td></tr><tr><td>&quot;SPY&quot;</td><td>&quot;NVDA&quot;</td><td>1.735395</td><td>0.417785</td><td>1.173737</td><td>0.409703</td></tr><tr><td>&quot;SPY&quot;</td><td>&quot;MSFT&quot;</td><td>1.031545</td><td>0.125997</td><td>0.773696</td><td>0.539501</td></tr><tr><td>&quot;SPY&quot;</td><td>&quot;GOOGL&quot;</td><td>1.066242</td><td>0.07684</td><td>0.361742</td><td>0.423861</td></tr><tr><td>&quot;SPY&quot;</td><td>&quot;AMZN&quot;</td><td>1.06629</td><td>0.153481</td><td>0.624309</td><td>0.354546</td></tr><tr><td>&hellip;</td><td>&hellip;</td><td>&hellip;</td><td>&hellip;</td><td>&hellip;</td><td>&hellip;</td></tr><tr><td>&quot;SPY&quot;</td><td>&quot;TSLA&quot;</td><td>1.762157</td><td>0.238446</td><td>0.473837</td><td>0.263646</td></tr><tr><td>&quot;SPY&quot;</td><td>&quot;AVGO&quot;</td><td>1.357018</td><td>0.216726</td><td>0.734963</td><td>0.382092</td></tr><tr><td>&quot;SPY&quot;</td><td>&quot;BRK/B&quot;</td><td>0.817041</td><td>0.027777</td><td>0.213941</td><td>0.536244</td></tr><tr><td>&quot;SPY&quot;</td><td>&quot;LLY&quot;</td><td>0.626554</td><td>0.199298</td><td>0.760839</td><td>0.143143</td></tr><tr><td>&quot;SPY&quot;</td><td>&quot;SPY&quot;</td><td>1.0</td><td>0.0</td><td>null</td><td>1.0</td></tr></tbody></table></div>"
      ]
     },
     "execution_count": 15,
     "metadata": {},
     "output_type": "execute_result"
    }
   ],
   "execution_count": 15
  },
  {
   "cell_type": "markdown",
   "id": "db9c263f",
   "metadata": {},
   "source": [
    "***"
   ]
  },
  {
   "cell_type": "markdown",
   "id": "20993764",
   "metadata": {},
   "source": [
    "# 2. Portfolio Allocation"
   ]
  },
  {
   "cell_type": "markdown",
   "id": "3b9f44d6",
   "metadata": {},
   "source": [
    "### 2.1.\n",
    "\n",
    "Display the correlation matrix of the returns.\n",
    "\n",
    "* Based on this information, which investment do you anticipate will get extra weight in the portfolio, beyond what it would merit for its mean return?\n",
    "\n",
    "* Report the maximally correlated assets and the minimally correlated assets."
   ]
  },
  {
   "cell_type": "code",
   "id": "0a5a8b43",
   "metadata": {
    "ExecuteTime": {
     "end_time": "2025-10-20T00:02:30.088040Z",
     "start_time": "2025-10-20T00:02:30.076237Z"
    }
   },
   "source": [
    "rets_corr = rets.select(pl.col(pl.Float64)).corr()"
   ],
   "outputs": [],
   "execution_count": 16
  },
  {
   "cell_type": "code",
   "id": "78f8a1f1",
   "metadata": {
    "ExecuteTime": {
     "end_time": "2025-10-20T00:02:30.960729Z",
     "start_time": "2025-10-20T00:02:30.315905Z"
    }
   },
   "source": [
    "fig, ax = plot_corr(rets_corr, labels=TICKS)\n",
    "plt.show()"
   ],
   "outputs": [
    {
     "data": {
      "text/plain": [
       "<Figure size 1000x800 with 2 Axes>"
      ],
      "image/png": "[encoded data removed]"
     },
     "metadata": {},
     "output_type": "display_data",
     "jetTransient": {
      "display_id": null
     }
    }
   ],
   "execution_count": 17
  },
  {
   "cell_type": "markdown",
   "id": "a10c91c6",
   "metadata": {},
   "source": [
    "### 2.2.\n",
    "\n",
    "Calculate the weights of the mean-variance optimized portfolio, also called the tangency portfolio.\n",
    "\n",
    "* Display a table indexed by each investment, with the optimal weights in one column and the Sharpe ratios in another column.\n",
    "\n",
    "* Do the investments with the best Sharpe ratios tend to get the biggest weights?\n",
    "\n",
    "#### Note:\n",
    "To estimate the optimal weights, consider using the provided function below."
   ]
  },
  {
   "cell_type": "code",
   "id": "b9136a81",
   "metadata": {
    "ExecuteTime": {
     "end_time": "2025-10-20T00:14:45.232894Z",
     "start_time": "2025-10-20T00:14:45.213967Z"
    }
   },
   "source": [
    "def optim_weights(\n",
    "    returns: pl.DataFrame,\n",
    "    dropna: bool=True,\n",
    "    scale_cov: int=1,\n",
    "    type: str=\"uncon\"\n",
    ") -> pl.DataFrame:\n",
    "    \"\"\"\n",
    "    Mean-variance optimization for weights\n",
    "\n",
    "    Parameters\n",
    "    -----------\n",
    "    returns : asset return dataframe\n",
    "    dropna : bool\n",
    "    scale_cov : all solutions are just rescaling of one\n",
    "    type : \"uncon\" or \"con\"\n",
    "    \"\"\"\n",
    "    returns = only_numeric(returns)\n",
    "    if dropna:\n",
    "        returns = returns.drop_nulls()\n",
    "\n",
    "    covmat_full = calc_cov(returns)\n",
    "    covmat_diag = np.diag(np.diag(covmat_full))\n",
    "    covmat = scale_cov * covmat_full.to_numpy() + (1 - scale_cov) * covmat_diag\n",
    "\n",
    "    weights = np.linalg.solve(covmat, returns.mean().to_numpy().reshape(-1, 1))\n",
    "    weights = weights / weights.sum()\n",
    "\n",
    "    if returns.mean() @ weights < 0:\n",
    "        weights = -weights\n",
    "\n",
    "    return pl.DataFrame({\n",
    "        col: weights[i] for i, col in enumerate(returns.columns)\n",
    "    })"
   ],
   "outputs": [],
   "execution_count": 22
  },
  {
   "cell_type": "code",
   "id": "8c496afd",
   "metadata": {
    "ExecuteTime": {
     "end_time": "2025-10-20T00:14:46.324482Z",
     "start_time": "2025-10-20T00:14:46.243479Z"
    }
   },
   "source": "w_optim = optim_weights(rets)",
   "outputs": [],
   "execution_count": 23
  },
  {
   "metadata": {
    "ExecuteTime": {
     "end_time": "2025-10-20T00:14:46.775928Z",
     "start_time": "2025-10-20T00:14:46.759452Z"
    }
   },
   "cell_type": "code",
   "source": "w_optim",
   "id": "b878e095cfc68802",
   "outputs": [
    {
     "data": {
      "text/plain": [
       "shape: (1, 11)\n",
       "┌──────────┬──────────┬──────────┬──────────┬───┬──────────┬──────────┬─────────┬───────────┐\n",
       "│ AAPL     ┆ NVDA     ┆ MSFT     ┆ GOOGL    ┆ … ┆ AVGO     ┆ BRK/B    ┆ LLY     ┆ SPY       │\n",
       "│ ---      ┆ ---      ┆ ---      ┆ ---      ┆   ┆ ---      ┆ ---      ┆ ---     ┆ ---       │\n",
       "│ f64      ┆ f64      ┆ f64      ┆ f64      ┆   ┆ f64      ┆ f64      ┆ f64     ┆ f64       │\n",
       "╞══════════╪══════════╪══════════╪══════════╪═══╪══════════╪══════════╪═════════╪═══════════╡\n",
       "│ 0.409367 ┆ 0.882896 ┆ 0.848584 ┆ 0.193126 ┆ … ┆ 0.601896 ┆ 2.580474 ┆ 1.11263 ┆ -6.642887 │\n",
       "└──────────┴──────────┴──────────┴──────────┴───┴──────────┴──────────┴─────────┴───────────┘"
      ],
      "text/html": [
       "<div><style>\n",
       ".dataframe > thead > tr,\n",
       ".dataframe > tbody > tr {\n",
       "  text-align: right;\n",
       "  white-space: pre-wrap;\n",
       "}\n",
       "</style>\n",
       "<small>shape: (1, 11)</small><table border=\"1\" class=\"dataframe\"><thead><tr><th>AAPL</th><th>NVDA</th><th>MSFT</th><th>GOOGL</th><th>AMZN</th><th>META</th><th>TSLA</th><th>AVGO</th><th>BRK/B</th><th>LLY</th><th>SPY</th></tr><tr><td>f64</td><td>f64</td><td>f64</td><td>f64</td><td>f64</td><td>f64</td><td>f64</td><td>f64</td><td>f64</td><td>f64</td><td>f64</td></tr></thead><tbody><tr><td>0.409367</td><td>0.882896</td><td>0.848584</td><td>0.193126</td><td>0.426356</td><td>0.277408</td><td>0.31015</td><td>0.601896</td><td>2.580474</td><td>1.11263</td><td>-6.642887</td></tr></tbody></table></div>"
      ]
     },
     "execution_count": 24,
     "metadata": {},
     "output_type": "execute_result"
    }
   ],
   "execution_count": 24
  },
  {
   "metadata": {
    "ExecuteTime": {
     "end_time": "2025-10-20T00:14:47.875922Z",
     "start_time": "2025-10-20T00:14:47.648590Z"
    }
   },
   "cell_type": "code",
   "source": "plot_bar(w_optim)",
   "id": "430dceec644d3c3b",
   "outputs": [
    {
     "data": {
      "text/plain": [
       "<Figure size 1000x400 with 1 Axes>"
      ],
      "image/png": "[encoded data removed]"
     },
     "metadata": {},
     "output_type": "display_data",
     "jetTransient": {
      "display_id": null
     }
    }
   ],
   "execution_count": 25
  },
  {
   "cell_type": "markdown",
   "id": "c25d9c7d",
   "metadata": {},
   "source": [
    "### 2.3.\n",
    "\n",
    "Report the following performance statistics of the portfolio achieved with the optimized weights calculated above.\n",
    "* mean\n",
    "* volatility\n",
    "* Sharpe\n",
    "\n",
    "(Annualize all three statistics.)"
   ]
  },
  {
   "cell_type": "markdown",
   "id": "96d3dddf",
   "metadata": {},
   "source": [
    "### 2.4.\n",
    "\n",
    "Try dropping the asset which had the biggest short position from the investment set. Re-run the optimization. What do you think of these new weights compared to the original optimized weights?\n",
    "\n",
    "What is going on?"
   ]
  },
  {
   "cell_type": "markdown",
   "id": "ee708089",
   "metadata": {},
   "source": [
    "****"
   ]
  }
 ],
 "metadata": {
  "hide_input": false,
  "kernelspec": {
   "display_name": "finm",
   "language": "python",
   "name": "python3"
  },
  "language_info": {
   "codemirror_mode": {
    "name": "ipython",
    "version": 3
   },
   "file_extension": ".py",
   "mimetype": "text/x-python",
   "name": "python",
   "nbconvert_exporter": "python",
   "pygments_lexer": "ipython3",
   "version": "3.12.11"
  }
 },
 "nbformat": 4,
 "nbformat_minor": 5
}
