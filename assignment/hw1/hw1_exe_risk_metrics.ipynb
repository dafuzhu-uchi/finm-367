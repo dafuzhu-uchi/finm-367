{
  "cells": [
    {
      "cell_type": "markdown",
      "id": "f7605588",
      "metadata": {},
      "source": [
        "# Exercises - Risk Metrics"
      ]
    },
    {
      "cell_type": "markdown",
      "id": "9cecfaac",
      "metadata": {},
      "source": [
        "# 1. Risk Metrics of a Stock"
      ]
    },
    {
      "cell_type": "markdown",
      "id": "1ff719c8",
      "metadata": {},
      "source": [
        "This problem uses data from `data/spx_returns_weekly.xlsx`.\n",
        "\n",
        "Choose any stock to evaluate below."
      ]
    },
    {
      "cell_type": "markdown",
      "id": "6684c7c3",
      "metadata": {},
      "source": [
        "## 1.1 Return Moments\n",
        "\n",
        "Report the moments of the returns. Annualize the mean and volatility.\n",
        "* mean\n",
        "* volatility\n",
        "* skewness\n",
        "* (excess) kurtosis\n",
        "\n",
        "Note that the pandas function for kurtosis already reports **excess** kurtosis."
      ]
    },
    {
      "cell_type": "markdown",
      "id": "b3658071",
      "metadata": {},
      "source": [
        "## 1.2 Maximum Drawdown"
      ]
    },
    {
      "cell_type": "markdown",
      "id": "06896571",
      "metadata": {},
      "source": [
        "Report the maximum drawdown for each return series.\n",
        "\n",
        "If we resampled this data to weekly and recalculated the maximum drawdown, do you think it would be larger or smaller (in magnitude)?"
      ]
    },
    {
      "cell_type": "markdown",
      "id": "a369baf1",
      "metadata": {},
      "source": [
        "## 1.3 Quantiles"
      ]
    },
    {
      "cell_type": "markdown",
      "id": "93e6be1f",
      "metadata": {},
      "source": [
        "Report the quantiles of the series. Use `.describe()` for a useful summary.\n",
        "\n",
        "* Report the 5th quantile scaled by standard deviation.\n",
        "* How much sampling error is in the mean return? Is this likely to cause much sampling error in the quantile estimation?"
      ]
    },
    {
      "cell_type": "markdown",
      "id": "bf964dc4",
      "metadata": {},
      "source": [
        "## 1.4 Comparison\n",
        "\n",
        "Try repeating 1.1-1.3 for another asset. "
      ]
    },
    {
      "cell_type": "markdown",
      "id": "c0267eb4",
      "metadata": {},
      "source": [
        "***"
      ]
    },
    {
      "cell_type": "markdown",
      "id": "e5c815ad",
      "metadata": {},
      "source": [
        "# 2. Time Aggregation"
      ]
    },
    {
      "cell_type": "markdown",
      "id": "58d436dc",
      "metadata": {},
      "source": [
        "Use the data in `../data/risk_etf_data.xlsx`.\n",
        "\n",
        "Use the price series to calculate **monthly** returns. (You may find `df.resample('M').last()` helpful."
      ]
    },
    {
      "cell_type": "markdown",
      "id": "5f6583d9",
      "metadata": {},
      "source": [
        "## 2.1 Bitcoin and Measuring Covariation Risk"
      ]
    },
    {
      "cell_type": "markdown",
      "id": "d8bcdb4f",
      "metadata": {},
      "source": [
        "People often say that bitcoin has disappointed by being highly correlated to SPY.\n",
        "\n",
        "Report the correlation between BTC and SPY for both daily and monthly returns.\n",
        "\n",
        "What do you conclude?"
      ]
    },
    {
      "cell_type": "markdown",
      "id": "639e83bb",
      "metadata": {},
      "source": [
        "## 2.2 Betas"
      ]
    },
    {
      "cell_type": "markdown",
      "id": "261d1577",
      "metadata": {},
      "source": [
        "For each series, calculate its beta to SPY.\n",
        "* Estimate the regression with an intercept (alpha) but no need to report it.\n",
        "\n",
        "How do these betas compare to the daily return betas seen in the note?"
      ]
    },
    {
      "cell_type": "markdown",
      "id": "1d0eeec0",
      "metadata": {},
      "source": [
        "## 2.3 Time Scaling to Higher Moments"
      ]
    },
    {
      "cell_type": "markdown",
      "id": "45c8acfa",
      "metadata": {},
      "source": [
        "Report the skewness and kurtosis for the monthly returns.\n",
        "\n",
        "How do these compare to the daily skewness and kurtosis measures?\n",
        "\n",
        "What do you conclude?"
      ]
    },
    {
      "cell_type": "markdown",
      "id": "9b38684a",
      "metadata": {},
      "source": [
        "***"
      ]
    }
  ],
  "metadata": {
    "hide_input": true,
    "kernelspec": {
      "display_name": "finm",
      "language": "python",
      "name": "python3"
    },
    "language_info": {
      "codemirror_mode": {
        "name": "ipython",
        "version": 3
      },
      "file_extension": ".py",
      "mimetype": "text/x-python",
      "name": "python",
      "nbconvert_exporter": "python",
      "pygments_lexer": "ipython3",
      "version": "3.12.11"
    }
  },
  "nbformat": 4,
  "nbformat_minor": 5
}
