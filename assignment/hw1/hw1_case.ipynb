{
 "cells": [
  {
   "cell_type": "markdown",
   "id": "a97c4251",
   "metadata": {},
   "source": [
    "# Harvard's Endowment\n",
    "\n",
    "## HBS Case\n",
    "### *The Harvard Management Company and Inflation-Indexed Bonds*"
   ]
  },
  {
   "cell_type": "markdown",
   "id": "31dfdadc",
   "metadata": {},
   "source": [
    "# 1. READING: HMC's Approach"
   ]
  },
  {
   "cell_type": "markdown",
   "id": "77eafffb",
   "metadata": {},
   "source": [
    "### 1. \n",
    "There are thousands of individual risky assets in which HMC can invest.  Explain why MV optimization across 1,000 securities is infeasible.\n",
    "\n",
    "### 2.\n",
    "Rather than optimize across all securities directly, HMC runs a two-stage optimization.\n",
    "1. They build asset class portfolios with each one optimized over the securities of the specific asset class.  \n",
    "2. HMC combines the asset-class portfolios into one total optimized portfolio.\n",
    "\n",
    "In order for the two-stage optimization to be a good approximation of the full MV-optimization on all assets, what must be true of the partition of securities into asset classes?\n",
    "\n",
    "### 3.\n",
    "Should TIPS form a new asset class or be grouped into one of the other 11 classes?\n",
    "\n",
    "### 4. \n",
    "Why does HMC focus on real returns when analyzing its portfolio allocation? Is this just a matter of scaling, or does using real returns versus nominal returns potentially change the MV solution?\n",
    "\n",
    "### 5.\n",
    "The case discusses the fact that Harvard places bounds on the portfolio allocation rather than implementing whatever numbers come out of the MV optimization problem.\n",
    "\n",
    "How might we adjust the stated optimization problem in the lecture notes to reflect the extra constraints Harvard is using in their bounded solutions given in Exhibits 5 and 6?\n",
    "\n",
    "### 6. \n",
    "Exhibits 5 shows zero allocation to domestic equities and domestic bonds across the entire computed range of targeted returns, (5.75% to 7.25%). Conceptually, why is the constraint binding in all these cases? What would the unconstrained portfolio want to do with those allocations and why?\n",
    "\n",
    "### 7.\n",
    "Exhibit 6 changes the constraints, (tightening them in most cases.) How much deterioration do we see in the mean-variance tradeoff that Harvard achieved?"
   ]
  },
  {
   "cell_type": "markdown",
   "id": "f7d7adf1",
   "metadata": {},
   "source": [
    "***"
   ]
  },
  {
   "cell_type": "markdown",
   "id": "d1614003",
   "metadata": {},
   "source": [
    "# 2 Mean-Variance Optimization\n",
    "\n",
    "### Data\n",
    "You will need the file in the github repo, `data/multi_asset_etf_data.xlsx`.\n",
    "- The time-series data gives monthly returns for the 11 asset classes and a short-term Treasury-bill fund return, (`SHV`.)\n",
    "- The case does not give time-series data, so this data has been compiled outside of the case, and it intends to represent the main asset classes under consideration via various ETFs. For details on the specific securities/indexes, check the “Info” tab of the data.\n",
    "\n",
    "### Excess Returns\n",
    "- We consider `SHV` as the risk-free asset.\n",
    "- We are going to analyze the problem in terms of **excess** returns, where `SHV` has been subtracted from the other columns.\n",
    "- The risk-free rate changes over time, but the assumption is that investors know it’s value one-period ahead of time. Thus, at any given point in time, it is a risk-free rate for the next period. (This is often discussed as the \"bank account\" or \"money market account\" in other settings.)\n",
    "\n",
    "### Adjustment\n",
    "For ease of analysis, drop `QAI` from the dataset. Analyze the remaining 10 assets.\n",
    "\n",
    "### Not Considered\n",
    "- These are nominal returns-they are not adjusted for inflation, and in our calculations we are not making any adjustment for inflation.\n",
    "- The exhibit data that comes via Harvard with the case is unnecessary for our analysis.\n",
    "\n",
    "### Format\n",
    "In the questions below, **annualize the statistics** you report.\n",
    "- Annualize the mean of monthly returns with a scaling of 12.\n",
    "- Annualize the volatility of monthly returns with a scaling of $\\sqrt{12}$\n",
    "- Note that we are not scaling the raw timeseries data, just the statistics computed from it (mean, vol, Sharpe)."
   ]
  },
  {
   "cell_type": "markdown",
   "id": "b4d2d0dc",
   "metadata": {},
   "source": [
    "### 1. Summary Statistics\n",
    "* Calculate and display the mean and volatility of each asset’s excess return. (Recall we use volatility to refer to standard deviation.)\n",
    "* Which assets have the best and worst Sharpe ratios? \n",
    "\n",
    "Recall that the Sharpe Ratio is simply the ratio of the mean-to-volatility of excess returns:\n",
    "\n",
    "$$\\text{sharpe ratio of investment }i = \\frac{\\tilde{\\mu}_i}{\\sigma_i}$$\n",
    "\n",
    "Be sure to annualize all three statss (mean, vol, Sharpe).\n"
   ]
  },
  {
   "cell_type": "code",
   "execution_count": 106,
   "id": "7594ce4f",
   "metadata": {},
   "outputs": [
    {
     "data": {
      "text/html": [
       "<div>\n",
       "<style scoped>\n",
       "    .dataframe tbody tr th:only-of-type {\n",
       "        vertical-align: middle;\n",
       "    }\n",
       "\n",
       "    .dataframe tbody tr th {\n",
       "        vertical-align: top;\n",
       "    }\n",
       "\n",
       "    .dataframe thead th {\n",
       "        text-align: right;\n",
       "    }\n",
       "</style>\n",
       "<table border=\"1\" class=\"dataframe\">\n",
       "  <thead>\n",
       "    <tr style=\"text-align: right;\">\n",
       "      <th></th>\n",
       "      <th>BWX</th>\n",
       "      <th>DBC</th>\n",
       "      <th>EEM</th>\n",
       "      <th>EFA</th>\n",
       "      <th>HYG</th>\n",
       "      <th>IEF</th>\n",
       "      <th>IYR</th>\n",
       "      <th>PSP</th>\n",
       "      <th>SPY</th>\n",
       "      <th>TIP</th>\n",
       "    </tr>\n",
       "    <tr>\n",
       "      <th>Date</th>\n",
       "      <th></th>\n",
       "      <th></th>\n",
       "      <th></th>\n",
       "      <th></th>\n",
       "      <th></th>\n",
       "      <th></th>\n",
       "      <th></th>\n",
       "      <th></th>\n",
       "      <th></th>\n",
       "      <th></th>\n",
       "    </tr>\n",
       "  </thead>\n",
       "  <tbody>\n",
       "    <tr>\n",
       "      <th>2025-01-31</th>\n",
       "      <td>-0.002198</td>\n",
       "      <td>0.024463</td>\n",
       "      <td>0.018388</td>\n",
       "      <td>0.044877</td>\n",
       "      <td>0.010472</td>\n",
       "      <td>0.003033</td>\n",
       "      <td>0.015780</td>\n",
       "      <td>0.064862</td>\n",
       "      <td>0.023724</td>\n",
       "      <td>0.010570</td>\n",
       "    </tr>\n",
       "    <tr>\n",
       "      <th>2025-02-28</th>\n",
       "      <td>0.011376</td>\n",
       "      <td>-0.001250</td>\n",
       "      <td>0.008855</td>\n",
       "      <td>0.026915</td>\n",
       "      <td>0.007087</td>\n",
       "      <td>0.025382</td>\n",
       "      <td>0.035246</td>\n",
       "      <td>-0.042722</td>\n",
       "      <td>-0.015310</td>\n",
       "      <td>0.018957</td>\n",
       "    </tr>\n",
       "    <tr>\n",
       "      <th>2025-03-31</th>\n",
       "      <td>0.007510</td>\n",
       "      <td>0.019885</td>\n",
       "      <td>0.008497</td>\n",
       "      <td>-0.001004</td>\n",
       "      <td>-0.013701</td>\n",
       "      <td>0.000577</td>\n",
       "      <td>-0.026225</td>\n",
       "      <td>-0.063669</td>\n",
       "      <td>-0.058562</td>\n",
       "      <td>0.003954</td>\n",
       "    </tr>\n",
       "    <tr>\n",
       "      <th>2025-04-30</th>\n",
       "      <td>0.054708</td>\n",
       "      <td>-0.088766</td>\n",
       "      <td>-0.001615</td>\n",
       "      <td>0.033962</td>\n",
       "      <td>-0.001817</td>\n",
       "      <td>0.007573</td>\n",
       "      <td>-0.024503</td>\n",
       "      <td>-0.009856</td>\n",
       "      <td>-0.011659</td>\n",
       "      <td>-0.001729</td>\n",
       "    </tr>\n",
       "    <tr>\n",
       "      <th>2025-05-31</th>\n",
       "      <td>-0.007297</td>\n",
       "      <td>0.012373</td>\n",
       "      <td>0.037522</td>\n",
       "      <td>0.045208</td>\n",
       "      <td>0.014835</td>\n",
       "      <td>-0.015094</td>\n",
       "      <td>0.006375</td>\n",
       "      <td>0.041935</td>\n",
       "      <td>0.060147</td>\n",
       "      <td>-0.009017</td>\n",
       "    </tr>\n",
       "  </tbody>\n",
       "</table>\n",
       "</div>"
      ],
      "text/plain": [
       "                 BWX       DBC       EEM       EFA       HYG       IEF  \\\n",
       "Date                                                                     \n",
       "2025-01-31 -0.002198  0.024463  0.018388  0.044877  0.010472  0.003033   \n",
       "2025-02-28  0.011376 -0.001250  0.008855  0.026915  0.007087  0.025382   \n",
       "2025-03-31  0.007510  0.019885  0.008497 -0.001004 -0.013701  0.000577   \n",
       "2025-04-30  0.054708 -0.088766 -0.001615  0.033962 -0.001817  0.007573   \n",
       "2025-05-31 -0.007297  0.012373  0.037522  0.045208  0.014835 -0.015094   \n",
       "\n",
       "                 IYR       PSP       SPY       TIP  \n",
       "Date                                                \n",
       "2025-01-31  0.015780  0.064862  0.023724  0.010570  \n",
       "2025-02-28  0.035246 -0.042722 -0.015310  0.018957  \n",
       "2025-03-31 -0.026225 -0.063669 -0.058562  0.003954  \n",
       "2025-04-30 -0.024503 -0.009856 -0.011659 -0.001729  \n",
       "2025-05-31  0.006375  0.041935  0.060147 -0.009017  "
      ]
     },
     "execution_count": 106,
     "metadata": {},
     "output_type": "execute_result"
    }
   ],
   "source": [
    "import pandas as pd\n",
    "import numpy as np\n",
    "\n",
    "file_path = '../data/multi_asset_etf_data.xlsx'\n",
    "data = pd.read_excel(file_path, sheet_name='excess returns').set_index('Date')\n",
    "data.drop('QAI', axis=1, inplace=True)\n",
    "data.tail()"
   ]
  },
  {
   "cell_type": "code",
   "execution_count": 112,
   "id": "8ca24304",
   "metadata": {},
   "outputs": [],
   "source": [
    "def mean_n_vol(df):\n",
    "    \"\"\"Calculate and display the mean and volatility of each asset's excess return\"\"\"\n",
    "    mu = df.mean(axis=0).rename('mean') * 12\n",
    "    vol = df.std(axis=0).rename('vol') * np.sqrt(12)\n",
    "    return pd.concat([mu, vol], axis=1)\n",
    "\n",
    "def calc_sharpe(df, func, mute=False):\n",
    "    df = func(df)\n",
    "    df['sharpe'] = df['mean'] / df['vol']\n",
    "    if not mute:\n",
    "        print(f\"The one has best sharpe is {df['sharpe'].idxmax()}, with sharpe={max(df['sharpe'])}\")\n",
    "        print(f\"The one has worst sharpe is {df['sharpe'].idxmin()}, with sharpe={min(df['sharpe'])}\")\n",
    "    return df['sharpe']"
   ]
  },
  {
   "cell_type": "code",
   "execution_count": 113,
   "id": "8e91f5e5",
   "metadata": {},
   "outputs": [
    {
     "data": {
      "text/html": [
       "<div>\n",
       "<style scoped>\n",
       "    .dataframe tbody tr th:only-of-type {\n",
       "        vertical-align: middle;\n",
       "    }\n",
       "\n",
       "    .dataframe tbody tr th {\n",
       "        vertical-align: top;\n",
       "    }\n",
       "\n",
       "    .dataframe thead th {\n",
       "        text-align: right;\n",
       "    }\n",
       "</style>\n",
       "<table border=\"1\" class=\"dataframe\">\n",
       "  <thead>\n",
       "    <tr style=\"text-align: right;\">\n",
       "      <th></th>\n",
       "      <th>mean</th>\n",
       "      <th>vol</th>\n",
       "    </tr>\n",
       "  </thead>\n",
       "  <tbody>\n",
       "    <tr>\n",
       "      <th>BWX</th>\n",
       "      <td>-0.007716</td>\n",
       "      <td>0.082789</td>\n",
       "    </tr>\n",
       "    <tr>\n",
       "      <th>DBC</th>\n",
       "      <td>-0.005292</td>\n",
       "      <td>0.166553</td>\n",
       "    </tr>\n",
       "    <tr>\n",
       "      <th>EEM</th>\n",
       "      <td>0.029339</td>\n",
       "      <td>0.176164</td>\n",
       "    </tr>\n",
       "    <tr>\n",
       "      <th>EFA</th>\n",
       "      <td>0.061775</td>\n",
       "      <td>0.150903</td>\n",
       "    </tr>\n",
       "    <tr>\n",
       "      <th>HYG</th>\n",
       "      <td>0.041371</td>\n",
       "      <td>0.075928</td>\n",
       "    </tr>\n",
       "    <tr>\n",
       "      <th>IEF</th>\n",
       "      <td>0.016404</td>\n",
       "      <td>0.063442</td>\n",
       "    </tr>\n",
       "    <tr>\n",
       "      <th>IYR</th>\n",
       "      <td>0.074916</td>\n",
       "      <td>0.168675</td>\n",
       "    </tr>\n",
       "    <tr>\n",
       "      <th>PSP</th>\n",
       "      <td>0.092561</td>\n",
       "      <td>0.213370</td>\n",
       "    </tr>\n",
       "    <tr>\n",
       "      <th>SPY</th>\n",
       "      <td>0.128141</td>\n",
       "      <td>0.142839</td>\n",
       "    </tr>\n",
       "    <tr>\n",
       "      <th>TIP</th>\n",
       "      <td>0.020502</td>\n",
       "      <td>0.051115</td>\n",
       "    </tr>\n",
       "  </tbody>\n",
       "</table>\n",
       "</div>"
      ],
      "text/plain": [
       "         mean       vol\n",
       "BWX -0.007716  0.082789\n",
       "DBC -0.005292  0.166553\n",
       "EEM  0.029339  0.176164\n",
       "EFA  0.061775  0.150903\n",
       "HYG  0.041371  0.075928\n",
       "IEF  0.016404  0.063442\n",
       "IYR  0.074916  0.168675\n",
       "PSP  0.092561  0.213370\n",
       "SPY  0.128141  0.142839\n",
       "TIP  0.020502  0.051115"
      ]
     },
     "execution_count": 113,
     "metadata": {},
     "output_type": "execute_result"
    }
   ],
   "source": [
    "mean_n_vol(data)"
   ]
  },
  {
   "cell_type": "code",
   "execution_count": 114,
   "id": "0b92d4d5",
   "metadata": {},
   "outputs": [
    {
     "name": "stdout",
     "output_type": "stream",
     "text": [
      "The one has best sharpe is SPY, with sharpe=0.897102626289479\n",
      "The one has worst sharpe is BWX, with sharpe=-0.09320174565672586\n"
     ]
    },
    {
     "data": {
      "text/plain": [
       "BWX   -0.093202\n",
       "DBC   -0.031774\n",
       "EEM    0.166542\n",
       "EFA    0.409372\n",
       "HYG    0.544873\n",
       "IEF    0.258569\n",
       "IYR    0.444143\n",
       "PSP    0.433804\n",
       "SPY    0.897103\n",
       "TIP    0.401091\n",
       "Name: sharpe, dtype: float64"
      ]
     },
     "execution_count": 114,
     "metadata": {},
     "output_type": "execute_result"
    }
   ],
   "source": [
    "calc_sharpe(data, mean_n_vol)"
   ]
  },
  {
   "cell_type": "markdown",
   "id": "e7820ffd",
   "metadata": {},
   "source": [
    "### 2. Descriptive Analysis\n",
    "* Calculate the correlation matrix of the returns. Which pair has the highest correlation? And the lowest?\n",
    "* How well have TIPS done in our sample? Have they outperformed domestic bonds? Foreign bonds?\n"
   ]
  },
  {
   "cell_type": "code",
   "execution_count": 115,
   "id": "f5ab9fcf",
   "metadata": {},
   "outputs": [
    {
     "data": {
      "text/html": [
       "<div>\n",
       "<style scoped>\n",
       "    .dataframe tbody tr th:only-of-type {\n",
       "        vertical-align: middle;\n",
       "    }\n",
       "\n",
       "    .dataframe tbody tr th {\n",
       "        vertical-align: top;\n",
       "    }\n",
       "\n",
       "    .dataframe thead th {\n",
       "        text-align: right;\n",
       "    }\n",
       "</style>\n",
       "<table border=\"1\" class=\"dataframe\">\n",
       "  <thead>\n",
       "    <tr style=\"text-align: right;\">\n",
       "      <th></th>\n",
       "      <th>BWX</th>\n",
       "      <th>DBC</th>\n",
       "      <th>EEM</th>\n",
       "      <th>EFA</th>\n",
       "      <th>HYG</th>\n",
       "      <th>IEF</th>\n",
       "      <th>IYR</th>\n",
       "      <th>PSP</th>\n",
       "      <th>SPY</th>\n",
       "      <th>TIP</th>\n",
       "    </tr>\n",
       "  </thead>\n",
       "  <tbody>\n",
       "    <tr>\n",
       "      <th>BWX</th>\n",
       "      <td>1.000000</td>\n",
       "      <td>0.191116</td>\n",
       "      <td>0.621673</td>\n",
       "      <td>0.602820</td>\n",
       "      <td>0.602555</td>\n",
       "      <td>0.580891</td>\n",
       "      <td>0.552557</td>\n",
       "      <td>0.526692</td>\n",
       "      <td>0.439994</td>\n",
       "      <td>0.675151</td>\n",
       "    </tr>\n",
       "    <tr>\n",
       "      <th>DBC</th>\n",
       "      <td>0.191116</td>\n",
       "      <td>1.000000</td>\n",
       "      <td>0.511667</td>\n",
       "      <td>0.500922</td>\n",
       "      <td>0.461887</td>\n",
       "      <td>-0.300207</td>\n",
       "      <td>0.280518</td>\n",
       "      <td>0.453303</td>\n",
       "      <td>0.432162</td>\n",
       "      <td>0.109006</td>\n",
       "    </tr>\n",
       "    <tr>\n",
       "      <th>EEM</th>\n",
       "      <td>0.621673</td>\n",
       "      <td>0.511667</td>\n",
       "      <td>1.000000</td>\n",
       "      <td>0.819925</td>\n",
       "      <td>0.691167</td>\n",
       "      <td>0.026704</td>\n",
       "      <td>0.584063</td>\n",
       "      <td>0.750109</td>\n",
       "      <td>0.687751</td>\n",
       "      <td>0.378792</td>\n",
       "    </tr>\n",
       "    <tr>\n",
       "      <th>EFA</th>\n",
       "      <td>0.602820</td>\n",
       "      <td>0.500922</td>\n",
       "      <td>0.819925</td>\n",
       "      <td>1.000000</td>\n",
       "      <td>0.787191</td>\n",
       "      <td>0.042639</td>\n",
       "      <td>0.699292</td>\n",
       "      <td>0.895320</td>\n",
       "      <td>0.845863</td>\n",
       "      <td>0.394821</td>\n",
       "    </tr>\n",
       "    <tr>\n",
       "      <th>HYG</th>\n",
       "      <td>0.602555</td>\n",
       "      <td>0.461887</td>\n",
       "      <td>0.691167</td>\n",
       "      <td>0.787191</td>\n",
       "      <td>1.000000</td>\n",
       "      <td>0.187258</td>\n",
       "      <td>0.739356</td>\n",
       "      <td>0.812157</td>\n",
       "      <td>0.793518</td>\n",
       "      <td>0.538648</td>\n",
       "    </tr>\n",
       "    <tr>\n",
       "      <th>IEF</th>\n",
       "      <td>0.580891</td>\n",
       "      <td>-0.300207</td>\n",
       "      <td>0.026704</td>\n",
       "      <td>0.042639</td>\n",
       "      <td>0.187258</td>\n",
       "      <td>1.000000</td>\n",
       "      <td>0.316532</td>\n",
       "      <td>0.022436</td>\n",
       "      <td>0.000815</td>\n",
       "      <td>0.754102</td>\n",
       "    </tr>\n",
       "    <tr>\n",
       "      <th>IYR</th>\n",
       "      <td>0.552557</td>\n",
       "      <td>0.280518</td>\n",
       "      <td>0.584063</td>\n",
       "      <td>0.699292</td>\n",
       "      <td>0.739356</td>\n",
       "      <td>0.316532</td>\n",
       "      <td>1.000000</td>\n",
       "      <td>0.749836</td>\n",
       "      <td>0.754711</td>\n",
       "      <td>0.598742</td>\n",
       "    </tr>\n",
       "    <tr>\n",
       "      <th>PSP</th>\n",
       "      <td>0.526692</td>\n",
       "      <td>0.453303</td>\n",
       "      <td>0.750109</td>\n",
       "      <td>0.895320</td>\n",
       "      <td>0.812157</td>\n",
       "      <td>0.022436</td>\n",
       "      <td>0.749836</td>\n",
       "      <td>1.000000</td>\n",
       "      <td>0.891687</td>\n",
       "      <td>0.408005</td>\n",
       "    </tr>\n",
       "    <tr>\n",
       "      <th>SPY</th>\n",
       "      <td>0.439994</td>\n",
       "      <td>0.432162</td>\n",
       "      <td>0.687751</td>\n",
       "      <td>0.845863</td>\n",
       "      <td>0.793518</td>\n",
       "      <td>0.000815</td>\n",
       "      <td>0.754711</td>\n",
       "      <td>0.891687</td>\n",
       "      <td>1.000000</td>\n",
       "      <td>0.381625</td>\n",
       "    </tr>\n",
       "    <tr>\n",
       "      <th>TIP</th>\n",
       "      <td>0.675151</td>\n",
       "      <td>0.109006</td>\n",
       "      <td>0.378792</td>\n",
       "      <td>0.394821</td>\n",
       "      <td>0.538648</td>\n",
       "      <td>0.754102</td>\n",
       "      <td>0.598742</td>\n",
       "      <td>0.408005</td>\n",
       "      <td>0.381625</td>\n",
       "      <td>1.000000</td>\n",
       "    </tr>\n",
       "  </tbody>\n",
       "</table>\n",
       "</div>"
      ],
      "text/plain": [
       "          BWX       DBC       EEM       EFA       HYG       IEF       IYR  \\\n",
       "BWX  1.000000  0.191116  0.621673  0.602820  0.602555  0.580891  0.552557   \n",
       "DBC  0.191116  1.000000  0.511667  0.500922  0.461887 -0.300207  0.280518   \n",
       "EEM  0.621673  0.511667  1.000000  0.819925  0.691167  0.026704  0.584063   \n",
       "EFA  0.602820  0.500922  0.819925  1.000000  0.787191  0.042639  0.699292   \n",
       "HYG  0.602555  0.461887  0.691167  0.787191  1.000000  0.187258  0.739356   \n",
       "IEF  0.580891 -0.300207  0.026704  0.042639  0.187258  1.000000  0.316532   \n",
       "IYR  0.552557  0.280518  0.584063  0.699292  0.739356  0.316532  1.000000   \n",
       "PSP  0.526692  0.453303  0.750109  0.895320  0.812157  0.022436  0.749836   \n",
       "SPY  0.439994  0.432162  0.687751  0.845863  0.793518  0.000815  0.754711   \n",
       "TIP  0.675151  0.109006  0.378792  0.394821  0.538648  0.754102  0.598742   \n",
       "\n",
       "          PSP       SPY       TIP  \n",
       "BWX  0.526692  0.439994  0.675151  \n",
       "DBC  0.453303  0.432162  0.109006  \n",
       "EEM  0.750109  0.687751  0.378792  \n",
       "EFA  0.895320  0.845863  0.394821  \n",
       "HYG  0.812157  0.793518  0.538648  \n",
       "IEF  0.022436  0.000815  0.754102  \n",
       "IYR  0.749836  0.754711  0.598742  \n",
       "PSP  1.000000  0.891687  0.408005  \n",
       "SPY  0.891687  1.000000  0.381625  \n",
       "TIP  0.408005  0.381625  1.000000  "
      ]
     },
     "execution_count": 115,
     "metadata": {},
     "output_type": "execute_result"
    }
   ],
   "source": [
    "cor = data.corr()\n",
    "cor"
   ]
  },
  {
   "cell_type": "code",
   "execution_count": 117,
   "id": "0165a634",
   "metadata": {},
   "outputs": [
    {
     "name": "stdout",
     "output_type": "stream",
     "text": [
      "The highest correlation is 0.8953201243752301, with pair EFA-PSP\n"
     ]
    }
   ],
   "source": [
    "np.fill_diagonal(cor.values, -1)\n",
    "idx_name, col_name = cor.stack().idxmax()\n",
    "print(f\"The highest correlation is {cor.values.max()}, with pair {idx_name}-{col_name}\")"
   ]
  },
  {
   "cell_type": "markdown",
   "id": "b8748654",
   "metadata": {},
   "source": [
    "### 3. The MV frontier.\n",
    "* Compute and display the weights of the tangency portfolios: $\\text{w}^{\\text{tan}}$.\n",
    "* Does the ranking of weights align with the ranking of Sharpe ratios?\n",
    "* Compute the mean, volatility, and Sharpe ratio for the tangency portfolio corresponding to\n",
    "$\\text{w}^{\\text{tan}}$.\n"
   ]
  },
  {
   "cell_type": "code",
   "execution_count": 118,
   "id": "63c3da15",
   "metadata": {},
   "outputs": [],
   "source": [
    "def wtan(cor, mu):\n",
    "    \"\"\"\n",
    "    cor: (DataFrame) correlation matrix\n",
    "    mu: (Series) average excess return\n",
    "    \"\"\"\n",
    "    w = np.linalg.inv(cor.values) @ mu.values\n",
    "    w_scaled = w / np.sum(w)\n",
    "    return pd.Series(w_scaled, index=mu.index)"
   ]
  },
  {
   "cell_type": "code",
   "execution_count": 120,
   "id": "273eb174",
   "metadata": {},
   "outputs": [
    {
     "data": {
      "text/plain": [
       "BWX    0.617903\n",
       "DBC   -0.682175\n",
       "EEM   -0.244584\n",
       "EFA   -0.283814\n",
       "HYG   -0.046333\n",
       "IEF    1.237577\n",
       "IYR    0.167005\n",
       "PSP   -0.302738\n",
       "SPY   -0.343594\n",
       "TIP    0.880754\n",
       "dtype: float64"
      ]
     },
     "execution_count": 120,
     "metadata": {},
     "output_type": "execute_result"
    }
   ],
   "source": [
    "# weights\n",
    "mu = mean_n_vol(data)[\"mean\"] * 12\n",
    "wtan(cor, mu)"
   ]
  },
  {
   "cell_type": "markdown",
   "id": "51de93d7",
   "metadata": {},
   "source": [
    "Compare rankings"
   ]
  },
  {
   "cell_type": "code",
   "execution_count": 121,
   "id": "ae4139d4",
   "metadata": {},
   "outputs": [
    {
     "data": {
      "text/plain": [
       "array(['BWX', 'DBC', 'EEM', 'IEF', 'TIP', 'EFA', 'PSP', 'IYR', 'HYG',\n",
       "       'SPY'], dtype=object)"
      ]
     },
     "execution_count": 121,
     "metadata": {},
     "output_type": "execute_result"
    }
   ],
   "source": [
    "sharpe = calc_sharpe(data, mean_n_vol, mute=True)\n",
    "sharpe.sort_values().index.values"
   ]
  },
  {
   "cell_type": "code",
   "execution_count": 122,
   "id": "a118686e",
   "metadata": {},
   "outputs": [
    {
     "data": {
      "text/plain": [
       "array(['DBC', 'SPY', 'PSP', 'EFA', 'EEM', 'HYG', 'IYR', 'BWX', 'TIP',\n",
       "       'IEF'], dtype=object)"
      ]
     },
     "execution_count": 122,
     "metadata": {},
     "output_type": "execute_result"
    }
   ],
   "source": [
    "weights = wtan(cor, mu)\n",
    "weights.sort_values().index.values"
   ]
  },
  {
   "cell_type": "markdown",
   "id": "7e0b0ee5",
   "metadata": {},
   "source": [
    "No, the weights do not align."
   ]
  },
  {
   "cell_type": "code",
   "execution_count": 123,
   "id": "33a8c7ac",
   "metadata": {},
   "outputs": [
    {
     "name": "stdout",
     "output_type": "stream",
     "text": [
      "Mean: -0.04896348042917821, volatility: 0.2681869773097092, sharpe: -0.18257217751715785\n"
     ]
    }
   ],
   "source": [
    "portfolio_return = (data.values * weights.values.reshape(1, -1)).sum(axis=1)  # excess return\n",
    "mu_p = portfolio_return.mean() * 12\n",
    "vol_p = portfolio_return.std() * np.sqrt(12)\n",
    "sharpe_p = mu_p / vol_p\n",
    "print(f\"Mean: {mu_p}, volatility: {vol_p}, sharpe: {sharpe_p}\")"
   ]
  },
  {
   "cell_type": "markdown",
   "id": "d3962427",
   "metadata": {},
   "source": [
    "\n",
    "### 4. TIPS\n",
    "Assess how much the tangency portfolio (and performance) change if...\n",
    "* TIPS are dropped completely from the investment set.\n",
    "* The expected excess return to TIPS is adjusted to be 0.0012 higher than what the historic sample shows.\n",
    "\n",
    "Based on the analysis, do TIPS seem to expand the investment opportunity set, implying that Harvard should consider them as a separate asset?"
   ]
  },
  {
   "cell_type": "markdown",
   "id": "a8609d16",
   "metadata": {},
   "source": [
    "***"
   ]
  },
  {
   "cell_type": "markdown",
   "id": "c59490d8",
   "metadata": {},
   "source": [
    "# 3. Allocations"
   ]
  },
  {
   "cell_type": "markdown",
   "id": "8e5eb238",
   "metadata": {},
   "source": [
    "\n",
    "* Continue with the same data file as the previous section.\n",
    "\n",
    "* Suppose the investor has a targeted mean excess return (per month) of $\\tilde{\\mu}^{\\text{port}}$ = 0.01."
   ]
  },
  {
   "cell_type": "markdown",
   "id": "1d46b44c",
   "metadata": {},
   "source": [
    "Build the following portfolios:\n",
    "\n",
    "#### Equally-weighted (EW)\n",
    "Rescale the entire weighting vector to have target mean $\\tilde{\\mu}^{\\text{port}}$. Thus, the $i$ element of the weight vector is,\n",
    "\n",
    "$$w^{\\text{EW}}_i = \\frac{1}{n}$$\n",
    "\n",
    "#### “Risk-parity” (RP)\n",
    "Risk-parity is a term used in a variety of ways, but here we have in mind setting the weight of the portfolio to be proportional to the inverse of its full-sample variance estimate. Thus, the $i$ element of the weight vector is,\n",
    "\n",
    "$$w^{\\text{RP}}_i = \\frac{1}{\\sigma_i^2}$$\n",
    "\n",
    "#### Mean-Variance (MV)\n",
    "As described in `Section 2`.\n",
    "\n",
    "### Comparing\n",
    "\n",
    "In order to compare all these allocation methods, rescale each weight vector, such that it has targeted mean return of $\\tilde{\\mu}^{\\text{port}}$.\n",
    "\n",
    "* Calculate the performance of each of these portfolios over the sample.\n",
    "* Report their mean, volatility, and Sharpe ratio. \n",
    "* How does performance compare across allocation methods?"
   ]
  },
  {
   "cell_type": "markdown",
   "id": "23ea828b",
   "metadata": {},
   "source": [
    "***"
   ]
  },
  {
   "cell_type": "markdown",
   "id": "a2a8443d",
   "metadata": {},
   "source": [
    "# 4. EXTRA: Out-of-Sample Performance"
   ]
  },
  {
   "cell_type": "markdown",
   "id": "24e4b25b",
   "metadata": {},
   "source": [
    "### 1. One-step Out-of-Sample (OOS) Performance\n",
    "Let’s divide the sample to both compute a portfolio and then check its performance out of sample.\n",
    "* Using only data through the end of `2023`, compute the weights built in Section 3.\n",
    "* Rescale the weights, (using just the in-sample data,) to set each allocation to have the same mean return of $\\tilde{\\mu}^{\\text{port}}$.\n",
    "* Using those weights, calculate the portfolio’s Sharpe ratio within that sample.\n",
    "* Again using those weights, (derived using data through `2023`,) calculate the portfolio’s OOS Sharpe ratio, which is based only on performance in `2024-2025`."
   ]
  },
  {
   "cell_type": "markdown",
   "id": "2281c023",
   "metadata": {},
   "source": [
    "### 2. Rolling OOS Performance\n",
    "\n",
    "Iterate the Out-of-Sample performance every year, not just the final year. Namely,\n",
    "* Start at the end of `2015`, and calculate the weights through that time. Rescale them using the mean returns through that time.\n",
    "* Apply the weights to the returns in the upcoming year, (`2016`.)\n",
    "* Step forward a year in time, and recompute.\n",
    "* Continue until again calculating the weights through `2023` and applying them to the returns in `2024-2025`.\n",
    "\n",
    "Report the mean, volatility, and Sharpe from this dynamic approach for the following portfolios:\n",
    "* mean-variance (tangency)\n",
    "* equally-weighted\n",
    "* risk-parity\n",
    "* regularized"
   ]
  },
  {
   "cell_type": "markdown",
   "id": "99dc96f3",
   "metadata": {},
   "source": [
    "***"
   ]
  },
  {
   "cell_type": "markdown",
   "id": "665b0cf7",
   "metadata": {},
   "source": [
    "# 5. EXTRA: Without a Riskless Asset"
   ]
  },
  {
   "cell_type": "markdown",
   "id": "b8b1ff49",
   "metadata": {},
   "source": [
    "Re-do Section 2 above, but in the model without a risk-free rate.\n",
    "\n",
    "That is, build the MV allocation using the two-part formula in the `Mean-Variance` section of the notes.\n",
    "* This essentially substitutes the risk-free rate with the minimum-variance portfolio.\n",
    "* Now, the allocation depends nonlinearly on the target mean return, $\\tilde{\\mu}^{\\text{port}}$. (With a risk-free rate, we simply scale the weights up and down to achieve the mean return.)\n",
    "\n",
    "You will find that, conceptually, the answers are very similar."
   ]
  },
  {
   "cell_type": "markdown",
   "id": "e7d5734f",
   "metadata": {},
   "source": [
    "***"
   ]
  },
  {
   "cell_type": "markdown",
   "id": "5c864754",
   "metadata": {},
   "source": [
    "# 6. EXTRA: Bayesian Allocation"
   ]
  },
  {
   "cell_type": "markdown",
   "id": "c70bb005",
   "metadata": {},
   "source": [
    "Add the following allocation among the choices in `Section 3`...\n",
    "\n",
    "#### Regularized (REG)\n",
    "Much like the Mean-Variance portfolio, set the weights proportional to \n",
    "\n",
    "$$w^{\\text{REG}} \\sim \\widehat{\\Sigma}^{-1}\\mux$$\n",
    "\n",
    "but this time, use a regularized covariance matrix,\n",
    "\n",
    "$$\\widehat{\\Sigma} = \\frac{\\Sigma + \\Sigma_D}{2}$$\n",
    "\n",
    "where $\\Sigma_D$ denotes a *diagonal* matrix of the security variances, with zeros in the off-diagonals.\n",
    "\n",
    "Thus, $\\widehat{\\Sigma}$ is obtained from the usual covariance matrix, $\\Sigma$, but shrinking all the covariances to half their estimated values."
   ]
  },
  {
   "cell_type": "markdown",
   "id": "8b3de416",
   "metadata": {},
   "source": [
    "# 7. EXTRA: Inefficient Tangency"
   ]
  },
  {
   "cell_type": "markdown",
   "id": "0e5db276",
   "metadata": {},
   "source": [
    "Return to analyzing the excess returns, as in `Section 3`. Include the hedge-fund ETF, QAI.\n",
    "\n",
    "You might find that the tangency portfolio has a negative mean return. \n",
    "- It is on the inefficient portion of the MV frontier.\n",
    "\n",
    "Calculate the optimal allocation by shorting the tangency portfolio. (That is, multiply the tangency weights by negative one to determine the allocation weights.)\n",
    "\n",
    "Re-do the analysis of Section 3. Does the addition of `QAI` change much."
   ]
  }
 ],
 "metadata": {
  "hide_input": false,
  "kernelspec": {
   "display_name": "finm",
   "language": "python",
   "name": "python3"
  },
  "language_info": {
   "codemirror_mode": {
    "name": "ipython",
    "version": 3
   },
   "file_extension": ".py",
   "mimetype": "text/x-python",
   "name": "python",
   "nbconvert_exporter": "python",
   "pygments_lexer": "ipython3",
   "version": "3.12.11"
  }
 },
 "nbformat": 4,
 "nbformat_minor": 5
}
