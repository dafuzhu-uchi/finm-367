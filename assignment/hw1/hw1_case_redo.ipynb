{
 "cells": [
  {
   "cell_type": "markdown",
   "id": "a97c4251",
   "metadata": {},
   "source": [
    "# Harvard's Endowment\n",
    "\n",
    "## HBS Case\n",
    "### *The Harvard Management Company and Inflation-Indexed Bonds*"
   ]
  },
  {
   "cell_type": "markdown",
   "id": "31dfdadc",
   "metadata": {},
   "source": [
    "# 1. READING: HMC's Approach"
   ]
  },
  {
   "cell_type": "markdown",
   "id": "77eafffb",
   "metadata": {},
   "source": [
    "### 1. \n",
    "There are thousands of individual risky assets in which HMC can invest.  Explain why MV optimization across 1,000 securities is infeasible.\n",
    "\n",
    "### 2.\n",
    "Rather than optimize across all securities directly, HMC runs a two-stage optimization.\n",
    "1. They build asset class portfolios with each one optimized over the securities of the specific asset class.  \n",
    "2. HMC combines the asset-class portfolios into one total optimized portfolio.\n",
    "\n",
    "In order for the two-stage optimization to be a good approximation of the full MV-optimization on all assets, what must be true of the partition of securities into asset classes?\n",
    "\n",
    "### 3.\n",
    "Should TIPS form a new asset class or be grouped into one of the other 11 classes?\n",
    "\n",
    "### 4. \n",
    "Why does HMC focus on real returns when analyzing its portfolio allocation? Is this just a matter of scaling, or does using real returns versus nominal returns potentially change the MV solution?\n",
    "\n",
    "### 5.\n",
    "The case discusses the fact that Harvard places bounds on the portfolio allocation rather than implementing whatever numbers come out of the MV optimization problem.\n",
    "\n",
    "How might we adjust the stated optimization problem in the lecture notes to reflect the extra constraints Harvard is using in their bounded solutions given in Exhibits 5 and 6?\n",
    "\n",
    "### 6. \n",
    "Exhibits 5 shows zero allocation to domestic equities and domestic bonds across the entire computed range of targeted returns, (5.75% to 7.25%). Conceptually, why is the constraint binding in all these cases? What would the unconstrained portfolio want to do with those allocations and why?\n",
    "\n",
    "### 7.\n",
    "Exhibit 6 changes the constraints, (tightening them in most cases.) How much deterioration do we see in the mean-variance tradeoff that Harvard achieved?"
   ]
  },
  {
   "cell_type": "markdown",
   "id": "f7d7adf1",
   "metadata": {},
   "source": [
    "***"
   ]
  },
  {
   "cell_type": "markdown",
   "id": "d1614003",
   "metadata": {},
   "source": [
    "# 2 Mean-Variance Optimization\n",
    "\n",
    "### Data\n",
    "You will need the file in the github repo, `data/multi_asset_etf_data.xlsx`.\n",
    "- The time-series data gives monthly returns for the 11 asset classes and a short-term Treasury-bill fund return, (`SHV`.)\n",
    "- The case does not give time-series data, so this data has been compiled outside of the case, and it intends to represent the main asset classes under consideration via various ETFs. For details on the specific securities/indexes, check the “Info” tab of the data.\n",
    "\n",
    "### Excess Returns\n",
    "- We consider `SHV` as the risk-free asset.\n",
    "- We are going to analyze the problem in terms of **excess** returns, where `SHV` has been subtracted from the other columns.\n",
    "- The risk-free rate changes over time, but the assumption is that investors know it’s value one-period ahead of time. Thus, at any given point in time, it is a risk-free rate for the next period. (This is often discussed as the \"bank account\" or \"money market account\" in other settings.)\n",
    "\n",
    "### Adjustment\n",
    "For ease of analysis, drop `QAI` from the dataset. Analyze the remaining 10 assets.\n",
    "\n",
    "### Not Considered\n",
    "- These are nominal returns-they are not adjusted for inflation, and in our calculations we are not making any adjustment for inflation.\n",
    "- The exhibit data that comes via Harvard with the case is unnecessary for our analysis.\n",
    "\n",
    "### Format\n",
    "In the questions below, **annualize the statistics** you report.\n",
    "- Annualize the mean of monthly returns with a scaling of 12.\n",
    "- Annualize the volatility of monthly returns with a scaling of $\\sqrt{12}$\n",
    "- Note that we are not scaling the raw timeseries data, just the statistics computed from it (mean, vol, Sharpe)."
   ]
  },
  {
   "cell_type": "markdown",
   "id": "b4d2d0dc",
   "metadata": {},
   "source": [
    "### 1. Summary Statistics\n",
    "* Calculate and display the mean and volatility of each asset’s excess return. (Recall we use volatility to refer to standard deviation.)\n",
    "* Which assets have the best and worst Sharpe ratios? \n",
    "\n",
    "Recall that the Sharpe Ratio is simply the ratio of the mean-to-volatility of excess returns:\n",
    "\n",
    "$$\\text{sharpe ratio of investment }i = \\frac{\\tilde{\\mu}_i}{\\sigma_i}$$\n",
    "\n",
    "Be sure to annualize all three statss (mean, vol, Sharpe).\n"
   ]
  },
  {
   "cell_type": "code",
   "id": "7594ce4f",
   "metadata": {
    "ExecuteTime": {
     "end_time": "2025-10-20T03:20:24.244500Z",
     "start_time": "2025-10-20T03:20:19.825957Z"
    }
   },
   "source": [
    "from unittest.mock import inplace\n",
    "\n",
    "import matplotlib.pyplot as plt\n",
    "import polars as pl\n",
    "import numpy as np\n",
    "from pathlib import Path\n",
    "import matplotlib.pyplot as plt\n",
    "from finm367.utils import only_numeric\n",
    "from finm367.plot_tools import plot_corr, plot_bar\n",
    "from finm367.portfolio import Portfolio\n",
    "\n",
    "DATA_PATH = Path.cwd().parents[1] / 'data'\n",
    "FILE_PATH = DATA_PATH / 'multi_asset_etf_data.xlsx'\n",
    "FREQ = 12\n",
    "\n",
    "data = pl.read_excel(FILE_PATH, sheet_name='excess returns')\n",
    "data = data.drop(\"QAI\")"
   ],
   "outputs": [],
   "execution_count": 1
  },
  {
   "metadata": {
    "ExecuteTime": {
     "end_time": "2025-10-20T03:20:24.324787Z",
     "start_time": "2025-10-20T03:20:24.299714Z"
    }
   },
   "cell_type": "code",
   "source": "data.head()",
   "id": "84d268b6175d2ebd",
   "outputs": [
    {
     "data": {
      "text/plain": [
       "shape: (5, 11)\n",
       "┌───────────┬───────────┬───────────┬───────────┬───┬───────────┬───────────┬───────────┬──────────┐\n",
       "│ Date      ┆ BWX       ┆ DBC       ┆ EEM       ┆ … ┆ IYR       ┆ PSP       ┆ SPY       ┆ TIP      │\n",
       "│ ---       ┆ ---       ┆ ---       ┆ ---       ┆   ┆ ---       ┆ ---       ┆ ---       ┆ ---      │\n",
       "│ date      ┆ f64       ┆ f64       ┆ f64       ┆   ┆ f64       ┆ f64       ┆ f64       ┆ f64      │\n",
       "╞═══════════╪═══════════╪═══════════╪═══════════╪═══╪═══════════╪═══════════╪═══════════╪══════════╡\n",
       "│ 2011-02-2 ┆ 0.007027  ┆ 0.04212   ┆ -0.000027 ┆ … ┆ 0.045614  ┆ 0.040556  ┆ 0.035147  ┆ 0.007618 │\n",
       "│ 8         ┆           ┆           ┆           ┆   ┆           ┆           ┆           ┆          │\n",
       "│ 2011-03-3 ┆ 0.008755  ┆ 0.026909  ┆ 0.063224  ┆ … ┆ -0.010607 ┆ 0.016995  ┆ 0.000448  ┆ 0.012231 │\n",
       "│ 1         ┆           ┆           ┆           ┆   ┆           ┆           ┆           ┆          │\n",
       "│ 2011-04-3 ┆ 0.04876   ┆ 0.045514  ┆ 0.027283  ┆ … ┆ 0.046589  ┆ 0.058627  ┆ 0.028917  ┆ 0.023735 │\n",
       "│ 0         ┆           ┆           ┆           ┆   ┆           ┆           ┆           ┆          │\n",
       "│ 2011-05-3 ┆ -0.012945 ┆ -0.051124 ┆ -0.0288   ┆ … ┆ 0.010733  ┆ -0.040965 ┆ -0.010615 ┆ 0.003259 │\n",
       "│ 1         ┆           ┆           ┆           ┆   ┆           ┆           ┆           ┆          │\n",
       "│ 2011-06-3 ┆ 0.00023   ┆ -0.042318 ┆ -0.009027 ┆ … ┆ -0.030733 ┆ -0.042254 ┆ -0.016542 ┆ 0.007876 │\n",
       "│ 0         ┆           ┆           ┆           ┆   ┆           ┆           ┆           ┆          │\n",
       "└───────────┴───────────┴───────────┴───────────┴───┴───────────┴───────────┴───────────┴──────────┘"
      ],
      "text/html": [
       "<div><style>\n",
       ".dataframe > thead > tr,\n",
       ".dataframe > tbody > tr {\n",
       "  text-align: right;\n",
       "  white-space: pre-wrap;\n",
       "}\n",
       "</style>\n",
       "<small>shape: (5, 11)</small><table border=\"1\" class=\"dataframe\"><thead><tr><th>Date</th><th>BWX</th><th>DBC</th><th>EEM</th><th>EFA</th><th>HYG</th><th>IEF</th><th>IYR</th><th>PSP</th><th>SPY</th><th>TIP</th></tr><tr><td>date</td><td>f64</td><td>f64</td><td>f64</td><td>f64</td><td>f64</td><td>f64</td><td>f64</td><td>f64</td><td>f64</td><td>f64</td></tr></thead><tbody><tr><td>2011-02-28</td><td>0.007027</td><td>0.04212</td><td>-0.000027</td><td>0.035908</td><td>0.014763</td><td>-0.001674</td><td>0.045614</td><td>0.040556</td><td>0.035147</td><td>0.007618</td></tr><tr><td>2011-03-31</td><td>0.008755</td><td>0.026909</td><td>0.063224</td><td>-0.023555</td><td>0.000752</td><td>-0.001218</td><td>-0.010607</td><td>0.016995</td><td>0.000448</td><td>0.012231</td></tr><tr><td>2011-04-30</td><td>0.04876</td><td>0.045514</td><td>0.027283</td><td>0.056214</td><td>0.015932</td><td>0.018369</td><td>0.046589</td><td>0.058627</td><td>0.028917</td><td>0.023735</td></tr><tr><td>2011-05-31</td><td>-0.012945</td><td>-0.051124</td><td>-0.0288</td><td>-0.021461</td><td>0.001933</td><td>0.025654</td><td>0.010733</td><td>-0.040965</td><td>-0.010615</td><td>0.003259</td></tr><tr><td>2011-06-30</td><td>0.00023</td><td>-0.042318</td><td>-0.009027</td><td>-0.011781</td><td>-0.005378</td><td>-0.004716</td><td>-0.030733</td><td>-0.042254</td><td>-0.016542</td><td>0.007876</td></tr></tbody></table></div>"
      ]
     },
     "execution_count": 2,
     "metadata": {},
     "output_type": "execute_result"
    }
   ],
   "execution_count": 2
  },
  {
   "metadata": {
    "ExecuteTime": {
     "end_time": "2025-10-20T03:20:24.408938Z",
     "start_time": "2025-10-20T03:20:24.394787Z"
    }
   },
   "cell_type": "code",
   "source": [
    "rets = only_numeric(data)\n",
    "mu = rets.mean() * FREQ\n",
    "vol = rets.std() * np.sqrt(FREQ)\n",
    "sharpe = mu / vol"
   ],
   "id": "43373e276a49a723",
   "outputs": [],
   "execution_count": 3
  },
  {
   "cell_type": "code",
   "id": "8e91f5e5",
   "metadata": {
    "ExecuteTime": {
     "end_time": "2025-10-20T03:20:24.599986Z",
     "start_time": "2025-10-20T03:20:24.575136Z"
    }
   },
   "source": "mu",
   "outputs": [
    {
     "data": {
      "text/plain": [
       "shape: (1, 10)\n",
       "┌───────────┬───────────┬──────────┬──────────┬───┬──────────┬──────────┬──────────┬──────────┐\n",
       "│ BWX       ┆ DBC       ┆ EEM      ┆ EFA      ┆ … ┆ IYR      ┆ PSP      ┆ SPY      ┆ TIP      │\n",
       "│ ---       ┆ ---       ┆ ---      ┆ ---      ┆   ┆ ---      ┆ ---      ┆ ---      ┆ ---      │\n",
       "│ f64       ┆ f64       ┆ f64      ┆ f64      ┆   ┆ f64      ┆ f64      ┆ f64      ┆ f64      │\n",
       "╞═══════════╪═══════════╪══════════╪══════════╪═══╪══════════╪══════════╪══════════╪══════════╡\n",
       "│ -0.007716 ┆ -0.005292 ┆ 0.029339 ┆ 0.061775 ┆ … ┆ 0.074916 ┆ 0.092561 ┆ 0.128141 ┆ 0.020502 │\n",
       "└───────────┴───────────┴──────────┴──────────┴───┴──────────┴──────────┴──────────┴──────────┘"
      ],
      "text/html": [
       "<div><style>\n",
       ".dataframe > thead > tr,\n",
       ".dataframe > tbody > tr {\n",
       "  text-align: right;\n",
       "  white-space: pre-wrap;\n",
       "}\n",
       "</style>\n",
       "<small>shape: (1, 10)</small><table border=\"1\" class=\"dataframe\"><thead><tr><th>BWX</th><th>DBC</th><th>EEM</th><th>EFA</th><th>HYG</th><th>IEF</th><th>IYR</th><th>PSP</th><th>SPY</th><th>TIP</th></tr><tr><td>f64</td><td>f64</td><td>f64</td><td>f64</td><td>f64</td><td>f64</td><td>f64</td><td>f64</td><td>f64</td><td>f64</td></tr></thead><tbody><tr><td>-0.007716</td><td>-0.005292</td><td>0.029339</td><td>0.061775</td><td>0.041371</td><td>0.016404</td><td>0.074916</td><td>0.092561</td><td>0.128141</td><td>0.020502</td></tr></tbody></table></div>"
      ]
     },
     "execution_count": 4,
     "metadata": {},
     "output_type": "execute_result"
    }
   ],
   "execution_count": 4
  },
  {
   "cell_type": "code",
   "id": "0b92d4d5",
   "metadata": {
    "ExecuteTime": {
     "end_time": "2025-10-20T03:20:24.722948Z",
     "start_time": "2025-10-20T03:20:24.716169Z"
    }
   },
   "source": "vol",
   "outputs": [
    {
     "data": {
      "text/plain": [
       "shape: (1, 10)\n",
       "┌──────────┬──────────┬──────────┬──────────┬───┬──────────┬─────────┬──────────┬──────────┐\n",
       "│ BWX      ┆ DBC      ┆ EEM      ┆ EFA      ┆ … ┆ IYR      ┆ PSP     ┆ SPY      ┆ TIP      │\n",
       "│ ---      ┆ ---      ┆ ---      ┆ ---      ┆   ┆ ---      ┆ ---     ┆ ---      ┆ ---      │\n",
       "│ f64      ┆ f64      ┆ f64      ┆ f64      ┆   ┆ f64      ┆ f64     ┆ f64      ┆ f64      │\n",
       "╞══════════╪══════════╪══════════╪══════════╪═══╪══════════╪═════════╪══════════╪══════════╡\n",
       "│ 0.082789 ┆ 0.166553 ┆ 0.176164 ┆ 0.150903 ┆ … ┆ 0.168675 ┆ 0.21337 ┆ 0.142839 ┆ 0.051115 │\n",
       "└──────────┴──────────┴──────────┴──────────┴───┴──────────┴─────────┴──────────┴──────────┘"
      ],
      "text/html": [
       "<div><style>\n",
       ".dataframe > thead > tr,\n",
       ".dataframe > tbody > tr {\n",
       "  text-align: right;\n",
       "  white-space: pre-wrap;\n",
       "}\n",
       "</style>\n",
       "<small>shape: (1, 10)</small><table border=\"1\" class=\"dataframe\"><thead><tr><th>BWX</th><th>DBC</th><th>EEM</th><th>EFA</th><th>HYG</th><th>IEF</th><th>IYR</th><th>PSP</th><th>SPY</th><th>TIP</th></tr><tr><td>f64</td><td>f64</td><td>f64</td><td>f64</td><td>f64</td><td>f64</td><td>f64</td><td>f64</td><td>f64</td><td>f64</td></tr></thead><tbody><tr><td>0.082789</td><td>0.166553</td><td>0.176164</td><td>0.150903</td><td>0.075928</td><td>0.063442</td><td>0.168675</td><td>0.21337</td><td>0.142839</td><td>0.051115</td></tr></tbody></table></div>"
      ]
     },
     "execution_count": 5,
     "metadata": {},
     "output_type": "execute_result"
    }
   ],
   "execution_count": 5
  },
  {
   "metadata": {
    "ExecuteTime": {
     "end_time": "2025-10-20T03:20:25.186460Z",
     "start_time": "2025-10-20T03:20:25.178453Z"
    }
   },
   "cell_type": "code",
   "source": "sharpe",
   "id": "29039348fbffb0a8",
   "outputs": [
    {
     "data": {
      "text/plain": [
       "shape: (1, 10)\n",
       "┌───────────┬───────────┬──────────┬──────────┬───┬──────────┬──────────┬──────────┬──────────┐\n",
       "│ BWX       ┆ DBC       ┆ EEM      ┆ EFA      ┆ … ┆ IYR      ┆ PSP      ┆ SPY      ┆ TIP      │\n",
       "│ ---       ┆ ---       ┆ ---      ┆ ---      ┆   ┆ ---      ┆ ---      ┆ ---      ┆ ---      │\n",
       "│ f64       ┆ f64       ┆ f64      ┆ f64      ┆   ┆ f64      ┆ f64      ┆ f64      ┆ f64      │\n",
       "╞═══════════╪═══════════╪══════════╪══════════╪═══╪══════════╪══════════╪══════════╪══════════╡\n",
       "│ -0.093202 ┆ -0.031774 ┆ 0.166542 ┆ 0.409372 ┆ … ┆ 0.444143 ┆ 0.433804 ┆ 0.897103 ┆ 0.401091 │\n",
       "└───────────┴───────────┴──────────┴──────────┴───┴──────────┴──────────┴──────────┴──────────┘"
      ],
      "text/html": [
       "<div><style>\n",
       ".dataframe > thead > tr,\n",
       ".dataframe > tbody > tr {\n",
       "  text-align: right;\n",
       "  white-space: pre-wrap;\n",
       "}\n",
       "</style>\n",
       "<small>shape: (1, 10)</small><table border=\"1\" class=\"dataframe\"><thead><tr><th>BWX</th><th>DBC</th><th>EEM</th><th>EFA</th><th>HYG</th><th>IEF</th><th>IYR</th><th>PSP</th><th>SPY</th><th>TIP</th></tr><tr><td>f64</td><td>f64</td><td>f64</td><td>f64</td><td>f64</td><td>f64</td><td>f64</td><td>f64</td><td>f64</td><td>f64</td></tr></thead><tbody><tr><td>-0.093202</td><td>-0.031774</td><td>0.166542</td><td>0.409372</td><td>0.544873</td><td>0.258569</td><td>0.444143</td><td>0.433804</td><td>0.897103</td><td>0.401091</td></tr></tbody></table></div>"
      ]
     },
     "execution_count": 6,
     "metadata": {},
     "output_type": "execute_result"
    }
   ],
   "execution_count": 6
  },
  {
   "cell_type": "markdown",
   "id": "e7820ffd",
   "metadata": {},
   "source": [
    "### 2. Descriptive Analysis\n",
    "* Calculate the correlation matrix of the returns. Which pair has the highest correlation? And the lowest?\n",
    "* How well have TIPS done in our sample? Have they outperformed domestic bonds? Foreign bonds?\n"
   ]
  },
  {
   "cell_type": "code",
   "id": "f5ab9fcf",
   "metadata": {
    "ExecuteTime": {
     "end_time": "2025-10-20T03:20:26.015851Z",
     "start_time": "2025-10-20T03:20:25.507942Z"
    }
   },
   "source": [
    "corr_df = rets.corr()\n",
    "fig, _ = plot_corr(corr_df, labels=corr_df.columns)\n",
    "plt.show()"
   ],
   "outputs": [
    {
     "data": {
      "text/plain": [
       "<Figure size 1000x800 with 2 Axes>"
      ],
      "image/png": "[encoded data removed]"
     },
     "metadata": {},
     "output_type": "display_data",
     "jetTransient": {
      "display_id": null
     }
    }
   ],
   "execution_count": 7
  },
  {
   "cell_type": "markdown",
   "id": "b8748654",
   "metadata": {},
   "source": [
    "### 3. The MV frontier.\n",
    "* Compute and display the weights of the tangency portfolios: $\\text{w}^{\\text{tan}}$.\n",
    "* Does the ranking of weights align with the ranking of Sharpe ratios?\n",
    "* Compute the mean, volatility, and Sharpe ratio for the tangency portfolio corresponding to\n",
    "$\\text{w}^{\\text{tan}}$.\n"
   ]
  },
  {
   "cell_type": "code",
   "id": "273eb174",
   "metadata": {
    "ExecuteTime": {
     "end_time": "2025-10-20T03:20:26.094097Z",
     "start_time": "2025-10-20T03:20:26.072914Z"
    }
   },
   "source": [
    "p = Portfolio(rets)\n",
    "w_tan = p.mv_weights()\n",
    "w_tan"
   ],
   "outputs": [
    {
     "data": {
      "text/plain": [
       "shape: (1, 10)\n",
       "┌───────────┬───────────┬──────────┬──────────┬───┬───────────┬───────────┬──────────┬──────────┐\n",
       "│ BWX       ┆ DBC       ┆ EEM      ┆ EFA      ┆ … ┆ IYR       ┆ PSP       ┆ SPY      ┆ TIP      │\n",
       "│ ---       ┆ ---       ┆ ---      ┆ ---      ┆   ┆ ---       ┆ ---       ┆ ---      ┆ ---      │\n",
       "│ f64       ┆ f64       ┆ f64      ┆ f64      ┆   ┆ f64       ┆ f64       ┆ f64      ┆ f64      │\n",
       "╞═══════════╪═══════════╪══════════╪══════════╪═══╪═══════════╪═══════════╪══════════╪══════════╡\n",
       "│ -0.850643 ┆ -0.071623 ┆ 0.026437 ┆ 0.068682 ┆ … ┆ -0.246582 ┆ -0.332995 ┆ 1.059632 ┆ 0.175293 │\n",
       "└───────────┴───────────┴──────────┴──────────┴───┴───────────┴───────────┴──────────┴──────────┘"
      ],
      "text/html": [
       "<div><style>\n",
       ".dataframe > thead > tr,\n",
       ".dataframe > tbody > tr {\n",
       "  text-align: right;\n",
       "  white-space: pre-wrap;\n",
       "}\n",
       "</style>\n",
       "<small>shape: (1, 10)</small><table border=\"1\" class=\"dataframe\"><thead><tr><th>BWX</th><th>DBC</th><th>EEM</th><th>EFA</th><th>HYG</th><th>IEF</th><th>IYR</th><th>PSP</th><th>SPY</th><th>TIP</th></tr><tr><td>f64</td><td>f64</td><td>f64</td><td>f64</td><td>f64</td><td>f64</td><td>f64</td><td>f64</td><td>f64</td><td>f64</td></tr></thead><tbody><tr><td>-0.850643</td><td>-0.071623</td><td>0.026437</td><td>0.068682</td><td>0.290614</td><td>0.881186</td><td>-0.246582</td><td>-0.332995</td><td>1.059632</td><td>0.175293</td></tr></tbody></table></div>"
      ]
     },
     "execution_count": 8,
     "metadata": {},
     "output_type": "execute_result"
    }
   ],
   "execution_count": 8
  },
  {
   "metadata": {
    "ExecuteTime": {
     "end_time": "2025-10-20T03:20:26.359269Z",
     "start_time": "2025-10-20T03:20:26.352148Z"
    }
   },
   "cell_type": "code",
   "source": [
    "solution_cols = [\"SPY\", \"EFA\", \"EEM\", \"PSP\", \"HYG\", \"DBC\", \"IYR\", \"IEF\", \"BWX\", \"TIP\"]\n",
    "w_tan_solution = w_tan.select(solution_cols)\n",
    "w_tan_solution"
   ],
   "id": "fcfc8cb9645cddc0",
   "outputs": [
    {
     "data": {
      "text/plain": [
       "shape: (1, 10)\n",
       "┌──────────┬──────────┬──────────┬───────────┬───┬───────────┬──────────┬───────────┬──────────┐\n",
       "│ SPY      ┆ EFA      ┆ EEM      ┆ PSP       ┆ … ┆ IYR       ┆ IEF      ┆ BWX       ┆ TIP      │\n",
       "│ ---      ┆ ---      ┆ ---      ┆ ---       ┆   ┆ ---       ┆ ---      ┆ ---       ┆ ---      │\n",
       "│ f64      ┆ f64      ┆ f64      ┆ f64       ┆   ┆ f64       ┆ f64      ┆ f64       ┆ f64      │\n",
       "╞══════════╪══════════╪══════════╪═══════════╪═══╪═══════════╪══════════╪═══════════╪══════════╡\n",
       "│ 1.059632 ┆ 0.068682 ┆ 0.026437 ┆ -0.332995 ┆ … ┆ -0.246582 ┆ 0.881186 ┆ -0.850643 ┆ 0.175293 │\n",
       "└──────────┴──────────┴──────────┴───────────┴───┴───────────┴──────────┴───────────┴──────────┘"
      ],
      "text/html": [
       "<div><style>\n",
       ".dataframe > thead > tr,\n",
       ".dataframe > tbody > tr {\n",
       "  text-align: right;\n",
       "  white-space: pre-wrap;\n",
       "}\n",
       "</style>\n",
       "<small>shape: (1, 10)</small><table border=\"1\" class=\"dataframe\"><thead><tr><th>SPY</th><th>EFA</th><th>EEM</th><th>PSP</th><th>HYG</th><th>DBC</th><th>IYR</th><th>IEF</th><th>BWX</th><th>TIP</th></tr><tr><td>f64</td><td>f64</td><td>f64</td><td>f64</td><td>f64</td><td>f64</td><td>f64</td><td>f64</td><td>f64</td><td>f64</td></tr></thead><tbody><tr><td>1.059632</td><td>0.068682</td><td>0.026437</td><td>-0.332995</td><td>0.290614</td><td>-0.071623</td><td>-0.246582</td><td>0.881186</td><td>-0.850643</td><td>0.175293</td></tr></tbody></table></div>"
      ]
     },
     "execution_count": 9,
     "metadata": {},
     "output_type": "execute_result"
    }
   ],
   "execution_count": 9
  },
  {
   "metadata": {
    "ExecuteTime": {
     "end_time": "2025-10-20T03:20:26.792076Z",
     "start_time": "2025-10-20T03:20:26.574977Z"
    }
   },
   "cell_type": "code",
   "source": "plot_bar(w_tan_solution)",
   "id": "5edf38727c7bdebb",
   "outputs": [
    {
     "data": {
      "text/plain": [
       "<Figure size 1000x400 with 1 Axes>"
      ],
      "image/png": "[encoded data removed]"
     },
     "metadata": {},
     "output_type": "display_data",
     "jetTransient": {
      "display_id": null
     }
    }
   ],
   "execution_count": 10
  },
  {
   "cell_type": "markdown",
   "id": "51de93d7",
   "metadata": {},
   "source": [
    "Compare rankings"
   ]
  },
  {
   "cell_type": "markdown",
   "id": "7e0b0ee5",
   "metadata": {},
   "source": [
    "No, the weights do not align."
   ]
  },
  {
   "metadata": {
    "ExecuteTime": {
     "end_time": "2025-10-20T03:20:26.807182Z",
     "start_time": "2025-10-20T03:20:26.801480Z"
    }
   },
   "cell_type": "code",
   "source": "p_rets = pl.DataFrame([rets[col] * w_tan[col] for col in rets.columns])",
   "id": "95a32b15168a2670",
   "outputs": [],
   "execution_count": 11
  },
  {
   "cell_type": "code",
   "id": "33a8c7ac",
   "metadata": {
    "ExecuteTime": {
     "end_time": "2025-10-20T03:20:26.821839Z",
     "start_time": "2025-10-20T03:20:26.817451Z"
    }
   },
   "source": [
    "p_mean = p_rets.mean() * FREQ\n",
    "p_vol = p_rets.std() * np.sqrt(FREQ)\n",
    "p_sharpe = p_mean / p_vol"
   ],
   "outputs": [],
   "execution_count": 12
  },
  {
   "metadata": {
    "ExecuteTime": {
     "end_time": "2025-10-20T03:20:26.836064Z",
     "start_time": "2025-10-20T03:20:26.830871Z"
    }
   },
   "cell_type": "code",
   "source": "p_mean",
   "id": "bbc9178b13051794",
   "outputs": [
    {
     "data": {
      "text/plain": [
       "shape: (1, 10)\n",
       "┌──────────┬──────────┬──────────┬──────────┬───┬───────────┬───────────┬──────────┬──────────┐\n",
       "│ BWX      ┆ DBC      ┆ EEM      ┆ EFA      ┆ … ┆ IYR       ┆ PSP       ┆ SPY      ┆ TIP      │\n",
       "│ ---      ┆ ---      ┆ ---      ┆ ---      ┆   ┆ ---       ┆ ---       ┆ ---      ┆ ---      │\n",
       "│ f64      ┆ f64      ┆ f64      ┆ f64      ┆   ┆ f64       ┆ f64       ┆ f64      ┆ f64      │\n",
       "╞══════════╪══════════╪══════════╪══════════╪═══╪═══════════╪═══════════╪══════════╪══════════╡\n",
       "│ 0.006564 ┆ 0.000379 ┆ 0.000776 ┆ 0.004243 ┆ … ┆ -0.018473 ┆ -0.030822 ┆ 0.135783 ┆ 0.003594 │\n",
       "└──────────┴──────────┴──────────┴──────────┴───┴───────────┴───────────┴──────────┴──────────┘"
      ],
      "text/html": [
       "<div><style>\n",
       ".dataframe > thead > tr,\n",
       ".dataframe > tbody > tr {\n",
       "  text-align: right;\n",
       "  white-space: pre-wrap;\n",
       "}\n",
       "</style>\n",
       "<small>shape: (1, 10)</small><table border=\"1\" class=\"dataframe\"><thead><tr><th>BWX</th><th>DBC</th><th>EEM</th><th>EFA</th><th>HYG</th><th>IEF</th><th>IYR</th><th>PSP</th><th>SPY</th><th>TIP</th></tr><tr><td>f64</td><td>f64</td><td>f64</td><td>f64</td><td>f64</td><td>f64</td><td>f64</td><td>f64</td><td>f64</td><td>f64</td></tr></thead><tbody><tr><td>0.006564</td><td>0.000379</td><td>0.000776</td><td>0.004243</td><td>0.012023</td><td>0.014455</td><td>-0.018473</td><td>-0.030822</td><td>0.135783</td><td>0.003594</td></tr></tbody></table></div>"
      ]
     },
     "execution_count": 13,
     "metadata": {},
     "output_type": "execute_result"
    }
   ],
   "execution_count": 13
  },
  {
   "metadata": {
    "ExecuteTime": {
     "end_time": "2025-10-20T03:20:26.906201Z",
     "start_time": "2025-10-20T03:20:26.901130Z"
    }
   },
   "cell_type": "code",
   "source": "p_vol",
   "id": "661f43c0b4211c83",
   "outputs": [
    {
     "data": {
      "text/plain": [
       "shape: (1, 10)\n",
       "┌──────────┬──────────┬──────────┬──────────┬───┬──────────┬──────────┬──────────┬─────────┐\n",
       "│ BWX      ┆ DBC      ┆ EEM      ┆ EFA      ┆ … ┆ IYR      ┆ PSP      ┆ SPY      ┆ TIP     │\n",
       "│ ---      ┆ ---      ┆ ---      ┆ ---      ┆   ┆ ---      ┆ ---      ┆ ---      ┆ ---     │\n",
       "│ f64      ┆ f64      ┆ f64      ┆ f64      ┆   ┆ f64      ┆ f64      ┆ f64      ┆ f64     │\n",
       "╞══════════╪══════════╪══════════╪══════════╪═══╪══════════╪══════════╪══════════╪═════════╡\n",
       "│ 0.070424 ┆ 0.011929 ┆ 0.004657 ┆ 0.010364 ┆ … ┆ 0.041592 ┆ 0.071051 ┆ 0.151357 ┆ 0.00896 │\n",
       "└──────────┴──────────┴──────────┴──────────┴───┴──────────┴──────────┴──────────┴─────────┘"
      ],
      "text/html": [
       "<div><style>\n",
       ".dataframe > thead > tr,\n",
       ".dataframe > tbody > tr {\n",
       "  text-align: right;\n",
       "  white-space: pre-wrap;\n",
       "}\n",
       "</style>\n",
       "<small>shape: (1, 10)</small><table border=\"1\" class=\"dataframe\"><thead><tr><th>BWX</th><th>DBC</th><th>EEM</th><th>EFA</th><th>HYG</th><th>IEF</th><th>IYR</th><th>PSP</th><th>SPY</th><th>TIP</th></tr><tr><td>f64</td><td>f64</td><td>f64</td><td>f64</td><td>f64</td><td>f64</td><td>f64</td><td>f64</td><td>f64</td><td>f64</td></tr></thead><tbody><tr><td>0.070424</td><td>0.011929</td><td>0.004657</td><td>0.010364</td><td>0.022066</td><td>0.055904</td><td>0.041592</td><td>0.071051</td><td>0.151357</td><td>0.00896</td></tr></tbody></table></div>"
      ]
     },
     "execution_count": 14,
     "metadata": {},
     "output_type": "execute_result"
    }
   ],
   "execution_count": 14
  },
  {
   "metadata": {
    "ExecuteTime": {
     "end_time": "2025-10-20T03:20:27.100287Z",
     "start_time": "2025-10-20T03:20:27.095743Z"
    }
   },
   "cell_type": "code",
   "source": "p_sharpe",
   "id": "708d0beb3e0b9b36",
   "outputs": [
    {
     "data": {
      "text/plain": [
       "shape: (1, 10)\n",
       "┌──────────┬──────────┬──────────┬──────────┬───┬───────────┬───────────┬──────────┬──────────┐\n",
       "│ BWX      ┆ DBC      ┆ EEM      ┆ EFA      ┆ … ┆ IYR       ┆ PSP       ┆ SPY      ┆ TIP      │\n",
       "│ ---      ┆ ---      ┆ ---      ┆ ---      ┆   ┆ ---       ┆ ---       ┆ ---      ┆ ---      │\n",
       "│ f64      ┆ f64      ┆ f64      ┆ f64      ┆   ┆ f64       ┆ f64       ┆ f64      ┆ f64      │\n",
       "╞══════════╪══════════╪══════════╪══════════╪═══╪═══════════╪═══════════╪══════════╪══════════╡\n",
       "│ 0.093202 ┆ 0.031774 ┆ 0.166542 ┆ 0.409372 ┆ … ┆ -0.444143 ┆ -0.433804 ┆ 0.897103 ┆ 0.401091 │\n",
       "└──────────┴──────────┴──────────┴──────────┴───┴───────────┴───────────┴──────────┴──────────┘"
      ],
      "text/html": [
       "<div><style>\n",
       ".dataframe > thead > tr,\n",
       ".dataframe > tbody > tr {\n",
       "  text-align: right;\n",
       "  white-space: pre-wrap;\n",
       "}\n",
       "</style>\n",
       "<small>shape: (1, 10)</small><table border=\"1\" class=\"dataframe\"><thead><tr><th>BWX</th><th>DBC</th><th>EEM</th><th>EFA</th><th>HYG</th><th>IEF</th><th>IYR</th><th>PSP</th><th>SPY</th><th>TIP</th></tr><tr><td>f64</td><td>f64</td><td>f64</td><td>f64</td><td>f64</td><td>f64</td><td>f64</td><td>f64</td><td>f64</td><td>f64</td></tr></thead><tbody><tr><td>0.093202</td><td>0.031774</td><td>0.166542</td><td>0.409372</td><td>0.544873</td><td>0.258569</td><td>-0.444143</td><td>-0.433804</td><td>0.897103</td><td>0.401091</td></tr></tbody></table></div>"
      ]
     },
     "execution_count": 15,
     "metadata": {},
     "output_type": "execute_result"
    }
   ],
   "execution_count": 15
  },
  {
   "cell_type": "markdown",
   "id": "d3962427",
   "metadata": {},
   "source": [
    "\n",
    "### 4. TIPS\n",
    "Assess how much the tangency portfolio (and performance) change if...\n",
    "* TIPS are dropped completely from the investment set.\n",
    "* The expected excess return to TIPS is adjusted to be 0.0012 higher than what the historic sample shows.\n",
    "\n",
    "Based on the analysis, do TIPS seem to expand the investment opportunity set, implying that Harvard should consider them as a separate asset?"
   ]
  },
  {
   "metadata": {},
   "cell_type": "markdown",
   "source": [
    "### Why TIPS Have Minimal Impact Initially\n",
    "\n",
    "**\"Dropping TIPS from the investment set barely impacts the weights or the resulting performance.\"**\n",
    "\n",
    "This suggests that in the base case analysis, TIPS appear redundant because:\n",
    "- Their return/risk profile is similar enough to nominal bonds that the optimizer doesn't see them as offering meaningful diversification\n",
    "- The mean-variance optimizer is treating them as essentially interchangeable with regular bonds\n",
    "- Their correlation with nominal bonds is high enough that they don't create a distinct opportunity\n",
    "\n",
    "### Why Small Adjustments Matter Greatly\n",
    "\n",
    "**\"Adjusting the mean of TIPS upward even just 1 standard error substantially impacts the allocations...\"**\n",
    "\n",
    "This reveals a key issue with mean-variance optimization:\n",
    "- **Estimation sensitivity**: The optimal allocation is highly sensitive to the expected return assumption\n",
    "- **Standard error matters**: A modest adjustment (1 SE) represents reasonable uncertainty in the estimate, yet it dramatically changes the solution\n",
    "- **Instability concern**: If small, statistically plausible changes in inputs create large allocation shifts, the optimization may be unreliable\n",
    "\n",
    "### The Central Dilemma\n",
    "\n",
    "The author is highlighting that **the decision depends on your modeling philosophy**:\n",
    "\n",
    "**Case for keeping TIPS separate:**\n",
    "- They offer genuine diversification through inflation protection (different risk factor)\n",
    "- The diversification benefit (TIPS vs bonds) exceeds that between some equity categories already in the portfolio (e.g., various SPY-like holdings)\n",
    "- They represent a distinct economic exposure\n",
    "\n",
    "**Case for combining with bonds:**\n",
    "- Practically, they mostly substitute for domestic bonds in the allocation\n",
    "- The mean-variance framework doesn't capture their unique inflation-hedging benefit well\n",
    "- Treating them as a bond subcategory simplifies the model without major performance loss\n",
    "\n",
    "### The Deeper Insight\n",
    "\n",
    "This reasoning exposes a limitation of pure mean-variance analysis: **it may not adequately capture qualitative differences** between asset classes. TIPS's value comes from inflation protection, which is a regime-dependent benefit that historical mean returns and covariances may not fully reflect. The author is essentially saying the quantitative analysis is inconclusive, so judgment about the nature of TIPS as an asset class should guide the decision."
   ],
   "id": "230004c91f6bd5cb"
  },
  {
   "cell_type": "markdown",
   "id": "a8609d16",
   "metadata": {},
   "source": [
    "***"
   ]
  },
  {
   "cell_type": "markdown",
   "id": "c59490d8",
   "metadata": {},
   "source": [
    "# 3. Allocations"
   ]
  },
  {
   "cell_type": "markdown",
   "id": "8e5eb238",
   "metadata": {},
   "source": [
    "\n",
    "* Continue with the same data file as the previous section.\n",
    "\n",
    "* Suppose the investor has a targeted mean excess return (per month) of $\\tilde{\\mu}^{\\text{port}}$ = 0.01."
   ]
  },
  {
   "cell_type": "markdown",
   "id": "1d46b44c",
   "metadata": {},
   "source": [
    "Build the following portfolios:\n",
    "\n",
    "#### Equally-weighted (EW)\n",
    "Rescale the entire weighting vector to have target mean $\\tilde{\\mu}^{\\text{port}}$. Thus, the $i$ element of the weight vector is,\n",
    "\n",
    "$$w^{\\text{EW}}_i = \\frac{1}{n}$$\n",
    "\n",
    "#### “Risk-parity” (RP)\n",
    "Risk-parity is a term used in a variety of ways, but here we have in mind setting the weight of the portfolio to be proportional to the inverse of its full-sample variance estimate. Thus, the $i$ element of the weight vector is,\n",
    "\n",
    "$$w^{\\text{RP}}_i = \\frac{1}{\\sigma_i^2}$$\n",
    "\n",
    "#### Mean-Variance (MV)\n",
    "As described in `Section 2`.\n",
    "\n",
    "### Comparing\n",
    "\n",
    "In order to compare all these allocation methods, rescale each weight vector, such that it has targeted mean return of $\\tilde{\\mu}^{\\text{port}}$.\n",
    "\n",
    "* Calculate the performance of each of these portfolios over the sample.\n",
    "* Report their mean, volatility, and Sharpe ratio. \n",
    "* How does performance compare across allocation methods?"
   ]
  },
  {
   "metadata": {
    "ExecuteTime": {
     "end_time": "2025-10-20T03:20:27.177015Z",
     "start_time": "2025-10-20T03:20:27.160909Z"
    }
   },
   "cell_type": "code",
   "source": [
    "w = Portfolio(rets)\n",
    "w_eq = w.equal_weights()\n",
    "w_rp = w.rp_weights()\n",
    "w_mv = w.mv_weights()"
   ],
   "id": "4df927e67a8d3f12",
   "outputs": [],
   "execution_count": 16
  },
  {
   "metadata": {
    "ExecuteTime": {
     "end_time": "2025-10-20T03:20:27.246614Z",
     "start_time": "2025-10-20T03:20:27.239733Z"
    }
   },
   "cell_type": "code",
   "source": "p_eq = w.get_returns(\"eq\")",
   "id": "c0064117677c9b04",
   "outputs": [],
   "execution_count": 17
  },
  {
   "metadata": {
    "ExecuteTime": {
     "end_time": "2025-10-20T03:20:27.269335Z",
     "start_time": "2025-10-20T03:20:27.261593Z"
    }
   },
   "cell_type": "code",
   "source": [
    "p_rp = w.get_returns(\"rp\")\n",
    "p_rp_mean = p_rp.mean() * FREQ\n",
    "p_rp_vol = p_rp.std() * np.sqrt(FREQ)\n",
    "p_rp_sharpe = p_rp_mean / p_rp_vol"
   ],
   "id": "2fbf7e7a810239a6",
   "outputs": [],
   "execution_count": 18
  },
  {
   "metadata": {
    "ExecuteTime": {
     "end_time": "2025-10-20T03:23:14.193706Z",
     "start_time": "2025-10-20T03:23:14.158705Z"
    }
   },
   "cell_type": "code",
   "source": "p_rp_mean",
   "id": "7dd8d9ba9e5681b3",
   "outputs": [
    {
     "data": {
      "text/plain": [
       "0.027708203059167588"
      ]
     },
     "execution_count": 20,
     "metadata": {},
     "output_type": "execute_result"
    }
   ],
   "execution_count": 20
  },
  {
   "metadata": {
    "ExecuteTime": {
     "end_time": "2025-10-20T03:20:27.750389Z",
     "start_time": "2025-10-20T03:17:20.598388Z"
    }
   },
   "cell_type": "code",
   "source": "p_mv = w.get_returns(\"mv\")",
   "id": "df6ac27f3837699a",
   "outputs": [],
   "execution_count": 19
  },
  {
   "cell_type": "markdown",
   "id": "23ea828b",
   "metadata": {},
   "source": [
    "***"
   ]
  },
  {
   "cell_type": "markdown",
   "id": "a2a8443d",
   "metadata": {},
   "source": [
    "# 4. EXTRA: Out-of-Sample Performance"
   ]
  },
  {
   "cell_type": "markdown",
   "id": "24e4b25b",
   "metadata": {},
   "source": [
    "### 1. One-step Out-of-Sample (OOS) Performance\n",
    "Let’s divide the sample to both compute a portfolio and then check its performance out of sample.\n",
    "* Using only data through the end of `2023`, compute the weights built in Section 3.\n",
    "* Rescale the weights, (using just the in-sample data,) to set each allocation to have the same mean return of $\\tilde{\\mu}^{\\text{port}}$.\n",
    "* Using those weights, calculate the portfolio’s Sharpe ratio within that sample.\n",
    "* Again using those weights, (derived using data through `2023`,) calculate the portfolio’s OOS Sharpe ratio, which is based only on performance in `2024-2025`."
   ]
  },
  {
   "cell_type": "markdown",
   "id": "2281c023",
   "metadata": {},
   "source": [
    "### 2. Rolling OOS Performance\n",
    "\n",
    "Iterate the Out-of-Sample performance every year, not just the final year. Namely,\n",
    "* Start at the end of `2015`, and calculate the weights through that time. Rescale them using the mean returns through that time.\n",
    "* Apply the weights to the returns in the upcoming year, (`2016`.)\n",
    "* Step forward a year in time, and recompute.\n",
    "* Continue until again calculating the weights through `2023` and applying them to the returns in `2024-2025`.\n",
    "\n",
    "Report the mean, volatility, and Sharpe from this dynamic approach for the following portfolios:\n",
    "* mean-variance (tangency)\n",
    "* equally-weighted\n",
    "* risk-parity\n",
    "* regularized"
   ]
  },
  {
   "cell_type": "markdown",
   "id": "99dc96f3",
   "metadata": {},
   "source": [
    "***"
   ]
  },
  {
   "cell_type": "markdown",
   "id": "665b0cf7",
   "metadata": {},
   "source": [
    "# 5. EXTRA: Without a Riskless Asset"
   ]
  },
  {
   "cell_type": "markdown",
   "id": "b8b1ff49",
   "metadata": {},
   "source": [
    "Re-do Section 2 above, but in the model without a risk-free rate.\n",
    "\n",
    "That is, build the MV allocation using the two-part formula in the `Mean-Variance` section of the notes.\n",
    "* This essentially substitutes the risk-free rate with the minimum-variance portfolio.\n",
    "* Now, the allocation depends nonlinearly on the target mean return, $\\tilde{\\mu}^{\\text{port}}$. (With a risk-free rate, we simply scale the weights up and down to achieve the mean return.)\n",
    "\n",
    "You will find that, conceptually, the answers are very similar."
   ]
  },
  {
   "cell_type": "markdown",
   "id": "e7d5734f",
   "metadata": {},
   "source": [
    "***"
   ]
  },
  {
   "cell_type": "markdown",
   "id": "5c864754",
   "metadata": {},
   "source": [
    "# 6. EXTRA: Bayesian Allocation"
   ]
  },
  {
   "cell_type": "markdown",
   "id": "c70bb005",
   "metadata": {},
   "source": [
    "Add the following allocation among the choices in `Section 3`...\n",
    "\n",
    "#### Regularized (REG)\n",
    "Much like the Mean-Variance portfolio, set the weights proportional to \n",
    "\n",
    "$$w^{\\text{REG}} \\sim \\widehat{\\Sigma}^{-1}\\mux$$\n",
    "\n",
    "but this time, use a regularized covariance matrix,\n",
    "\n",
    "$$\\widehat{\\Sigma} = \\frac{\\Sigma + \\Sigma_D}{2}$$\n",
    "\n",
    "where $\\Sigma_D$ denotes a *diagonal* matrix of the security variances, with zeros in the off-diagonals.\n",
    "\n",
    "Thus, $\\widehat{\\Sigma}$ is obtained from the usual covariance matrix, $\\Sigma$, but shrinking all the covariances to half their estimated values."
   ]
  },
  {
   "cell_type": "markdown",
   "id": "8b3de416",
   "metadata": {},
   "source": [
    "# 7. EXTRA: Inefficient Tangency"
   ]
  },
  {
   "cell_type": "markdown",
   "id": "0e5db276",
   "metadata": {},
   "source": [
    "Return to analyzing the excess returns, as in `Section 3`. Include the hedge-fund ETF, QAI.\n",
    "\n",
    "You might find that the tangency portfolio has a negative mean return. \n",
    "- It is on the inefficient portion of the MV frontier.\n",
    "\n",
    "Calculate the optimal allocation by shorting the tangency portfolio. (That is, multiply the tangency weights by negative one to determine the allocation weights.)\n",
    "\n",
    "Re-do the analysis of Section 3. Does the addition of `QAI` change much."
   ]
  }
 ],
 "metadata": {
  "hide_input": false,
  "kernelspec": {
   "display_name": "finm",
   "language": "python",
   "name": "python3"
  },
  "language_info": {
   "codemirror_mode": {
    "name": "ipython",
    "version": 3
   },
   "file_extension": ".py",
   "mimetype": "text/x-python",
   "name": "python",
   "nbconvert_exporter": "python",
   "pygments_lexer": "ipython3",
   "version": "3.12.11"
  }
 },
 "nbformat": 4,
 "nbformat_minor": 5
}
