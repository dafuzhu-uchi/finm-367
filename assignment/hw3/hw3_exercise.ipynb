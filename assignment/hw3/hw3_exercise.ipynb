{
 "cells": [
  {
   "cell_type": "markdown",
   "id": "f7605588",
   "metadata": {},
   "source": [
    "# Exercise - VaR"
   ]
  },
  {
   "cell_type": "markdown",
   "id": "d1b6c886",
   "metadata": {},
   "source": [
    "## Data\n",
    "\n",
    "This problem uses `weekly` return data from `data/spx_returns_weekly.xlsx`.\n",
    "\n",
    "Choose any `4` stocks to evaluate below.\n",
    "\n",
    "For example, \n",
    "* `AAPL`\n",
    "* `META`\n",
    "* `NVDA`\n",
    "* `TSLA`"
   ]
  },
  {
   "cell_type": "code",
   "id": "bb723a9e",
   "metadata": {
    "ExecuteTime": {
     "end_time": "2025-10-20T22:11:13.243358Z",
     "start_time": "2025-10-20T22:11:12.842641Z"
    }
   },
   "source": [
    "import polars as pl\n",
    "import polars.selectors as cs\n",
    "import numpy as np\n",
    "from scipy import stats\n",
    "from openpyxl import load_workbook\n",
    "from finm367.utils import *\n",
    "from finm367.metrics import *\n",
    "\n",
    "xlsx_file = load_path(\"spx_returns_weekly.xlsx\")\n",
    "TICKERS = [\"AAPL\", \"META\", \"NVDA\", \"TSLA\"]\n",
    "FREQ = 52"
   ],
   "outputs": [],
   "execution_count": 11
  },
  {
   "cell_type": "code",
   "id": "723357fa",
   "metadata": {
    "ExecuteTime": {
     "end_time": "2025-10-20T22:07:38.745406Z",
     "start_time": "2025-10-20T22:07:38.720357Z"
    }
   },
   "source": [
    "wb = load_workbook(xlsx_file, read_only=True)\n",
    "print(wb.sheetnames)\n",
    "wb.close()"
   ],
   "outputs": [
    {
     "name": "stdout",
     "output_type": "stream",
     "text": [
      "['s&p500 names', 'benchmark names', 's&p500 rets', 'benchmark rets']\n"
     ]
    }
   ],
   "execution_count": 4
  },
  {
   "cell_type": "code",
   "id": "67b50127",
   "metadata": {
    "ExecuteTime": {
     "end_time": "2025-10-20T22:07:39.792959Z",
     "start_time": "2025-10-20T22:07:39.390667Z"
    }
   },
   "source": [
    "rets = pl.read_excel(xlsx_file, sheet_name='s&p500 rets')[TICKERS]\n",
    "rets.head(3)"
   ],
   "outputs": [
    {
     "data": {
      "text/plain": [
       "shape: (3, 4)\n",
       "┌───────────┬───────────┬───────────┬───────────┐\n",
       "│ AAPL      ┆ META      ┆ NVDA      ┆ TSLA      │\n",
       "│ ---       ┆ ---       ┆ ---       ┆ ---       │\n",
       "│ f64       ┆ f64       ┆ f64       ┆ f64       │\n",
       "╞═══════════╪═══════════╪═══════════╪═══════════╡\n",
       "│ 0.024514  ┆ -0.009055 ┆ -0.009315 ┆ -0.057685 │\n",
       "│ -0.053745 ┆ -0.032931 ┆ 0.000836  ┆ -0.06576  │\n",
       "│ 0.06595   ┆ 0.035255  ┆ 0.037578  ┆ 0.042575  │\n",
       "└───────────┴───────────┴───────────┴───────────┘"
      ],
      "text/html": [
       "<div><style>\n",
       ".dataframe > thead > tr,\n",
       ".dataframe > tbody > tr {\n",
       "  text-align: right;\n",
       "  white-space: pre-wrap;\n",
       "}\n",
       "</style>\n",
       "<small>shape: (3, 4)</small><table border=\"1\" class=\"dataframe\"><thead><tr><th>AAPL</th><th>META</th><th>NVDA</th><th>TSLA</th></tr><tr><td>f64</td><td>f64</td><td>f64</td><td>f64</td></tr></thead><tbody><tr><td>0.024514</td><td>-0.009055</td><td>-0.009315</td><td>-0.057685</td></tr><tr><td>-0.053745</td><td>-0.032931</td><td>0.000836</td><td>-0.06576</td></tr><tr><td>0.06595</td><td>0.035255</td><td>0.037578</td><td>0.042575</td></tr></tbody></table></div>"
      ]
     },
     "execution_count": 5,
     "metadata": {},
     "output_type": "execute_result"
    }
   ],
   "execution_count": 5
  },
  {
   "cell_type": "markdown",
   "id": "c78c32f1",
   "metadata": {},
   "source": [
    "# Diversification"
   ]
  },
  {
   "cell_type": "markdown",
   "id": "b7643e2e",
   "metadata": {},
   "source": [
    "## Unconditional Vol, VaR, cVaR\n",
    "\n",
    "Using the full sample, calculate for each series the (unconditional) \n",
    "* volatility\n",
    "* empirical VaR (.05)\n",
    "* empirical CVaR (.05)\n",
    "\n",
    "Recall that by **empirical** we refer to the direct quantile estimation. (For example, using `.quantile()` in pandas."
   ]
  },
  {
   "cell_type": "code",
   "id": "ae76e80b",
   "metadata": {
    "ExecuteTime": {
     "end_time": "2025-10-20T22:07:46.046820Z",
     "start_time": "2025-10-20T22:07:46.040518Z"
    }
   },
   "source": [
    "def calc_cvar(series: pl.Series) -> pl.Float64:\n",
    "    return series.filter(series <= series.quantile(.05)).mean()"
   ],
   "outputs": [],
   "execution_count": 6
  },
  {
   "cell_type": "code",
   "id": "e500d56e",
   "metadata": {
    "ExecuteTime": {
     "end_time": "2025-10-20T22:08:18.142081Z",
     "start_time": "2025-10-20T22:08:18.133828Z"
    }
   },
   "source": [
    "def get_risk_metrics(rets: pl.DataFrame|pl.Series) -> pl.DataFrame:\n",
    "    if isinstance(rets, pl.Series):\n",
    "        rets = rets.to_frame()\n",
    "        \n",
    "    vol = rets.std() * np.sqrt(FREQ)\n",
    "    var = rets.quantile(.05)\n",
    "    cvar = rets.select(pl.all().map_batches(calc_cvar, returns_scalar=True))\n",
    "    result = pl.concat(\n",
    "        [vol, var, cvar], how='vertical'\n",
    "    ).insert_column(\n",
    "        0, pl.Series(\"metric\", [\"vol\", \"var\", \"cvar\"])\n",
    "    )\n",
    "    return result"
   ],
   "outputs": [],
   "execution_count": 7
  },
  {
   "cell_type": "code",
   "id": "f58ed325",
   "metadata": {
    "ExecuteTime": {
     "end_time": "2025-10-20T22:08:18.954421Z",
     "start_time": "2025-10-20T22:08:18.904682Z"
    }
   },
   "source": [
    "ans1_1 = get_risk_metrics(rets)\n",
    "print(ans1_1)"
   ],
   "outputs": [
    {
     "name": "stdout",
     "output_type": "stream",
     "text": [
      "shape: (3, 5)\n",
      "┌────────┬───────────┬───────────┬───────────┬───────────┐\n",
      "│ metric ┆ AAPL      ┆ META      ┆ NVDA      ┆ TSLA      │\n",
      "│ ---    ┆ ---       ┆ ---       ┆ ---       ┆ ---       │\n",
      "│ str    ┆ f64       ┆ f64       ┆ f64       ┆ f64       │\n",
      "╞════════╪═══════════╪═══════════╪═══════════╪═══════════╡\n",
      "│ vol    ┆ 0.276629  ┆ 0.351336  ┆ 0.463283  ┆ 0.586431  │\n",
      "│ var    ┆ -0.056501 ┆ -0.07004  ┆ -0.086876 ┆ -0.117432 │\n",
      "│ cvar   ┆ -0.083125 ┆ -0.103196 ┆ -0.116455 ┆ -0.147814 │\n",
      "└────────┴───────────┴───────────┴───────────┴───────────┘\n"
     ]
    }
   ],
   "execution_count": 8
  },
  {
   "cell_type": "markdown",
   "id": "d7b3eaf3",
   "metadata": {},
   "source": [
    "Note: The volatility [output](https://markhendricks.github.io/finm-portfolio/exercises/S.3.1.%20VaR%20of%20Equity%20Portfolio_OUTPUT.html) in the textbook is incorrect. It's the result of mistakenly using `FREQ=252` to annualize the volatility."
   ]
  },
  {
   "cell_type": "markdown",
   "id": "493601a4",
   "metadata": {},
   "source": [
    "## Equally-weighted portfolio\n",
    "Form an equally-weighted portfolio of the investments.\n",
    "\n",
    "Calculate the statistics of `1.1` for this portfolio, and compare the results to the individual return statistics. What do you find? What is driving this result?\n"
   ]
  },
  {
   "cell_type": "code",
   "id": "b3e2371f",
   "metadata": {
    "ExecuteTime": {
     "end_time": "2025-10-20T22:10:37.228240Z",
     "start_time": "2025-10-20T22:10:37.179727Z"
    }
   },
   "source": [
    "eq_w_port = rets.mean_horizontal().alias(\"eq_w_rets\")\n",
    "ans1_2 = get_risk_metrics(eq_w_port)\n",
    "print(ans1_2)"
   ],
   "outputs": [
    {
     "name": "stdout",
     "output_type": "stream",
     "text": [
      "shape: (3, 2)\n",
      "┌────────┬───────────┐\n",
      "│ metric ┆ eq_w_rets │\n",
      "│ ---    ┆ ---       │\n",
      "│ str    ┆ f64       │\n",
      "╞════════╪═══════════╡\n",
      "│ vol    ┆ 0.315543  │\n",
      "│ var    ┆ -0.061982 │\n",
      "│ cvar   ┆ -0.084992 │\n",
      "└────────┴───────────┘\n"
     ]
    }
   ],
   "execution_count": 9
  },
  {
   "metadata": {
    "ExecuteTime": {
     "end_time": "2025-10-20T22:11:58.099317Z",
     "start_time": "2025-10-20T22:11:58.085073Z"
    }
   },
   "cell_type": "code",
   "source": "var_cvar(eq_w_port)",
   "id": "52fc99a00d028c0",
   "outputs": [
    {
     "data": {
      "text/plain": [
       "shape: (1, 3)\n",
       "┌───────────┬───────────┬───────────┐\n",
       "│ tickers   ┆ var       ┆ cvar      │\n",
       "│ ---       ┆ ---       ┆ ---       │\n",
       "│ str       ┆ f64       ┆ f64       │\n",
       "╞═══════════╪═══════════╪═══════════╡\n",
       "│ eq_w_rets ┆ -0.061982 ┆ -0.084992 │\n",
       "└───────────┴───────────┴───────────┘"
      ],
      "text/html": [
       "<div><style>\n",
       ".dataframe > thead > tr,\n",
       ".dataframe > tbody > tr {\n",
       "  text-align: right;\n",
       "  white-space: pre-wrap;\n",
       "}\n",
       "</style>\n",
       "<small>shape: (1, 3)</small><table border=\"1\" class=\"dataframe\"><thead><tr><th>tickers</th><th>var</th><th>cvar</th></tr><tr><td>str</td><td>f64</td><td>f64</td></tr></thead><tbody><tr><td>&quot;eq_w_rets&quot;</td><td>-0.061982</td><td>-0.084992</td></tr></tbody></table></div>"
      ]
     },
     "execution_count": 14,
     "metadata": {},
     "output_type": "execute_result"
    }
   ],
   "execution_count": 14
  },
  {
   "cell_type": "markdown",
   "id": "a2a1eb01",
   "metadata": {},
   "source": [
    "Compare with 1.1, we find that the absolute value of three risk metrics have decreased after forming the portfolio. AAPL is lowering the volatility, while other three securities are boosting it."
   ]
  },
  {
   "cell_type": "markdown",
   "id": "39781afd",
   "metadata": {},
   "source": [
    "## Drop most volatile asset\n",
    "Re-calculate `1.2`, but this time drop your most volatile asset, and replace the portion it was getting with 0. (You could imagine we're replacing the most volatile asset with a negligibly small risk-free rate.)\n",
    "\n",
    "In comparing the answer here to 1.2, how much risk is your most volatile asset adding to the portfolio? Is this in line with the amount of risk we measured in the stand-alone risk-assessment of `1.1`?"
   ]
  },
  {
   "cell_type": "code",
   "id": "ff39db94",
   "metadata": {
    "ExecuteTime": {
     "end_time": "2025-10-20T22:13:35.488232Z",
     "start_time": "2025-10-20T22:13:35.449464Z"
    }
   },
   "source": [
    "(\n",
    "    get_risk_metrics(rets).unpivot(index=\"metric\", variable_name=\"ticker\", value_name=\"value\")\n",
    "    .sort(pl.col(\"value\").abs(), descending=True)\n",
    "    .group_by(\"metric\")\n",
    "    .first()\n",
    ")"
   ],
   "outputs": [
    {
     "data": {
      "text/plain": [
       "shape: (3, 3)\n",
       "┌────────┬────────┬───────────┐\n",
       "│ metric ┆ ticker ┆ value     │\n",
       "│ ---    ┆ ---    ┆ ---       │\n",
       "│ str    ┆ str    ┆ f64       │\n",
       "╞════════╪════════╪═══════════╡\n",
       "│ cvar   ┆ TSLA   ┆ -0.147814 │\n",
       "│ vol    ┆ TSLA   ┆ 0.586431  │\n",
       "│ var    ┆ TSLA   ┆ -0.117432 │\n",
       "└────────┴────────┴───────────┘"
      ],
      "text/html": [
       "<div><style>\n",
       ".dataframe > thead > tr,\n",
       ".dataframe > tbody > tr {\n",
       "  text-align: right;\n",
       "  white-space: pre-wrap;\n",
       "}\n",
       "</style>\n",
       "<small>shape: (3, 3)</small><table border=\"1\" class=\"dataframe\"><thead><tr><th>metric</th><th>ticker</th><th>value</th></tr><tr><td>str</td><td>str</td><td>f64</td></tr></thead><tbody><tr><td>&quot;cvar&quot;</td><td>&quot;TSLA&quot;</td><td>-0.147814</td></tr><tr><td>&quot;vol&quot;</td><td>&quot;TSLA&quot;</td><td>0.586431</td></tr><tr><td>&quot;var&quot;</td><td>&quot;TSLA&quot;</td><td>-0.117432</td></tr></tbody></table></div>"
      ]
     },
     "execution_count": 15,
     "metadata": {},
     "output_type": "execute_result"
    }
   ],
   "execution_count": 15
  },
  {
   "cell_type": "markdown",
   "id": "e9544662",
   "metadata": {},
   "source": [
    "`TSLA` is the most volatile asset, drop it and replace with 0."
   ]
  },
  {
   "cell_type": "code",
   "id": "757b3b94",
   "metadata": {
    "ExecuteTime": {
     "end_time": "2025-10-20T22:13:42.398366Z",
     "start_time": "2025-10-20T22:13:42.375912Z"
    }
   },
   "source": [
    "drop_volatile = rets.drop(\"TSLA\")\n",
    "ans1_3 = get_risk_metrics(\n",
    "    drop_volatile\n",
    "    .mean_horizontal().alias(\"eq_w_rets\")\n",
    ")\n",
    "print(ans1_3)"
   ],
   "outputs": [
    {
     "name": "stdout",
     "output_type": "stream",
     "text": [
      "shape: (3, 2)\n",
      "┌────────┬───────────┐\n",
      "│ metric ┆ eq_w_rets │\n",
      "│ ---    ┆ ---       │\n",
      "│ str    ┆ f64       │\n",
      "╞════════╪═══════════╡\n",
      "│ vol    ┆ 0.291153  │\n",
      "│ var    ┆ -0.056641 │\n",
      "│ cvar   ┆ -0.080708 │\n",
      "└────────┴───────────┘\n"
     ]
    }
   ],
   "execution_count": 16
  },
  {
   "cell_type": "code",
   "id": "2440c415",
   "metadata": {
    "ExecuteTime": {
     "end_time": "2025-10-20T22:13:44.206003Z",
     "start_time": "2025-10-20T22:13:44.199592Z"
    }
   },
   "source": [
    "# compare with 1.2\n",
    "print(ans1_2)"
   ],
   "outputs": [
    {
     "name": "stdout",
     "output_type": "stream",
     "text": [
      "shape: (3, 2)\n",
      "┌────────┬───────────┐\n",
      "│ metric ┆ eq_w_rets │\n",
      "│ ---    ┆ ---       │\n",
      "│ str    ┆ f64       │\n",
      "╞════════╪═══════════╡\n",
      "│ vol    ┆ 0.315543  │\n",
      "│ var    ┆ -0.061982 │\n",
      "│ cvar   ┆ -0.084992 │\n",
      "└────────┴───────────┘\n"
     ]
    }
   ],
   "execution_count": 17
  },
  {
   "cell_type": "code",
   "id": "544c9787",
   "metadata": {
    "ExecuteTime": {
     "end_time": "2025-10-20T22:13:45.425466Z",
     "start_time": "2025-10-20T22:13:45.379741Z"
    }
   },
   "source": [
    "print(rets.corr())"
   ],
   "outputs": [
    {
     "name": "stdout",
     "output_type": "stream",
     "text": [
      "shape: (4, 4)\n",
      "┌──────────┬──────────┬──────────┬──────────┐\n",
      "│ AAPL     ┆ META     ┆ NVDA     ┆ TSLA     │\n",
      "│ ---      ┆ ---      ┆ ---      ┆ ---      │\n",
      "│ f64      ┆ f64      ┆ f64      ┆ f64      │\n",
      "╞══════════╪══════════╪══════════╪══════════╡\n",
      "│ 1.0      ┆ 0.429349 ┆ 0.492375 ┆ 0.453314 │\n",
      "│ 0.429349 ┆ 1.0      ┆ 0.426005 ┆ 0.274745 │\n",
      "│ 0.492375 ┆ 0.426005 ┆ 1.0      ┆ 0.415838 │\n",
      "│ 0.453314 ┆ 0.274745 ┆ 0.415838 ┆ 1.0      │\n",
      "└──────────┴──────────┴──────────┴──────────┘\n"
     ]
    }
   ],
   "execution_count": 18
  },
  {
   "cell_type": "markdown",
   "id": "a078dbaa",
   "metadata": {},
   "source": [
    "***"
   ]
  },
  {
   "cell_type": "markdown",
   "id": "99dc32f0",
   "metadata": {},
   "source": [
    "# Dynamic Measures"
   ]
  },
  {
   "cell_type": "markdown",
   "id": "2c676dfa",
   "metadata": {},
   "source": [
    "## Conditional vol, VaR, cVaR\n",
    "\n",
    "Let's measure the **conditional** statistics of the equally-weighted portfolio of `1.2`, as of the end of the sample.\n",
    "\n",
    "#### Volatility\n",
    "For each security, calculate the **rolling** volatility series, $\\sigma_t$, with a window of $m=26$.\n",
    "\n",
    "The value at $\\sigma_t$ in the notes denotes the estimate using data through time $t-1$, and thus (potentially) predicting the volatility at $\\sigma_{t}$. \n",
    "\n",
    "#### Mean\n",
    "Suppose we can approximate that the daily mean return is zero.\n",
    "\n",
    "#### VaR\n",
    "Calculate the **normal VaR** and **normal CVaR** for $q=.05$ and $\\tau=1$ as of the end of the sample.Use the approximation, $\\texttt{z}_{.05} = -1.65$.\n",
    "\n",
    "#### Notation Note\n",
    "In this setup, we are using a forecasted volatility, $\\sigma_t$ to estimate the VaR return we would have estimated at the end of $t-1$ in prediction of time $t$.\n",
    "\n",
    "#### Conclude and Compare\n",
    "Report\n",
    "* volatility (annualized).\n",
    "* normal VaR (.05)\n",
    "* normal CVaR (.05)\n",
    "\n",
    "How do these compare to the answers in `1.2`?"
   ]
  },
  {
   "cell_type": "markdown",
   "id": "948c49e2",
   "metadata": {},
   "source": [
    "**Setup:**\n",
    "- Returns: $r_{\\tau,t} \\sim N(\\mu_{\\tau,t}, \\sigma_{\\tau,t}^2)$\n",
    "- Standardized: $z = \\frac{r_{\\tau,t} - \\mu_{\\tau,t}}{\\sigma_{\\tau,t}} \\sim N(0,1)$\n",
    "- Quantile: $P(z \\leq z_q) = q$\n",
    "\n",
    "**Key Result for Truncated Normal:**\n",
    "$$E[z \\mid z < z_q] = -\\frac{\\phi_z(z_q)}{\\Phi_z(z_q)}$$\n",
    "\n",
    "**Proof:**\n",
    "$$E[z \\mid z < z_q] = \\frac{E[z\\textbf{1}_{\\{z < z_q\\}}]}{P(z < z_q)}= \\frac{\\int_{-\\infty}^{z_q} z \\cdot \\phi_z(z) \\, dz}{\\Phi_z(z_q)}$$\n",
    "\n",
    "Since $\\phi_z(z)=\\frac{1}{\\sqrt{2\\pi}}e^{-z^2/2}$ and $\\frac{d}{dz}\\phi_z(z) = -z \\cdot \\phi_z(z)$:\n",
    "\n",
    "$$\\int_{-\\infty}^{z_q} z \\cdot \\phi_z(z) \\, dz = -[\\phi_z(z)]_{-\\infty}^{z_q} = -\\phi_z(z_q)$$\n",
    "\n",
    "Therefore: $E[z \\mid z < z_q] = -\\frac{\\phi_z(z_q)}{\\Phi_z(z_q)} = -\\frac{\\phi_z(z_q)}{q}$\n",
    "\n",
    "**CVaR Formula:**\n",
    "$$\\text{CVaR}_{q,\\tau} = E[r_{\\tau,t} \\mid r_{\\tau,t} \\leq \\text{VaR}_{q,\\tau}]$$\n",
    "$$= \\mu_{\\tau,t} + \\sigma_{\\tau,t} \\cdot E[z \\mid z < z_q]$$\n",
    "$$= \\mu_{\\tau,t} - \\frac{\\phi_z(z_q)}{q} \\sigma_{\\tau,t}$$\n",
    "\n",
    "**Compare with VaR:**\n",
    "- VaR: $\\mu_{\\tau,t} + z_q \\sigma_{\\tau,t}$\n",
    "- CVaR: $\\mu_{\\tau,t} - \\frac{\\phi_z(z_q)}{q} \\sigma_{\\tau,t}$\n",
    "\n",
    "Both are linear in $\\mu$ and $\\sigma$ (sufficient statistics for normal distribution)"
   ]
  },
  {
   "cell_type": "markdown",
   "id": "eccd7f2a",
   "metadata": {},
   "source": [
    "Implementation:\n",
    "- $z_q$: `stats.norm.ppf(q)`\n",
    "- $\\phi_z(z_q)$: `stats.norm.pdf(z_q)`"
   ]
  },
  {
   "cell_type": "markdown",
   "id": "2714b4f1",
   "metadata": {},
   "source": [
    "**Volatility (annualized)**"
   ]
  },
  {
   "cell_type": "code",
   "id": "afc8228c",
   "metadata": {
    "ExecuteTime": {
     "end_time": "2025-10-20T22:16:08.944046Z",
     "start_time": "2025-10-20T22:16:08.939510Z"
    }
   },
   "source": [
    "# annualized rolling vol\n",
    "def annual_rolling_vol(rets: pl.DataFrame|pl.Series, freq, window=26) -> pl.DataFrame:\n",
    "    rets = to_frame(rets)\n",
    "    res = rets.with_columns(\n",
    "        pl.all().rolling_std(window_size=window)\n",
    "        .mul(np.sqrt(freq)).name.suffix(\"_vol\")\n",
    "    ).drop_nulls()\n",
    "\n",
    "    return res.select(cs.ends_with(\"_vol\")).rename(lambda col: col[:-4])"
   ],
   "outputs": [],
   "execution_count": 24
  },
  {
   "cell_type": "code",
   "id": "ee7a037f",
   "metadata": {
    "ExecuteTime": {
     "end_time": "2025-10-20T22:16:09.246095Z",
     "start_time": "2025-10-20T22:16:09.232359Z"
    }
   },
   "source": [
    "roll_vol = (\n",
    "    pl.concat([\n",
    "        annual_rolling_vol(rets, FREQ)[-1, :],\n",
    "        annual_rolling_vol(eq_w_port, FREQ)[-1, :]\n",
    "        .select(pl.all().alias(\"portfolio\"))\n",
    "    ], how=\"horizontal\")\n",
    ")\n",
    "print(roll_vol)"
   ],
   "outputs": [
    {
     "name": "stdout",
     "output_type": "stream",
     "text": [
      "shape: (1, 5)\n",
      "┌──────────┬─────────┬──────────┬──────────┬───────────┐\n",
      "│ AAPL     ┆ META    ┆ NVDA     ┆ TSLA     ┆ portfolio │\n",
      "│ ---      ┆ ---     ┆ ---      ┆ ---      ┆ ---       │\n",
      "│ f64      ┆ f64     ┆ f64      ┆ f64      ┆ f64       │\n",
      "╞══════════╪═════════╪══════════╪══════════╪═══════════╡\n",
      "│ 0.371224 ┆ 0.41831 ┆ 0.598249 ┆ 0.598597 ┆ 0.38975   │\n",
      "└──────────┴─────────┴──────────┴──────────┴───────────┘\n"
     ]
    }
   ],
   "execution_count": 25
  },
  {
   "cell_type": "markdown",
   "id": "66d940cf",
   "metadata": {},
   "source": [
    "**normal VaR (0.05) and normal cVaR (0.05)**\n",
    "\n"
   ]
  },
  {
   "cell_type": "code",
   "id": "eca9f401",
   "metadata": {
    "ExecuteTime": {
     "end_time": "2025-10-20T22:18:55.213214Z",
     "start_time": "2025-10-20T22:18:55.206032Z"
    }
   },
   "source": [
    "def calc_var_cvar(\n",
    "    rets: pl.DataFrame|pl.Series, \n",
    "    conditional: bool=False, \n",
    "    type: str=\"var\", \n",
    "    q: pl.Float64=.05\n",
    ") -> pl.DataFrame:\n",
    "    \"\"\"\n",
    "    Args:\n",
    "        - rets: rows are periodic returns, cols are tickers\n",
    "        - conditional: assume normal dist or not\n",
    "        - type: \"var\" or \"cvar\"\n",
    "        - q: quantile\n",
    "    Return:\n",
    "        - a 1*(rets.width) shape DataFrame\n",
    "    \"\"\"\n",
    "    z = stats.norm.ppf(q)\n",
    "    vol_annual = annual_rolling_vol(rets, FREQ)[-1, :]\n",
    "    vol_daily = vol_annual / np.sqrt(252)\n",
    "    if type == \"var\":\n",
    "        if not conditional:\n",
    "            var = rets.quantile(q)\n",
    "            return var\n",
    "        else:\n",
    "            # assume daily mean is 0\n",
    "            return 0 + vol_daily * z\n",
    "    elif type == \"cvar\":\n",
    "        if not conditional:\n",
    "            cvar = rets.select(pl.all().map_batches(calc_cvar, returns_scalar=True))\n",
    "            return cvar\n",
    "        else:\n",
    "            return 0 + vol_daily * (-1) * stats.norm.pdf(z) / q"
   ],
   "outputs": [],
   "execution_count": 29
  },
  {
   "cell_type": "code",
   "id": "797c748c",
   "metadata": {
    "ExecuteTime": {
     "end_time": "2025-10-20T22:18:55.662977Z",
     "start_time": "2025-10-20T22:18:55.656438Z"
    }
   },
   "source": [
    "# concat individual stock and portfolio return\n",
    "total_rets = pl.concat(\n",
    "    [rets, eq_w_port.to_frame()], how=\"horizontal\"\n",
    ").rename({\"eq_w_rets\": \"portfolio\"})\n",
    "total_rets.head(3)"
   ],
   "outputs": [
    {
     "data": {
      "text/plain": [
       "shape: (3, 5)\n",
       "┌───────────┬───────────┬───────────┬───────────┬───────────┐\n",
       "│ AAPL      ┆ META      ┆ NVDA      ┆ TSLA      ┆ portfolio │\n",
       "│ ---       ┆ ---       ┆ ---       ┆ ---       ┆ ---       │\n",
       "│ f64       ┆ f64       ┆ f64       ┆ f64       ┆ f64       │\n",
       "╞═══════════╪═══════════╪═══════════╪═══════════╪═══════════╡\n",
       "│ 0.024514  ┆ -0.009055 ┆ -0.009315 ┆ -0.057685 ┆ -0.012885 │\n",
       "│ -0.053745 ┆ -0.032931 ┆ 0.000836  ┆ -0.06576  ┆ -0.0379   │\n",
       "│ 0.06595   ┆ 0.035255  ┆ 0.037578  ┆ 0.042575  ┆ 0.04534   │\n",
       "└───────────┴───────────┴───────────┴───────────┴───────────┘"
      ],
      "text/html": [
       "<div><style>\n",
       ".dataframe > thead > tr,\n",
       ".dataframe > tbody > tr {\n",
       "  text-align: right;\n",
       "  white-space: pre-wrap;\n",
       "}\n",
       "</style>\n",
       "<small>shape: (3, 5)</small><table border=\"1\" class=\"dataframe\"><thead><tr><th>AAPL</th><th>META</th><th>NVDA</th><th>TSLA</th><th>portfolio</th></tr><tr><td>f64</td><td>f64</td><td>f64</td><td>f64</td><td>f64</td></tr></thead><tbody><tr><td>0.024514</td><td>-0.009055</td><td>-0.009315</td><td>-0.057685</td><td>-0.012885</td></tr><tr><td>-0.053745</td><td>-0.032931</td><td>0.000836</td><td>-0.06576</td><td>-0.0379</td></tr><tr><td>0.06595</td><td>0.035255</td><td>0.037578</td><td>0.042575</td><td>0.04534</td></tr></tbody></table></div>"
      ]
     },
     "execution_count": 30,
     "metadata": {},
     "output_type": "execute_result"
    }
   ],
   "execution_count": 30
  },
  {
   "cell_type": "code",
   "id": "5d9cd35f",
   "metadata": {
    "ExecuteTime": {
     "end_time": "2025-10-20T22:18:56.494718Z",
     "start_time": "2025-10-20T22:18:56.445745Z"
    }
   },
   "source": [
    "uncon_var = calc_var_cvar(total_rets, conditional=False, type=\"var\")\n",
    "con_var = calc_var_cvar(total_rets, conditional=True, type=\"var\")\n",
    "ucon_cvar = calc_var_cvar(total_rets, conditional=False, type=\"cvar\")\n",
    "con_cvar = calc_var_cvar(total_rets, conditional=True, type=\"cvar\")"
   ],
   "outputs": [],
   "execution_count": 31
  },
  {
   "cell_type": "code",
   "id": "101459a6",
   "metadata": {
    "ExecuteTime": {
     "end_time": "2025-10-20T22:18:59.622201Z",
     "start_time": "2025-10-20T22:18:59.612598Z"
    }
   },
   "source": [
    "summary = {\n",
    "    \"conditional\": [False, True, False, True],\n",
    "    \"type\": [\"var\", \"var\", \"cvar\", \"cvar\"]\n",
    "}\n",
    "\n",
    "# Add the value columns\n",
    "tickers = total_rets.schema.names()\n",
    "results = [uncon_var, con_var, ucon_cvar, con_cvar]\n",
    "for ticker in tickers:\n",
    "    summary[f\"{ticker}\"] = [result[ticker][0] for result in results]\n",
    "\n",
    "ans2_1 = pl.DataFrame(summary)\n",
    "print(ans2_1)"
   ],
   "outputs": [
    {
     "name": "stdout",
     "output_type": "stream",
     "text": [
      "shape: (4, 7)\n",
      "┌─────────────┬──────┬───────────┬───────────┬───────────┬───────────┬───────────┐\n",
      "│ conditional ┆ type ┆ AAPL      ┆ META      ┆ NVDA      ┆ TSLA      ┆ portfolio │\n",
      "│ ---         ┆ ---  ┆ ---       ┆ ---       ┆ ---       ┆ ---       ┆ ---       │\n",
      "│ bool        ┆ str  ┆ f64       ┆ f64       ┆ f64       ┆ f64       ┆ f64       │\n",
      "╞═════════════╪══════╪═══════════╪═══════════╪═══════════╪═══════════╪═══════════╡\n",
      "│ false       ┆ var  ┆ -0.056501 ┆ -0.07004  ┆ -0.086876 ┆ -0.117432 ┆ -0.061982 │\n",
      "│ true        ┆ var  ┆ -0.038465 ┆ -0.043344 ┆ -0.061988 ┆ -0.062024 ┆ -0.040384 │\n",
      "│ false       ┆ cvar ┆ -0.083125 ┆ -0.103196 ┆ -0.116455 ┆ -0.147814 ┆ -0.084992 │\n",
      "│ true        ┆ cvar ┆ -0.048236 ┆ -0.054355 ┆ -0.077736 ┆ -0.077781 ┆ -0.050644 │\n",
      "└─────────────┴──────┴───────────┴───────────┴───────────┴───────────┴───────────┘\n"
     ]
    }
   ],
   "execution_count": 32
  },
  {
   "cell_type": "markdown",
   "id": "63a0f096",
   "metadata": {},
   "source": [
    "## Hit test\n",
    "\n",
    "Backtest the VaR using the **hit test**. Namely, check how many times the realized return at $t$ was smaller than the VaR return calculated using $\\sigma_t$, (where again remember the notation in the notes uses $\\sigma_t$ as a vol based on data through $t-1$.)\n",
    "\n",
    "Report the percentage of \"hits\" using both the \n",
    "* expanding volatility\n",
    "* rolling volatility"
   ]
  },
  {
   "cell_type": "code",
   "id": "95e1512d",
   "metadata": {
    "ExecuteTime": {
     "end_time": "2025-10-20T22:19:05.065648Z",
     "start_time": "2025-10-20T22:19:05.057535Z"
    }
   },
   "source": [
    "from dataclasses import dataclass\n",
    "\n",
    "@dataclass\n",
    "class BacktestResults:\n",
    "    \"\"\"Container for backtest results\"\"\"\n",
    "    hit_rate: float\n",
    "    num_hits: int\n",
    "    num_observations: int\n",
    "    expected_hit_rate: float\n",
    "    hit_series: pl.Series\n",
    "    var_series: pl.Series\n",
    "    \n",
    "    def __repr__(self) -> str:\n",
    "        return (\n",
    "            f\"BacktestResults(\\n\"\n",
    "            f\"  Hit Rate: {self.hit_rate:.2%}\\n\"\n",
    "            f\"  Expected: {self.expected_hit_rate:.2%}\\n\"\n",
    "            f\"  Hits: {self.num_hits} / {self.num_observations}\\n\"\n",
    "            f\")\"\n",
    "        )"
   ],
   "outputs": [],
   "execution_count": 33
  },
  {
   "cell_type": "code",
   "id": "765a81d6",
   "metadata": {
    "ExecuteTime": {
     "end_time": "2025-10-20T22:19:05.938577Z",
     "start_time": "2025-10-20T22:19:05.925200Z"
    }
   },
   "source": [
    "class Backtest:\n",
    "\n",
    "    def __init__(\n",
    "            self,\n",
    "            data: pl.DataFrame,\n",
    "            ticker: str = \"AAPL\",\n",
    "            loss_prob: float = 0.05\n",
    "    ) -> None:\n",
    "        \n",
    "        self.data = data\n",
    "        self.ticker = ticker\n",
    "        self.q = loss_prob\n",
    "        \n",
    "        if ticker not in self.data.columns:\n",
    "            raise ValueError(f\"Ticker '{ticker}' not found in data\")\n",
    "    \n",
    "    def calc_expanding_vol(self, min_periods: int=26) -> pl.DataFrame:\n",
    "        result = self.data.with_columns(\n",
    "            pl.col(self.ticker).shift(1)\n",
    "            .cumulative_eval(\n",
    "                pl.element().std()\n",
    "            )\n",
    "            .alias(\"vol_expanding\")\n",
    "        )\n",
    "        return result[min_periods:, :]\n",
    "    \n",
    "    def calc_rolling_vol(\n",
    "            self,\n",
    "            window_size: int = 26,\n",
    "            min_periods: int = 26\n",
    "    ) -> pl.DataFrame:\n",
    "        result = self.data.with_columns(\n",
    "            pl.col(self.ticker).shift(1)\n",
    "            .rolling_std(window_size=window_size, min_samples=min_periods)\n",
    "            .alias(\"vol_rolling\")\n",
    "        ).drop_nulls()\n",
    "        return result\n",
    "    \n",
    "    def _calc_var(\n",
    "            self,\n",
    "            test_df: pl.DataFrame,\n",
    "            vol_col: str = \"vol_expanding\",\n",
    "            mean_return: float = 0.\n",
    "    ) -> pl.Series:\n",
    "        \"\"\"\n",
    "        Calculate conditional (normal) VaR value series\n",
    "        Args:\n",
    "            - test_df: DataFrame with volatility column\n",
    "            - vol_col: column name for vol\n",
    "            - mean_return: typical to ignore\n",
    "        Return:\n",
    "            - VaR value over time\n",
    "        \"\"\"\n",
    "        z = stats.norm.ppf(self.q)\n",
    "        var = test_df.select(\n",
    "            (pl.lit(mean_return) + z * pl.col(vol_col))\n",
    "            .alias(\"var\")\n",
    "        )[\"var\"]\n",
    "        return var\n",
    "    \n",
    "    def hit_test(\n",
    "            self,\n",
    "            method: str = \"expanding\",\n",
    "            params: dict = {}\n",
    "    ) -> BacktestResults:\n",
    "        \n",
    "        window_size, min_periods = params[\"window_size\"], params[\"min_periods\"]\n",
    "\n",
    "        if method == \"expanding\":\n",
    "            test_df = self.calc_expanding_vol(min_periods)\n",
    "        elif method == \"rolling\":\n",
    "            test_df = self.calc_rolling_vol(window_size, min_periods)\n",
    "        else:\n",
    "            raise ValueError(\"Can only enter 'expanding' or 'rolling' for method\")\n",
    "        \n",
    "        vol_col = f\"vol_{method}\"\n",
    "        var_series = self._calc_var(test_df, vol_col=vol_col, mean_return=0)\n",
    "        test_df = test_df.with_columns(\n",
    "            var_series.alias(\"var\"),\n",
    "        ).with_columns(\n",
    "            (pl.col(self.ticker) < pl.col(\"var\"))\n",
    "            .cast(pl.Int32)\n",
    "            .alias(\"hit\")\n",
    "        )\n",
    "\n",
    "        n_hit = test_df.select(\"hit\").sum().to_numpy()[0][0]\n",
    "        n_obs = test_df.select(pl.len()).cast(pl.Int32).to_numpy()[0][0]\n",
    "        hit_rate = n_hit / n_obs\n",
    "        expd_hit_rate = self.q  # prob of loss exceeding q\n",
    "        hit_series = test_df.select(\"hit\")\n",
    "        var_series = test_df.select(vol_col)\n",
    "\n",
    "        return BacktestResults(\n",
    "            hit_rate, n_hit, n_obs, expd_hit_rate, hit_series, var_series\n",
    "        )\n",
    "    \n",
    "    def run(self, params):\n",
    "        results = {}\n",
    "        results[\"expanding\"] = self.hit_test(method=\"expanding\", params=params)\n",
    "        results[\"rolling\"] = self.hit_test(method=\"rolling\", params=params)\n",
    "        return results"
   ],
   "outputs": [],
   "execution_count": 34
  },
  {
   "cell_type": "code",
   "id": "97eb493a",
   "metadata": {
    "ExecuteTime": {
     "end_time": "2025-10-20T22:19:06.848588Z",
     "start_time": "2025-10-20T22:19:06.788201Z"
    }
   },
   "source": [
    "expanding = []\n",
    "rolling = []\n",
    "for ticker in tickers:\n",
    "    bt = Backtest(total_rets, ticker, .05)\n",
    "    params = {\"window_size\": 26, \"min_periods\": 26}\n",
    "    results = bt.run(params)\n",
    "    expanding.append(results[\"expanding\"].hit_rate)\n",
    "    rolling.append(results[\"rolling\"].hit_rate)\n",
    "\n",
    "print(\n",
    "    pl.DataFrame({\n",
    "        'tickers': tickers,\n",
    "        'expanding_hit_rate': expanding,\n",
    "        'rolling_hit_rate': rolling\n",
    "    })\n",
    ")"
   ],
   "outputs": [
    {
     "name": "stdout",
     "output_type": "stream",
     "text": [
      "shape: (5, 3)\n",
      "┌───────────┬────────────────────┬──────────────────┐\n",
      "│ tickers   ┆ expanding_hit_rate ┆ rolling_hit_rate │\n",
      "│ ---       ┆ ---                ┆ ---              │\n",
      "│ str       ┆ f64                ┆ f64              │\n",
      "╞═══════════╪════════════════════╪══════════════════╡\n",
      "│ AAPL      ┆ 0.044574           ┆ 0.052326         │\n",
      "│ META      ┆ 0.04845            ┆ 0.044574         │\n",
      "│ NVDA      ┆ 0.02907            ┆ 0.044574         │\n",
      "│ TSLA      ┆ 0.065891           ┆ 0.052326         │\n",
      "│ portfolio ┆ 0.052326           ┆ 0.042636         │\n",
      "└───────────┴────────────────────┴──────────────────┘\n"
     ]
    }
   ],
   "execution_count": 35
  },
  {
   "metadata": {},
   "cell_type": "code",
   "outputs": [],
   "execution_count": null,
   "source": "",
   "id": "32d98fc288b1d8"
  }
 ],
 "metadata": {
  "hide_input": false,
  "kernelspec": {
   "display_name": "finm",
   "language": "python",
   "name": "python3"
  },
  "language_info": {
   "codemirror_mode": {
    "name": "ipython",
    "version": 3
   },
   "file_extension": ".py",
   "mimetype": "text/x-python",
   "name": "python",
   "nbconvert_exporter": "python",
   "pygments_lexer": "ipython3",
   "version": "3.12.11"
  }
 },
 "nbformat": 4,
 "nbformat_minor": 5
}
