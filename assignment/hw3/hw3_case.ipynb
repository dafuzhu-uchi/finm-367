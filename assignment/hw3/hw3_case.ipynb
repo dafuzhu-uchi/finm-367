{
 "cells": [
  {
   "cell_type": "markdown",
   "metadata": {},
   "source": [
    "# Barnstable and Long-Run Risk\n",
    "\n",
    "## HBS Case\n",
    "\n",
    "### *The Risk of Stocks in the Long-Run: The Barnstable College Endowment*"
   ]
  },
  {
   "cell_type": "markdown",
   "metadata": {},
   "source": [
    "***"
   ]
  },
  {
   "cell_type": "markdown",
   "metadata": {},
   "source": [
    "# 2. Estimating Underperformance\n",
    "\n",
    "### Data\n",
    "\n",
    "Use the returns on the S&P 500 ($r^m$) and 1-month T-bills, ($r^f$) provided in `barnstable_analysis_data.xlsx`.\n",
    "* Data goes through `END_YR=2024`.\n",
    "\n",
    "Barnstable's estimates of mean and volatility are based on the subsample of 1965 to 1999.\n",
    "* We consider this subsample, as well as 2000-{END_YR}, as well as the full sample of 1926-{END_YR}."
   ]
  },
  {
   "cell_type": "markdown",
   "metadata": {},
   "source": [
    "### Notation\n",
    "\n",
    "* $r$ = level return rates\n",
    "* $R$ = cumulative return factor\n",
    "* $\\texttt{r}$ = log return rates\n",
    "\n",
    "$$ R \\equiv 1+r$$\n",
    "\n",
    "$$ \\texttt{r} \\equiv \\ln(1+r) = \\ln(R)$$"
   ]
  },
  {
   "cell_type": "code",
   "execution_count": 1,
   "metadata": {},
   "outputs": [
    {
     "data": {
      "text/html": [
       "<div><style>\n",
       ".dataframe > thead > tr,\n",
       ".dataframe > tbody > tr {\n",
       "  text-align: right;\n",
       "  white-space: pre-wrap;\n",
       "}\n",
       "</style>\n",
       "<small>shape: (5, 3)</small><table border=\"1\" class=\"dataframe\"><thead><tr><th>date</th><th>SPX</th><th>TB1M</th></tr><tr><td>date</td><td>f64</td><td>f64</td></tr></thead><tbody><tr><td>2024-08-30</td><td>0.024283</td><td>0.00438</td></tr><tr><td>2024-09-30</td><td>0.022821</td><td>0.003826</td></tr><tr><td>2024-10-31</td><td>-0.00869</td><td>0.003752</td></tr><tr><td>2024-11-29</td><td>0.06042</td><td>0.003475</td></tr><tr><td>2024-12-31</td><td>-0.023445</td><td>0.003337</td></tr></tbody></table></div>"
      ],
      "text/plain": [
       "shape: (5, 3)\n",
       "┌────────────┬───────────┬──────────┐\n",
       "│ date       ┆ SPX       ┆ TB1M     │\n",
       "│ ---        ┆ ---       ┆ ---      │\n",
       "│ date       ┆ f64       ┆ f64      │\n",
       "╞════════════╪═══════════╪══════════╡\n",
       "│ 2024-08-30 ┆ 0.024283  ┆ 0.00438  │\n",
       "│ 2024-09-30 ┆ 0.022821  ┆ 0.003826 │\n",
       "│ 2024-10-31 ┆ -0.00869  ┆ 0.003752 │\n",
       "│ 2024-11-29 ┆ 0.06042   ┆ 0.003475 │\n",
       "│ 2024-12-31 ┆ -0.023445 ┆ 0.003337 │\n",
       "└────────────┴───────────┴──────────┘"
      ]
     },
     "execution_count": 1,
     "metadata": {},
     "output_type": "execute_result"
    }
   ],
   "source": [
    "import polars as pl\n",
    "import polars.selectors as cs\n",
    "import math\n",
    "from datetime import datetime\n",
    "import calendar\n",
    "\n",
    "FREQ = 12\n",
    "END_YR = 2024\n",
    "\n",
    "xlsx_file = \"../data/barnstable_analysis_data.xlsx\"\n",
    "raw = pl.read_excel(xlsx_file, sheet_name=\"data\")\n",
    "raw.tail()"
   ]
  },
  {
   "cell_type": "code",
   "execution_count": 2,
   "metadata": {},
   "outputs": [],
   "source": [
    "# add excess return\n",
    "df = raw.with_columns(pl.col(\"SPX\").sub(pl.col(\"TB1M\")).alias(\"excess\"))"
   ]
  },
  {
   "cell_type": "code",
   "execution_count": 3,
   "metadata": {},
   "outputs": [],
   "source": [
    "def parse_date(date_str: str, is_end: bool = False) -> datetime:\n",
    "    \"\"\"Parse date string with flexible format, defaulting to first day.\"\"\"\n",
    "    if date_str is None:\n",
    "        return None\n",
    "    \n",
    "    # Try different formats\n",
    "    for fmt in [\"%Y-%m-%d\", \"%Y-%m\", \"%Y\"]:\n",
    "        try:\n",
    "            dt = datetime.strptime(date_str, fmt)\n",
    "            if fmt == \"%Y-%m\" and is_end:\n",
    "                last_day = calendar.monthrange(dt.year, dt.month)[1]\n",
    "                return dt.replace(day=last_day)\n",
    "            elif fmt == \"%Y\" and is_end:\n",
    "                return dt.replace(month=12, day=31)\n",
    "            return dt\n",
    "        except ValueError:\n",
    "            continue\n",
    "    \n",
    "    raise ValueError(f\"Date string '{date_str}' doesn't match any supported format (%Y-%m-%d, %Y-%m, or %Y)\")"
   ]
  },
  {
   "cell_type": "code",
   "execution_count": 4,
   "metadata": {},
   "outputs": [],
   "source": [
    "def get_period(\n",
    "        data: pl.DataFrame, \n",
    "        start_str: str = None, \n",
    "        end_str: str = None\n",
    "    ) -> pl.DataFrame:\n",
    "    \"\"\"\n",
    "    Args:\n",
    "        - data: pl.DataFrame\n",
    "        - start_str: Date string in format %Y-%m-%d, %Y-%m, or %Y\n",
    "        - end_str: Date string in format %Y-%m-%d, %Y-%m, or %Y\n",
    "    \"\"\"\n",
    "    start_day = parse_date(start_str)\n",
    "    end_day = parse_date(end_str, is_end=True)\n",
    "    \n",
    "    if start_day is None and end_day is None:\n",
    "        tb = data\n",
    "    elif start_day and end_day:\n",
    "        tb = data.filter(pl.col(\"date\").is_between(start_day, end_day))\n",
    "    elif start_day:\n",
    "        tb = data.filter(pl.col(\"date\").ge(start_day))\n",
    "    elif end_day:\n",
    "        tb = data.filter(pl.col(\"date\").le(end_day))\n",
    "    \n",
    "    return tb\n",
    "\n",
    "def log_series(series: pl.Series) -> pl.Series:\n",
    "    return (series + 1).log(base=math.exp(1))\n",
    "\n",
    "def log_dataframe(df: pl.DataFrame) -> pl.DataFrame:\n",
    "    return df.with_columns([\n",
    "        log_series(pl.col(col)).alias(col)\n",
    "        for col in df.columns if df.schema[col] == pl.Float64\n",
    "    ])"
   ]
  },
  {
   "cell_type": "code",
   "execution_count": 5,
   "metadata": {},
   "outputs": [],
   "source": [
    "def get_stat(\n",
    "        data: pl.DataFrame, \n",
    "        start_str: str = None, \n",
    "        end_str: str = None\n",
    "    ) -> pl.DataFrame:\n",
    "    result = (\n",
    "        get_period(data, start_str, end_str)\n",
    "        .drop(\"date\")\n",
    "        .describe()\n",
    "        .filter(\n",
    "            pl.col(\"statistic\").is_in([\"mean\", \"std\"])\n",
    "        )\n",
    "        .with_columns(\n",
    "            pl.when(pl.col(\"statistic\") == \"mean\")\n",
    "            .then(cs.float() * FREQ)\n",
    "            .when(pl.col(\"statistic\") == \"std\")\n",
    "            .then(cs.float() * math.sqrt(FREQ))  # Annualize std differently\n",
    "            .otherwise(cs.float())\n",
    "            .name.keep()\n",
    "        )\n",
    "    )\n",
    "    \n",
    "    return result"
   ]
  },
  {
   "cell_type": "markdown",
   "metadata": {},
   "source": [
    "### 1. Summary Statistics\n",
    "\n",
    "Report the following (annualized) statistics.\n",
    "\n",
    "| | 1965-1999 | | | 2000-{END_YR} | | | 1926-{END_YR} | | |\n",
    "|---|---|---|---|---|---|---|---|---|---|\n",
    "| |  | mean | vol |  mean | vol | | mean | vol |\n",
    "| **levels** | $r^m$ |0.129354 |0.149405 |0.087542 |0.152815 | |0.115529 |0.18665 |\n",
    "| | $\\tilde{r}^m$ |0.06866 |0.150227 |0.070091 |0.153093 | |0.083308 |0.187329 |\n",
    "| | $r^f$ |0.061503 |0.007179 |0.017451 |0.005553 | |0.031928 |0.008507 |\n",
    "| **logs** | $\\texttt{r}^m$ |0.1176 |0.149568 |0.075553 |0.153763 | |0.097821 |0.185938 |\n",
    "| | $\\tilde{\\texttt{r}}^m$ |0.057161 |0.151207 |0.058143 |0.154227 | |0.065673 |0.186914 |\n",
    "| | $\\texttt{r}_f$ |0.06132 |0.007132 |0.017423 |0.005541 | |0.03185 |0.008473 |\n",
    "\n",
    "* Comment on how the full-sample return stats compare to the sub-sample stats.\n",
    "* Comment on how the level stats compare to the log stats."
   ]
  },
  {
   "cell_type": "code",
   "execution_count": 6,
   "metadata": {},
   "outputs": [
    {
     "data": {
      "text/html": [
       "<div><style>\n",
       ".dataframe > thead > tr,\n",
       ".dataframe > tbody > tr {\n",
       "  text-align: right;\n",
       "  white-space: pre-wrap;\n",
       "}\n",
       "</style>\n",
       "<small>shape: (5, 4)</small><table border=\"1\" class=\"dataframe\"><thead><tr><th>date</th><th>SPX</th><th>TB1M</th><th>excess</th></tr><tr><td>date</td><td>f64</td><td>f64</td><td>f64</td></tr></thead><tbody><tr><td>2024-08-30</td><td>0.023993</td><td>0.004371</td><td>0.019707</td></tr><tr><td>2024-09-30</td><td>0.022564</td><td>0.003819</td><td>0.018817</td></tr><tr><td>2024-10-31</td><td>-0.008728</td><td>0.003745</td><td>-0.01252</td></tr><tr><td>2024-11-29</td><td>0.058665</td><td>0.003469</td><td>0.055383</td></tr><tr><td>2024-12-31</td><td>-0.023724</td><td>0.003332</td><td>-0.027147</td></tr></tbody></table></div>"
      ],
      "text/plain": [
       "shape: (5, 4)\n",
       "┌────────────┬───────────┬──────────┬───────────┐\n",
       "│ date       ┆ SPX       ┆ TB1M     ┆ excess    │\n",
       "│ ---        ┆ ---       ┆ ---      ┆ ---       │\n",
       "│ date       ┆ f64       ┆ f64      ┆ f64       │\n",
       "╞════════════╪═══════════╪══════════╪═══════════╡\n",
       "│ 2024-08-30 ┆ 0.023993  ┆ 0.004371 ┆ 0.019707  │\n",
       "│ 2024-09-30 ┆ 0.022564  ┆ 0.003819 ┆ 0.018817  │\n",
       "│ 2024-10-31 ┆ -0.008728 ┆ 0.003745 ┆ -0.01252  │\n",
       "│ 2024-11-29 ┆ 0.058665  ┆ 0.003469 ┆ 0.055383  │\n",
       "│ 2024-12-31 ┆ -0.023724 ┆ 0.003332 ┆ -0.027147 │\n",
       "└────────────┴───────────┴──────────┴───────────┘"
      ]
     },
     "execution_count": 6,
     "metadata": {},
     "output_type": "execute_result"
    }
   ],
   "source": [
    "log_df = log_dataframe(df)\n",
    "log_df.tail()"
   ]
  },
  {
   "cell_type": "code",
   "execution_count": 7,
   "metadata": {},
   "outputs": [
    {
     "data": {
      "text/html": [
       "<div><style>\n",
       ".dataframe > thead > tr,\n",
       ".dataframe > tbody > tr {\n",
       "  text-align: right;\n",
       "  white-space: pre-wrap;\n",
       "}\n",
       "</style>\n",
       "<small>shape: (2, 4)</small><table border=\"1\" class=\"dataframe\"><thead><tr><th>statistic</th><th>SPX</th><th>TB1M</th><th>excess</th></tr><tr><td>str</td><td>f64</td><td>f64</td><td>f64</td></tr></thead><tbody><tr><td>&quot;mean&quot;</td><td>0.129354</td><td>0.061503</td><td>0.06866</td></tr><tr><td>&quot;std&quot;</td><td>0.149405</td><td>0.007179</td><td>0.150227</td></tr></tbody></table></div>"
      ],
      "text/plain": [
       "shape: (2, 4)\n",
       "┌───────────┬──────────┬──────────┬──────────┐\n",
       "│ statistic ┆ SPX      ┆ TB1M     ┆ excess   │\n",
       "│ ---       ┆ ---      ┆ ---      ┆ ---      │\n",
       "│ str       ┆ f64      ┆ f64      ┆ f64      │\n",
       "╞═══════════╪══════════╪══════════╪══════════╡\n",
       "│ mean      ┆ 0.129354 ┆ 0.061503 ┆ 0.06866  │\n",
       "│ std       ┆ 0.149405 ┆ 0.007179 ┆ 0.150227 │\n",
       "└───────────┴──────────┴──────────┴──────────┘"
      ]
     },
     "execution_count": 7,
     "metadata": {},
     "output_type": "execute_result"
    }
   ],
   "source": [
    "# levels\n",
    "get_stat(df, \"1965\", \"1999\")"
   ]
  },
  {
   "cell_type": "code",
   "execution_count": 8,
   "metadata": {},
   "outputs": [
    {
     "data": {
      "text/html": [
       "<div><style>\n",
       ".dataframe > thead > tr,\n",
       ".dataframe > tbody > tr {\n",
       "  text-align: right;\n",
       "  white-space: pre-wrap;\n",
       "}\n",
       "</style>\n",
       "<small>shape: (2, 4)</small><table border=\"1\" class=\"dataframe\"><thead><tr><th>statistic</th><th>SPX</th><th>TB1M</th><th>excess</th></tr><tr><td>str</td><td>f64</td><td>f64</td><td>f64</td></tr></thead><tbody><tr><td>&quot;mean&quot;</td><td>0.087542</td><td>0.017451</td><td>0.070091</td></tr><tr><td>&quot;std&quot;</td><td>0.152815</td><td>0.005553</td><td>0.153093</td></tr></tbody></table></div>"
      ],
      "text/plain": [
       "shape: (2, 4)\n",
       "┌───────────┬──────────┬──────────┬──────────┐\n",
       "│ statistic ┆ SPX      ┆ TB1M     ┆ excess   │\n",
       "│ ---       ┆ ---      ┆ ---      ┆ ---      │\n",
       "│ str       ┆ f64      ┆ f64      ┆ f64      │\n",
       "╞═══════════╪══════════╪══════════╪══════════╡\n",
       "│ mean      ┆ 0.087542 ┆ 0.017451 ┆ 0.070091 │\n",
       "│ std       ┆ 0.152815 ┆ 0.005553 ┆ 0.153093 │\n",
       "└───────────┴──────────┴──────────┴──────────┘"
      ]
     },
     "execution_count": 8,
     "metadata": {},
     "output_type": "execute_result"
    }
   ],
   "source": [
    "get_stat(df, \"2000\")"
   ]
  },
  {
   "cell_type": "code",
   "execution_count": 9,
   "metadata": {},
   "outputs": [
    {
     "data": {
      "text/html": [
       "<div><style>\n",
       ".dataframe > thead > tr,\n",
       ".dataframe > tbody > tr {\n",
       "  text-align: right;\n",
       "  white-space: pre-wrap;\n",
       "}\n",
       "</style>\n",
       "<small>shape: (2, 4)</small><table border=\"1\" class=\"dataframe\"><thead><tr><th>statistic</th><th>SPX</th><th>TB1M</th><th>excess</th></tr><tr><td>str</td><td>f64</td><td>f64</td><td>f64</td></tr></thead><tbody><tr><td>&quot;mean&quot;</td><td>0.115529</td><td>0.031928</td><td>0.083308</td></tr><tr><td>&quot;std&quot;</td><td>0.18665</td><td>0.008507</td><td>0.187329</td></tr></tbody></table></div>"
      ],
      "text/plain": [
       "shape: (2, 4)\n",
       "┌───────────┬──────────┬──────────┬──────────┐\n",
       "│ statistic ┆ SPX      ┆ TB1M     ┆ excess   │\n",
       "│ ---       ┆ ---      ┆ ---      ┆ ---      │\n",
       "│ str       ┆ f64      ┆ f64      ┆ f64      │\n",
       "╞═══════════╪══════════╪══════════╪══════════╡\n",
       "│ mean      ┆ 0.115529 ┆ 0.031928 ┆ 0.083308 │\n",
       "│ std       ┆ 0.18665  ┆ 0.008507 ┆ 0.187329 │\n",
       "└───────────┴──────────┴──────────┴──────────┘"
      ]
     },
     "execution_count": 9,
     "metadata": {},
     "output_type": "execute_result"
    }
   ],
   "source": [
    "get_stat(df, \"1926\")"
   ]
  },
  {
   "cell_type": "code",
   "execution_count": 10,
   "metadata": {},
   "outputs": [
    {
     "data": {
      "text/html": [
       "<div><style>\n",
       ".dataframe > thead > tr,\n",
       ".dataframe > tbody > tr {\n",
       "  text-align: right;\n",
       "  white-space: pre-wrap;\n",
       "}\n",
       "</style>\n",
       "<small>shape: (2, 4)</small><table border=\"1\" class=\"dataframe\"><thead><tr><th>statistic</th><th>SPX</th><th>TB1M</th><th>excess</th></tr><tr><td>str</td><td>f64</td><td>f64</td><td>f64</td></tr></thead><tbody><tr><td>&quot;mean&quot;</td><td>0.1176</td><td>0.06132</td><td>0.057161</td></tr><tr><td>&quot;std&quot;</td><td>0.149568</td><td>0.007132</td><td>0.151207</td></tr></tbody></table></div>"
      ],
      "text/plain": [
       "shape: (2, 4)\n",
       "┌───────────┬──────────┬──────────┬──────────┐\n",
       "│ statistic ┆ SPX      ┆ TB1M     ┆ excess   │\n",
       "│ ---       ┆ ---      ┆ ---      ┆ ---      │\n",
       "│ str       ┆ f64      ┆ f64      ┆ f64      │\n",
       "╞═══════════╪══════════╪══════════╪══════════╡\n",
       "│ mean      ┆ 0.1176   ┆ 0.06132  ┆ 0.057161 │\n",
       "│ std       ┆ 0.149568 ┆ 0.007132 ┆ 0.151207 │\n",
       "└───────────┴──────────┴──────────┴──────────┘"
      ]
     },
     "execution_count": 10,
     "metadata": {},
     "output_type": "execute_result"
    }
   ],
   "source": [
    "# log\n",
    "get_stat(log_df, \"1965\", \"1999\")"
   ]
  },
  {
   "cell_type": "code",
   "execution_count": 11,
   "metadata": {},
   "outputs": [
    {
     "data": {
      "text/html": [
       "<div><style>\n",
       ".dataframe > thead > tr,\n",
       ".dataframe > tbody > tr {\n",
       "  text-align: right;\n",
       "  white-space: pre-wrap;\n",
       "}\n",
       "</style>\n",
       "<small>shape: (2, 4)</small><table border=\"1\" class=\"dataframe\"><thead><tr><th>statistic</th><th>SPX</th><th>TB1M</th><th>excess</th></tr><tr><td>str</td><td>f64</td><td>f64</td><td>f64</td></tr></thead><tbody><tr><td>&quot;mean&quot;</td><td>0.075553</td><td>0.017423</td><td>0.058143</td></tr><tr><td>&quot;std&quot;</td><td>0.153763</td><td>0.005541</td><td>0.154227</td></tr></tbody></table></div>"
      ],
      "text/plain": [
       "shape: (2, 4)\n",
       "┌───────────┬──────────┬──────────┬──────────┐\n",
       "│ statistic ┆ SPX      ┆ TB1M     ┆ excess   │\n",
       "│ ---       ┆ ---      ┆ ---      ┆ ---      │\n",
       "│ str       ┆ f64      ┆ f64      ┆ f64      │\n",
       "╞═══════════╪══════════╪══════════╪══════════╡\n",
       "│ mean      ┆ 0.075553 ┆ 0.017423 ┆ 0.058143 │\n",
       "│ std       ┆ 0.153763 ┆ 0.005541 ┆ 0.154227 │\n",
       "└───────────┴──────────┴──────────┴──────────┘"
      ]
     },
     "execution_count": 11,
     "metadata": {},
     "output_type": "execute_result"
    }
   ],
   "source": [
    "get_stat(log_df, \"2000\")"
   ]
  },
  {
   "cell_type": "code",
   "execution_count": 12,
   "metadata": {},
   "outputs": [
    {
     "data": {
      "text/html": [
       "<div><style>\n",
       ".dataframe > thead > tr,\n",
       ".dataframe > tbody > tr {\n",
       "  text-align: right;\n",
       "  white-space: pre-wrap;\n",
       "}\n",
       "</style>\n",
       "<small>shape: (2, 4)</small><table border=\"1\" class=\"dataframe\"><thead><tr><th>statistic</th><th>SPX</th><th>TB1M</th><th>excess</th></tr><tr><td>str</td><td>f64</td><td>f64</td><td>f64</td></tr></thead><tbody><tr><td>&quot;mean&quot;</td><td>0.097821</td><td>0.03185</td><td>0.065673</td></tr><tr><td>&quot;std&quot;</td><td>0.185938</td><td>0.008473</td><td>0.186914</td></tr></tbody></table></div>"
      ],
      "text/plain": [
       "shape: (2, 4)\n",
       "┌───────────┬──────────┬──────────┬──────────┐\n",
       "│ statistic ┆ SPX      ┆ TB1M     ┆ excess   │\n",
       "│ ---       ┆ ---      ┆ ---      ┆ ---      │\n",
       "│ str       ┆ f64      ┆ f64      ┆ f64      │\n",
       "╞═══════════╪══════════╪══════════╪══════════╡\n",
       "│ mean      ┆ 0.097821 ┆ 0.03185  ┆ 0.065673 │\n",
       "│ std       ┆ 0.185938 ┆ 0.008473 ┆ 0.186914 │\n",
       "└───────────┴──────────┴──────────┴──────────┘"
      ]
     },
     "execution_count": 12,
     "metadata": {},
     "output_type": "execute_result"
    }
   ],
   "source": [
    "get_stat(log_df, \"1926\")"
   ]
  },
  {
   "cell_type": "markdown",
   "metadata": {},
   "source": [
    "### 2. Probability of Underperformance\n",
    "\n",
    "Recall the following:\n",
    "- If $x\\sim\\mathcal{N}\\left(\\mu_x,\\sigma_x^2\\right)$, then\n",
    "\n",
    "  $$\\Pr\\left[x<\\ell\\right] = \\Phi_\\mathcal{N}\\left(L\\right)$$\n",
    "\n",
    "  where $L = \\frac{\\ell-\\mu_x}{\\sigma_x}$ and $\\Phi_\\mathcal{N}$ denotes the standard normal cdf.\n",
    "\n",
    "- Remember that cumulative log returns are simply the sum of the single-period log returns:\n",
    "  \n",
    "  $$\\texttt{r}^m_{t,t+h} \\equiv \\sum_{i=1}^h \\texttt{r}^m_{t+i}$$\n",
    "\n",
    "- It will be convenient to use and denote sample averages. We use the following notation for an $h$-period average ending at time $t+h$:\n",
    "  \n",
    "  $$\\bar{\\texttt{r}}^m_{t,t+h} = \\frac{1}{h}\\sum_{i=1}^h \\texttt{r}^m_{t+i}$$\n",
    "\n",
    "Calculate the probability that the cumulative market return will fall short of the cumulative risk-free return:\n",
    "\n",
    "$$\\Pr\\left[R^m_{t,t+h} < R^f_{t,t+h}\\right]$$\n",
    "\n",
    "To analyze this analytically, convert the probability statement above to a probability statement about mean log returns."
   ]
  },
  {
   "cell_type": "markdown",
   "metadata": {},
   "source": [
    "$$\n",
    "\\Pr\\left[R^m_{t,t+h} < R^f_{t,t+h}\\right]=\\Pr\\left[\\exp(\\texttt{r}^m_{t,t+h}) < \\exp(\\texttt{r}^f_{t,t+h})\\right]\n",
    "=\\Pr\\left[\\texttt{r}^m_{t,t+h} < \\texttt{r}^f_{t,t+h}\\right]=\\Pr\\left[\\bar{\\texttt{r}}^m_{t,t+h} - \\bar{\\texttt{r}}^f_{t,t+h}<0\\right]\n",
    "=\\Pr\\left[\\bar{\\texttt{r}}^e_{t,t+h}<0\\right]\n",
    "$$"
   ]
  },
  {
   "cell_type": "markdown",
   "metadata": {},
   "source": [
    "Log returns are approximately normally distributed (by CLT for sums)\n",
    "Level returns (products) are log-normally distributed, which doesn't have the nice properties needed for the $\\Phi_\\mathcal{N}$​ formula"
   ]
  },
  {
   "cell_type": "markdown",
   "metadata": {},
   "source": [
    "#### 2.1\n",
    "Calculate the probability using the subsample 1965-1999."
   ]
  },
  {
   "cell_type": "code",
   "execution_count": 13,
   "metadata": {},
   "outputs": [],
   "source": [
    "from scipy.stats import norm"
   ]
  },
  {
   "cell_type": "code",
   "execution_count": null,
   "metadata": {},
   "outputs": [],
   "source": [
    "def prob_underperform(data, h, os=False, os_data=None):\n",
    "    \"\"\"\n",
    "    Arg:\n",
    "        - data: log return dataframe\n",
    "        - h: period\n",
    "        - os: whether it's out sample prediction\n",
    "        - os_data: out sample data\n",
    "    \"\"\"\n",
    "    # in-sample\n",
    "    excess_mean = data[\"excess\"].mean() * FREQ\n",
    "    excess_std = data[\"excess\"].std() * math.sqrt(FREQ)\n",
    "    \n",
    "    # Calculate standardized value: L = (0 - mu_e) / sigma_e\n",
    "    if not os:\n",
    "        L = -excess_mean / excess_std\n",
    "    else:\n",
    "        os_mean = os_data[\"excess\"].mean() * FREQ\n",
    "        L = (os_mean - excess_mean) / excess_std\n",
    "    prob = norm.cdf(math.sqrt(h) * L)\n",
    "    \n",
    "    return prob"
   ]
  },
  {
   "cell_type": "code",
   "execution_count": 54,
   "metadata": {},
   "outputs": [
    {
     "data": {
      "text/plain": [
       "np.float64(0.01266043954250752)"
      ]
     },
     "execution_count": 54,
     "metadata": {},
     "output_type": "execute_result"
    }
   ],
   "source": [
    "sub_1965_1999 = get_period(log_df, \"1965\", \"1999\")\n",
    "prob_underperform(sub_1965_1999, 35)"
   ]
  },
  {
   "cell_type": "markdown",
   "metadata": {},
   "source": [
    "#### 2.2\n",
    "Report the precise probability for $h=15$ and $h=30$ years."
   ]
  },
  {
   "cell_type": "code",
   "execution_count": 55,
   "metadata": {},
   "outputs": [
    {
     "data": {
      "text/plain": [
       "np.float64(0.07158133198503584)"
      ]
     },
     "execution_count": 55,
     "metadata": {},
     "output_type": "execute_result"
    }
   ],
   "source": [
    "prob_underperform(sub_1965_1999, 15)"
   ]
  },
  {
   "cell_type": "code",
   "execution_count": 56,
   "metadata": {},
   "outputs": [
    {
     "data": {
      "text/plain": [
       "np.float64(0.019199471302532578)"
      ]
     },
     "execution_count": 56,
     "metadata": {},
     "output_type": "execute_result"
    }
   ],
   "source": [
    "prob_underperform(sub_1965_1999, 30)"
   ]
  },
  {
   "cell_type": "markdown",
   "metadata": {},
   "source": [
    "\n",
    "\n",
    "\n",
    "\n",
    "#### 2.3\n",
    "Plot the probability as a function of the investment horizon, $h$, for $0<h\\le 30$ years.\n",
    "\n",
    "**Hint**: The probability can be expressed as:\n",
    "\n",
    "$$p(h) = \\Phi_{\\mathcal{N}}\\left(-\\sqrt{h}\\;\\text{SR}\\right)$$\n",
    "\n",
    "where $\\text{SR}$ denotes the sample Sharpe ratio of **log** market returns."
   ]
  },
  {
   "cell_type": "code",
   "execution_count": 59,
   "metadata": {},
   "outputs": [],
   "source": [
    "def h_years_probs(data, h, os=False, os_data=None):\n",
    "    probs = []\n",
    "    for i in range(1, h+1):\n",
    "        probs.append(prob_underperform(data, i, os=os, os_data=os_data))\n",
    "    \n",
    "    result = pl.DataFrame({\n",
    "        \"h\": pl.arange(1, h+1, eager=True),\n",
    "        \"probs\": probs\n",
    "    })\n",
    "    return result"
   ]
  },
  {
   "cell_type": "code",
   "execution_count": 60,
   "metadata": {},
   "outputs": [],
   "source": [
    "def plot_line(df: pl.DataFrame, x, y):\n",
    "    return df.plot.line(\n",
    "        x=x, y=y\n",
    "    ).properties(width=500)"
   ]
  },
  {
   "cell_type": "code",
   "execution_count": 63,
   "metadata": {},
   "outputs": [
    {
     "data": {
      "text/html": [
       "\n",
       "<style>\n",
       "  #altair-viz-05f80c40c6e44264b1878705a10b6a72.vega-embed {\n",
       "    width: 100%;\n",
       "    display: flex;\n",
       "  }\n",
       "\n",
       "  #altair-viz-05f80c40c6e44264b1878705a10b6a72.vega-embed details,\n",
       "  #altair-viz-05f80c40c6e44264b1878705a10b6a72.vega-embed details summary {\n",
       "    position: relative;\n",
       "  }\n",
       "</style>\n",
       "<div id=\"altair-viz-05f80c40c6e44264b1878705a10b6a72\"></div>\n",
       "<script type=\"text/javascript\">\n",
       "  var VEGA_DEBUG = (typeof VEGA_DEBUG == \"undefined\") ? {} : VEGA_DEBUG;\n",
       "  (function(spec, embedOpt){\n",
       "    let outputDiv = document.currentScript.previousElementSibling;\n",
       "    if (outputDiv.id !== \"altair-viz-05f80c40c6e44264b1878705a10b6a72\") {\n",
       "      outputDiv = document.getElementById(\"altair-viz-05f80c40c6e44264b1878705a10b6a72\");\n",
       "    }\n",
       "\n",
       "    const paths = {\n",
       "      \"vega\": \"https://cdn.jsdelivr.net/npm/vega@5?noext\",\n",
       "      \"vega-lib\": \"https://cdn.jsdelivr.net/npm/vega-lib?noext\",\n",
       "      \"vega-lite\": \"https://cdn.jsdelivr.net/npm/vega-lite@5.20.1?noext\",\n",
       "      \"vega-embed\": \"https://cdn.jsdelivr.net/npm/vega-embed@6?noext\",\n",
       "    };\n",
       "\n",
       "    function maybeLoadScript(lib, version) {\n",
       "      var key = `${lib.replace(\"-\", \"\")}_version`;\n",
       "      return (VEGA_DEBUG[key] == version) ?\n",
       "        Promise.resolve(paths[lib]) :\n",
       "        new Promise(function(resolve, reject) {\n",
       "          var s = document.createElement('script');\n",
       "          document.getElementsByTagName(\"head\")[0].appendChild(s);\n",
       "          s.async = true;\n",
       "          s.onload = () => {\n",
       "            VEGA_DEBUG[key] = version;\n",
       "            return resolve(paths[lib]);\n",
       "          };\n",
       "          s.onerror = () => reject(`Error loading script: ${paths[lib]}`);\n",
       "          s.src = paths[lib];\n",
       "        });\n",
       "    }\n",
       "\n",
       "    function showError(err) {\n",
       "      outputDiv.innerHTML = `<div class=\"error\" style=\"color:red;\">${err}</div>`;\n",
       "      throw err;\n",
       "    }\n",
       "\n",
       "    function displayChart(vegaEmbed) {\n",
       "      vegaEmbed(outputDiv, spec, embedOpt)\n",
       "        .catch(err => showError(`Javascript Error: ${err.message}<br>This usually means there's a typo in your chart specification. See the javascript console for the full traceback.`));\n",
       "    }\n",
       "\n",
       "    if(typeof define === \"function\" && define.amd) {\n",
       "      requirejs.config({paths});\n",
       "      let deps = [\"vega-embed\"];\n",
       "      require(deps, displayChart, err => showError(`Error loading script: ${err.message}`));\n",
       "    } else {\n",
       "      maybeLoadScript(\"vega\", \"5\")\n",
       "        .then(() => maybeLoadScript(\"vega-lite\", \"5.20.1\"))\n",
       "        .then(() => maybeLoadScript(\"vega-embed\", \"6\"))\n",
       "        .catch(showError)\n",
       "        .then(() => displayChart(vegaEmbed));\n",
       "    }\n",
       "  })({\"config\": {\"view\": {\"continuousWidth\": 300, \"continuousHeight\": 300}}, \"data\": {\"name\": \"data-8528388e2315e78fcbd4532af6e4928f\"}, \"mark\": {\"type\": \"line\", \"tooltip\": true}, \"encoding\": {\"x\": {\"field\": \"h\", \"type\": \"quantitative\"}, \"y\": {\"field\": \"probs\", \"type\": \"quantitative\"}}, \"params\": [{\"name\": \"param_11\", \"select\": {\"type\": \"interval\", \"encodings\": [\"x\", \"y\"]}, \"bind\": \"scales\"}], \"width\": 500, \"$schema\": \"https://vega.github.io/schema/vega-lite/v5.20.1.json\", \"datasets\": {\"data-8528388e2315e78fcbd4532af6e4928f\": [{\"h\": 1, \"probs\": 0.3527031361411097}, {\"h\": 2, \"probs\": 0.29645666144215005}, {\"h\": 3, \"probs\": 0.2563073083004218}, {\"h\": 4, \"probs\": 0.22480496853727616}, {\"h\": 5, \"probs\": 0.19896975335170847}, {\"h\": 6, \"probs\": 0.1772262849778607}, {\"h\": 7, \"probs\": 0.1586115535124643}, {\"h\": 8, \"probs\": 0.14248120713875356}, {\"h\": 9, \"probs\": 0.12837667488518817}, {\"h\": 10, \"probs\": 0.11595670607911673}, {\"h\": 11, \"probs\": 0.10495867104332768}, {\"h\": 12, \"probs\": 0.09517510113607691}, {\"h\": 13, \"probs\": 0.08643866643495751}, {\"h\": 14, \"probs\": 0.07861212226907903}, {\"h\": 15, \"probs\": 0.07158133198503584}, {\"h\": 16, \"probs\": 0.06525027489509304}, {\"h\": 17, \"probs\": 0.05953738095457586}, {\"h\": 18, \"probs\": 0.05437277907158781}, {\"h\": 19, \"probs\": 0.04969619110389401}, {\"h\": 20, \"probs\": 0.04545529264352592}, {\"h\": 21, \"probs\": 0.04160441807062207}, {\"h\": 22, \"probs\": 0.03810352406291406}, {\"h\": 23, \"probs\": 0.034917350239071304}, {\"h\": 24, \"probs\": 0.03201473232046869}, {\"h\": 25, \"probs\": 0.029368034819579353}, {\"h\": 26, \"probs\": 0.026952678496611888}, {\"h\": 27, \"probs\": 0.024746743753745207}, {\"h\": 28, \"probs\": 0.02273063546797309}, {\"h\": 29, \"probs\": 0.020886797972360566}, {\"h\": 30, \"probs\": 0.019199471302532578}]}}, {\"mode\": \"vega-lite\"});\n",
       "</script>"
      ],
      "text/plain": [
       "alt.Chart(...)"
      ]
     },
     "execution_count": 63,
     "metadata": {},
     "output_type": "execute_result"
    }
   ],
   "source": [
    "probs_1965_1999 = h_years_probs(sub_1965_1999, 30)\n",
    "plot_line(probs_1965_1999, x=\"h\", y=\"probs\")"
   ]
  },
  {
   "cell_type": "markdown",
   "metadata": {},
   "source": [
    "### 3. Full Sample Analysis\n",
    "\n",
    "Use the sample 1965-{END_YR} to reconsider the 30-year probability. As of the end of {END_YR}, calculate the probability of the stock return underperforming the risk-free rate over the next 30 years. That is, $R^m_{t,t+h}$ underperforming $R^f_{t,t+h}$ for $0<h\\le 30$."
   ]
  },
  {
   "cell_type": "code",
   "execution_count": 64,
   "metadata": {},
   "outputs": [
    {
     "data": {
      "text/html": [
       "\n",
       "<style>\n",
       "  #altair-viz-0787f72aff81481a8fae22c7e2cc65d0.vega-embed {\n",
       "    width: 100%;\n",
       "    display: flex;\n",
       "  }\n",
       "\n",
       "  #altair-viz-0787f72aff81481a8fae22c7e2cc65d0.vega-embed details,\n",
       "  #altair-viz-0787f72aff81481a8fae22c7e2cc65d0.vega-embed details summary {\n",
       "    position: relative;\n",
       "  }\n",
       "</style>\n",
       "<div id=\"altair-viz-0787f72aff81481a8fae22c7e2cc65d0\"></div>\n",
       "<script type=\"text/javascript\">\n",
       "  var VEGA_DEBUG = (typeof VEGA_DEBUG == \"undefined\") ? {} : VEGA_DEBUG;\n",
       "  (function(spec, embedOpt){\n",
       "    let outputDiv = document.currentScript.previousElementSibling;\n",
       "    if (outputDiv.id !== \"altair-viz-0787f72aff81481a8fae22c7e2cc65d0\") {\n",
       "      outputDiv = document.getElementById(\"altair-viz-0787f72aff81481a8fae22c7e2cc65d0\");\n",
       "    }\n",
       "\n",
       "    const paths = {\n",
       "      \"vega\": \"https://cdn.jsdelivr.net/npm/vega@5?noext\",\n",
       "      \"vega-lib\": \"https://cdn.jsdelivr.net/npm/vega-lib?noext\",\n",
       "      \"vega-lite\": \"https://cdn.jsdelivr.net/npm/vega-lite@5.20.1?noext\",\n",
       "      \"vega-embed\": \"https://cdn.jsdelivr.net/npm/vega-embed@6?noext\",\n",
       "    };\n",
       "\n",
       "    function maybeLoadScript(lib, version) {\n",
       "      var key = `${lib.replace(\"-\", \"\")}_version`;\n",
       "      return (VEGA_DEBUG[key] == version) ?\n",
       "        Promise.resolve(paths[lib]) :\n",
       "        new Promise(function(resolve, reject) {\n",
       "          var s = document.createElement('script');\n",
       "          document.getElementsByTagName(\"head\")[0].appendChild(s);\n",
       "          s.async = true;\n",
       "          s.onload = () => {\n",
       "            VEGA_DEBUG[key] = version;\n",
       "            return resolve(paths[lib]);\n",
       "          };\n",
       "          s.onerror = () => reject(`Error loading script: ${paths[lib]}`);\n",
       "          s.src = paths[lib];\n",
       "        });\n",
       "    }\n",
       "\n",
       "    function showError(err) {\n",
       "      outputDiv.innerHTML = `<div class=\"error\" style=\"color:red;\">${err}</div>`;\n",
       "      throw err;\n",
       "    }\n",
       "\n",
       "    function displayChart(vegaEmbed) {\n",
       "      vegaEmbed(outputDiv, spec, embedOpt)\n",
       "        .catch(err => showError(`Javascript Error: ${err.message}<br>This usually means there's a typo in your chart specification. See the javascript console for the full traceback.`));\n",
       "    }\n",
       "\n",
       "    if(typeof define === \"function\" && define.amd) {\n",
       "      requirejs.config({paths});\n",
       "      let deps = [\"vega-embed\"];\n",
       "      require(deps, displayChart, err => showError(`Error loading script: ${err.message}`));\n",
       "    } else {\n",
       "      maybeLoadScript(\"vega\", \"5\")\n",
       "        .then(() => maybeLoadScript(\"vega-lite\", \"5.20.1\"))\n",
       "        .then(() => maybeLoadScript(\"vega-embed\", \"6\"))\n",
       "        .catch(showError)\n",
       "        .then(() => displayChart(vegaEmbed));\n",
       "    }\n",
       "  })({\"config\": {\"view\": {\"continuousWidth\": 300, \"continuousHeight\": 300}}, \"data\": {\"name\": \"data-cd1f2847b5afa513385b55fa7cabe9d6\"}, \"mark\": {\"type\": \"line\", \"tooltip\": true}, \"encoding\": {\"x\": {\"field\": \"h\", \"type\": \"quantitative\"}, \"y\": {\"field\": \"probs\", \"type\": \"quantitative\"}}, \"params\": [{\"name\": \"param_12\", \"select\": {\"type\": \"interval\", \"encodings\": [\"x\", \"y\"]}, \"bind\": \"scales\"}], \"width\": 500, \"$schema\": \"https://vega.github.io/schema/vega-lite/v5.20.1.json\", \"datasets\": {\"data-cd1f2847b5afa513385b55fa7cabe9d6\": [{\"h\": 1, \"probs\": 0.3527736423368114}, {\"h\": 2, \"probs\": 0.29654949940840003}, {\"h\": 3, \"probs\": 0.2564131738328017}, {\"h\": 4, \"probs\": 0.2249187855787833}, {\"h\": 5, \"probs\": 0.19908823351328653}, {\"h\": 6, \"probs\": 0.17734712744954506}, {\"h\": 7, \"probs\": 0.15873308150764226}, {\"h\": 8, \"probs\": 0.1426021710013523}, {\"h\": 9, \"probs\": 0.1284961328872336}, {\"h\": 10, \"probs\": 0.1160739464899696}, {\"h\": 11, \"probs\": 0.10507315826442654}, {\"h\": 12, \"probs\": 0.09528643688490074}, {\"h\": 13, \"probs\": 0.0865465608656329}, {\"h\": 14, \"probs\": 0.07871637194408354}, {\"h\": 15, \"probs\": 0.07168180273913889}, {\"h\": 16, \"probs\": 0.0653468882947537}, {\"h\": 17, \"probs\": 0.05963010346355937}, {\"h\": 18, \"probs\": 0.054461613294499646}, {\"h\": 19, \"probs\": 0.049781168652155525}, {\"h\": 20, \"probs\": 0.04553646828619852}, {\"h\": 21, \"probs\": 0.041681864914995606}, {\"h\": 22, \"probs\": 0.03817732956885356}, {\"h\": 23, \"probs\": 0.0349876129142839}, {\"h\": 24, \"probs\": 0.03208155897596493}, {\"h\": 25, \"probs\": 0.02943153828888356}, {\"h\": 26, \"probs\": 0.02701297574089998}, {\"h\": 27, \"probs\": 0.02480395428956281}, {\"h\": 28, \"probs\": 0.02278488006556732}, {\"h\": 29, \"probs\": 0.020938197581703486}, {\"h\": 30, \"probs\": 0.019248146171371015}]}}, {\"mode\": \"vega-lite\"});\n",
       "</script>"
      ],
      "text/plain": [
       "alt.Chart(...)"
      ]
     },
     "execution_count": 64,
     "metadata": {},
     "output_type": "execute_result"
    }
   ],
   "source": [
    "full_1965_end = get_period(log_df, \"1965\")\n",
    "probs_1965_end = h_years_probs(full_1965_end, 30)\n",
    "plot_line(probs_1965_end, x=\"h\", y=\"probs\")"
   ]
  },
  {
   "cell_type": "markdown",
   "metadata": {},
   "source": [
    "### 4. In-Sample Estimate of Out-of-Sample Likelihood\n",
    "\n",
    "Let's consider how things turned out relative to Barnstable's 1999 expectations.\n",
    "\n",
    "What was the probability (based on the 1999 estimate of $\\mu$) that the `h`-year market return, $R^m_{t,t+h}$, would be smaller than that realized in `2000-{END_YR}`? \n",
    "\n",
    "**Hint**: You can calculate this as:\n",
    "\n",
    "$$p = \\Phi_{\\mathcal{N}}\\left(\\sqrt{h}\\; \\frac{\\bar{\\texttt{r}}_{\\text{out-of-sample}} - \\bar{\\texttt{r}}_{\\text{in-sample}}}{\\sigma_{\\text{in-sample}}}\\right)$$\n",
    "\n",
    "where \"in-sample\" denotes 1965-1999 and \"out-of-sample\" denotes 2000-{END_YR}."
   ]
  },
  {
   "cell_type": "code",
   "execution_count": 62,
   "metadata": {},
   "outputs": [
    {
     "data": {
      "text/html": [
       "\n",
       "<style>\n",
       "  #altair-viz-877d4049655c4a6e99427e7e4a6d809a.vega-embed {\n",
       "    width: 100%;\n",
       "    display: flex;\n",
       "  }\n",
       "\n",
       "  #altair-viz-877d4049655c4a6e99427e7e4a6d809a.vega-embed details,\n",
       "  #altair-viz-877d4049655c4a6e99427e7e4a6d809a.vega-embed details summary {\n",
       "    position: relative;\n",
       "  }\n",
       "</style>\n",
       "<div id=\"altair-viz-877d4049655c4a6e99427e7e4a6d809a\"></div>\n",
       "<script type=\"text/javascript\">\n",
       "  var VEGA_DEBUG = (typeof VEGA_DEBUG == \"undefined\") ? {} : VEGA_DEBUG;\n",
       "  (function(spec, embedOpt){\n",
       "    let outputDiv = document.currentScript.previousElementSibling;\n",
       "    if (outputDiv.id !== \"altair-viz-877d4049655c4a6e99427e7e4a6d809a\") {\n",
       "      outputDiv = document.getElementById(\"altair-viz-877d4049655c4a6e99427e7e4a6d809a\");\n",
       "    }\n",
       "\n",
       "    const paths = {\n",
       "      \"vega\": \"https://cdn.jsdelivr.net/npm/vega@5?noext\",\n",
       "      \"vega-lib\": \"https://cdn.jsdelivr.net/npm/vega-lib?noext\",\n",
       "      \"vega-lite\": \"https://cdn.jsdelivr.net/npm/vega-lite@5.20.1?noext\",\n",
       "      \"vega-embed\": \"https://cdn.jsdelivr.net/npm/vega-embed@6?noext\",\n",
       "    };\n",
       "\n",
       "    function maybeLoadScript(lib, version) {\n",
       "      var key = `${lib.replace(\"-\", \"\")}_version`;\n",
       "      return (VEGA_DEBUG[key] == version) ?\n",
       "        Promise.resolve(paths[lib]) :\n",
       "        new Promise(function(resolve, reject) {\n",
       "          var s = document.createElement('script');\n",
       "          document.getElementsByTagName(\"head\")[0].appendChild(s);\n",
       "          s.async = true;\n",
       "          s.onload = () => {\n",
       "            VEGA_DEBUG[key] = version;\n",
       "            return resolve(paths[lib]);\n",
       "          };\n",
       "          s.onerror = () => reject(`Error loading script: ${paths[lib]}`);\n",
       "          s.src = paths[lib];\n",
       "        });\n",
       "    }\n",
       "\n",
       "    function showError(err) {\n",
       "      outputDiv.innerHTML = `<div class=\"error\" style=\"color:red;\">${err}</div>`;\n",
       "      throw err;\n",
       "    }\n",
       "\n",
       "    function displayChart(vegaEmbed) {\n",
       "      vegaEmbed(outputDiv, spec, embedOpt)\n",
       "        .catch(err => showError(`Javascript Error: ${err.message}<br>This usually means there's a typo in your chart specification. See the javascript console for the full traceback.`));\n",
       "    }\n",
       "\n",
       "    if(typeof define === \"function\" && define.amd) {\n",
       "      requirejs.config({paths});\n",
       "      let deps = [\"vega-embed\"];\n",
       "      require(deps, displayChart, err => showError(`Error loading script: ${err.message}`));\n",
       "    } else {\n",
       "      maybeLoadScript(\"vega\", \"5\")\n",
       "        .then(() => maybeLoadScript(\"vega-lite\", \"5.20.1\"))\n",
       "        .then(() => maybeLoadScript(\"vega-embed\", \"6\"))\n",
       "        .catch(showError)\n",
       "        .then(() => displayChart(vegaEmbed));\n",
       "    }\n",
       "  })({\"config\": {\"view\": {\"continuousWidth\": 300, \"continuousHeight\": 300}}, \"data\": {\"name\": \"data-34c77d65ca570db187493ab696f50ed2\"}, \"mark\": {\"type\": \"line\", \"tooltip\": true}, \"encoding\": {\"x\": {\"field\": \"h\", \"type\": \"quantitative\"}, \"y\": {\"field\": \"probs\", \"type\": \"quantitative\"}}, \"params\": [{\"name\": \"param_10\", \"select\": {\"type\": \"interval\", \"encodings\": [\"x\", \"y\"]}, \"bind\": \"scales\"}], \"width\": 500, \"$schema\": \"https://vega.github.io/schema/vega-lite/v5.20.1.json\", \"datasets\": {\"data-34c77d65ca570db187493ab696f50ed2\": [{\"h\": 1, \"probs\": 0.502590663344997}, {\"h\": 2, \"probs\": 0.5036637254880235}, {\"h\": 3, \"probs\": 0.5044870974648447}, {\"h\": 4, \"probs\": 0.5051812174433183}, {\"h\": 5, \"probs\": 0.5057927364919317}, {\"h\": 6, \"probs\": 0.5063455802945527}, {\"h\": 7, \"probs\": 0.5068539619075021}, {\"h\": 8, \"probs\": 0.5073271419895585}, {\"h\": 9, \"probs\": 0.5077715530621084}, {\"h\": 10, \"probs\": 0.5081918786380846}, {\"h\": 11, \"probs\": 0.5085916544164983}, {\"h\": 12, \"probs\": 0.508973627303216}, {\"h\": 13, \"probs\": 0.5093399817837158}, {\"h\": 14, \"probs\": 0.5096924890429371}, {\"h\": 15, \"probs\": 0.5100326088015296}, {\"h\": 16, \"probs\": 0.5103615609961498}, {\"h\": 17, \"probs\": 0.5106803775490493}, {\"h\": 18, \"probs\": 0.510989940596291}, {\"h\": 19, \"probs\": 0.5112910112674554}, {\"h\": 20, \"probs\": 0.5115842517234045}, {\"h\": 21, \"probs\": 0.5118702422874919}, {\"h\": 22, \"probs\": 0.5121494949427972}, {\"h\": 23, \"probs\": 0.5124224640953655}, {\"h\": 24, \"probs\": 0.512689555251312}, {\"h\": 25, \"probs\": 0.5129511320816746}]}}, {\"mode\": \"vega-lite\"});\n",
       "</script>"
      ],
      "text/plain": [
       "alt.Chart(...)"
      ]
     },
     "execution_count": 62,
     "metadata": {},
     "output_type": "execute_result"
    }
   ],
   "source": [
    "sub_2000_end = get_period(log_df, \"2000\")\n",
    "probs_2000_end = h_years_probs(sub_1965_1999, 25, os=True, os_data=sub_2000_end)\n",
    "plot_line(probs_2000_end, x=\"h\", y=\"probs\")"
   ]
  },
  {
   "cell_type": "code",
   "execution_count": 74,
   "metadata": {},
   "outputs": [
    {
     "data": {
      "text/html": [
       "<div><style>\n",
       ".dataframe > thead > tr,\n",
       ".dataframe > tbody > tr {\n",
       "  text-align: right;\n",
       "  white-space: pre-wrap;\n",
       "}\n",
       "</style>\n",
       "<small>shape: (25, 2)</small><table border=\"1\" class=\"dataframe\"><thead><tr><th>h</th><th>probs</th></tr><tr><td>i64</td><td>f64</td></tr></thead><tbody><tr><td>1</td><td>0.502591</td></tr><tr><td>2</td><td>0.503664</td></tr><tr><td>3</td><td>0.504487</td></tr><tr><td>4</td><td>0.505181</td></tr><tr><td>5</td><td>0.505793</td></tr><tr><td>&hellip;</td><td>&hellip;</td></tr><tr><td>21</td><td>0.51187</td></tr><tr><td>22</td><td>0.512149</td></tr><tr><td>23</td><td>0.512422</td></tr><tr><td>24</td><td>0.51269</td></tr><tr><td>25</td><td>0.512951</td></tr></tbody></table></div>"
      ],
      "text/plain": [
       "shape: (25, 2)\n",
       "┌─────┬──────────┐\n",
       "│ h   ┆ probs    │\n",
       "│ --- ┆ ---      │\n",
       "│ i64 ┆ f64      │\n",
       "╞═════╪══════════╡\n",
       "│ 1   ┆ 0.502591 │\n",
       "│ 2   ┆ 0.503664 │\n",
       "│ 3   ┆ 0.504487 │\n",
       "│ 4   ┆ 0.505181 │\n",
       "│ 5   ┆ 0.505793 │\n",
       "│ …   ┆ …        │\n",
       "│ 21  ┆ 0.51187  │\n",
       "│ 22  ┆ 0.512149 │\n",
       "│ 23  ┆ 0.512422 │\n",
       "│ 24  ┆ 0.51269  │\n",
       "│ 25  ┆ 0.512951 │\n",
       "└─────┴──────────┘"
      ]
     },
     "execution_count": 74,
     "metadata": {},
     "output_type": "execute_result"
    }
   ],
   "source": [
    "probs_2000_end"
   ]
  }
 ],
 "metadata": {
  "kernelspec": {
   "display_name": "finm",
   "language": "python",
   "name": "python3"
  },
  "language_info": {
   "codemirror_mode": {
    "name": "ipython",
    "version": 3
   },
   "file_extension": ".py",
   "mimetype": "text/x-python",
   "name": "python",
   "nbconvert_exporter": "python",
   "pygments_lexer": "ipython3",
   "version": "3.12.11"
  }
 },
 "nbformat": 4,
 "nbformat_minor": 2
}
